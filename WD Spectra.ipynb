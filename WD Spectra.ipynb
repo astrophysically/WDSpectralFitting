{
 "cells": [
  {
   "cell_type": "markdown",
   "metadata": {},
   "source": [
    "# WD Database for Python\n",
    "\n",
    "The goal is to download the following database: http://vizier.u-strasbg.fr/viz-bin/VizieR?-source=J%2FMNRAS%2F455%2F3413 for use in a machine-learning inspired scheme to "
   ]
  },
  {
   "cell_type": "code",
   "execution_count": 32,
   "metadata": {
    "collapsed": false
   },
   "outputs": [
    {
     "name": "stderr",
     "output_type": "stream",
     "text": [
      "/Users/joshuaschroeder/anaconda/envs/astroconda/lib/python2.7/site-packages/astroquery/sdss/__init__.py:28: UserWarning: Experimental: SDSS has not yet been refactored to have its API match the rest of astroquery (but it's nearly there).\n",
      "  warnings.warn(\"Experimental: SDSS has not yet been refactored to have its API \"\n"
     ]
    }
   ],
   "source": [
    "#Preamble. Standard packages for to load\n",
    "import astropy\n",
    "from astropy.table import Table, Column, MaskedColumn\n",
    "import numpy as np\n",
    "from astroquery.vizier import Vizier\n",
    "# special IPython command to prepare the notebook for matplotlib\n",
    "%matplotlib inline \n",
    "from astroquery.sdss import SDSS\n",
    "from astropy import coordinates as coords"
   ]
  },
  {
   "cell_type": "code",
   "execution_count": 17,
   "metadata": {
    "collapsed": true
   },
   "outputs": [],
   "source": [
    "catalog_list = Vizier.find_catalogs('New white dwarf SDSS DR12')"
   ]
  },
  {
   "cell_type": "code",
   "execution_count": 18,
   "metadata": {
    "collapsed": false
   },
   "outputs": [
    {
     "name": "stdout",
     "output_type": "stream",
     "text": [
      "{u'J/MNRAS/455/3413': u'New white dwarf and subdwarf stars in SDSS DR12 (Kepler+, 2016)'}\n"
     ]
    }
   ],
   "source": [
    "print({k:v.description for k,v in catalog_list.items()})"
   ]
  },
  {
   "cell_type": "code",
   "execution_count": 21,
   "metadata": {
    "collapsed": true
   },
   "outputs": [],
   "source": [
    "Vizier.ROW_LIMIT = -1\n",
    "catalogs = Vizier.get_catalogs(catalog_list.keys())"
   ]
  },
  {
   "cell_type": "code",
   "execution_count": 22,
   "metadata": {
    "collapsed": false
   },
   "outputs": [
    {
     "name": "stdout",
     "output_type": "stream",
     "text": [
      "TableList with 1 tables:\n",
      "\t'0:J/MNRAS/455/3413/table6' with 34 column(s) and 6647 row(s) \n"
     ]
    }
   ],
   "source": [
    "print(catalogs)"
   ]
  },
  {
   "cell_type": "code",
   "execution_count": 30,
   "metadata": {
    "collapsed": false
   },
   "outputs": [
    {
     "data": {
      "text/html": [
       "&lt;Table masked=True length=6647&gt;\n",
       "<table id=\"table4581928464\" class=\"table-striped table-bordered table-condensed\">\n",
       "<thead><tr><th>_RAJ2000</th><th>_DEJ2000</th><th>PMF</th><th>SDSS</th><th>S_N</th><th>umag</th><th>e_umag</th><th>gmag</th><th>e_gmag</th><th>rmag</th><th>e_rmag</th><th>imag</th><th>e_imag</th><th>zmag</th><th>e_zmag</th><th>E_B-V_</th><th>pm</th><th>GLON</th><th>GLAT</th><th>SpType</th><th>Teff</th><th>e_Teff</th><th>logg</th><th>e_logg</th><th>Teff_3D_</th><th>e_Teff_3D_</th><th>logg_3D_</th><th>e_logg_3D_</th><th>Mass</th><th>e_Mass</th><th>Com</th><th>Sp</th><th>_RA.icrs</th><th>_DE.icrs</th></tr></thead>\n",
       "<thead><tr><th>deg</th><th>deg</th><th></th><th></th><th></th><th>mag</th><th>mag</th><th>mag</th><th>mag</th><th>mag</th><th>mag</th><th>mag</th><th>mag</th><th>mag</th><th>mag</th><th>mag</th><th>mas / yr</th><th>deg</th><th>deg</th><th></th><th>K</th><th>K</th><th>[cm/s2]</th><th>[cm/s2]</th><th>K</th><th>K</th><th>[cm/s2]</th><th>[cm/s2]</th><th>Msun</th><th>Msun</th><th></th><th></th><th>deg</th><th>deg</th></tr></thead>\n",
       "<thead><tr><th>float64</th><th>float64</th><th>str15</th><th>str19</th><th>int16</th><th>float32</th><th>float32</th><th>float32</th><th>float32</th><th>float32</th><th>float32</th><th>float32</th><th>float32</th><th>float32</th><th>float32</th><th>float32</th><th>float32</th><th>float32</th><th>float32</th><th>str9</th><th>int32</th><th>int32</th><th>float32</th><th>float32</th><th>int32</th><th>int32</th><th>float32</th><th>float32</th><th>float64</th><th>float64</th><th>str18</th><th>str2</th><th>float64</th><th>float64</th></tr></thead>\n",
       "<tr><td>192.8436</td><td>-2.6717</td><td>0337-51997-0195</td><td>125122.06-023737.21</td><td>22</td><td>18.120</td><td>0.019</td><td>17.570</td><td>0.020</td><td>17.549</td><td>0.013</td><td>17.572</td><td>0.017</td><td>17.601</td><td>0.023</td><td>0.021</td><td>5.100</td><td>302.9</td><td>60.2</td><td>sdB</td><td>29108</td><td>463</td><td>5.409</td><td>0.087</td><td>--</td><td>--</td><td>--</td><td>--</td><td>--</td><td>--</td><td></td><td>Sp</td><td>192.8436</td><td>-2.6717</td></tr>\n",
       "<tr><td>232.7803</td><td>55.0191</td><td>0614-53437-0049</td><td>153112.62+550139.60</td><td>22</td><td>17.615</td><td>0.015</td><td>17.827</td><td>0.018</td><td>18.315</td><td>0.016</td><td>18.672</td><td>0.020</td><td>18.964</td><td>0.041</td><td>0.018</td><td>8.300</td><td>88.1</td><td>49.9</td><td>sdB</td><td>29876</td><td>374</td><td>5.292</td><td>0.080</td><td>--</td><td>--</td><td>--</td><td>--</td><td>--</td><td>--</td><td></td><td>Sp</td><td>232.7803</td><td>55.0191</td></tr>\n",
       "<tr><td>221.7148</td><td>58.1535</td><td>0790-52346-0634</td><td>144657.14+580920.12</td><td>46</td><td>15.839</td><td>0.014</td><td>15.671</td><td>0.013</td><td>15.667</td><td>0.020</td><td>15.702</td><td>0.017</td><td>15.759</td><td>0.016</td><td>0.010</td><td>3.900</td><td>97.9</td><td>53.0</td><td>sdB</td><td>30893</td><td>165</td><td>5.033</td><td>0.032</td><td>--</td><td>--</td><td>--</td><td>--</td><td>--</td><td>--</td><td></td><td>Sp</td><td>221.7148</td><td>58.1535</td></tr>\n",
       "<tr><td>117.3776</td><td>28.0867</td><td>1059-52618-0515</td><td>074915.66+280641.01</td><td>11</td><td>18.910</td><td>0.021</td><td>19.100</td><td>0.025</td><td>19.519</td><td>0.022</td><td>19.863</td><td>0.032</td><td>20.149</td><td>0.109</td><td>0.035</td><td>4.600</td><td>192.5</td><td>24.3</td><td>sdB</td><td>29404</td><td>704</td><td>5.450</td><td>0.142</td><td>--</td><td>--</td><td>--</td><td>--</td><td>--</td><td>--</td><td></td><td>Sp</td><td>117.3776</td><td>28.0867</td></tr>\n",
       "<tr><td>326.6084</td><td>-7.2167</td><td>1177-52824-0636</td><td>214627.88-071117.59</td><td>45</td><td>16.163</td><td>0.014</td><td>15.937</td><td>0.027</td><td>15.864</td><td>0.012</td><td>15.856</td><td>0.013</td><td>15.905</td><td>0.017</td><td>0.035</td><td>7.000</td><td>48.6</td><td>-41.9</td><td>sdB</td><td>30503</td><td>191</td><td>5.019</td><td>0.036</td><td>--</td><td>--</td><td>--</td><td>--</td><td>--</td><td>--</td><td></td><td>Sp</td><td>326.6084</td><td>-7.2167</td></tr>\n",
       "<tr><td>63.9077</td><td>25.6175</td><td>1254-52972-0163</td><td>041536.05+253857.11</td><td>41</td><td>16.143</td><td>0.015</td><td>16.269</td><td>0.015</td><td>16.458</td><td>0.010</td><td>16.646</td><td>0.011</td><td>16.832</td><td>0.016</td><td>0.483</td><td>6.100</td><td>170.4</td><td>-17.9</td><td>He-sdO</td><td>64329</td><td>1429</td><td>6.118</td><td>0.073</td><td>--</td><td>--</td><td>--</td><td>--</td><td>--</td><td>--</td><td></td><td>Sp</td><td>63.9077</td><td>25.6175</td></tr>\n",
       "<tr><td>251.2279</td><td>21.5942</td><td>1569-53168-0370</td><td>164453.35+213711.54</td><td>20</td><td>17.752</td><td>0.017</td><td>17.819</td><td>0.013</td><td>18.218</td><td>0.011</td><td>18.552</td><td>0.012</td><td>18.807</td><td>0.037</td><td>0.050</td><td>3.000</td><td>40.5</td><td>37.0</td><td>sdB</td><td>26349</td><td>889</td><td>5.114</td><td>0.104</td><td>--</td><td>--</td><td>--</td><td>--</td><td>--</td><td>--</td><td></td><td>Sp</td><td>251.2279</td><td>21.5942</td></tr>\n",
       "<tr><td>244.9250</td><td>24.1559</td><td>1574-53476-0225</td><td>161942.83+240715.70</td><td>46</td><td>16.792</td><td>0.022</td><td>16.420</td><td>0.023</td><td>16.462</td><td>0.016</td><td>16.481</td><td>0.013</td><td>16.570</td><td>0.018</td><td>0.067</td><td>11.900</td><td>41.5</td><td>43.3</td><td>sdB</td><td>27741</td><td>342</td><td>5.227</td><td>0.048</td><td>--</td><td>--</td><td>--</td><td>--</td><td>--</td><td>--</td><td></td><td>Sp</td><td>244.9250</td><td>24.1559</td></tr>\n",
       "<tr><td>242.9424</td><td>29.0011</td><td>1577-53495-0460</td><td>161132.90+290038.99</td><td>37</td><td>16.456</td><td>0.019</td><td>16.583</td><td>0.016</td><td>17.004</td><td>0.016</td><td>17.346</td><td>0.012</td><td>17.638</td><td>0.023</td><td>0.037</td><td>10.300</td><td>47.6</td><td>46.1</td><td>sdB</td><td>28344</td><td>511</td><td>6.000</td><td>0.500</td><td>--</td><td>--</td><td>--</td><td>--</td><td>--</td><td>--</td><td></td><td>Sp</td><td>242.9424</td><td>29.0011</td></tr>\n",
       "<tr><td>...</td><td>...</td><td>...</td><td>...</td><td>...</td><td>...</td><td>...</td><td>...</td><td>...</td><td>...</td><td>...</td><td>...</td><td>...</td><td>...</td><td>...</td><td>...</td><td>...</td><td>...</td><td>...</td><td>...</td><td>...</td><td>...</td><td>...</td><td>...</td><td>...</td><td>...</td><td>...</td><td>...</td><td>...</td><td>...</td><td>...</td><td>...</td><td>...</td><td>...</td></tr>\n",
       "<tr><td>134.6266</td><td>48.3619</td><td>7515-56781-0783</td><td>085842.85+482229.98</td><td>10</td><td>20.504</td><td>0.056</td><td>19.697</td><td>0.019</td><td>19.490</td><td>0.018</td><td>19.397</td><td>0.024</td><td>19.366</td><td>0.064</td><td>0.023</td><td>1.300</td><td>171.1</td><td>40.7</td><td>sdA</td><td>6802</td><td>77</td><td>5.944</td><td>0.283</td><td>6829</td><td>77</td><td>5.830</td><td>0.280</td><td>0.14651</td><td>0.00171</td><td></td><td>Sp</td><td>134.6266</td><td>48.3619</td></tr>\n",
       "<tr><td>134.9834</td><td>47.2876</td><td>7515-56781-0816</td><td>085955.55+471504.21</td><td>25</td><td>17.847</td><td>0.028</td><td>17.467</td><td>0.062</td><td>17.579</td><td>0.159</td><td>17.655</td><td>0.233</td><td>18.029</td><td>0.451</td><td>0.023</td><td>0.000</td><td>172.5</td><td>41.0</td><td>DA</td><td>8928</td><td>26</td><td>8.040</td><td>0.040</td><td>8915</td><td>26</td><td>7.770</td><td>0.040</td><td>0.49500</td><td>0.01900</td><td></td><td>Sp</td><td>134.9834</td><td>47.2876</td></tr>\n",
       "<tr><td>137.8026</td><td>46.1275</td><td>7516-56782-0119</td><td>091056.41+460904.83</td><td>3</td><td>21.356</td><td>0.107</td><td>21.155</td><td>0.053</td><td>21.058</td><td>0.047</td><td>20.980</td><td>0.080</td><td>20.771</td><td>0.258</td><td>0.018</td><td>0.000</td><td>173.9</td><td>43.0</td><td>DA:</td><td>8072</td><td>527</td><td>8.000</td><td>1.000</td><td>--</td><td>--</td><td>--</td><td>--</td><td>--</td><td>--</td><td></td><td>Sp</td><td>137.8026</td><td>46.1275</td></tr>\n",
       "<tr><td>136.1742</td><td>45.5248</td><td>7516-56782-0316</td><td>090451.86+453105.08</td><td>10</td><td>19.994</td><td>0.056</td><td>19.755</td><td>0.021</td><td>19.716</td><td>0.025</td><td>19.535</td><td>0.026</td><td>18.915</td><td>0.050</td><td>0.027</td><td>58.080</td><td>174.8</td><td>41.9</td><td>DC:+M</td><td>7347</td><td>5000</td><td>8.000</td><td>0.000</td><td>--</td><td>--</td><td>--</td><td>--</td><td>--</td><td>--</td><td></td><td>Sp</td><td>136.1742</td><td>45.5248</td></tr>\n",
       "<tr><td>136.9719</td><td>46.5350</td><td>7516-56782-0806</td><td>090744.63+463050.40</td><td>4</td><td>19.743</td><td>0.039</td><td>19.992</td><td>0.050</td><td>19.970</td><td>0.053</td><td>20.146</td><td>0.043</td><td>19.833</td><td>0.110</td><td>0.024</td><td>6.770</td><td>173.4</td><td>42.4</td><td>CV</td><td>--</td><td>--</td><td>--</td><td>--</td><td>--</td><td>--</td><td>--</td><td>--</td><td>--</td><td>--</td><td></td><td>Sp</td><td>136.9719</td><td>46.5350</td></tr>\n",
       "<tr><td>137.2334</td><td>46.2277</td><td>7516-56782-0855</td><td>090847.50+461233.19</td><td>13</td><td>19.858</td><td>0.040</td><td>19.553</td><td>0.033</td><td>19.865</td><td>0.033</td><td>19.793</td><td>0.035</td><td>19.362</td><td>0.070</td><td>0.016</td><td>7.000</td><td>173.8</td><td>42.6</td><td>DA+M</td><td>16016</td><td>137</td><td>8.025</td><td>0.041</td><td>16016</td><td>137</td><td>8.030</td><td>0.040</td><td>0.63000</td><td>0.02100</td><td></td><td>Sp</td><td>137.2334</td><td>46.2277</td></tr>\n",
       "<tr><td>137.1028</td><td>46.3812</td><td>7517-56772-0524</td><td>090822.98+462114.38</td><td>3</td><td>21.987</td><td>0.185</td><td>21.532</td><td>0.056</td><td>21.803</td><td>0.083</td><td>21.934</td><td>0.145</td><td>21.361</td><td>0.369</td><td>0.017</td><td>0.000</td><td>173.6</td><td>42.5</td><td>DA</td><td>12463</td><td>1883</td><td>8.000</td><td>1.000</td><td>--</td><td>--</td><td>--</td><td>--</td><td>--</td><td>--</td><td></td><td>Sp</td><td>137.1028</td><td>46.3812</td></tr>\n",
       "<tr><td>139.3180</td><td>46.6211</td><td>7517-56772-0816</td><td>091709.55+463821.76</td><td>20</td><td>19.493</td><td>0.029</td><td>18.764</td><td>0.019</td><td>19.065</td><td>0.015</td><td>19.311</td><td>0.021</td><td>19.490</td><td>0.047</td><td>0.018</td><td>2.600</td><td>173.1</td><td>44.0</td><td>sdA</td><td>12475</td><td>151</td><td>5.828</td><td>0.048</td><td>12483</td><td>151</td><td>5.830</td><td>0.050</td><td>0.17700</td><td>0.05000</td><td>12258</td><td>Sp</td><td>139.3180</td><td>46.6211</td></tr>\n",
       "<tr><td>139.6185</td><td>46.6722</td><td>7517-56772-0851</td><td>091841.65+464009.09</td><td>6</td><td>20.393</td><td>0.047</td><td>20.182</td><td>0.028</td><td>20.280</td><td>0.032</td><td>20.428</td><td>0.043</td><td>20.489</td><td>0.158</td><td>0.024</td><td>14.800</td><td>173.0</td><td>44.2</td><td>DC:</td><td>10395</td><td>299</td><td>8.000</td><td>0.000</td><td>--</td><td>--</td><td>--</td><td>--</td><td>--</td><td>--</td><td></td><td>Sp</td><td>139.6185</td><td>46.6722</td></tr>\n",
       "<tr><td>139.9783</td><td>47.0771</td><td>7517-56772-0910</td><td>091958.77+470539.71</td><td>6</td><td>20.739</td><td>0.055</td><td>20.361</td><td>0.025</td><td>20.200</td><td>0.026</td><td>20.228</td><td>0.030</td><td>20.250</td><td>0.086</td><td>0.024</td><td>47.130</td><td>172.4</td><td>44.4</td><td>DA:</td><td>7122</td><td>138</td><td>8.458</td><td>0.229</td><td>7118</td><td>138</td><td>8.370</td><td>0.230</td><td>0.81800</td><td>0.14500</td><td></td><td>Sp</td><td>139.9783</td><td>47.0771</td></tr>\n",
       "</table>"
      ],
      "text/plain": [
       "<Table masked=True length=6647>\n",
       "_RAJ2000 _DEJ2000       PMF               SDSS        ...  Sp  _RA.icrs _DE.icrs\n",
       "  deg      deg                                        ...        deg      deg   \n",
       "float64  float64       str15             str19        ... str2 float64  float64 \n",
       "-------- -------- --------------- ------------------- ... ---- -------- --------\n",
       "192.8436  -2.6717 0337-51997-0195 125122.06-023737.21 ...   Sp 192.8436  -2.6717\n",
       "232.7803  55.0191 0614-53437-0049 153112.62+550139.60 ...   Sp 232.7803  55.0191\n",
       "221.7148  58.1535 0790-52346-0634 144657.14+580920.12 ...   Sp 221.7148  58.1535\n",
       "117.3776  28.0867 1059-52618-0515 074915.66+280641.01 ...   Sp 117.3776  28.0867\n",
       "326.6084  -7.2167 1177-52824-0636 214627.88-071117.59 ...   Sp 326.6084  -7.2167\n",
       " 63.9077  25.6175 1254-52972-0163 041536.05+253857.11 ...   Sp  63.9077  25.6175\n",
       "251.2279  21.5942 1569-53168-0370 164453.35+213711.54 ...   Sp 251.2279  21.5942\n",
       "244.9250  24.1559 1574-53476-0225 161942.83+240715.70 ...   Sp 244.9250  24.1559\n",
       "242.9424  29.0011 1577-53495-0460 161132.90+290038.99 ...   Sp 242.9424  29.0011\n",
       "     ...      ...             ...                 ... ...  ...      ...      ...\n",
       "134.6266  48.3619 7515-56781-0783 085842.85+482229.98 ...   Sp 134.6266  48.3619\n",
       "134.9834  47.2876 7515-56781-0816 085955.55+471504.21 ...   Sp 134.9834  47.2876\n",
       "137.8026  46.1275 7516-56782-0119 091056.41+460904.83 ...   Sp 137.8026  46.1275\n",
       "136.1742  45.5248 7516-56782-0316 090451.86+453105.08 ...   Sp 136.1742  45.5248\n",
       "136.9719  46.5350 7516-56782-0806 090744.63+463050.40 ...   Sp 136.9719  46.5350\n",
       "137.2334  46.2277 7516-56782-0855 090847.50+461233.19 ...   Sp 137.2334  46.2277\n",
       "137.1028  46.3812 7517-56772-0524 090822.98+462114.38 ...   Sp 137.1028  46.3812\n",
       "139.3180  46.6211 7517-56772-0816 091709.55+463821.76 ...   Sp 139.3180  46.6211\n",
       "139.6185  46.6722 7517-56772-0851 091841.65+464009.09 ...   Sp 139.6185  46.6722\n",
       "139.9783  47.0771 7517-56772-0910 091958.77+470539.71 ...   Sp 139.9783  47.0771"
      ]
     },
     "execution_count": 30,
     "metadata": {},
     "output_type": "execute_result"
    }
   ],
   "source": [
    "catalogs[0]"
   ]
  },
  {
   "cell_type": "code",
   "execution_count": 33,
   "metadata": {
    "collapsed": false
   },
   "outputs": [
    {
     "name": "stdout",
     "output_type": "stream",
     "text": [
      "<SkyCoord (ICRS): (ra, dec) in deg\n",
      "    [(192.8436, -2.6717), (232.7803, 55.0191), (221.7148, 58.1535), ...,\n",
      "     (139.318, 46.6211), (139.6185, 46.6722), (139.9783, 47.0771)]>\n"
     ]
    }
   ],
   "source": [
    "coord = coords.SkyCoord(catalogs['J/MNRAS/455/3413/table6']['_RAJ2000'], catalogs['J/MNRAS/455/3413/table6']['_DEJ2000'])\n",
    "\n",
    "print coord"
   ]
  },
  {
   "cell_type": "code",
   "execution_count": null,
   "metadata": {
    "collapsed": true
   },
   "outputs": [],
   "source": [
    "xid = SDSS.query_region(coord, spectro=True)"
   ]
  },
  {
   "cell_type": "code",
   "execution_count": null,
   "metadata": {
    "collapsed": true
   },
   "outputs": [],
   "source": [
    "spectral_database = SDSS.get_spectra(matches=xid)"
   ]
  }
 ],
 "metadata": {
  "anaconda-cloud": {},
  "kernelspec": {
   "display_name": "Python [conda env:astroconda]",
   "language": "python",
   "name": "conda-env-astroconda-py"
  },
  "language_info": {
   "codemirror_mode": {
    "name": "ipython",
    "version": 2
   },
   "file_extension": ".py",
   "mimetype": "text/x-python",
   "name": "python",
   "nbconvert_exporter": "python",
   "pygments_lexer": "ipython2",
   "version": "2.7.12"
  }
 },
 "nbformat": 4,
 "nbformat_minor": 1
}
