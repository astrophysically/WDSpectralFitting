{
 "cells": [
  {
   "cell_type": "code",
   "execution_count": 3,
   "metadata": {
    "collapsed": false
   },
   "outputs": [],
   "source": [
    "#Preamble. Standard packages for to load\n",
    "import astropy\n",
    "from astropy.table import Table, Column, MaskedColumn, vstack \n",
    "import numpy as np\n",
    "import matplotlib.pyplot as plt\n",
    "# special IPython command to prepare the notebook for matplotlib\n",
    "%matplotlib inline \n",
    "from astropy.io import fits\n",
    "import astropy.io.ascii as ascii\n",
    "from astropy.modeling import models, fitting\n",
    "from numpy import ones\n",
    "from numpy.linalg import lstsq\n",
    "import pandas as pd"
   ]
  },
  {
   "cell_type": "code",
   "execution_count": 4,
   "metadata": {
    "collapsed": false
   },
   "outputs": [],
   "source": [
    "good_WD = Table.read('DA_with_LP_Mike.dat',format='ascii')\n",
    "lambda_balmer = np.array([6563, 4861, 4341, 4102, 3970, 3889])"
   ]
  },
  {
   "cell_type": "code",
   "execution_count": 5,
   "metadata": {
    "collapsed": true
   },
   "outputs": [],
   "source": [
    "# Our model has a temperature effect, then absorption features on top of the model\n",
    "from numpy import vstack\n",
    "# Constants\n",
    "h_planck = 4.136e-15 # in eV*s\n",
    "c_light = 2.998e10   # in cgs\n",
    "k_boltz = 8.617e-5   # in eV/K\n",
    "\n",
    "def my_line(points, x_vec):\n",
    "    x_coords, y_coords = zip(*points)\n",
    "    A = vstack([x_coords,ones(len(x_coords))]).T\n",
    "    m, c = lstsq(A, y_coords)[0]\n",
    "    return m*x_vec + c, m, c\n",
    "\n",
    "def FWHM(height,norm):\n",
    "    gam = 1/(np.pi*np.abs(height))\n",
    "    return gam*norm\n",
    "new_centers = np.zeros(6)\n",
    "iteration = 0"
   ]
  },
  {
   "cell_type": "code",
   "execution_count": 6,
   "metadata": {
    "collapsed": false
   },
   "outputs": [],
   "source": [
    "slope_thresholds = [1,2,3,4,5,6]\n",
    "shift_thresholds = [0,0,0,0,50,50]"
   ]
  },
  {
   "cell_type": "code",
   "execution_count": 7,
   "metadata": {
    "collapsed": false
   },
   "outputs": [],
   "source": [
    "# #windows for line (on either side): 120, 120, 120, 60, 50, 40\n",
    "# #Feed all six models in and fit at once.\n",
    "# # Balmer line centers (in cgs):\n",
    "def obtain_lorentz_parameters(catalog,iteration):\n",
    "    count = 0\n",
    "    lambda_balmer = np.array([6563, 4861, 4341, 4102, 3970, 3889])\n",
    "    slope_thresholds = [19,55,91,130,200,240]\n",
    "    shift_thresholds = [0,0,0,0,50,50]\n",
    "    #120 either side for H_alpha,beta,gamma;60,50,40 \n",
    "    #Main loop\n",
    "    C_coeff_ls = np.zeros(6)\n",
    "    x_center_ls = np.zeros(6)\n",
    "    gamma_ls = np.zeros(6)\n",
    "    total = 1\n",
    "    for index,i in enumerate(catalog):\n",
    "        #Gets data from file\n",
    "        directory = \"../data/\"\n",
    "        filename = directory+catalog['file'][index]\n",
    "\n",
    "        try:\n",
    "            data = fits.getdata(filename, 1)\n",
    "        except:\n",
    "            print(\"Missing\", filename)\n",
    "            continue\n",
    "\n",
    "        all_flux = data['flux']\n",
    "        all_lambda = 10 ** data['loglam']\n",
    "\n",
    "        total = total + 1\n",
    "        if total%100 == 0:  print(total)\n",
    "        if iteration != 0:\n",
    "            lambda_balmer = new_centers\n",
    "\n",
    "        for ind,line in enumerate(lambda_balmer):\n",
    "            ctitle = 'C'+str(iteration)+'_'+str(ind)\n",
    "            xtitle = 'X'+str(iteration)+'_'+str(ind)\n",
    "            gtitle = 'G'+str(iteration)+'_'+str(ind)\n",
    "            mtitle = 'M'+str(iteration)+'_'+str(ind)\n",
    "            ytitle = 'Y'+str(iteration)+'_'+str(ind)\n",
    "            chititle = 'Chi'+str(iteration)+'_'+str(ind)\n",
    "            \n",
    "            #Make the windows for lorentzian fitting\n",
    "            window = np.where(np.logical_and(all_lambda>= (line - 15), all_lambda<= (line + 15)))[0]\n",
    "            #Get an educated guess for C_true\n",
    "            if not all_flux[window].size:\n",
    "                continue\n",
    "            thirds = int(len(all_flux[window])/3)\n",
    "            left_max = np.max(all_flux[window][:thirds])\n",
    "            right_max = np.max(all_flux[window][-thirds:])\n",
    "            left_point = all_lambda[window][:thirds][np.argmax(all_flux[window][:thirds])]\n",
    "            right_point = all_lambda[window][2*thirds + np.argmax(all_flux[window][-thirds:])]\n",
    "\n",
    "            points = [(left_point,left_max),(right_point,right_max)]\n",
    "            vert_fix = my_line(points,all_lambda[window])\n",
    "   \n",
    "            int_y = all_flux[window]-vert_fix[0]\n",
    "            fixed_y = int_y*-1\n",
    "            area = np.trapz(int_y)\n",
    "            ampl = np.min(int_y)\n",
    "\n",
    "            left_mean = np.mean(all_flux[window][:thirds])\n",
    "            right_mean = np.mean(all_flux[window][-thirds:])\n",
    "            left_lambda = np.mean(all_lambda[window][:thirds])\n",
    "            right_lambda = np.mean(all_lambda[window][-thirds:])\n",
    "\n",
    "            points = [(left_lambda,left_mean),(right_lambda,right_mean)]\n",
    "            vert_shift = my_line(points,all_lambda[window])\n",
    "\n",
    "            #Define initial guesses\n",
    "            C_true = area*-1\n",
    "            a_true = ampl*-1\n",
    "            x_true = (all_lambda[window][0] + all_lambda[window[-1]])/2\n",
    "            gamma_true = FWHM(np.min(all_flux[window]-vert_shift[0]),C_true)\n",
    "            #print gamma_true\n",
    "\n",
    "            result = models.Lorentz1D(amplitude = C_true, x_0 = x_true, fwhm = gamma_true)\n",
    "            fit_ls = fitting.LevMarLSQFitter()\n",
    "            g = fit_ls(result, all_lambda[window], fixed_y)\n",
    "            chi_squ = np.sum((all_flux[window] - (-1*g(all_lambda[window])+vert_fix[0]))**2/(all_flux[window]))\n",
    "\n",
    "            if chi_squ > .3*np.mean(all_flux[window]) or chi_squ > .4*good_WD['S_N'][index]:\n",
    "#                 plt.figure(figsize=(8,5))\n",
    "#                 plt.plot(all_lambda[window], all_flux[window], 'ko')\n",
    "#                 plt.plot(all_lambda[window], -1*g(all_lambda[window]) + vert_fix[0], label='Model')\n",
    "#                 plt.xlabel('Lambda')\n",
    "#                 plt.ylabel('Flux')\n",
    "#                 plt.title('Chi: %f  S_N: %f' %(chi_squ,good_WD['S_N'][index]))\n",
    "#                 plt.legend(loc=2)\n",
    "#                 plt.savefig('%f_%f.png' %(index,line))\n",
    "#                 print chi_squ, good_WD['S_N'][index]\n",
    "                count += 1\n",
    "\n",
    "            new_centers[ind] = g.x_0.value\n",
    "            catalog[ctitle][index] = g.amplitude.value\n",
    "            catalog[xtitle][index] = g.x_0.value\n",
    "            catalog[gtitle][index] = g.fwhm.value\n",
    "            catalog[ytitle][index] = vert_shift[2]\n",
    "            catalog[mtitle][index] = vert_shift[1]\n",
    "            catalog[chititle][index] = chi_squ\n",
    "            \n",
    "            \n",
    "#             catalog[ctitle][index] = C_coeff_ls[ind]\n",
    "#             catalog[xtitle][index] = x_center_ls[ind]\n",
    "#             catalog[gtitle][index] = gamma_ls[ind]\n",
    "    print count"
   ]
  },
  {
   "cell_type": "code",
   "execution_count": 8,
   "metadata": {
    "collapsed": false
   },
   "outputs": [
    {
     "name": "stderr",
     "output_type": "stream",
     "text": [
      "WARNING: The fit may be unsuccessful; check fit_info['message'] for more information. [astropy.modeling.fitting]\n"
     ]
    },
    {
     "name": "stdout",
     "output_type": "stream",
     "text": [
      "100\n",
      "200\n",
      "300\n",
      "400\n",
      "500\n",
      "600\n",
      "700\n",
      "800\n",
      "900\n",
      "1000\n",
      "1100\n",
      "1200\n",
      "1300\n",
      "1400\n",
      "1500\n",
      "1600\n"
     ]
    },
    {
     "name": "stderr",
     "output_type": "stream",
     "text": [
      "WARNING: The following header keyword is invalid or follows an unrecognized non-standard convention:\n",
      "MC1TEMDN=-0.00000000000000E+00 / sp1 mech median temp                            [astropy.io.fits.card]\n",
      "WARNING: The following header keyword is invalid or follows an unrecognized non-standard convention:\n",
      "MC1TBCB =-0.00000000000000E+00 / sp1 mech Temp_Blue_Cam_Bot                      [astropy.io.fits.card]\n",
      "WARNING: The following header keyword is invalid or follows an unrecognized non-standard convention:\n",
      "MC1THT  =-0.00000000000000E+00 / sp1 mech Temp_Hartmann_Top                      [astropy.io.fits.card]\n"
     ]
    },
    {
     "name": "stdout",
     "output_type": "stream",
     "text": [
      "1700\n",
      "1800\n",
      "1900\n",
      "2000\n",
      "2100\n",
      "2200\n",
      "2300\n",
      "2400\n"
     ]
    },
    {
     "name": "stderr",
     "output_type": "stream",
     "text": [
      "WARNING: The following header keyword is invalid or follows an unrecognized non-standard convention:\n",
      "MC1TRCT =-0.00000000000000E+00 / sp1 mech Temp_Red_Cam_Top                       [astropy.io.fits.card]\n"
     ]
    },
    {
     "name": "stdout",
     "output_type": "stream",
     "text": [
      "2500\n",
      "2600\n",
      "2700\n",
      "2800\n",
      "2900\n",
      "3000\n",
      "3100\n",
      "3200\n",
      "3300\n",
      "3400\n",
      "3500\n",
      "3600\n",
      "3700\n",
      "3800\n",
      "3900\n",
      "4000\n",
      "4100\n",
      "4200\n",
      "4300\n",
      "4400\n"
     ]
    },
    {
     "name": "stderr",
     "output_type": "stream",
     "text": [
      "WARNING: The following header keyword is invalid or follows an unrecognized non-standard convention:\n",
      "MC1TRCB =-0.00000000000000E+00 / sp1 mech Temp_Red_Cam_Bot                       [astropy.io.fits.card]\n"
     ]
    },
    {
     "name": "stdout",
     "output_type": "stream",
     "text": [
      "4500\n",
      "4600\n",
      "4700\n",
      "4800\n",
      "4900\n",
      "5000\n",
      "5100\n",
      "5200\n",
      "5300\n",
      "5400\n",
      "5500\n",
      "5600\n",
      "5700\n",
      "5800\n",
      "5900\n",
      "6000\n",
      "6100\n",
      "6200\n",
      "6300\n",
      "6400\n",
      "6500\n",
      "6600\n",
      "6700\n",
      "6800\n",
      "6900\n",
      "7000\n",
      "7100\n",
      "7200\n",
      "7300\n",
      "7400\n",
      "7500\n",
      "7600\n",
      "7700\n",
      "7800\n",
      "7900\n",
      "8000\n",
      "8100\n",
      "8200\n",
      "8300\n",
      "8400\n",
      "8500\n",
      "8600\n",
      "15431\n"
     ]
    }
   ],
   "source": [
    "obtain_lorentz_parameters(good_WD,0)"
   ]
  },
  {
   "cell_type": "code",
   "execution_count": 9,
   "metadata": {
    "collapsed": true
   },
   "outputs": [],
   "source": [
    "good_WD.write('DA_with_LP_Mike.dat', format='ascii')"
   ]
  },
  {
   "cell_type": "code",
   "execution_count": 4,
   "metadata": {
    "collapsed": true
   },
   "outputs": [],
   "source": [
    "good_WD = good_WD.to_pandas()"
   ]
  },
  {
   "cell_type": "code",
   "execution_count": 5,
   "metadata": {
    "collapsed": false
   },
   "outputs": [],
   "source": [
    "good_WD = good_WD[good_WD.Chi0_4 != '--']\n",
    "good_WD = good_WD[good_WD.Chi0_5 != '--']\n",
    "good_WD['Chi0_4'] = pd.to_numeric(good_WD['Chi0_4'])\n",
    "good_WD['Chi0_5'] = pd.to_numeric(good_WD['Chi0_5'])"
   ]
  },
  {
   "cell_type": "code",
   "execution_count": 6,
   "metadata": {
    "collapsed": true
   },
   "outputs": [],
   "source": [
    "def get_filename(plate,mjd,fiber,wd):\n",
    "    try:\n",
    "        plwd = wd[wd['Plate'] == plate]\n",
    "        if len(plwd) == 0: raise Exception()\n",
    "    except Exception:\n",
    "        print 'No plate number'\n",
    "        return ''\n",
    "    try:\n",
    "        mjwd = plwd[plwd['MJD'] == mjd]\n",
    "        if len(mjwd) == 0: raise Exception()\n",
    "    except Exception:\n",
    "        print 'No mjd date'\n",
    "        return ''\n",
    "    try:\n",
    "        fbwd = mjwd[mjwd['Fiber'] == fiber]\n",
    "        if len(fbwd) == 0: raise Exception()\n",
    "    except Exception:\n",
    "        print 'No fiber number'\n",
    "        return ''\n",
    "    name = fbwd['file']\n",
    "    return str(name[0])"
   ]
  },
  {
   "cell_type": "code",
   "execution_count": 8,
   "metadata": {
    "collapsed": true
   },
   "outputs": [],
   "source": [
    "def plot_spec(plate,mjd,fiber,wd):\n",
    "    fits_spec = fits.open('../data/'+get_filename(plate,mjd,fiber,wd))\n",
    "    wavelength = 10**fits_spec[1].data['loglam']\n",
    "    flux = fits_spec[1].data['flux']\n",
    "    fig, ax = plt.subplots(1, 2, figsize=(12,4))\n",
    "    ax[0].plot(wavelength, flux)\n",
    "    ax[1].plot(wavelength, flux)\n",
    "    ax[1].set_xlim(3800, 4400)\n",
    "    plt.show()"
   ]
  },
  {
   "cell_type": "code",
   "execution_count": 9,
   "metadata": {
    "collapsed": false
   },
   "outputs": [
    {
     "ename": "KeyError",
     "evalue": "0",
     "output_type": "error",
     "traceback": [
      "\u001b[0;31m---------------------------------------------------------------------------\u001b[0m",
      "\u001b[0;31mKeyError\u001b[0m                                  Traceback (most recent call last)",
      "\u001b[0;32m<ipython-input-9-f2883cafff12>\u001b[0m in \u001b[0;36m<module>\u001b[0;34m()\u001b[0m\n\u001b[0;32m----> 1\u001b[0;31m \u001b[0mplot_spec\u001b[0m\u001b[0;34m(\u001b[0m\u001b[0;36m3760\u001b[0m\u001b[0;34m,\u001b[0m\u001b[0;36m55268\u001b[0m\u001b[0;34m,\u001b[0m\u001b[0;36m863\u001b[0m\u001b[0;34m,\u001b[0m\u001b[0mgood_WD\u001b[0m\u001b[0;34m)\u001b[0m\u001b[0;34m\u001b[0m\u001b[0m\n\u001b[0m",
      "\u001b[0;32m<ipython-input-8-5d41a8980cfc>\u001b[0m in \u001b[0;36mplot_spec\u001b[0;34m(plate, mjd, fiber, wd)\u001b[0m\n\u001b[1;32m      1\u001b[0m \u001b[0;32mdef\u001b[0m \u001b[0mplot_spec\u001b[0m\u001b[0;34m(\u001b[0m\u001b[0mplate\u001b[0m\u001b[0;34m,\u001b[0m\u001b[0mmjd\u001b[0m\u001b[0;34m,\u001b[0m\u001b[0mfiber\u001b[0m\u001b[0;34m,\u001b[0m\u001b[0mwd\u001b[0m\u001b[0;34m)\u001b[0m\u001b[0;34m:\u001b[0m\u001b[0;34m\u001b[0m\u001b[0m\n\u001b[0;32m----> 2\u001b[0;31m     \u001b[0mfits_spec\u001b[0m \u001b[0;34m=\u001b[0m \u001b[0mfits\u001b[0m\u001b[0;34m.\u001b[0m\u001b[0mopen\u001b[0m\u001b[0;34m(\u001b[0m\u001b[0;34m'../data/'\u001b[0m\u001b[0;34m+\u001b[0m\u001b[0mget_filename\u001b[0m\u001b[0;34m(\u001b[0m\u001b[0mplate\u001b[0m\u001b[0;34m,\u001b[0m\u001b[0mmjd\u001b[0m\u001b[0;34m,\u001b[0m\u001b[0mfiber\u001b[0m\u001b[0;34m,\u001b[0m\u001b[0mwd\u001b[0m\u001b[0;34m)\u001b[0m\u001b[0;34m)\u001b[0m\u001b[0;34m\u001b[0m\u001b[0m\n\u001b[0m\u001b[1;32m      3\u001b[0m     \u001b[0mwavelength\u001b[0m \u001b[0;34m=\u001b[0m \u001b[0;36m10\u001b[0m\u001b[0;34m**\u001b[0m\u001b[0mfits_spec\u001b[0m\u001b[0;34m[\u001b[0m\u001b[0;36m1\u001b[0m\u001b[0;34m]\u001b[0m\u001b[0;34m.\u001b[0m\u001b[0mdata\u001b[0m\u001b[0;34m[\u001b[0m\u001b[0;34m'loglam'\u001b[0m\u001b[0;34m]\u001b[0m\u001b[0;34m\u001b[0m\u001b[0m\n\u001b[1;32m      4\u001b[0m     \u001b[0mflux\u001b[0m \u001b[0;34m=\u001b[0m \u001b[0mfits_spec\u001b[0m\u001b[0;34m[\u001b[0m\u001b[0;36m1\u001b[0m\u001b[0;34m]\u001b[0m\u001b[0;34m.\u001b[0m\u001b[0mdata\u001b[0m\u001b[0;34m[\u001b[0m\u001b[0;34m'flux'\u001b[0m\u001b[0;34m]\u001b[0m\u001b[0;34m\u001b[0m\u001b[0m\n\u001b[1;32m      5\u001b[0m     \u001b[0mfig\u001b[0m\u001b[0;34m,\u001b[0m \u001b[0max\u001b[0m \u001b[0;34m=\u001b[0m \u001b[0mplt\u001b[0m\u001b[0;34m.\u001b[0m\u001b[0msubplots\u001b[0m\u001b[0;34m(\u001b[0m\u001b[0;36m1\u001b[0m\u001b[0;34m,\u001b[0m \u001b[0;36m2\u001b[0m\u001b[0;34m,\u001b[0m \u001b[0mfigsize\u001b[0m\u001b[0;34m=\u001b[0m\u001b[0;34m(\u001b[0m\u001b[0;36m12\u001b[0m\u001b[0;34m,\u001b[0m\u001b[0;36m4\u001b[0m\u001b[0;34m)\u001b[0m\u001b[0;34m)\u001b[0m\u001b[0;34m\u001b[0m\u001b[0m\n",
      "\u001b[0;32m<ipython-input-7-d1efa442ad63>\u001b[0m in \u001b[0;36mget_filename\u001b[0;34m(plate, mjd, fiber, wd)\u001b[0m\n\u001b[1;32m     19\u001b[0m         \u001b[0;32mreturn\u001b[0m \u001b[0;34m''\u001b[0m\u001b[0;34m\u001b[0m\u001b[0m\n\u001b[1;32m     20\u001b[0m     \u001b[0mname\u001b[0m \u001b[0;34m=\u001b[0m \u001b[0mfbwd\u001b[0m\u001b[0;34m[\u001b[0m\u001b[0;34m'file'\u001b[0m\u001b[0;34m]\u001b[0m\u001b[0;34m\u001b[0m\u001b[0m\n\u001b[0;32m---> 21\u001b[0;31m     \u001b[0;32mreturn\u001b[0m \u001b[0mstr\u001b[0m\u001b[0;34m(\u001b[0m\u001b[0mname\u001b[0m\u001b[0;34m[\u001b[0m\u001b[0;36m0\u001b[0m\u001b[0;34m]\u001b[0m\u001b[0;34m)\u001b[0m\u001b[0;34m\u001b[0m\u001b[0m\n\u001b[0m",
      "\u001b[0;32m//anaconda/envs/py27/lib/python2.7/site-packages/pandas/core/series.pyc\u001b[0m in \u001b[0;36m__getitem__\u001b[0;34m(self, key)\u001b[0m\n\u001b[1;32m    601\u001b[0m         \u001b[0mkey\u001b[0m \u001b[0;34m=\u001b[0m \u001b[0mcom\u001b[0m\u001b[0;34m.\u001b[0m\u001b[0m_apply_if_callable\u001b[0m\u001b[0;34m(\u001b[0m\u001b[0mkey\u001b[0m\u001b[0;34m,\u001b[0m \u001b[0mself\u001b[0m\u001b[0;34m)\u001b[0m\u001b[0;34m\u001b[0m\u001b[0m\n\u001b[1;32m    602\u001b[0m         \u001b[0;32mtry\u001b[0m\u001b[0;34m:\u001b[0m\u001b[0;34m\u001b[0m\u001b[0m\n\u001b[0;32m--> 603\u001b[0;31m             \u001b[0mresult\u001b[0m \u001b[0;34m=\u001b[0m \u001b[0mself\u001b[0m\u001b[0;34m.\u001b[0m\u001b[0mindex\u001b[0m\u001b[0;34m.\u001b[0m\u001b[0mget_value\u001b[0m\u001b[0;34m(\u001b[0m\u001b[0mself\u001b[0m\u001b[0;34m,\u001b[0m \u001b[0mkey\u001b[0m\u001b[0;34m)\u001b[0m\u001b[0;34m\u001b[0m\u001b[0m\n\u001b[0m\u001b[1;32m    604\u001b[0m \u001b[0;34m\u001b[0m\u001b[0m\n\u001b[1;32m    605\u001b[0m             \u001b[0;32mif\u001b[0m \u001b[0;32mnot\u001b[0m \u001b[0mis_scalar\u001b[0m\u001b[0;34m(\u001b[0m\u001b[0mresult\u001b[0m\u001b[0;34m)\u001b[0m\u001b[0;34m:\u001b[0m\u001b[0;34m\u001b[0m\u001b[0m\n",
      "\u001b[0;32m//anaconda/envs/py27/lib/python2.7/site-packages/pandas/indexes/base.pyc\u001b[0m in \u001b[0;36mget_value\u001b[0;34m(self, series, key)\u001b[0m\n\u001b[1;32m   2167\u001b[0m         \u001b[0;32mtry\u001b[0m\u001b[0;34m:\u001b[0m\u001b[0;34m\u001b[0m\u001b[0m\n\u001b[1;32m   2168\u001b[0m             return self._engine.get_value(s, k,\n\u001b[0;32m-> 2169\u001b[0;31m                                           tz=getattr(series.dtype, 'tz', None))\n\u001b[0m\u001b[1;32m   2170\u001b[0m         \u001b[0;32mexcept\u001b[0m \u001b[0mKeyError\u001b[0m \u001b[0;32mas\u001b[0m \u001b[0me1\u001b[0m\u001b[0;34m:\u001b[0m\u001b[0;34m\u001b[0m\u001b[0m\n\u001b[1;32m   2171\u001b[0m             \u001b[0;32mif\u001b[0m \u001b[0mlen\u001b[0m\u001b[0;34m(\u001b[0m\u001b[0mself\u001b[0m\u001b[0;34m)\u001b[0m \u001b[0;34m>\u001b[0m \u001b[0;36m0\u001b[0m \u001b[0;32mand\u001b[0m \u001b[0mself\u001b[0m\u001b[0;34m.\u001b[0m\u001b[0minferred_type\u001b[0m \u001b[0;32min\u001b[0m \u001b[0;34m[\u001b[0m\u001b[0;34m'integer'\u001b[0m\u001b[0;34m,\u001b[0m \u001b[0;34m'boolean'\u001b[0m\u001b[0;34m]\u001b[0m\u001b[0;34m:\u001b[0m\u001b[0;34m\u001b[0m\u001b[0m\n",
      "\u001b[0;32mpandas/index.pyx\u001b[0m in \u001b[0;36mpandas.index.IndexEngine.get_value (pandas/index.c:3557)\u001b[0;34m()\u001b[0m\n",
      "\u001b[0;32mpandas/index.pyx\u001b[0m in \u001b[0;36mpandas.index.IndexEngine.get_value (pandas/index.c:3240)\u001b[0;34m()\u001b[0m\n",
      "\u001b[0;32mpandas/index.pyx\u001b[0m in \u001b[0;36mpandas.index.IndexEngine.get_loc (pandas/index.c:4279)\u001b[0;34m()\u001b[0m\n",
      "\u001b[0;32mpandas/src/hashtable_class_helper.pxi\u001b[0m in \u001b[0;36mpandas.hashtable.Int64HashTable.get_item (pandas/hashtable.c:8564)\u001b[0;34m()\u001b[0m\n",
      "\u001b[0;32mpandas/src/hashtable_class_helper.pxi\u001b[0m in \u001b[0;36mpandas.hashtable.Int64HashTable.get_item (pandas/hashtable.c:8508)\u001b[0;34m()\u001b[0m\n",
      "\u001b[0;31mKeyError\u001b[0m: 0"
     ]
    }
   ],
   "source": [
    "plot_spec(3760,55268,863,good_WD)"
   ]
  },
  {
   "cell_type": "code",
   "execution_count": 66,
   "metadata": {
    "collapsed": false
   },
   "outputs": [],
   "source": [
    "from astroML.plotting import scatter_contour\n"
   ]
  },
  {
   "cell_type": "code",
   "execution_count": null,
   "metadata": {
    "collapsed": false
   },
   "outputs": [],
   "source": [
    "plt.hist2d(good_WD['Chi0_0'],good_WD['S_N'],bins=200);\n",
    "\n",
    "# plt.hist2d(good_WD['Chi0_1'],good_WD['S_N'],bins=200);\n",
    "\n",
    "# plt.hist2d(good_WD['Chi0_2'],good_WD['S_N'],bins=200);\n",
    "\n",
    "# plt.hist2d(good_WD['Chi0_3'],good_WD['S_N'],bins=200);\n",
    "\n",
    "# plt.hist2d(good_WD['Chi0_4'],good_WD['S_N'],bins=200);\n",
    "\n",
    "# plt.hist2d(good_WD['Chi0_5'],good_WD['S_N'],bins=200);\n"
   ]
  },
  {
   "cell_type": "markdown",
   "metadata": {
    "collapsed": false
   },
   "source": []
  },
  {
   "cell_type": "code",
   "execution_count": null,
   "metadata": {
    "collapsed": true
   },
   "outputs": [],
   "source": []
  }
 ],
 "metadata": {
  "kernelspec": {
   "display_name": "Python 2",
   "language": "python",
   "name": "python2"
  },
  "language_info": {
   "codemirror_mode": {
    "name": "ipython",
    "version": 2
   },
   "file_extension": ".py",
   "mimetype": "text/x-python",
   "name": "python",
   "nbconvert_exporter": "python",
   "pygments_lexer": "ipython2",
   "version": "2.7.13"
  }
 },
 "nbformat": 4,
 "nbformat_minor": 0
}
