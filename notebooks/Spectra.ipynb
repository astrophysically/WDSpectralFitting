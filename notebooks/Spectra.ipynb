{
 "cells": [
  {
   "cell_type": "code",
   "execution_count": 22,
   "metadata": {
    "collapsed": false
   },
   "outputs": [],
   "source": [
    "import numpy as np\n",
    "from astropy import coordinates as coords\n",
    "from astropy.io import fits\n",
    "import glob\n",
    "\n",
    "import matplotlib.pyplot as plt\n",
    "%matplotlib inline"
   ]
  },
  {
   "cell_type": "code",
   "execution_count": 11,
   "metadata": {
    "collapsed": false
   },
   "outputs": [],
   "source": [
    "directory = '../data/'\n",
    "files = glob.glob(directory + '*.fits')"
   ]
  },
  {
   "cell_type": "code",
   "execution_count": 21,
   "metadata": {
    "collapsed": false
   },
   "outputs": [
    {
     "name": "stdout",
     "output_type": "stream",
     "text": [
      "Filename: ../data/spectra-1888-53239-0343.fits\n",
      "No.    Name         Type      Cards   Dimensions   Format\n",
      "  0  PRIMARY     PrimaryHDU     128   ()      \n",
      "  1  COADD       BinTableHDU     26   3835R x 8C   ['E', 'E', 'E', 'J', 'J', 'E', 'E', 'E']   \n",
      "  2  SPECOBJ     BinTableHDU    262   1R x 126C   [6A, 4A, 16A, 23A, 16A, 8A, E, E, E, J, E, E, J, B, B, B, B, B, B, J, 22A, 19A, 19A, 22A, 19A, I, 3A, 3A, 1A, J, D, D, D, E, E, 19A, 8A, J, J, J, J, K, K, J, J, J, J, J, J, K, K, K, K, I, J, J, J, J, 5J, D, D, 6A, 21A, E, E, E, J, E, 24A, 10J, J, 10E, E, E, E, E, E, E, J, E, E, E, J, E, 5E, E, 10E, 10E, 10E, 5E, 5E, 5E, 5E, 5E, J, J, E, E, E, E, E, E, 25A, 21A, 10A, E, E, E, E, E, E, E, E, J, E, E, J, 1A, 1A, E, E, J, J, 1A, 5E, 5E]   \n",
      "  3  SPZLINE     BinTableHDU     48   29R x 19C   [J, J, J, 13A, D, E, E, E, E, E, E, E, E, E, E, J, J, E, E]   \n",
      "  4  B2-00028249-00028247-00028248  BinTableHDU    146   2047R x 7C   [E, E, E, J, E, E, E]   \n",
      "  5  B2-00028250-00028247-00028248  BinTableHDU    146   2047R x 7C   [E, E, E, J, E, E, E]   \n",
      "  6  B2-00028251-00028247-00028248  BinTableHDU    146   2047R x 7C   [E, E, E, J, E, E, E]   \n",
      "  7  R2-00028249-00028247-00028248  BinTableHDU    146   2044R x 7C   [E, E, E, J, E, E, E]   \n",
      "  8  R2-00028250-00028247-00028248  BinTableHDU    146   2044R x 7C   [E, E, E, J, E, E, E]   \n",
      "  9  R2-00028251-00028247-00028248  BinTableHDU    146   2029R x 7C   [E, E, E, J, E, E, E]   \n"
     ]
    }
   ],
   "source": [
    "tmp_spec.info()"
   ]
  },
  {
   "cell_type": "code",
   "execution_count": 23,
   "metadata": {
    "collapsed": false
   },
   "outputs": [
    {
     "data": {
      "text/plain": [
       "SIMPLE  =                    T / conforms to FITS standard                      \n",
       "BITPIX  =                    8 / array data type                                \n",
       "NAXIS   =                    0 / number of array dimensions                     \n",
       "EXTEND  =                    T                                                  \n",
       "TAI     =        4599889119.44 / 1st row - Number of seconds since Nov 17 1858  \n",
       "RA      =            353.40471 / 1st row - Right ascension of telescope boresigh\n",
       "DEC     =            48.907893 / 1st row - Declination of telescope boresight (d\n",
       "EQUINOX =              2000.00 /                                                \n",
       "RADECSYS= 'FK5     '           /                                                \n",
       "TAIHMS  = '10:35:32.56'        / 1st row - TAI time (HH:MM:SS.SS) (TAI-UT = appr\n",
       "TIMESYS = 'tai     '           / TAI, not UTC                                   \n",
       "MJD     =                53239 / MJD of observation                             \n",
       "MJDLIST = '53239   '           /                                                \n",
       "VERSION = 'v3_140_0'           / version of IOP                                 \n",
       "CAMVER  = 'SPEC1 v4_8'         / Camera code version                            \n",
       "OBSERVER= 'harvanek'                                                            \n",
       "OBSCOMM = 'science '                                                            \n",
       "TELESCOP= 'SDSS 2.5-M'         / Sloan Digital Sky Survey                       \n",
       "BESTEXP =                28249 /                                                \n",
       "NEXP_B1 =                    3 / b1 camera number of exposures                  \n",
       "NEXP_R1 =                    3 / r1 camera number of exposures                  \n",
       "EXPT_B1 =              3600.30 / b1 camera exposure time (seconds)              \n",
       "EXPT_R1 =              3600.30 / r1 camera exposure time (seconds)              \n",
       "EXPTIME =              3600.30 / Minimum of exposure times for all cameras      \n",
       "SPCOADD = 'Mon Feb 11 10:03:38 2008' / SPCOADD finished                         \n",
       "FLAVOR  = 'science '           / Flavor of this sequence (e.g., dome f          \n",
       "QUALITY = 'excellent'          / night/image quality                            \n",
       "RADEG   = 3.53405560000000E+02 / Right Ascension. (degrees)                     \n",
       "DECDEG  = 4.89080000000000E+01 / Declination. (degrees)                         \n",
       "PLATEID =                 1888 / Plate Id                                       \n",
       "TILEID  =                 9512 / Tile Id                                        \n",
       "CARTID  =                    9 /Cartridge used in this plugging                 \n",
       "REDDEN  = '0 0 0 0 0'          / Median reddening vector for plate              \n",
       "MAPID   =              5323901 / Map Id                                         \n",
       "NAME    = '1888-53239-01'      / Name of target; PlateId-MJD-Mapper Re          \n",
       "COLBIN  =                    1 / Binning factor perpendicular to the c          \n",
       "ROWBIN  =                    1 / Binning factor perpendicular to the r          \n",
       "PROGRAM = 'binning 1   1 '     / Identifying name for CCD program               \n",
       "SECFOCUS= -7.5000000000000E+01 / Secondary Mirror Position as reported          \n",
       "GUIDEIMG= '/data/spectro/guider/gimg0114.fits' / Last archived guider image     \n",
       "WTIME   =        1093172110.00 / weatherData(timeStamp)                         \n",
       "AIRTEMP =        11.9666666667 / weatherData(airtemp)                           \n",
       "DEWPOINT=        3.93333333333 / weatherData(dewpoint)                          \n",
       "DEWDEP  =        8.00000000000 / weatherData(dewpointDep)                       \n",
       "DUSTA   =       -9999.00000000 / weatherData(dusta)                             \n",
       "DUSTB   =        122044.333333 / weatherData(dustb)                             \n",
       "DUSTC   =        30495.0000000 / weatherData(dustc)                             \n",
       "DUSTD   =        304.666666667 / weatherData(dustd)                             \n",
       "GUSTD   = 2.67600000000000E+02 / weatherData(gustd)                             \n",
       "GUSTS   =        6.43333333333 / weatherData(gusts)                             \n",
       "HUMIDITY=        58.2666666667 / weatherData(humidity)                          \n",
       "HUMIDOUT=        57.6666666667 / weatherData(humidout)                          \n",
       "PRESSURE=        21.5600000000 / weatherData(pressure)                          \n",
       "WINDD   =        219.600000000 / weatherData(windd)                             \n",
       "WINDS   =        5.66666666667 / weatherData(winds)                             \n",
       "TEMP01  =       -93.3600000000 / CCD 01 Temperature                             \n",
       "TEMP02  =       -93.4900000000 / CCD 02 Temperature                             \n",
       "TEMP03  =       -92.9700000000 / CCD 03 Temperature                             \n",
       "TEMP04  =       -92.5800000000 / CCD 04 Temperature                             \n",
       "VERSIDL = '6.3     '           / Version of IDL                                 \n",
       "VERSUTIL= 'v5_3_0  '           / Version of idlutils                            \n",
       "VERSREAD= 'v5_3_12 '           / Version of idlspec2d for pre-processing raw dat\n",
       "VERS2D  = 'v5_3_12 '           / Version of idlspec2d for 2D reduction          \n",
       "VERSCOMB= 'v5_3_12 '           / Version of idlspec2d for combining multiple spe\n",
       "VERSLOG = 'fermi-CVS 02/11/08' / Version of SPECLOG product                     \n",
       "VERSFLAT= 'v1_7    '           / Version of SPECFLAT product                    \n",
       "OPBC    = 'opBC-51813.par'     /                                                \n",
       "OPCONFIG= 'opConfig-50000.par' /                                                \n",
       "OPECALIB= 'opECalib-51577.par' /                                                \n",
       "PLUGFILE= 'plPlugMapM-1888-53239-01.par' /                                      \n",
       "HELIO_RV=       -15.2818674676 / Heliocentric correction (added to velocities)  \n",
       "VACUUM  =                    T / Wavelengths are in vacuum                      \n",
       "SFLATTEN=                    T / Superflat has been applied                     \n",
       "PSFSKY  =                    3 / Order of PSF skysubtraction                    \n",
       "SKYCHI2 =        1.23865649823 / Mean chi^2 of sky-subtraction                  \n",
       "SCHI2MIN=        1.07622864037 /                                                \n",
       "SCHI2MAX=        1.36318302860 /                                                \n",
       "PREJECT =             0.200000 / Profile area rejection threshold               \n",
       "SPEC1_G =              40.4240 /(S/N)^2 for spec  1 at mag 20.20                \n",
       "SPEC1_R =              47.0458 /(S/N)^2 for spec  1 at mag 20.25                \n",
       "SPEC1_I =              26.3467 /(S/N)^2 for spec  1 at mag 19.90                \n",
       "SPEC2_G =              41.5063 /(S/N)^2 for spec  2 at mag 20.20                \n",
       "SPEC2_R =              69.5570 /(S/N)^2 for spec  2 at mag 20.25                \n",
       "SPEC2_I =              41.4633 /(S/N)^2 for spec  2 at mag 19.90                \n",
       "NSTD    =                   17 / Number of (good) std stars                     \n",
       "GOFFSTD =           0.00558090 / Spectrophoto offset for std stars in G-band    \n",
       "GRMSSTD =            0.0386619 / Spectrophoto RMS for std stars in G-band       \n",
       "ROFFSTD =            0.0188789 / Spectrophoto offset for std stars in R-band    \n",
       "RRMSSTD =            0.0527797 / Spectrophoto RMS for std stars in R-band       \n",
       "IOFFSTD =          -0.00105429 / Spectrophoto offset for std stars in I-band    \n",
       "IRMSSTD =            0.0304385 / Spectrophoto RMS for std stars in I-band       \n",
       "GROFFSTD=          -0.00419044 / Spectrophoto offset for std stars in (GR)      \n",
       "GRRMSSTD=            0.0285758 / Spectrophoto RMS for std stars in (GR)         \n",
       "RIOFFSTD=           0.00775528 / Spectrophoto offset for std stars in (RI)      \n",
       "RIRMSSTD=            0.0198525 / Spectrophoto RMS for std stars in (RI)         \n",
       "LOWREJ  =                    5 / Extraction: low rejection                      \n",
       "HIGHREJ =                    8 / Extraction: high rejection                     \n",
       "SCATPOLY=                    0 / Extraction: Order of scattered light polynomial\n",
       "PROFTYPE=                    3 / Extraction profile: 1=Gaussian                 \n",
       "NFITPOLY=                    1 / Extraction: Number of parameters in each profil\n",
       "XCHI2   =              1.84825 / Extraction: Mean chi^2                         \n",
       "XCHI2MIN=              1.40619 /                                                \n",
       "XCHI2MAX=              2.61582 /                                                \n",
       "SHIFTGUE=   -0.000812781513105 /                                                \n",
       "SHIFT   =        1.28349789259 /Angstroms, at 4000AA                            \n",
       "SHIFTERR=       0.187044447930 /                                                \n",
       "NWORDER =                    2 / Linear-log10 coefficients                      \n",
       "WFITTYPE= 'LOG-LINEAR'         / Linear-log10 dispersion                        \n",
       "COEFF0  =        3.57990000000 / Central wavelength (log10) of first pixel      \n",
       "COEFF1  =    0.000100000000000 / Log10 dispersion per pixel                     \n",
       "FBADPIX =            0.0376438 / Fraction of bad pixels                         \n",
       "FBADPIX1=            0.0475146 / Fraction of bad pixels on spectro-1            \n",
       "FBADPIX2=            0.0278038 / Fraction of bad pixels on spectro-2            \n",
       "WAT0_001= 'system=linear'      /                                                \n",
       "WAT1_001= 'wtype=linear label=Wavelength units=Angstroms' /                     \n",
       "DC-FLAG =                    1 / Log-linear flag                                \n",
       "BUNIT   = '1E-17 erg/cm^2/s/Ang' /                                              \n",
       "PLUG_RA =            351.49049 / RA of object [deg]                             \n",
       "PLUG_DEC=            49.359147 / dec of object [deg]                            \n",
       "SPEC_ID = '   2125793361582385152' / Unique object identifier                   \n",
       "FIBERID =                  343 / Fiber number (1-640)                           \n",
       "NEXP    =                    6 / Number of individual exposures                 \n",
       "EXPID01 = 'b2-00028249-00028247-00028248'                                       \n",
       "EXPID02 = 'b2-00028250-00028247-00028248'                                       \n",
       "EXPID03 = 'b2-00028251-00028247-00028248'                                       \n",
       "EXPID04 = 'r2-00028249-00028247-00028248'                                       \n",
       "EXPID05 = 'r2-00028250-00028247-00028248'                                       \n",
       "EXPID06 = 'r2-00028251-00028247-00028248'                                       "
      ]
     },
     "execution_count": 23,
     "metadata": {},
     "output_type": "execute_result"
    }
   ],
   "source": [
    "tmp_spec[0].header"
   ]
  },
  {
   "cell_type": "code",
   "execution_count": 29,
   "metadata": {
    "collapsed": false
   },
   "outputs": [
    {
     "data": {
      "text/plain": [
       "XTENSION= 'BINTABLE'           / binary table extension                         \n",
       "BITPIX  =                    8 / array data type                                \n",
       "NAXIS   =                    2 / number of array dimensions                     \n",
       "NAXIS1  =                   32 / length of dimension 1                          \n",
       "NAXIS2  =                 3835 / length of dimension 2                          \n",
       "PCOUNT  =                    0 / number of group parameters                     \n",
       "GCOUNT  =                    1 / number of groups                               \n",
       "TFIELDS =                    8 / number of table fields                         \n",
       "TTYPE1  = 'flux    '                                                            \n",
       "TFORM1  = 'E       '                                                            \n",
       "TTYPE2  = 'loglam  '                                                            \n",
       "TFORM2  = 'E       '                                                            \n",
       "TTYPE3  = 'ivar    '                                                            \n",
       "TFORM3  = 'E       '                                                            \n",
       "TTYPE4  = 'and_mask'                                                            \n",
       "TFORM4  = 'J       '                                                            \n",
       "TTYPE5  = 'or_mask '                                                            \n",
       "TFORM5  = 'J       '                                                            \n",
       "TTYPE6  = 'wdisp   '                                                            \n",
       "TFORM6  = 'E       '                                                            \n",
       "TTYPE7  = 'sky     '                                                            \n",
       "TFORM7  = 'E       '                                                            \n",
       "TTYPE8  = 'model   '                                                            \n",
       "TFORM8  = 'E       '                                                            \n",
       "EXTNAME = 'COADD   '                                                            \n",
       "COMMENT Coadded spectrum                                                        "
      ]
     },
     "execution_count": 29,
     "metadata": {},
     "output_type": "execute_result"
    }
   ],
   "source": [
    "tmp_spec[1].header"
   ]
  },
  {
   "cell_type": "code",
   "execution_count": 55,
   "metadata": {
    "collapsed": false
   },
   "outputs": [
    {
     "data": {
      "image/png": "[encoded data removed]",
      "text/plain": [
       "<matplotlib.figure.Figure at 0x7f78cc5eb748>"
      ]
     },
     "metadata": {},
     "output_type": "display_data"
    }
   ],
   "source": [
    "# use .columns to see the different types of columns\n",
    "# print(tmp_spec[1].data.columns)\n",
    "\n",
    "wavelength = 10**tmp_spec[1].data['loglam']\n",
    "flux = tmp_spec[1].data['flux']\n",
    "\n",
    "fig, ax = plt.subplots(1, 2, figsize=(12,4))\n",
    "\n",
    "ax[0].plot(wavelength, flux)\n",
    "\n",
    "ax[1].plot(wavelength, flux)\n",
    "ax[1].set_xlim(3800, 4400)\n",
    "\n",
    "plt.show()"
   ]
  },
  {
   "cell_type": "code",
   "execution_count": null,
   "metadata": {
    "collapsed": true
   },
   "outputs": [],
   "source": []
  }
 ],
 "metadata": {
  "anaconda-cloud": {},
  "kernelspec": {
   "display_name": "Python [conda env:astroconda]",
   "language": "python",
   "name": "conda-env-astroconda-py"
  },
  "language_info": {
   "codemirror_mode": {
    "name": "ipython",
    "version": 2
   },
   "file_extension": ".py",
   "mimetype": "text/x-python",
   "name": "python",
   "nbconvert_exporter": "python",
   "pygments_lexer": "ipython2",
   "version": "2.7.12"
  }
 },
 "nbformat": 4,
 "nbformat_minor": 2
}
