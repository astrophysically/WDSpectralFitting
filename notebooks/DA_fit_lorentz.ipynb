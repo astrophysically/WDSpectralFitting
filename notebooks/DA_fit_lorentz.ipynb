{
 "cells": [
  {
   "cell_type": "code",
   "execution_count": 11,
   "metadata": {
    "collapsed": false
   },
   "outputs": [],
   "source": [
    "import glob\n",
    "import os\n",
    "import emcee\n",
    "#import triangle\n",
    "import time\n",
    "import numpy as np\n",
    "from astropy.io import fits\n",
    "from sklearn.decomposition import PCA\n",
    "from sklearn import svm\n",
    "from scipy.interpolate import interp1d\n",
    "from scipy import convolve\n",
    "from scipy import optimize as opt\n",
    "\n",
    "import matplotlib.pyplot as plt\n",
    "from pylab import *\n",
    "%matplotlib inline"
   ]
  },
  {
   "cell_type": "code",
   "execution_count": 12,
   "metadata": {
    "collapsed": false
   },
   "outputs": [
    {
     "ename": "error",
     "evalue": "[Errno 24] Too many open files",
     "output_type": "error",
     "traceback": [
      "\u001b[0;31m---------------------------------------------------------------------------\u001b[0m",
      "\u001b[0;31merror\u001b[0m                                     Traceback (most recent call last)",
      "\u001b[0;32m<ipython-input-12-fe454f600e4b>\u001b[0m in \u001b[0;36m<module>\u001b[0;34m()\u001b[0m\n\u001b[1;32m     13\u001b[0m     \u001b[0mdata\u001b[0m \u001b[0;34m=\u001b[0m \u001b[0mfits\u001b[0m\u001b[0;34m.\u001b[0m\u001b[0mgetdata\u001b[0m\u001b[0;34m(\u001b[0m\u001b[0mfilename\u001b[0m\u001b[0;34m,\u001b[0m \u001b[0;36m1\u001b[0m\u001b[0;34m)\u001b[0m\u001b[0;34m\u001b[0m\u001b[0m\n\u001b[1;32m     14\u001b[0m \u001b[0;34m\u001b[0m\u001b[0m\n\u001b[0;32m---> 15\u001b[0;31m     \u001b[0mtemp\u001b[0m \u001b[0;34m=\u001b[0m \u001b[0mfits\u001b[0m\u001b[0;34m.\u001b[0m\u001b[0mgetdata\u001b[0m\u001b[0;34m(\u001b[0m\u001b[0mfilename\u001b[0m\u001b[0;34m,\u001b[0m \u001b[0;36m2\u001b[0m\u001b[0;34m)\u001b[0m\u001b[0;34m\u001b[0m\u001b[0m\n\u001b[0m\u001b[1;32m     16\u001b[0m     \u001b[0mSN_array\u001b[0m \u001b[0;34m=\u001b[0m \u001b[0mnp\u001b[0m\u001b[0;34m.\u001b[0m\u001b[0mappend\u001b[0m\u001b[0;34m(\u001b[0m\u001b[0mSN_array\u001b[0m\u001b[0;34m,\u001b[0m \u001b[0mtemp\u001b[0m\u001b[0;34m[\u001b[0m\u001b[0;34m\"SN_MEDIAN_ALL\"\u001b[0m\u001b[0;34m]\u001b[0m\u001b[0;34m)\u001b[0m\u001b[0;34m\u001b[0m\u001b[0m\n\u001b[1;32m     17\u001b[0m \u001b[0;34m\u001b[0m\u001b[0m\n",
      "\u001b[0;32m//anaconda/envs/py27/lib/python2.7/site-packages/astropy/io/fits/convenience.pyc\u001b[0m in \u001b[0;36mgetdata\u001b[0;34m(filename, *args, **kwargs)\u001b[0m\n\u001b[1;32m    194\u001b[0m     \u001b[0;32mtry\u001b[0m\u001b[0;34m:\u001b[0m\u001b[0;34m\u001b[0m\u001b[0m\n\u001b[1;32m    195\u001b[0m         \u001b[0mhdu\u001b[0m \u001b[0;34m=\u001b[0m \u001b[0mhdulist\u001b[0m\u001b[0;34m[\u001b[0m\u001b[0mextidx\u001b[0m\u001b[0;34m]\u001b[0m\u001b[0;34m\u001b[0m\u001b[0m\n\u001b[0;32m--> 196\u001b[0;31m         \u001b[0mdata\u001b[0m \u001b[0;34m=\u001b[0m \u001b[0mhdu\u001b[0m\u001b[0;34m.\u001b[0m\u001b[0mdata\u001b[0m\u001b[0;34m\u001b[0m\u001b[0m\n\u001b[0m\u001b[1;32m    197\u001b[0m         \u001b[0;32mif\u001b[0m \u001b[0mdata\u001b[0m \u001b[0;32mis\u001b[0m \u001b[0mNone\u001b[0m \u001b[0;32mand\u001b[0m \u001b[0mextidx\u001b[0m \u001b[0;34m==\u001b[0m \u001b[0;36m0\u001b[0m\u001b[0;34m:\u001b[0m\u001b[0;34m\u001b[0m\u001b[0m\n\u001b[1;32m    198\u001b[0m             \u001b[0;32mtry\u001b[0m\u001b[0;34m:\u001b[0m\u001b[0;34m\u001b[0m\u001b[0m\n",
      "\u001b[0;32m//anaconda/envs/py27/lib/python2.7/site-packages/astropy/utils/decorators.pyc\u001b[0m in \u001b[0;36m__get__\u001b[0;34m(self, obj, owner)\u001b[0m\n\u001b[1;32m    496\u001b[0m             \u001b[0;32mreturn\u001b[0m \u001b[0mobj\u001b[0m\u001b[0;34m.\u001b[0m\u001b[0m__dict__\u001b[0m\u001b[0;34m[\u001b[0m\u001b[0mself\u001b[0m\u001b[0;34m.\u001b[0m\u001b[0m_key\u001b[0m\u001b[0;34m]\u001b[0m\u001b[0;34m\u001b[0m\u001b[0m\n\u001b[1;32m    497\u001b[0m         \u001b[0;32mexcept\u001b[0m \u001b[0mKeyError\u001b[0m\u001b[0;34m:\u001b[0m\u001b[0;34m\u001b[0m\u001b[0m\n\u001b[0;32m--> 498\u001b[0;31m             \u001b[0mval\u001b[0m \u001b[0;34m=\u001b[0m \u001b[0mself\u001b[0m\u001b[0;34m.\u001b[0m\u001b[0mfget\u001b[0m\u001b[0;34m(\u001b[0m\u001b[0mobj\u001b[0m\u001b[0;34m)\u001b[0m\u001b[0;34m\u001b[0m\u001b[0m\n\u001b[0m\u001b[1;32m    499\u001b[0m             \u001b[0mobj\u001b[0m\u001b[0;34m.\u001b[0m\u001b[0m__dict__\u001b[0m\u001b[0;34m[\u001b[0m\u001b[0mself\u001b[0m\u001b[0;34m.\u001b[0m\u001b[0m_key\u001b[0m\u001b[0;34m]\u001b[0m \u001b[0;34m=\u001b[0m \u001b[0mval\u001b[0m\u001b[0;34m\u001b[0m\u001b[0m\n\u001b[1;32m    500\u001b[0m             \u001b[0;32mreturn\u001b[0m \u001b[0mval\u001b[0m\u001b[0;34m\u001b[0m\u001b[0m\n",
      "\u001b[0;32m//anaconda/envs/py27/lib/python2.7/site-packages/astropy/io/fits/hdu/table.pyc\u001b[0m in \u001b[0;36mdata\u001b[0;34m(self)\u001b[0m\n\u001b[1;32m    402\u001b[0m     \u001b[0;34m@\u001b[0m\u001b[0mlazyproperty\u001b[0m\u001b[0;34m\u001b[0m\u001b[0m\n\u001b[1;32m    403\u001b[0m     \u001b[0;32mdef\u001b[0m \u001b[0mdata\u001b[0m\u001b[0;34m(\u001b[0m\u001b[0mself\u001b[0m\u001b[0;34m)\u001b[0m\u001b[0;34m:\u001b[0m\u001b[0;34m\u001b[0m\u001b[0m\n\u001b[0;32m--> 404\u001b[0;31m         \u001b[0mdata\u001b[0m \u001b[0;34m=\u001b[0m \u001b[0mself\u001b[0m\u001b[0;34m.\u001b[0m\u001b[0m_get_tbdata\u001b[0m\u001b[0;34m(\u001b[0m\u001b[0;34m)\u001b[0m\u001b[0;34m\u001b[0m\u001b[0m\n\u001b[0m\u001b[1;32m    405\u001b[0m         \u001b[0mdata\u001b[0m\u001b[0;34m.\u001b[0m\u001b[0m_coldefs\u001b[0m \u001b[0;34m=\u001b[0m \u001b[0mself\u001b[0m\u001b[0;34m.\u001b[0m\u001b[0mcolumns\u001b[0m\u001b[0;34m\u001b[0m\u001b[0m\n\u001b[1;32m    406\u001b[0m         \u001b[0;31m# Columns should now just return a reference to the data._coldefs\u001b[0m\u001b[0;34m\u001b[0m\u001b[0;34m\u001b[0m\u001b[0m\n",
      "\u001b[0;32m//anaconda/envs/py27/lib/python2.7/site-packages/astropy/io/fits/hdu/table.pyc\u001b[0m in \u001b[0;36m_get_tbdata\u001b[0;34m(self)\u001b[0m\n\u001b[1;32m    169\u001b[0m         \u001b[0;32melse\u001b[0m\u001b[0;34m:\u001b[0m\u001b[0;34m\u001b[0m\u001b[0m\n\u001b[1;32m    170\u001b[0m             raw_data = self._get_raw_data(self._nrows, columns.dtype,\n\u001b[0;32m--> 171\u001b[0;31m                                           self._data_offset)\n\u001b[0m\u001b[1;32m    172\u001b[0m             \u001b[0;32mif\u001b[0m \u001b[0mraw_data\u001b[0m \u001b[0;32mis\u001b[0m \u001b[0mNone\u001b[0m\u001b[0;34m:\u001b[0m\u001b[0;34m\u001b[0m\u001b[0m\n\u001b[1;32m    173\u001b[0m                 \u001b[0;31m# This can happen when a brand new table HDU is being created\u001b[0m\u001b[0;34m\u001b[0m\u001b[0;34m\u001b[0m\u001b[0m\n",
      "\u001b[0;32m//anaconda/envs/py27/lib/python2.7/site-packages/astropy/io/fits/hdu/base.pyc\u001b[0m in \u001b[0;36m_get_raw_data\u001b[0;34m(self, shape, code, offset)\u001b[0m\n\u001b[1;32m    566\u001b[0m                               offset=offset)\n\u001b[1;32m    567\u001b[0m         \u001b[0;32melif\u001b[0m \u001b[0mself\u001b[0m\u001b[0;34m.\u001b[0m\u001b[0m_file\u001b[0m\u001b[0;34m:\u001b[0m\u001b[0;34m\u001b[0m\u001b[0m\n\u001b[0;32m--> 568\u001b[0;31m             \u001b[0;32mreturn\u001b[0m \u001b[0mself\u001b[0m\u001b[0;34m.\u001b[0m\u001b[0m_file\u001b[0m\u001b[0;34m.\u001b[0m\u001b[0mreadarray\u001b[0m\u001b[0;34m(\u001b[0m\u001b[0moffset\u001b[0m\u001b[0;34m=\u001b[0m\u001b[0moffset\u001b[0m\u001b[0;34m,\u001b[0m \u001b[0mdtype\u001b[0m\u001b[0;34m=\u001b[0m\u001b[0mcode\u001b[0m\u001b[0;34m,\u001b[0m \u001b[0mshape\u001b[0m\u001b[0;34m=\u001b[0m\u001b[0mshape\u001b[0m\u001b[0;34m)\u001b[0m\u001b[0;34m\u001b[0m\u001b[0m\n\u001b[0m\u001b[1;32m    569\u001b[0m         \u001b[0;32melse\u001b[0m\u001b[0;34m:\u001b[0m\u001b[0;34m\u001b[0m\u001b[0m\n\u001b[1;32m    570\u001b[0m             \u001b[0;32mreturn\u001b[0m \u001b[0mNone\u001b[0m\u001b[0;34m\u001b[0m\u001b[0m\n",
      "\u001b[0;32m//anaconda/envs/py27/lib/python2.7/site-packages/astropy/io/fits/file.pyc\u001b[0m in \u001b[0;36mreadarray\u001b[0;34m(self, size, offset, dtype, shape)\u001b[0m\n\u001b[1;32m    266\u001b[0m                 memmap = Memmap(self._file,\n\u001b[1;32m    267\u001b[0m                                 \u001b[0mmode\u001b[0m\u001b[0;34m=\u001b[0m\u001b[0mMEMMAP_MODES\u001b[0m\u001b[0;34m[\u001b[0m\u001b[0mself\u001b[0m\u001b[0;34m.\u001b[0m\u001b[0mmode\u001b[0m\u001b[0;34m]\u001b[0m\u001b[0;34m,\u001b[0m\u001b[0;34m\u001b[0m\u001b[0m\n\u001b[0;32m--> 268\u001b[0;31m                                 dtype=np.uint8)\n\u001b[0m\u001b[1;32m    269\u001b[0m \u001b[0;34m\u001b[0m\u001b[0m\n\u001b[1;32m    270\u001b[0m                 \u001b[0;31m# Now we immediately discard the memmap array; we are really\u001b[0m\u001b[0;34m\u001b[0m\u001b[0;34m\u001b[0m\u001b[0m\n",
      "\u001b[0;32m//anaconda/envs/py27/lib/python2.7/site-packages/numpy/core/memmap.pyc\u001b[0m in \u001b[0;36m__new__\u001b[0;34m(subtype, filename, dtype, mode, offset, shape, order)\u001b[0m\n\u001b[1;32m    258\u001b[0m         \u001b[0mbytes\u001b[0m \u001b[0;34m-=\u001b[0m \u001b[0mstart\u001b[0m\u001b[0;34m\u001b[0m\u001b[0m\n\u001b[1;32m    259\u001b[0m         \u001b[0moffset\u001b[0m \u001b[0;34m-=\u001b[0m \u001b[0mstart\u001b[0m\u001b[0;34m\u001b[0m\u001b[0m\n\u001b[0;32m--> 260\u001b[0;31m         \u001b[0mmm\u001b[0m \u001b[0;34m=\u001b[0m \u001b[0mmmap\u001b[0m\u001b[0;34m.\u001b[0m\u001b[0mmmap\u001b[0m\u001b[0;34m(\u001b[0m\u001b[0mfid\u001b[0m\u001b[0;34m.\u001b[0m\u001b[0mfileno\u001b[0m\u001b[0;34m(\u001b[0m\u001b[0;34m)\u001b[0m\u001b[0;34m,\u001b[0m \u001b[0mbytes\u001b[0m\u001b[0;34m,\u001b[0m \u001b[0maccess\u001b[0m\u001b[0;34m=\u001b[0m\u001b[0macc\u001b[0m\u001b[0;34m,\u001b[0m \u001b[0moffset\u001b[0m\u001b[0;34m=\u001b[0m\u001b[0mstart\u001b[0m\u001b[0;34m)\u001b[0m\u001b[0;34m\u001b[0m\u001b[0m\n\u001b[0m\u001b[1;32m    261\u001b[0m \u001b[0;34m\u001b[0m\u001b[0m\n\u001b[1;32m    262\u001b[0m         self = ndarray.__new__(subtype, shape, dtype=descr, buffer=mm,\n",
      "\u001b[0;31merror\u001b[0m: [Errno 24] Too many open files"
     ]
    }
   ],
   "source": [
    "# HDU_list = fits.open(\"spectra/spec-0387-51791-0005.fits\")\n",
    "\n",
    "\n",
    "all_flux = []\n",
    "all_lambda = []\n",
    "SN_array = np.array([])\n",
    "ra_array = []\n",
    "dec_array = []\n",
    "\n",
    "directory = '/Users/MichaelFoley/WDSpectralFitting/notebooks/data/test/'\n",
    "# Kleinman DA Spectra\n",
    "for filename in glob.glob(directory+\"*.fits\"):\n",
    "    data = fits.getdata(filename, 1)\n",
    "    \n",
    "    temp = fits.getdata(filename, 2)\n",
    "    SN_array = np.append(SN_array, temp[\"SN_MEDIAN_ALL\"])\n",
    "    \n",
    "    all_flux.append(data['flux'])\n",
    "    all_lambda.append(10 ** data['loglam'])\n",
    "    ra_array = np.append(ra_array, temp['PLUG_RA'])\n",
    "    dec_array = np.append(dec_array, temp['PLUG_DEC'])\n",
    "\n",
    "\n",
    "# Load Kleinman spectra\n",
    "datafile = os.path.abspath(\"./kleinman_masses.dat\")\n",
    "names = [\"RA\",\"Dec\",\"M_wd\",\"M_wd_err\"]\n",
    "kleinman_masses = np.genfromtxt(datafile, dtype=None, usecols=range(len(names)), names=names)\n",
    "    \n",
    "\n",
    "# ELM Spectra\n",
    "for filename in glob.glob(\"spectra_ELM/*.fits\"):\n",
    "    data = fits.getdata(filename, 1)\n",
    "    \n",
    "    temp = fits.getdata(filename, 2)\n",
    "    SN_array = np.append(SN_array, temp[\"SN_MEDIAN_ALL\"])\n",
    "    \n",
    "    all_flux.append(data['flux'])\n",
    "    all_lambda.append(10 ** data['loglam'])\n",
    "    ra_array = np.append(ra_array, temp['PLUG_RA'])\n",
    "    dec_array = np.append(dec_array, temp['PLUG_DEC'])\n",
    "\n",
    "    \n",
    "\n",
    "#    break\n",
    "    "
   ]
  },
  {
   "cell_type": "code",
   "execution_count": 4,
   "metadata": {
    "collapsed": false
   },
   "outputs": [
    {
     "data": {
      "image/png": "[encoded data removed]",
      "text/plain": [
       "<matplotlib.figure.Figure at 0x10b075b10>"
      ]
     },
     "metadata": {},
     "output_type": "display_data"
    },
    {
     "name": "stdout",
     "output_type": "stream",
     "text": [
      "139.99489 47.094364\n"
     ]
    }
   ],
   "source": [
    "# Check a spectrum to make sure everything looks good\n",
    "plt.plot(all_lambda[3],all_flux[3])\n",
    "plt.show()\n",
    "\n",
    "print ra_array[3], dec_array[3]\n",
    "\n"
   ]
  },
  {
   "cell_type": "code",
   "execution_count": 5,
   "metadata": {
    "collapsed": false
   },
   "outputs": [
    {
     "name": "stdout",
     "output_type": "stream",
     "text": [
      "1\n"
     ]
    }
   ],
   "source": [
    "# Let's find the highest S/N spectrum\n",
    "\n",
    "index_best = np.argmax(SN_array)\n",
    "\n",
    "print index_best"
   ]
  },
  {
   "cell_type": "markdown",
   "metadata": {},
   "source": [
    "### Now let's see if we can fit the spectrum to a model with several components:"
   ]
  },
  {
   "cell_type": "markdown",
   "metadata": {},
   "source": [
    "\n",
    "1. T$_{\\rm eff}$\n",
    "2. Shift in $x$ to get the middle of the line profiles\n",
    "3. Scale parameter for each Balmer line\n",
    "4. Multiplicative factor for each Balmer line\n",
    "5. Overall scale factor to account for brightness of overall spectrum\n",
    "\n",
    "There are therefore 15 parameters overall. This is because we want to fit 6 hydrogen Balmer lines (H$\\alpha$ to H8), and each line has two parameters."
   ]
  },
  {
   "cell_type": "markdown",
   "metadata": {},
   "source": [
    "### Let's create our model"
   ]
  },
  {
   "cell_type": "code",
   "execution_count": 6,
   "metadata": {
    "collapsed": false
   },
   "outputs": [],
   "source": [
    "# Our model has a temperature effect, then absorption features on top of the model\n",
    "\n",
    "\n",
    "# Constants\n",
    "h_planck = 4.136e-15 # in eV*s \n",
    "c_light = 2.998e10   # in cgs\n",
    "k_boltz = 8.617e-5   # in eV/K\n",
    "\n",
    "\n",
    "# Balmer line centers (in cgs):\n",
    "lambda_balmer = 1.0e-8 * np.array([6563., 4861., 4341., 4102., 3970., 3889.])\n",
    "\n",
    "# Lorentz distribution:\n",
    "def lorentz(C_coeff, x_center, gamma, x):\n",
    "    return C_coeff / (np.pi * gamma * (1.0 + ((x-x_center)/gamma)**2))\n",
    "\n",
    "\n",
    "# Calculate model spectrum\n",
    "def get_model_flux(p, lamb):\n",
    "    balmer_C = np.zeros(6)\n",
    "#    balmer_gamma = np.zeros(6)\n",
    "\n",
    "    \n",
    "    A_coeff, l_shift, Teff, balmer_gamma, balmer_C_1, balmer_C_2, balmer_C_3,balmer_C_4, balmer_C_5, balmer_C_6 = p\n",
    "#    A_coeff, l_shift, Teff, balmer_gamma_1, balmer_gamma_2, balmer_gamma_3, balmer_gamma_4, balmer_gamma_5, balmer_gamma_6, balmer_C_1, balmer_C_2, balmer_C_3,balmer_C_4, balmer_C_5, balmer_C_6 = p\n",
    "#    balmer_gamma = np.array([balmer_gamma_1, balmer_gamma_2, balmer_gamma_3, balmer_gamma_4, balmer_gamma_5, balmer_gamma_6])\n",
    "    balmer_C = np.array([balmer_C_1, balmer_C_2, balmer_C_3, balmer_C_4, balmer_C_5, balmer_C_6])\n",
    "    \n",
    "    flux = np.array([])\n",
    "    \n",
    "    lamb_p = (lamb - l_shift) * 1.0e-8\n",
    "    flux = A_coeff * 2.0 * h_planck * c_light*c_light / (lamb_p*lamb_p*lamb_p*lamb_p*lamb_p) / (np.exp(h_planck * c_light / (k_boltz * Teff * lamb_p)) - 1.)\n",
    "\n",
    "    for i in np.arange(6):\n",
    "        flux = flux * (1.0 - 1.0e-8 * lorentz(balmer_C[i], lambda_balmer[i], balmer_gamma, lamb_p))\n",
    "\n",
    "    return flux\n",
    "\n",
    "\n",
    "# Likelihood function\n",
    "def ln_likelihood(p, lamb, flux, snr):\n",
    "    \n",
    "    model_flux = get_model_flux(p, lamb)\n",
    "      \n",
    "    # Standard deviation comes from the flux and S-N ratio\n",
    "#    sd = flux / snr\n",
    "    sd = 1.0 / snr\n",
    "        \n",
    "    diff = -(flux - model_flux)*(flux - model_flux) / (2.0 * sd*sd)\n",
    "    \n",
    "    return diff\n",
    "\n",
    "# Prior function\n",
    "def ln_prior(p):\n",
    "    balmer_C = np.zeros(6)\n",
    "#    balmer_gamma = np.zeros(6)\n",
    "    \n",
    "    A_coeff, l_shift, Teff, balmer_gamma, balmer_C_1, balmer_C_2, balmer_C_3,balmer_C_4, balmer_C_5, balmer_C_6 = p\n",
    "#    A_coeff, l_shift, Teff, balmer_gamma_1, balmer_gamma_2, balmer_gamma_3, balmer_gamma_4, balmer_gamma_5, balmer_gamma_6, balmer_C_1, balmer_C_2, balmer_C_3,balmer_C_4, balmer_C_5, balmer_C_6 = p\n",
    "#    balmer_gamma = np.array([balmer_gamma_1, balmer_gamma_2, balmer_gamma_3, balmer_gamma_4, balmer_gamma_5, balmer_gamma_6])\n",
    "    balmer_C = np.array([balmer_C_1, balmer_C_2, balmer_C_3, balmer_C_4, balmer_C_5, balmer_C_6])\n",
    "\n",
    "    \n",
    "    if np.any(balmer_C < 0.0):\n",
    "        return -np.inf\n",
    "    \n",
    "    # limits from expectation on Lorentz features\n",
    "    if balmer_gamma < 1.0e-8:\n",
    "#    if np.any(balmer_gamma < 1.0e-8):\n",
    "        return -np.inf\n",
    "    if balmer_gamma > 5.0e-6:\n",
    "#    if np.any(balmer_gamma > 5.0e-6):\n",
    "        return -np.inf\n",
    "    \n",
    "    return 0.0\n",
    "    \n",
    "\n",
    "# Posterior function calls the likelihood function\n",
    "def ln_posterior(p, lamb, flux, snr):\n",
    "    \n",
    "    lp = ln_prior(p)\n",
    "    ll = ln_likelihood(p, lamb, flux, snr)\n",
    "    \n",
    "    return -(lp + ll.sum())\n",
    "#    return lp + ll.sum()\n",
    "\n",
    "\n",
    "def ln_posterior_first(p, lamb, flux, snr):\n",
    "    p_first = np.zeros(10)\n",
    "    p_first[0] = p[0] # A_coeff\n",
    "    p_first[1] = 1.0 # l_shift\n",
    "    p_first[2] = p[1] # Teff\n",
    "    p_first[3] = 1.0e-7 # balmer_gamma(_1)\n",
    "#    p_first[4] = 1.0e-7 # balmer_gamma_2\n",
    "#    p_first[5] = 1.0e-7 # balmer_gamma_3\n",
    "#    p_first[6] = 1.0e-7 # balmer_gamma_4\n",
    "#    p_first[7] = 1.0e-7 # balmer_gamma_5\n",
    "#    p_first[8] = 1.0e-7 # balmer_gamma_6\n",
    "\n",
    "    \n",
    "    lp = ln_prior(p_first)\n",
    "    ll = ln_likelihood(p_first, lamb, flux, snr)\n",
    "    \n",
    "#    return -ll.sum()\n",
    "#    return lp + ll.sum()\n",
    "    return -(lp + ll.sum())"
   ]
  },
  {
   "cell_type": "markdown",
   "metadata": {},
   "source": [
    "### Model initial conditions"
   ]
  },
  {
   "cell_type": "code",
   "execution_count": 7,
   "metadata": {
    "collapsed": false
   },
   "outputs": [],
   "source": [
    "def run_first_inference(lamb, flux, snr, nwalkers=32, nburn=200, nsteps=1000):\n",
    "    \n",
    "    ndim = 2\n",
    "    \n",
    "    # Initial conditions for walkers\n",
    "    Teff = 10000.0   # initial T_eff = 10,000 K\n",
    "    A_coeff = 1.0e-26 # initial brightness coeff\n",
    "\n",
    "    p0 = np.zeros((nwalkers,ndim))\n",
    "    p0[:,0] = np.random.normal(A_coeff, 0.1*A_coeff, size=nwalkers)\n",
    "    p0[:,1] = np.random.normal(Teff, 0.1*Teff, size=nwalkers)\n",
    "\n",
    "    \n",
    "    args = (lamb, flux, snr)\n",
    "    sampler = emcee.EnsembleSampler(nwalkers=nwalkers, dim=ndim, lnpostfn=ln_posterior_first, args=args)\n",
    "\n",
    "    # burn-in\n",
    "    sampler.run_mcmc(p0, N=nburn)\n",
    "    pos,prob,state = sampler.run_mcmc(p0, N=nburn)\n",
    "\n",
    "    # throw out burn-in samples\n",
    "    sampler.reset() \n",
    "    pos,prob,state = sampler.run_mcmc(pos, N=nsteps)\n",
    "\n",
    "    return sampler\n",
    "\n"
   ]
  },
  {
   "cell_type": "code",
   "execution_count": 8,
   "metadata": {
    "collapsed": false
   },
   "outputs": [],
   "source": [
    "def run_inference(p, lamb, flux, snr, nwalkers=32, nburn=200, nsteps=1000):\n",
    "\n",
    "    n_lines = 6\n",
    "#    ndim = 5\n",
    "#    ndim = 2*n_lines+3\n",
    "    ndim = n_lines+4 \n",
    "            \n",
    "    # Initial conditions for walkers\n",
    "    Teff = p[1]   # initial T_eff = 10,000 K\n",
    "    l_shift = 1.0    # initial wavelength shift\n",
    "    A_coeff = p[0] # initial brightness coeff\n",
    "    balmer_gamma = 2.0e-7 # Balmer line scaling factor\n",
    "#    balmer_gamma = 2.0e-7 * np.ones(n_lines) # Balmer line scaling factor\n",
    "    balmer_C = 30.0 * np.ones(n_lines)  # Individual Balmer line strengths\n",
    "\n",
    "    p_i = np.array([A_coeff, l_shift, Teff])\n",
    "    p_i = np.append(p_i,balmer_gamma)\n",
    "    p_i = np.append(p_i,balmer_C)\n",
    "    \n",
    "    p0 = np.zeros((nwalkers,ndim))\n",
    "    for i in np.arange(ndim):\n",
    "        p0[:,i] = np.random.normal(p_i[i], 0.1*p_i[i], size=nwalkers)\n",
    "\n",
    "        \n",
    "        \n",
    "    args = (lamb, flux, snr)\n",
    "    sampler = emcee.EnsembleSampler(nwalkers=nwalkers, dim=ndim, lnpostfn=ln_posterior, args=args)\n",
    "\n",
    "    \n",
    "    # burn-in\n",
    "    sampler.run_mcmc(p0, N=nburn)\n",
    "    pos,prob,state = sampler.run_mcmc(p0, N=nburn)\n",
    "\n",
    "    # throw out burn-in samples\n",
    "    sampler.reset() \n",
    "    pos,prob,state = sampler.run_mcmc(pos, N=nsteps)\n",
    "\n",
    "    return sampler\n",
    "    \n"
   ]
  },
  {
   "cell_type": "code",
   "execution_count": null,
   "metadata": {
    "collapsed": false
   },
   "outputs": [],
   "source": []
  },
  {
   "cell_type": "code",
   "execution_count": 9,
   "metadata": {
    "collapsed": false
   },
   "outputs": [
    {
     "name": "stdout",
     "output_type": "stream",
     "text": [
      "Elapsed time =  1.2760720253\n"
     ]
    }
   ],
   "source": [
    "start_time = time.time()\n",
    "\n",
    "classify_t_eff = np.array([])\n",
    "classify_gamma = np.array([])\n",
    "classify_C1 = np.array([])\n",
    "classify_C2 = np.array([])\n",
    "classify_C3 = np.array([])\n",
    "classify_C4 = np.array([])\n",
    "classify_C5 = np.array([])\n",
    "classify_C6 = np.array([])\n",
    "classify_mass = np.array([])\n",
    "classify_mass_err = np.array([])\n",
    "classify_snr = np.array([])\n",
    "\n",
    "\n",
    "for index in np.arange(len(all_lambda)):\n",
    "\n",
    "    lamb_temp1 = all_lambda[index][all_lambda[index]<7000.0]\n",
    "    flux_temp1 = all_flux[index][all_lambda[index]<7000.0]\n",
    "    lamb_temp2 = lamb_temp1[lamb_temp1>3865.0]\n",
    "    flux_temp2 = flux_temp1[lamb_temp1>3865.0]\n",
    "\n",
    "    lamb = lamb_temp2[np.where(flux_temp2>0)]\n",
    "    flux = flux_temp2[np.where(flux_temp2>0)]\n",
    "\n",
    "    snr = SN_array[index]    \n",
    "\n",
    "    # Initial guess\n",
    "    Teff = 10000.0   # initial T_eff = 10,000 K\n",
    "    A_coeff = 1.0e-26 # initial brightness coeff\n",
    "    p0 = np.array([A_coeff, Teff])\n",
    "    res0 = opt.minimize(ln_posterior_first, p0, args=(lamb, flux, snr), method='Nelder-Mead', tol=1.0e-2)\n",
    "        \n",
    "    p = np.array([res0.x[0], 1.0, res0.x[1], 2.0e-7])\n",
    "    balmer_C = 30.0 * np.ones(6)    \n",
    "    p = np.append(p, balmer_C)\n",
    "    \n",
    "    res = opt.minimize(ln_posterior, p, args=(lamb, flux, snr), method='Nelder-Mead', tol=1.0)\n",
    "    p_out = res.x\n",
    "    \n",
    "    \n",
    "    for i in np.arange(len(kleinman_masses)):\n",
    "        if abs(kleinman_masses[\"RA\"][i] - ra_array[index]) < 0.01 and abs(kleinman_masses[\"Dec\"][i] - dec_array[index]) < 0.01:\n",
    "            print index, kleinman_masses[\"M_wd\"][i]\n",
    "            \n",
    "            classify_t_eff = np.append(classify_t_eff, p_out[2])\n",
    "            classify_gamma = np.append(classify_gamma, p_out[3])\n",
    "            classify_C1 = np.append(classify_C1, p_out[4])\n",
    "            classify_C2 = np.append(classify_C2, p_out[5])\n",
    "            classify_C3 = np.append(classify_C3, p_out[6])\n",
    "            classify_C4 = np.append(classify_C4, p_out[7])\n",
    "            classify_C5 = np.append(classify_C5, p_out[8])\n",
    "            classify_C6 = np.append(classify_C6, p_out[9])\n",
    "            classify_snr = np.append(classify_snr, snr)\n",
    "            \n",
    "            classify_mass = np.append(classify_mass, kleinman_masses[\"M_wd\"][i])\n",
    "            classify_mass_err = np.append(classify_mass_err, kleinman_masses[\"M_wd_err\"][i])        \n",
    "\n",
    "            \n",
    "print \"Elapsed time = \", time.time() - start_time"
   ]
  },
  {
   "cell_type": "code",
   "execution_count": 10,
   "metadata": {
    "collapsed": false
   },
   "outputs": [
    {
     "ename": "ValueError",
     "evalue": "Found array with 0 sample(s) (shape=(0, 8)) while a minimum of 1 is required.",
     "output_type": "error",
     "traceback": [
      "\u001b[0;31m---------------------------------------------------------------------------\u001b[0m",
      "\u001b[0;31mValueError\u001b[0m                                Traceback (most recent call last)",
      "\u001b[0;32m<ipython-input-10-38c0ec98ced7>\u001b[0m in \u001b[0;36m<module>\u001b[0;34m()\u001b[0m\n\u001b[1;32m     16\u001b[0m \u001b[0;34m\u001b[0m\u001b[0m\n\u001b[1;32m     17\u001b[0m \u001b[0mclf\u001b[0m \u001b[0;34m=\u001b[0m \u001b[0msvm\u001b[0m\u001b[0;34m.\u001b[0m\u001b[0mSVC\u001b[0m\u001b[0;34m(\u001b[0m\u001b[0;34m)\u001b[0m\u001b[0;34m\u001b[0m\u001b[0m\n\u001b[0;32m---> 18\u001b[0;31m \u001b[0mclf\u001b[0m\u001b[0;34m.\u001b[0m\u001b[0mfit\u001b[0m\u001b[0;34m(\u001b[0m\u001b[0mparams\u001b[0m\u001b[0;34m,\u001b[0m \u001b[0mtypes\u001b[0m\u001b[0;34m)\u001b[0m\u001b[0;34m\u001b[0m\u001b[0m\n\u001b[0m",
      "\u001b[0;32m//anaconda/envs/py27/lib/python2.7/site-packages/sklearn/svm/base.pyc\u001b[0m in \u001b[0;36mfit\u001b[0;34m(self, X, y, sample_weight)\u001b[0m\n\u001b[1;32m    149\u001b[0m         \u001b[0mself\u001b[0m\u001b[0;34m.\u001b[0m\u001b[0m_sparse\u001b[0m \u001b[0;34m=\u001b[0m \u001b[0msparse\u001b[0m \u001b[0;32mand\u001b[0m \u001b[0;32mnot\u001b[0m \u001b[0mcallable\u001b[0m\u001b[0;34m(\u001b[0m\u001b[0mself\u001b[0m\u001b[0;34m.\u001b[0m\u001b[0mkernel\u001b[0m\u001b[0;34m)\u001b[0m\u001b[0;34m\u001b[0m\u001b[0m\n\u001b[1;32m    150\u001b[0m \u001b[0;34m\u001b[0m\u001b[0m\n\u001b[0;32m--> 151\u001b[0;31m         \u001b[0mX\u001b[0m\u001b[0;34m,\u001b[0m \u001b[0my\u001b[0m \u001b[0;34m=\u001b[0m \u001b[0mcheck_X_y\u001b[0m\u001b[0;34m(\u001b[0m\u001b[0mX\u001b[0m\u001b[0;34m,\u001b[0m \u001b[0my\u001b[0m\u001b[0;34m,\u001b[0m \u001b[0mdtype\u001b[0m\u001b[0;34m=\u001b[0m\u001b[0mnp\u001b[0m\u001b[0;34m.\u001b[0m\u001b[0mfloat64\u001b[0m\u001b[0;34m,\u001b[0m \u001b[0morder\u001b[0m\u001b[0;34m=\u001b[0m\u001b[0;34m'C'\u001b[0m\u001b[0;34m,\u001b[0m \u001b[0maccept_sparse\u001b[0m\u001b[0;34m=\u001b[0m\u001b[0;34m'csr'\u001b[0m\u001b[0;34m)\u001b[0m\u001b[0;34m\u001b[0m\u001b[0m\n\u001b[0m\u001b[1;32m    152\u001b[0m         \u001b[0my\u001b[0m \u001b[0;34m=\u001b[0m \u001b[0mself\u001b[0m\u001b[0;34m.\u001b[0m\u001b[0m_validate_targets\u001b[0m\u001b[0;34m(\u001b[0m\u001b[0my\u001b[0m\u001b[0;34m)\u001b[0m\u001b[0;34m\u001b[0m\u001b[0m\n\u001b[1;32m    153\u001b[0m \u001b[0;34m\u001b[0m\u001b[0m\n",
      "\u001b[0;32m//anaconda/envs/py27/lib/python2.7/site-packages/sklearn/utils/validation.pyc\u001b[0m in \u001b[0;36mcheck_X_y\u001b[0;34m(X, y, accept_sparse, dtype, order, copy, force_all_finite, ensure_2d, allow_nd, multi_output, ensure_min_samples, ensure_min_features, y_numeric, warn_on_dtype, estimator)\u001b[0m\n\u001b[1;32m    519\u001b[0m     X = check_array(X, accept_sparse, dtype, order, copy, force_all_finite,\n\u001b[1;32m    520\u001b[0m                     \u001b[0mensure_2d\u001b[0m\u001b[0;34m,\u001b[0m \u001b[0mallow_nd\u001b[0m\u001b[0;34m,\u001b[0m \u001b[0mensure_min_samples\u001b[0m\u001b[0;34m,\u001b[0m\u001b[0;34m\u001b[0m\u001b[0m\n\u001b[0;32m--> 521\u001b[0;31m                     ensure_min_features, warn_on_dtype, estimator)\n\u001b[0m\u001b[1;32m    522\u001b[0m     \u001b[0;32mif\u001b[0m \u001b[0mmulti_output\u001b[0m\u001b[0;34m:\u001b[0m\u001b[0;34m\u001b[0m\u001b[0m\n\u001b[1;32m    523\u001b[0m         y = check_array(y, 'csr', force_all_finite=True, ensure_2d=False,\n",
      "\u001b[0;32m//anaconda/envs/py27/lib/python2.7/site-packages/sklearn/utils/validation.pyc\u001b[0m in \u001b[0;36mcheck_array\u001b[0;34m(array, accept_sparse, dtype, order, copy, force_all_finite, ensure_2d, allow_nd, ensure_min_samples, ensure_min_features, warn_on_dtype, estimator)\u001b[0m\n\u001b[1;32m    414\u001b[0m                              \u001b[0;34m\" minimum of %d is required%s.\"\u001b[0m\u001b[0;34m\u001b[0m\u001b[0m\n\u001b[1;32m    415\u001b[0m                              % (n_samples, shape_repr, ensure_min_samples,\n\u001b[0;32m--> 416\u001b[0;31m                                 context))\n\u001b[0m\u001b[1;32m    417\u001b[0m \u001b[0;34m\u001b[0m\u001b[0m\n\u001b[1;32m    418\u001b[0m     \u001b[0;32mif\u001b[0m \u001b[0mensure_min_features\u001b[0m \u001b[0;34m>\u001b[0m \u001b[0;36m0\u001b[0m \u001b[0;32mand\u001b[0m \u001b[0marray\u001b[0m\u001b[0;34m.\u001b[0m\u001b[0mndim\u001b[0m \u001b[0;34m==\u001b[0m \u001b[0;36m2\u001b[0m\u001b[0;34m:\u001b[0m\u001b[0;34m\u001b[0m\u001b[0m\n",
      "\u001b[0;31mValueError\u001b[0m: Found array with 0 sample(s) (shape=(0, 8)) while a minimum of 1 is required."
     ]
    }
   ],
   "source": [
    "params = np.zeros((len(classify_gamma),8))\n",
    "\n",
    "params[:,0] = classify_t_eff\n",
    "params[:,1] = classify_gamma\n",
    "params[:,2] = classify_C1\n",
    "params[:,3] = classify_C2\n",
    "params[:,4] = classify_C3\n",
    "params[:,5] = classify_C4\n",
    "params[:,6] = classify_C5\n",
    "params[:,7] = classify_C6\n",
    "\n",
    "\n",
    "types = np.zeros(len(classify_gamma))\n",
    "types[np.where(classify_mass < 0.45)] = 1.0\n",
    "\n",
    "\n",
    "clf = svm.SVC()\n",
    "clf.fit(params, types)"
   ]
  },
  {
   "cell_type": "code",
   "execution_count": 653,
   "metadata": {
    "collapsed": false
   },
   "outputs": [
    {
     "name": "stdout",
     "output_type": "stream",
     "text": [
      "0.547 [ 0.]\n"
     ]
    }
   ],
   "source": [
    "\n",
    "index = 7\n",
    "print classify_mass[index], clf.predict(params[index])"
   ]
  },
  {
   "cell_type": "code",
   "execution_count": 638,
   "metadata": {
    "collapsed": false
   },
   "outputs": [],
   "source": []
  },
  {
   "cell_type": "code",
   "execution_count": null,
   "metadata": {
    "collapsed": false
   },
   "outputs": [],
   "source": []
  },
  {
   "cell_type": "code",
   "execution_count": null,
   "metadata": {
    "collapsed": false
   },
   "outputs": [],
   "source": []
  },
  {
   "cell_type": "code",
   "execution_count": null,
   "metadata": {
    "collapsed": false
   },
   "outputs": [],
   "source": []
  },
  {
   "cell_type": "code",
   "execution_count": 509,
   "metadata": {
    "collapsed": false
   },
   "outputs": [
    {
     "name": "stdout",
     "output_type": "stream",
     "text": [
      "0.688 0.070\n"
     ]
    },
    {
     "data": {
      "image/png": "[encoded data removed]",
      "text/plain": [
       "<matplotlib.figure.Figure at 0x115056f90>"
      ]
     },
     "metadata": {},
     "output_type": "display_data"
    }
   ],
   "source": [
    "ndim = 10\n",
    "\n",
    "plt.plot(lamb, flux)\n",
    "\n",
    "flux_out = get_model_flux(p, lamb)\n",
    "plt.plot(lamb, flux_out, color='r', alpha=0.2)\n",
    "    \n",
    "\n",
    "plt.show()"
   ]
  },
  {
   "cell_type": "code",
   "execution_count": null,
   "metadata": {
    "collapsed": false
   },
   "outputs": [],
   "source": []
  }
 ],
 "metadata": {
  "kernelspec": {
   "display_name": "Python 2",
   "language": "python",
   "name": "python2"
  },
  "language_info": {
   "codemirror_mode": {
    "name": "ipython",
    "version": 2
   },
   "file_extension": ".py",
   "mimetype": "text/x-python",
   "name": "python",
   "nbconvert_exporter": "python",
   "pygments_lexer": "ipython2",
   "version": "2.7.13"
  }
 },
 "nbformat": 4,
 "nbformat_minor": 0
}
