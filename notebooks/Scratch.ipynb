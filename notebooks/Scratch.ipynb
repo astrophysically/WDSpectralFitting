{
 "cells": [
  {
   "cell_type": "code",
   "execution_count": 1,
   "metadata": {
    "collapsed": false
   },
   "outputs": [
    {
     "name": "stderr",
     "output_type": "stream",
     "text": [
      "/Users/joshuaschroeder/anaconda/lib/python2.7/site-packages/astroquery/sdss/__init__.py:28: UserWarning: Experimental: SDSS has not yet been refactored to have its API match the rest of astroquery (but it's nearly there).\n",
      "  warnings.warn(\"Experimental: SDSS has not yet been refactored to have its API \"\n"
     ]
    }
   ],
   "source": [
    "#Preamble. Standard packages for to load\n",
    "import astropy\n",
    "from astropy.table import Table, Column, MaskedColumn, vstack \n",
    "import numpy as np\n",
    "from astroquery.vizier import Vizier\n",
    "import matplotlib.pyplot as plt\n",
    "import urllib2\n",
    "# special IPython command to prepare the notebook for matplotlib\n",
    "%matplotlib inline \n",
    "from astroquery.sdss import SDSS\n",
    "from astropy import units as u\n",
    "from astropy import coordinates as coords\n",
    "from astropy.io import fits\n",
    "import astropy.io.ascii as ascii\n",
    "import scipy.optimize as op\n",
    "import os\n",
    "import random"
   ]
  },
  {
   "cell_type": "code",
   "execution_count": 2,
   "metadata": {
    "collapsed": false
   },
   "outputs": [],
   "source": [
    "good_WD=Table.read('DA_with_LP.dat', format='ascii')"
   ]
  },
  {
   "cell_type": "code",
   "execution_count": 3,
   "metadata": {
    "collapsed": false
   },
   "outputs": [],
   "source": [
    "# Our model has a temperature effect, then absorption features on top of the model\n",
    "\n",
    "# Constants\n",
    "h_planck = 4.136e-15 # in eV*s\n",
    "c_light = 2.998e10   # in cgs\n",
    "k_boltz = 8.617e-5   # in eV/K\n",
    "\n",
    "\n",
    "# Balmer line centers (in cgs):\n",
    "lambda_balmer = np.array([6563, 4861, 4341, 4102, 3970, 3889])\n",
    "window_dict = {}\n",
    "\n",
    "\n",
    "\n",
    "# Lorentz distribution:\n",
    "def lorentz(y_int,C_coeff, x_center, gamma, x):\n",
    "    return y_int-C_coeff / (np.pi * gamma * (1.0 + ((x-x_center)/gamma)**2))\n",
    "\n",
    "#We must define our probability function in order to use emcee\n",
    "def like(p, x, y):\n",
    "    y_int, C_coeff, x_center, gamma = p\n",
    "    model = lorentz(y_int, C_coeff, x_center, gamma, x)\n",
    "    sigma = (model - y)**2\n",
    "    return np.sum(sigma)\n",
    "\n",
    "def my_line(points, x_vec):\n",
    "    x_coords, y_coords = zip(*points)\n",
    "    A = np.vstack([x_coords,np.ones(len(x_coords))]).T\n",
    "    m, c = np.linalg.lstsq(A, y_coords)[0]\n",
    "    return [m*x_vec + c,[m,c]]\n",
    "\n",
    "def FWHM(height,norm):\n",
    "    gam = 1/(np.pi*np.abs(height))\n",
    "    return gam*norm\n",
    "\n",
    "\n",
    "\n",
    "nll = lambda *args: like(*args)\n",
    "\n",
    "def spectrum_fit(lambda_balmer,all_lambda,all_flux,num):\n",
    "    line = lambda_balmer[num]\n",
    "    window = np.where(np.logical_and(all_lambda>= (line - 30), all_lambda<= (line + 30)))[0]\n",
    "\n",
    "    #Get an educated guess for C_true\n",
    "    thirds = len(all_flux[window])/3\n",
    "    left_max = np.max(all_flux[window][:thirds])\n",
    "    right_max = np.max(all_flux[window][-thirds:])\n",
    "    left_point = all_lambda[window][:thirds][np.argmax(all_flux[window][:thirds])]\n",
    "    right_point = all_lambda[window][2*thirds + np.argmax(all_flux[window][-thirds:])]\n",
    "\n",
    "    points = [(left_point,left_max),(right_point,right_max)]\n",
    "    vert_fix = my_line(points,all_lambda[window])\n",
    "    int_y = all_flux[window]-vert_fix[0]\n",
    "    result = np.trapz(int_y)\n",
    "\n",
    "    left_mean = np.mean(all_flux[window][:thirds])\n",
    "    right_mean = np.mean(all_flux[window][-thirds:])\n",
    "    left_lambda = np.mean(all_lambda[window][:thirds])\n",
    "    right_lambda = np.mean(all_lambda[window][-thirds:])\n",
    "\n",
    "    points = [(left_lambda,left_mean),(right_lambda,right_mean)]\n",
    "    vert_shift = my_line(points,all_lambda[window])\n",
    "\n",
    "    #Define initial guesses\n",
    "    C_true = result*-1\n",
    "    x_true = (all_lambda[window][0] + all_lambda[window[-1]])/2\n",
    "    y_true = ver_fix[1][1]\n",
    "    gamma_true = FWHM(np.min(all_flux[window]-vert_shift),C_true)\n",
    "\n",
    "    result = op.minimize(nll, [y_true, C_true, x_true, gamma_true], args=(all_lambda[window],all_flux[window]))\n",
    "    y_int_ls, C_coeff_ls, x_center_ls, gamma_ls = result[\"x\"]\n",
    "\n",
    "    return y_int_ls, C_coeff_ls, x_center_ls, gamma_ls, window, vert_fix, vert_shift\n",
    "\n",
    "\n",
    "\n",
    "def obtain_lorentz_parameters(catalog):\n",
    "    #Main loop\n",
    "    y_int_ls = zp.zeros(6)\n",
    "    C_coeff_ls = np.zeros(6)\n",
    "    x_center_ls = np.zeros(6)\n",
    "    gamma_ls = np.zeros(6)\n",
    "    total = 1\n",
    "    for index,i in enumerate(catalog):\n",
    "        #Gets data from file\n",
    "        directory = \"../data/\"\n",
    "        filename = directory+catalog['file'][index]\n",
    "        try:\n",
    "            data = fits.getdata(filename, 1)\n",
    "        except:\n",
    "            print(\"Missing\", filename)\n",
    "            continue\n",
    "\n",
    "        all_flux = data['flux']\n",
    "        all_lambda = 10 ** data['loglam']\n",
    "        total = total + 1\n",
    "        if total%100 == 0:  print(total)\n",
    "        for ind,line in enumerate(lambda_balmer):\n",
    "            ytitle = 'Y'+str(ind)\n",
    "            ctitle = 'C'+str(ind)\n",
    "            xtitle = 'X'+str(ind)\n",
    "            gtitle = 'G'+str(ind)\n",
    "            output = spectrum_fit(lambda_balmer,all_lambda,all_flux,ind)\n",
    "            \n",
    "            catalog[ytitle][index] = output[0]\n",
    "            catalog[ctitle][index] = output[1]\n",
    "            catalog[xtitle][index] = output[2]\n",
    "            catalog[gtitle][index] = outpuyt[3]"
   ]
  },
  {
   "cell_type": "code",
   "execution_count": 4,
   "metadata": {
    "collapsed": false
   },
   "outputs": [],
   "source": [
    "index = 1234\n",
    "\n",
    "#Gets data from file\n",
    "directory = \"../data/\"\n",
    "filename = directory+good_WD['file'][index]\n",
    "try:\n",
    "    data = fits.getdata(filename, 1)\n",
    "except:\n",
    "    print(\"Missing\", filename)"
   ]
  },
  {
   "cell_type": "code",
   "execution_count": 13,
   "metadata": {
    "collapsed": false
   },
   "outputs": [
    {
     "ename": "TypeError",
     "evalue": "Improper input: N=4 must not exceed M=1",
     "output_type": "error",
     "traceback": [
      "\u001b[0;31m---------------------------------------------------------------------------\u001b[0m",
      "\u001b[0;31mTypeError\u001b[0m                                 Traceback (most recent call last)",
      "\u001b[0;32m<ipython-input-13-c566c8ec5790>\u001b[0m in \u001b[0;36m<module>\u001b[0;34m()\u001b[0m\n\u001b[1;32m     51\u001b[0m \u001b[0;34m\u001b[0m\u001b[0m\n\u001b[1;32m     52\u001b[0m \u001b[0;34m\u001b[0m\u001b[0m\n\u001b[0;32m---> 53\u001b[0;31m \u001b[0mresult\u001b[0m \u001b[0;34m=\u001b[0m \u001b[0mop\u001b[0m\u001b[0;34m.\u001b[0m\u001b[0mleastsq\u001b[0m\u001b[0;34m(\u001b[0m\u001b[0mnll_int\u001b[0m\u001b[0;34m,\u001b[0m \u001b[0;34m[\u001b[0m\u001b[0;36m9\u001b[0m\u001b[0;34m,\u001b[0m   \u001b[0mC_true\u001b[0m\u001b[0;34m,\u001b[0m   \u001b[0;36m6.56302734e+03\u001b[0m\u001b[0;34m,\u001b[0m \u001b[0mgamma_true\u001b[0m\u001b[0;34m]\u001b[0m\u001b[0;34m,\u001b[0m \u001b[0margs\u001b[0m\u001b[0;34m=\u001b[0m\u001b[0;34m(\u001b[0m\u001b[0mall_lambda\u001b[0m\u001b[0;34m[\u001b[0m\u001b[0mwindow\u001b[0m\u001b[0;34m]\u001b[0m\u001b[0;34m,\u001b[0m\u001b[0mall_flux\u001b[0m\u001b[0;34m[\u001b[0m\u001b[0mwindow\u001b[0m\u001b[0;34m]\u001b[0m\u001b[0;34m)\u001b[0m\u001b[0;34m,\u001b[0m                      \u001b[0;34m)\u001b[0m\u001b[0;34m\u001b[0m\u001b[0m\n\u001b[0m\u001b[1;32m     54\u001b[0m \u001b[0;34m\u001b[0m\u001b[0m\n\u001b[1;32m     55\u001b[0m \u001b[0;32mprint\u001b[0m \u001b[0my_true\u001b[0m\u001b[0;34m,\u001b[0m \u001b[0mresult\u001b[0m\u001b[0;34m\u001b[0m\u001b[0m\n",
      "\u001b[0;32m/Users/joshuaschroeder/anaconda/lib/python2.7/site-packages/scipy/optimize/minpack.pyc\u001b[0m in \u001b[0;36mleastsq\u001b[0;34m(func, x0, args, Dfun, full_output, col_deriv, ftol, xtol, gtol, maxfev, epsfcn, factor, diag)\u001b[0m\n\u001b[1;32m    378\u001b[0m     \u001b[0mm\u001b[0m \u001b[0;34m=\u001b[0m \u001b[0mshape\u001b[0m\u001b[0;34m[\u001b[0m\u001b[0;36m0\u001b[0m\u001b[0;34m]\u001b[0m\u001b[0;34m\u001b[0m\u001b[0m\n\u001b[1;32m    379\u001b[0m     \u001b[0;32mif\u001b[0m \u001b[0mn\u001b[0m \u001b[0;34m>\u001b[0m \u001b[0mm\u001b[0m\u001b[0;34m:\u001b[0m\u001b[0;34m\u001b[0m\u001b[0m\n\u001b[0;32m--> 380\u001b[0;31m         \u001b[0;32mraise\u001b[0m \u001b[0mTypeError\u001b[0m\u001b[0;34m(\u001b[0m\u001b[0;34m'Improper input: N=%s must not exceed M=%s'\u001b[0m \u001b[0;34m%\u001b[0m \u001b[0;34m(\u001b[0m\u001b[0mn\u001b[0m\u001b[0;34m,\u001b[0m \u001b[0mm\u001b[0m\u001b[0;34m)\u001b[0m\u001b[0;34m)\u001b[0m\u001b[0;34m\u001b[0m\u001b[0m\n\u001b[0m\u001b[1;32m    381\u001b[0m     \u001b[0;32mif\u001b[0m \u001b[0mepsfcn\u001b[0m \u001b[0;32mis\u001b[0m \u001b[0mNone\u001b[0m\u001b[0;34m:\u001b[0m\u001b[0;34m\u001b[0m\u001b[0m\n\u001b[1;32m    382\u001b[0m         \u001b[0mepsfcn\u001b[0m \u001b[0;34m=\u001b[0m \u001b[0mfinfo\u001b[0m\u001b[0;34m(\u001b[0m\u001b[0mdtype\u001b[0m\u001b[0;34m)\u001b[0m\u001b[0;34m.\u001b[0m\u001b[0meps\u001b[0m\u001b[0;34m\u001b[0m\u001b[0m\n",
      "\u001b[0;31mTypeError\u001b[0m: Improper input: N=4 must not exceed M=1"
     ]
    }
   ],
   "source": [
    "all_flux = data['flux']\n",
    "all_lambda = 10 ** data['loglam']\n",
    "ind = 0\n",
    "line = lambda_balmer[ind]\n",
    "#Make the windows for lorentzian fitting\n",
    "window = np.where(np.logical_and(all_lambda>= (line - 30), all_lambda<= (line + 30)))[0]\n",
    "    #Get an educated guess for C_true\n",
    "thirds = len(all_flux[window])/3\n",
    "left_max = np.max(all_flux[window][:thirds])\n",
    "right_max = np.max(all_flux[window][-thirds:])\n",
    "left_point = all_lambda[window][:thirds][np.argmax(all_flux[window][:thirds])]\n",
    "right_point = all_lambda[window][2*thirds + np.argmax(all_flux[window][-thirds:])]\n",
    "\n",
    "points = [(left_point,left_max),(right_point,right_max)]\n",
    "vert_fix = my_line(points,all_lambda[window])\n",
    "int_y = all_flux[window]-vert_fix[0]\n",
    "result = np.trapz(int_y)\n",
    "\n",
    "left_mean = np.mean(all_flux[window][:thirds])\n",
    "right_mean = np.mean(all_flux[window][-thirds:])\n",
    "left_lambda = np.mean(all_lambda[window][:thirds])\n",
    "right_lambda = np.mean(all_lambda[window][-thirds:])\n",
    "\n",
    "points = [(left_lambda,left_mean),(right_lambda,right_mean)]\n",
    "vert_shift = my_line(points,all_lambda[window])\n",
    "\n",
    "    #Define initial guesses\n",
    "C_true = result*-1\n",
    "x_true = (all_lambda[window][0] + all_lambda[window[-1]])/2\n",
    "y_true = vert_fix[1][1]\n",
    "gamma_true = FWHM(np.min(all_flux[window]-vert_shift[0]),C_true)\n",
    "\n",
    "#result = op.minimize(nll, [y_true, C_true, x_true, gamma_true], args=(all_lambda[window],all_flux[window]), jac=False, \\\n",
    "#                    bounds = [(min(all_flux[window]),max(all_flux[window])), \\\n",
    "#                              (0,(max(all_flux[window])-min(all_flux[window]))* \\\n",
    "#                                (max(all_lambda[window])-min(all_lambda[window]))), \\\n",
    "#                              (min(all_lambda[window]),max(all_lambda[window])), \\\n",
    "#                             (2./(np.pi*max(all_flux[window])),2./(np.pi*min(all_flux[window])))], tol=1e-8)\n",
    "#y_int_ls, C_coeff_ls, x_center_ls, gamma_ls = result[\"x\"]\n",
    "\n",
    "def absorb_lorentz(y_int, C_coeff, x_center, gamma, x):\n",
    "    return y_int-C_coeff / (np.pi * gamma * (1.0 + ((x-x_center)/gamma)**2))\n",
    "\n",
    "def only_constant(p,x,y):\n",
    "    y_true, C_true, x_true, gamma_true = p\n",
    "    model = absorb_lorentz(y_true, C_true, x_true, gamma_true, x)\n",
    "    sigma = (model - y)**2\n",
    "    return np.sum(sigma)\n",
    "\n",
    "nll_int = lambda *args: only_constant(*args)\n",
    "\n",
    "\n",
    "result = op.leastsq(nll_int, [9,   C_true,   6.56302734e+03, gamma_true], args=(all_lambda[window],all_flux[window]), \\\n",
    "                     )\n",
    "\n",
    "print y_true, result"
   ]
  },
  {
   "cell_type": "code",
   "execution_count": 25,
   "metadata": {
    "collapsed": false
   },
   "outputs": [
    {
     "name": "stdout",
     "output_type": "stream",
     "text": [
      "[(2.0100391, 8.9317732), (0, 397.47244), (6534.3154, 6591.7393), (0.0, 267.95319557189941)]\n"
     ]
    }
   ],
   "source": [
    "bounds = [(min(all_flux[window]),max(all_flux[window])), \\\n",
    "                              (0,(max(all_flux[window])-min(all_flux[window]))* \\\n",
    "                                (max(all_lambda[window])-min(all_lambda[window]))), \\\n",
    "                              (min(all_lambda[window]),max(all_lambda[window])), \\\n",
    "                             (0.,30.*max(all_flux[window]))]\n",
    "\n",
    "print bounds"
   ]
  },
  {
   "cell_type": "code",
   "execution_count": 108,
   "metadata": {
    "collapsed": false
   },
   "outputs": [
    {
     "ename": "ValueError",
     "evalue": "The truth value of an array with more than one element is ambiguous. Use a.any() or a.all()",
     "output_type": "error",
     "traceback": [
      "\u001b[0;31m---------------------------------------------------------------------------\u001b[0m",
      "\u001b[0;31mValueError\u001b[0m                                Traceback (most recent call last)",
      "\u001b[0;32m<ipython-input-108-5dd3c3b97d73>\u001b[0m in \u001b[0;36m<module>\u001b[0;34m()\u001b[0m\n\u001b[0;32m----> 1\u001b[0;31m \u001b[0;32mprint\u001b[0m \u001b[0mop\u001b[0m\u001b[0;34m.\u001b[0m\u001b[0mminimize\u001b[0m\u001b[0;34m(\u001b[0m\u001b[0mnll\u001b[0m\u001b[0;34m,\u001b[0m\u001b[0;34m[\u001b[0m\u001b[0my_true\u001b[0m\u001b[0;34m,\u001b[0m\u001b[0mC_true\u001b[0m\u001b[0;34m,\u001b[0m\u001b[0mx_true\u001b[0m\u001b[0;34m,\u001b[0m\u001b[0mgamma_true\u001b[0m\u001b[0;34m]\u001b[0m\u001b[0;34m,\u001b[0m \u001b[0margs\u001b[0m \u001b[0;34m=\u001b[0m \u001b[0;34m(\u001b[0m\u001b[0mall_lambda\u001b[0m\u001b[0;34m[\u001b[0m\u001b[0mwindow\u001b[0m\u001b[0;34m]\u001b[0m\u001b[0;34m,\u001b[0m \u001b[0mall_flux\u001b[0m\u001b[0;34m[\u001b[0m\u001b[0mwindow\u001b[0m\u001b[0;34m]\u001b[0m\u001b[0;34m)\u001b[0m\u001b[0;34m,\u001b[0m             \u001b[0mjac\u001b[0m\u001b[0;34m=\u001b[0m\u001b[0mapprox_jacobian\u001b[0m\u001b[0;34m(\u001b[0m\u001b[0;34m[\u001b[0m    \u001b[0;36m8.1193279\u001b[0m \u001b[0;34m,\u001b[0m   \u001b[0;36m146.7441101\u001b[0m \u001b[0;34m,\u001b[0m  \u001b[0;36m6565.52734\u001b[0m   \u001b[0;34m,\u001b[0m     \u001b[0;36m7.67200952\u001b[0m\u001b[0;34m]\u001b[0m\u001b[0;34m,\u001b[0m\u001b[0mnll\u001b[0m\u001b[0;34m,\u001b[0m\u001b[0mstuff\u001b[0m\u001b[0;34m,\u001b[0m\u001b[0mall_lambda\u001b[0m\u001b[0;34m[\u001b[0m\u001b[0mwindow\u001b[0m\u001b[0;34m]\u001b[0m\u001b[0;34m,\u001b[0m\u001b[0mall_flux\u001b[0m\u001b[0;34m[\u001b[0m\u001b[0mwindow\u001b[0m\u001b[0;34m]\u001b[0m\u001b[0;34m)\u001b[0m\u001b[0;34m)\u001b[0m\u001b[0;34m\u001b[0m\u001b[0m\n\u001b[0m",
      "\u001b[0;32m/Users/joshuaschroeder/anaconda/lib/python2.7/site-packages/scipy/optimize/_minimize.pyc\u001b[0m in \u001b[0;36mminimize\u001b[0;34m(fun, x0, args, method, jac, hess, hessp, bounds, constraints, tol, callback, options)\u001b[0m\n\u001b[1;32m    410\u001b[0m     \u001b[0;31m# fun also returns the jacobian\u001b[0m\u001b[0;34m\u001b[0m\u001b[0;34m\u001b[0m\u001b[0m\n\u001b[1;32m    411\u001b[0m     \u001b[0;32mif\u001b[0m \u001b[0;32mnot\u001b[0m \u001b[0mcallable\u001b[0m\u001b[0;34m(\u001b[0m\u001b[0mjac\u001b[0m\u001b[0;34m)\u001b[0m\u001b[0;34m:\u001b[0m\u001b[0;34m\u001b[0m\u001b[0m\n\u001b[0;32m--> 412\u001b[0;31m         \u001b[0;32mif\u001b[0m \u001b[0mbool\u001b[0m\u001b[0;34m(\u001b[0m\u001b[0mjac\u001b[0m\u001b[0;34m)\u001b[0m\u001b[0;34m:\u001b[0m\u001b[0;34m\u001b[0m\u001b[0m\n\u001b[0m\u001b[1;32m    413\u001b[0m             \u001b[0mfun\u001b[0m \u001b[0;34m=\u001b[0m \u001b[0mMemoizeJac\u001b[0m\u001b[0;34m(\u001b[0m\u001b[0mfun\u001b[0m\u001b[0;34m)\u001b[0m\u001b[0;34m\u001b[0m\u001b[0m\n\u001b[1;32m    414\u001b[0m             \u001b[0mjac\u001b[0m \u001b[0;34m=\u001b[0m \u001b[0mfun\u001b[0m\u001b[0;34m.\u001b[0m\u001b[0mderivative\u001b[0m\u001b[0;34m\u001b[0m\u001b[0m\n",
      "\u001b[0;31mValueError\u001b[0m: The truth value of an array with more than one element is ambiguous. Use a.any() or a.all()"
     ]
    }
   ],
   "source": [
    "print op.minimize(nll,[y_true,C_true,x_true,gamma_true], args = (all_lambda[window], all_flux[window]), \\\n",
    "            jac=approx_jacobian([    8.1193279 ,   146.7441101 ,  6565.52734   ,     7.67200952],nll,stuff,all_lambda[window],all_flux[window]))"
   ]
  },
  {
   "cell_type": "code",
   "execution_count": 93,
   "metadata": {
    "collapsed": true
   },
   "outputs": [],
   "source": [
    "def approx_jacobian(x,func,epsilon,*args):\n",
    "    x0 = np.asfarray(x)\n",
    "    f0 = np.atleast_1d(func(*((x0,)+args)))\n",
    "    jac = np.zeros([len(x0),len(f0)])\n",
    "    dx = np.zeros(len(x0))\n",
    "    for i in range(len(x0)):\n",
    "        dx[i] = epsilon\n",
    "        jac[i] = (func(*((x0+dx,)+args)) - f0)/epsilon\n",
    "        dx[i] = 0.0\n",
    "\n",
    "    return jac.transpose()"
   ]
  },
  {
   "cell_type": "code",
   "execution_count": null,
   "metadata": {
    "collapsed": false
   },
   "outputs": [],
   "source": [
    "print approx_jacobian((1.01193279e+01,   9.67441101e+01,   6.56302734e+03,\n",
    "         5.88958597e+00),nll,0.5,all_lambda[window],all_flux[window])"
   ]
  },
  {
   "cell_type": "code",
   "execution_count": 72,
   "metadata": {
    "collapsed": true
   },
   "outputs": [],
   "source": [
    "def paraminsert(ya,c,x,g):\n",
    "    theta = [ya,c,x,g]   \n",
    "    return nll(theta,all_lambda[window],all_flux[window])"
   ]
  },
  {
   "cell_type": "code",
   "execution_count": 73,
   "metadata": {
    "collapsed": false
   },
   "outputs": [
    {
     "data": {
      "text/plain": [
       "['ya', 'c', 'x', 'g']"
      ]
     },
     "execution_count": 73,
     "metadata": {},
     "output_type": "execute_result"
    }
   ],
   "source": [
    "from iminuit import Minuit, describe, Struct\n",
    "\n",
    "describe(paraminsert)"
   ]
  },
  {
   "cell_type": "code",
   "execution_count": 84,
   "metadata": {
    "collapsed": false
   },
   "outputs": [
    {
     "name": "stdout",
     "output_type": "stream",
     "text": [
      "<type 'numpy.float32'>\n"
     ]
    }
   ],
   "source": [
    "print type(y_true)"
   ]
  },
  {
   "cell_type": "code",
   "execution_count": 85,
   "metadata": {
    "collapsed": false
   },
   "outputs": [
    {
     "name": "stderr",
     "output_type": "stream",
     "text": [
      "/Users/joshuaschroeder/anaconda/lib/python2.7/site-packages/ipykernel/__main__.py:1: InitialParamWarning: errordef is not given. Default to 1.\n",
      "  if __name__ == '__main__':\n",
      "/Users/joshuaschroeder/anaconda/lib/python2.7/site-packages/ipykernel/__main__.py:1: InitialParamWarning: Parameter ya is floating but does not have initial step size. Assume 1.\n",
      "  if __name__ == '__main__':\n",
      "/Users/joshuaschroeder/anaconda/lib/python2.7/site-packages/ipykernel/__main__.py:1: InitialParamWarning: Parameter c does not have initial value. Assume 0.\n",
      "  if __name__ == '__main__':\n",
      "/Users/joshuaschroeder/anaconda/lib/python2.7/site-packages/ipykernel/__main__.py:1: InitialParamWarning: Parameter c is floating but does not have initial step size. Assume 1.\n",
      "  if __name__ == '__main__':\n",
      "/Users/joshuaschroeder/anaconda/lib/python2.7/site-packages/ipykernel/__main__.py:1: InitialParamWarning: Parameter x does not have initial value. Assume 0.\n",
      "  if __name__ == '__main__':\n",
      "/Users/joshuaschroeder/anaconda/lib/python2.7/site-packages/ipykernel/__main__.py:1: InitialParamWarning: Parameter x is floating but does not have initial step size. Assume 1.\n",
      "  if __name__ == '__main__':\n",
      "/Users/joshuaschroeder/anaconda/lib/python2.7/site-packages/ipykernel/__main__.py:1: InitialParamWarning: Parameter g does not have initial value. Assume 0.\n",
      "  if __name__ == '__main__':\n",
      "/Users/joshuaschroeder/anaconda/lib/python2.7/site-packages/ipykernel/__main__.py:1: InitialParamWarning: Parameter g is floating but does not have initial step size. Assume 1.\n",
      "  if __name__ == '__main__':\n"
     ]
    }
   ],
   "source": [
    "m=Minuit(paraminsert, ya = y_true)"
   ]
  },
  {
   "cell_type": "code",
   "execution_count": 86,
   "metadata": {
    "collapsed": false
   },
   "outputs": [
    {
     "name": "stdout",
     "output_type": "stream",
     "text": [
      "[29.544533, 96.744110107421875, 6563.02734375, 5.8895859661793377]\n"
     ]
    }
   ],
   "source": [
    "print [y_true, C_true, x_true, gamma_true]"
   ]
  },
  {
   "cell_type": "code",
   "execution_count": 87,
   "metadata": {
    "collapsed": false
   },
   "outputs": [
    {
     "ename": "AttributeError",
     "evalue": "'numpy.float32' object has no attribute 'split'",
     "output_type": "error",
     "traceback": [
      "\u001b[0;31m---------------------------------------------------------------------------\u001b[0m",
      "\u001b[0;31mAttributeError\u001b[0m                            Traceback (most recent call last)",
      "\u001b[0;32m<ipython-input-87-6b0705674f31>\u001b[0m in \u001b[0;36m<module>\u001b[0;34m()\u001b[0m\n\u001b[0;32m----> 1\u001b[0;31m \u001b[0mm\u001b[0m\u001b[0;34m.\u001b[0m\u001b[0mprint_param\u001b[0m\u001b[0;34m(\u001b[0m\u001b[0;34m)\u001b[0m\u001b[0;34m\u001b[0m\u001b[0m\n\u001b[0m",
      "\u001b[0;32m_libiminuit.pyx\u001b[0m in \u001b[0;36miminuit._libiminuit.Minuit.print_param (iminuit/_libiminuit.cpp:7950)\u001b[0;34m()\u001b[0m\n",
      "\u001b[0;32m_libiminuit.pyx\u001b[0m in \u001b[0;36miminuit._libiminuit.Minuit.print_initial_param (iminuit/_libiminuit.cpp:8643)\u001b[0;34m()\u001b[0m\n",
      "\u001b[0;32m/Users/joshuaschroeder/anaconda/lib/python2.7/site-packages/iminuit/HtmlFrontend.pyc\u001b[0m in \u001b[0;36mprint_param\u001b[0;34m(self, mps, merr, float_format, smart_latex, latex_map)\u001b[0m\n\u001b[1;32m    205\u001b[0m \u001b[0;34m\u001b[0m\u001b[0m\n\u001b[1;32m    206\u001b[0m         \u001b[0;31m#rows = str(ltable).count('\\n')+1\u001b[0m\u001b[0;34m\u001b[0m\u001b[0;34m\u001b[0m\u001b[0m\n\u001b[0;32m--> 207\u001b[0;31m         \u001b[0mto_print\u001b[0m \u001b[0;34m+=\u001b[0m \u001b[0mself\u001b[0m\u001b[0;34m.\u001b[0m\u001b[0mhidden_table\u001b[0m\u001b[0;34m(\u001b[0m\u001b[0mstr\u001b[0m\u001b[0;34m(\u001b[0m\u001b[0mltable\u001b[0m\u001b[0;34m)\u001b[0m\u001b[0;34m,\u001b[0m \u001b[0muid\u001b[0m\u001b[0;34m)\u001b[0m\u001b[0;34m\u001b[0m\u001b[0m\n\u001b[0m\u001b[1;32m    208\u001b[0m         \u001b[0mdisplay_html\u001b[0m\u001b[0;34m(\u001b[0m\u001b[0mto_print\u001b[0m\u001b[0;34m,\u001b[0m \u001b[0mraw\u001b[0m\u001b[0;34m=\u001b[0m\u001b[0mTrue\u001b[0m\u001b[0;34m)\u001b[0m\u001b[0;34m\u001b[0m\u001b[0m\n\u001b[1;32m    209\u001b[0m \u001b[0;34m\u001b[0m\u001b[0m\n",
      "\u001b[0;32m/Users/joshuaschroeder/anaconda/lib/python2.7/site-packages/iminuit/latex.pyc\u001b[0m in \u001b[0;36m__str__\u001b[0;34m(self)\u001b[0m\n\u001b[1;32m    115\u001b[0m         \u001b[0mret\u001b[0m \u001b[0;34m+=\u001b[0m \u001b[0;34m'\\\\begin{tabular}{%s}\\n'\u001b[0m\u001b[0;34m%\u001b[0m\u001b[0;34m(\u001b[0m\u001b[0mself\u001b[0m\u001b[0;34m.\u001b[0m\u001b[0malignment\u001b[0m\u001b[0;34m)\u001b[0m\u001b[0;34m\u001b[0m\u001b[0m\n\u001b[1;32m    116\u001b[0m         \u001b[0mret\u001b[0m \u001b[0;34m+=\u001b[0m \u001b[0mhline\u001b[0m\u001b[0;34m\u001b[0m\u001b[0m\n\u001b[0;32m--> 117\u001b[0;31m         \u001b[0mtdata\u001b[0m \u001b[0;34m=\u001b[0m \u001b[0mself\u001b[0m\u001b[0;34m.\u001b[0m\u001b[0m_prepare\u001b[0m\u001b[0;34m(\u001b[0m\u001b[0;34m)\u001b[0m\u001b[0;34m\u001b[0m\u001b[0m\n\u001b[0m\u001b[1;32m    118\u001b[0m         \u001b[0;31m#decorate it\u001b[0m\u001b[0;34m\u001b[0m\u001b[0;34m\u001b[0m\u001b[0m\n\u001b[1;32m    119\u001b[0m         \u001b[0;32mfor\u001b[0m \u001b[0;34m(\u001b[0m\u001b[0mi\u001b[0m\u001b[0;34m,\u001b[0m \u001b[0mj\u001b[0m\u001b[0;34m)\u001b[0m\u001b[0;34m,\u001b[0m \u001b[0mc\u001b[0m \u001b[0;32min\u001b[0m \u001b[0mself\u001b[0m\u001b[0;34m.\u001b[0m\u001b[0mcell_color\u001b[0m\u001b[0;34m.\u001b[0m\u001b[0mitems\u001b[0m\u001b[0;34m(\u001b[0m\u001b[0;34m)\u001b[0m\u001b[0;34m:\u001b[0m\u001b[0;34m\u001b[0m\u001b[0m\n",
      "\u001b[0;32m/Users/joshuaschroeder/anaconda/lib/python2.7/site-packages/iminuit/latex.pyc\u001b[0m in \u001b[0;36m_prepare\u001b[0;34m(self)\u001b[0m\n\u001b[1;32m    103\u001b[0m             \u001b[0mret\u001b[0m\u001b[0;34m.\u001b[0m\u001b[0mappend\u001b[0m\u001b[0;34m(\u001b[0m\u001b[0mtmp\u001b[0m\u001b[0;34m)\u001b[0m\u001b[0;34m\u001b[0m\u001b[0m\n\u001b[1;32m    104\u001b[0m         \u001b[0;32mfor\u001b[0m \u001b[0mx\u001b[0m \u001b[0;32min\u001b[0m \u001b[0mself\u001b[0m\u001b[0;34m.\u001b[0m\u001b[0mdata\u001b[0m\u001b[0;34m:\u001b[0m\u001b[0;34m\u001b[0m\u001b[0m\n\u001b[0;32m--> 105\u001b[0;31m             \u001b[0mret\u001b[0m\u001b[0;34m.\u001b[0m\u001b[0mappend\u001b[0m\u001b[0;34m(\u001b[0m\u001b[0mmap\u001b[0m\u001b[0;34m(\u001b[0m\u001b[0mself\u001b[0m\u001b[0;34m.\u001b[0m\u001b[0m_format\u001b[0m\u001b[0;34m,\u001b[0m \u001b[0mx\u001b[0m\u001b[0;34m)\u001b[0m\u001b[0;34m)\u001b[0m\u001b[0;34m\u001b[0m\u001b[0m\n\u001b[0m\u001b[1;32m    106\u001b[0m         \u001b[0;32mreturn\u001b[0m \u001b[0mret\u001b[0m\u001b[0;34m\u001b[0m\u001b[0m\n\u001b[1;32m    107\u001b[0m \u001b[0;34m\u001b[0m\u001b[0m\n",
      "\u001b[0;32m/Users/joshuaschroeder/anaconda/lib/python2.7/site-packages/iminuit/latex.pyc\u001b[0m in \u001b[0;36m_format\u001b[0;34m(self, s)\u001b[0m\n\u001b[1;32m     54\u001b[0m             \u001b[0;32mreturn\u001b[0m \u001b[0mself\u001b[0m\u001b[0;34m.\u001b[0m\u001b[0mint_format\u001b[0m\u001b[0;34m%\u001b[0m\u001b[0ms\u001b[0m\u001b[0;34m\u001b[0m\u001b[0m\n\u001b[1;32m     55\u001b[0m         \u001b[0;32melif\u001b[0m \u001b[0mself\u001b[0m\u001b[0;34m.\u001b[0m\u001b[0msmart_latex\u001b[0m\u001b[0;34m:\u001b[0m\u001b[0;34m\u001b[0m\u001b[0m\n\u001b[0;32m---> 56\u001b[0;31m             \u001b[0;32mreturn\u001b[0m \u001b[0mself\u001b[0m\u001b[0;34m.\u001b[0m\u001b[0m_convert_smart_latex\u001b[0m\u001b[0;34m(\u001b[0m\u001b[0ms\u001b[0m\u001b[0;34m)\u001b[0m\u001b[0;34m\u001b[0m\u001b[0m\n\u001b[0m\u001b[1;32m     57\u001b[0m         \u001b[0;32melif\u001b[0m \u001b[0mself\u001b[0m\u001b[0;34m.\u001b[0m\u001b[0mescape_under_score\u001b[0m\u001b[0;34m:\u001b[0m\u001b[0;34m\u001b[0m\u001b[0m\n\u001b[1;32m     58\u001b[0m             \u001b[0;32mreturn\u001b[0m \u001b[0ms\u001b[0m\u001b[0;34m.\u001b[0m\u001b[0mreplace\u001b[0m\u001b[0;34m(\u001b[0m\u001b[0;34m'_'\u001b[0m\u001b[0;34m,\u001b[0m\u001b[0;34mr'\\_'\u001b[0m\u001b[0;34m)\u001b[0m\u001b[0;34m\u001b[0m\u001b[0m\n",
      "\u001b[0;32m/Users/joshuaschroeder/anaconda/lib/python2.7/site-packages/iminuit/latex.pyc\u001b[0m in \u001b[0;36m_convert_smart_latex\u001b[0;34m(self, s)\u001b[0m\n\u001b[1;32m     69\u001b[0m         \u001b[0;31m#FIXME: implement this\u001b[0m\u001b[0;34m\u001b[0m\u001b[0;34m\u001b[0m\u001b[0m\n\u001b[1;32m     70\u001b[0m \u001b[0;34m\u001b[0m\u001b[0m\n\u001b[0;32m---> 71\u001b[0;31m         \u001b[0mparts\u001b[0m \u001b[0;34m=\u001b[0m \u001b[0ms\u001b[0m\u001b[0;34m.\u001b[0m\u001b[0msplit\u001b[0m\u001b[0;34m(\u001b[0m\u001b[0;34m'_'\u001b[0m\u001b[0;34m)\u001b[0m\u001b[0;34m\u001b[0m\u001b[0m\n\u001b[0m\u001b[1;32m     72\u001b[0m         \u001b[0;32mif\u001b[0m \u001b[0mlen\u001b[0m\u001b[0;34m(\u001b[0m\u001b[0mparts\u001b[0m\u001b[0;34m)\u001b[0m \u001b[0;34m==\u001b[0m \u001b[0;36m1\u001b[0m\u001b[0;34m:\u001b[0m\u001b[0;31m#a to $a$ if a is greek letter else just a\u001b[0m\u001b[0;34m\u001b[0m\u001b[0m\n\u001b[1;32m     73\u001b[0m             \u001b[0;32mif\u001b[0m \u001b[0mparts\u001b[0m\u001b[0;34m[\u001b[0m\u001b[0;36m0\u001b[0m\u001b[0;34m]\u001b[0m \u001b[0;32min\u001b[0m \u001b[0mself\u001b[0m\u001b[0;34m.\u001b[0m\u001b[0mlatex_kwd\u001b[0m\u001b[0;34m:\u001b[0m\u001b[0;34m\u001b[0m\u001b[0m\n",
      "\u001b[0;31mAttributeError\u001b[0m: 'numpy.float32' object has no attribute 'split'"
     ]
    }
   ],
   "source": [
    "m.print_param()"
   ]
  },
  {
   "cell_type": "code",
   "execution_count": 67,
   "metadata": {
    "collapsed": false
   },
   "outputs": [
    {
     "name": "stderr",
     "output_type": "stream",
     "text": [
      "/Users/joshuaschroeder/anaconda/lib/python2.7/site-packages/ipykernel/__main__.py:17: RuntimeWarning: divide by zero encountered in divide\n",
      "/Users/joshuaschroeder/anaconda/lib/python2.7/site-packages/ipykernel/__main__.py:17: RuntimeWarning: invalid value encountered in multiply\n",
      "/Users/joshuaschroeder/anaconda/lib/python2.7/site-packages/ipykernel/__main__.py:1: RuntimeWarning: fcn returns Nan\n",
      "fcn is called with following arguments:\n",
      "    y = +0.000000\n",
      "    c = +0.000000\n",
      "    x = +0.000000\n",
      "    g = +0.000000\n",
      "\n",
      "  if __name__ == '__main__':\n",
      "/Users/joshuaschroeder/anaconda/lib/python2.7/site-packages/ipykernel/__main__.py:1: RuntimeWarning: fcn returns Nan\n",
      "fcn is called with following arguments:\n",
      "    y = nan\n",
      "    c = +0.000000\n",
      "    x = +0.000000\n",
      "    g = +0.000000\n",
      "\n",
      "  if __name__ == '__main__':\n",
      "/Users/joshuaschroeder/anaconda/lib/python2.7/site-packages/ipykernel/__main__.py:1: RuntimeWarning: fcn returns Nan\n",
      "fcn is called with following arguments:\n",
      "    y = +0.000000\n",
      "    c = nan\n",
      "    x = +0.000000\n",
      "    g = +0.000000\n",
      "\n",
      "  if __name__ == '__main__':\n",
      "/Users/joshuaschroeder/anaconda/lib/python2.7/site-packages/ipykernel/__main__.py:1: RuntimeWarning: fcn returns Nan\n",
      "fcn is called with following arguments:\n",
      "    y = +0.000000\n",
      "    c = +0.000000\n",
      "    x = nan\n",
      "    g = +0.000000\n",
      "\n",
      "  if __name__ == '__main__':\n",
      "/Users/joshuaschroeder/anaconda/lib/python2.7/site-packages/ipykernel/__main__.py:1: RuntimeWarning: fcn returns Nan\n",
      "fcn is called with following arguments:\n",
      "    y = +0.000000\n",
      "    c = +0.000000\n",
      "    x = +0.000000\n",
      "    g = nan\n",
      "\n",
      "  if __name__ == '__main__':\n",
      "/Users/joshuaschroeder/anaconda/lib/python2.7/site-packages/ipykernel/__main__.py:1: RuntimeWarning: fcn returns Nan\n",
      "fcn is called with following arguments:\n",
      "    y = nan\n",
      "    c = nan\n",
      "    x = nan\n",
      "    g = nan\n",
      "\n",
      "  if __name__ == '__main__':\n"
     ]
    },
    {
     "data": {
      "text/html": [
       "<hr>"
      ]
     },
     "metadata": {},
     "output_type": "display_data"
    },
    {
     "data": {
      "text/html": [
       "\n",
       "        <table>\n",
       "            <tr>\n",
       "                <td title=\"Minimum value of function\">FCN = nan</td>\n",
       "                <td title=\"Total number of call to FCN so far\">TOTAL NCALL = 63</td>\n",
       "                <td title=\"Number of call in last migrad\">NCALLS = 63</td>\n",
       "            </tr>\n",
       "            <tr>\n",
       "                <td title=\"Estimated distance to minimum\">EDM = nan</td>\n",
       "                <td title=\"Maximum EDM definition of convergence\">GOAL EDM = 1e-05</td>\n",
       "                <td title=\"Error def. Amount of increase in FCN to be defined as 1 standard deviation\">\n",
       "                UP = 1.0</td>\n",
       "            </tr>\n",
       "        </table>\n",
       "        \n",
       "        <table>\n",
       "            <tr>\n",
       "                <td align=\"center\" title=\"Validity of the migrad call\">Valid</td>\n",
       "                <td align=\"center\" title=\"Validity of parameters\">Valid Param</td>\n",
       "                <td align=\"center\" title=\"Is Covariance matrix accurate?\">Accurate Covar</td>\n",
       "                <td align=\"center\" title=\"Positive definiteness of covariance matrix\">PosDef</td>\n",
       "                <td align=\"center\" title=\"Was covariance matrix made posdef by adding diagonal element\">Made PosDef</td>\n",
       "            </tr>\n",
       "            <tr>\n",
       "                <td align=\"center\" style=\"background-color:#92CCA6\">True</td>\n",
       "                <td align=\"center\" style=\"background-color:#92CCA6\">True</td>\n",
       "                <td align=\"center\" style=\"background-color:#FF7878\">False</td>\n",
       "                <td align=\"center\" style=\"background-color:#92CCA6\">True</td>\n",
       "                <td align=\"center\" style=\"background-color:#92CCA6\">False</td>\n",
       "            </tr>\n",
       "            <tr>\n",
       "                <td align=\"center\" title=\"Was last hesse call fail?\">Hesse Fail</td>\n",
       "                <td align=\"center\" title=\"Validity of covariance\">HasCov</td>\n",
       "                <td align=\"center\" title=\"Is EDM above goal EDM?\">Above EDM</td>\n",
       "                <td align=\"center\"></td>\n",
       "                <td align=\"center\" title=\"Did last migrad call reach max call limit?\">Reach calllim</td>\n",
       "            </tr>\n",
       "            <tr>\n",
       "                <td align=\"center\" style=\"background-color:#92CCA6\">False</td>\n",
       "                <td align=\"center\" style=\"background-color:#92CCA6\">True</td>\n",
       "                <td align=\"center\" style=\"background-color:#92CCA6\">False</td>\n",
       "                <td align=\"center\"></td>\n",
       "                <td align=\"center\" style=\"background-color:#92CCA6\">False</td>\n",
       "            </tr>\n",
       "        </table>\n",
       "        "
      ]
     },
     "metadata": {},
     "output_type": "display_data"
    },
    {
     "data": {
      "text/html": [
       "\n",
       "        <table>\n",
       "            <tr>\n",
       "                <td><a href=\"#\" onclick=\"$('#WmPLlsGuzH').toggle()\">+</a></td>\n",
       "                <td title=\"Variable name\">Name</td>\n",
       "                <td title=\"Value of parameter\">Value</td>\n",
       "                <td title=\"Parabolic error\">Parab Error</td>\n",
       "                <td title=\"Minos lower error\">Minos Error-</td>\n",
       "                <td title=\"Minos upper error\">Minos Error+</td>\n",
       "                <td title=\"Lower limit of the parameter\">Limit-</td>\n",
       "                <td title=\"Upper limit of the parameter\">Limit+</td>\n",
       "                <td title=\"Is the parameter fixed in the fit\">FIXED</td>\n",
       "            </tr>\n",
       "        \n",
       "            <tr>\n",
       "                <td>1</td>\n",
       "                <td>y</td>\n",
       "                <td>nan</td>\n",
       "                <td>nan</td>\n",
       "                <td>0.000000e+00</td>\n",
       "                <td>0.000000e+00</td>\n",
       "                <td></td>\n",
       "                <td></td>\n",
       "                <td></td>\n",
       "            </tr>\n",
       "            \n",
       "            <tr>\n",
       "                <td>2</td>\n",
       "                <td>c</td>\n",
       "                <td>nan</td>\n",
       "                <td>nan</td>\n",
       "                <td>0.000000e+00</td>\n",
       "                <td>0.000000e+00</td>\n",
       "                <td></td>\n",
       "                <td></td>\n",
       "                <td></td>\n",
       "            </tr>\n",
       "            \n",
       "            <tr>\n",
       "                <td>3</td>\n",
       "                <td>x</td>\n",
       "                <td>nan</td>\n",
       "                <td>nan</td>\n",
       "                <td>0.000000e+00</td>\n",
       "                <td>0.000000e+00</td>\n",
       "                <td></td>\n",
       "                <td></td>\n",
       "                <td></td>\n",
       "            </tr>\n",
       "            \n",
       "            <tr>\n",
       "                <td>4</td>\n",
       "                <td>g</td>\n",
       "                <td>nan</td>\n",
       "                <td>nan</td>\n",
       "                <td>0.000000e+00</td>\n",
       "                <td>0.000000e+00</td>\n",
       "                <td></td>\n",
       "                <td></td>\n",
       "                <td></td>\n",
       "            </tr>\n",
       "            \n",
       "            </table>\n",
       "        \n",
       "            <pre id=\"WmPLlsGuzH\" style=\"display:none;\">\n",
       "            <textarea rows=\"14\" cols=\"50\" onclick=\"this.select()\" readonly>\\begin{tabular}{|c|r|r|r|r|r|r|r|c|}\n",
       "\\hline\n",
       " & Name & Value & Para Error & Error+ & Error- & Limit+ & Limit- & FIXED\\\\\n",
       "\\hline\n",
       "1 & y &   nan &   nan &  &  &  &  & \\\\\n",
       "\\hline\n",
       "2 & c &   nan &   nan &  &  &  &  & \\\\\n",
       "\\hline\n",
       "3 & x &   nan &   nan &  &  &  &  & \\\\\n",
       "\\hline\n",
       "4 & g &   nan &   nan &  &  &  &  & \\\\\n",
       "\\hline\n",
       "\\end{tabular}</textarea>\n",
       "            </pre>\n",
       "            "
      ]
     },
     "metadata": {},
     "output_type": "display_data"
    },
    {
     "data": {
      "text/html": [
       "<hr>"
      ]
     },
     "metadata": {},
     "output_type": "display_data"
    }
   ],
   "source": [
    "m.migrad();"
   ]
  },
  {
   "cell_type": "code",
   "execution_count": 64,
   "metadata": {
    "collapsed": false
   },
   "outputs": [
    {
     "name": "stdout",
     "output_type": "stream",
     "text": [
      "-0.00938831\n"
     ]
    }
   ],
   "source": [
    "print (nll([C_true, x_true, gamma_true+1],all_lambda[window],all_flux[window])-nll([C_true+0, x_true, gamma_true],all_lambda[window],all_flux[window]))/nll([C_true+0, x_true, gamma_true],all_lambda[window],all_flux[window]) "
   ]
  },
  {
   "cell_type": "code",
   "execution_count": 104,
   "metadata": {
    "collapsed": false
   },
   "outputs": [],
   "source": [
    "def new_func(p):\n",
    "    a,b,c = p\n",
    "    return nll([a,b,c],all_lambda[window],all_flux[window])\n",
    "\n",
    "def construct_jacobian(func,epsilon):\n",
    "    def jac(x, *args):\n",
    "        x0 = np.asfarray(x)\n",
    "        f0 = np.atleast_1d(func(*((x0,)+args)))\n",
    "        jac = np.zeros([len(x0),len(f0)])\n",
    "        dx = np.zeros(len(x0))\n",
    "        for i in range(len(x0)):\n",
    "            dx[i] = epsilon\n",
    "            jac[i] = (func(*((x0+dx,)+args)) - f0)/epsilon\n",
    "            dx[i] = 0.0\n",
    "\n",
    "        return jac.transpose()\n",
    "    return jac\n"
   ]
  },
  {
   "cell_type": "code",
   "execution_count": 113,
   "metadata": {
    "collapsed": false
   },
   "outputs": [],
   "source": [
    "trial = construct_jacobian(new_func,1.e-2)"
   ]
  },
  {
   "cell_type": "code",
   "execution_count": 114,
   "metadata": {
    "collapsed": false
   },
   "outputs": [
    {
     "name": "stdout",
     "output_type": "stream",
     "text": [
      "[[  41.796875   -3.125    -352.34375 ]]\n"
     ]
    }
   ],
   "source": [
    "print trial([C_true, x_true, gamma_true])"
   ]
  },
  {
   "cell_type": "code",
   "execution_count": 36,
   "metadata": {
    "collapsed": false
   },
   "outputs": [
    {
     "data": {
      "text/plain": [
       "array([[   0.   ,    0.   , -390.625]])"
      ]
     },
     "execution_count": 36,
     "metadata": {},
     "output_type": "execute_result"
    }
   ],
   "source": [
    "nll_j([C_true, x_true, gamma_true],all_lambda[window],all_flux[window])"
   ]
  },
  {
   "cell_type": "code",
   "execution_count": 43,
   "metadata": {
    "collapsed": true
   },
   "outputs": [],
   "source": [
    "def nll_j(a,b,c):\n",
    "    return nll([a,b,c],all_lambda[window],all_flux[window])"
   ]
  },
  {
   "cell_type": "code",
   "execution_count": 44,
   "metadata": {
    "collapsed": false
   },
   "outputs": [],
   "source": [
    "nll_jj = construct_jacobian(nll_j,1.e-5)"
   ]
  },
  {
   "cell_type": "code",
   "execution_count": 46,
   "metadata": {
    "collapsed": false
   },
   "outputs": [
    {
     "ename": "TypeError",
     "evalue": "len() of unsized object",
     "output_type": "error",
     "traceback": [
      "\u001b[0;31m---------------------------------------------------------------------------\u001b[0m",
      "\u001b[0;31mTypeError\u001b[0m                                 Traceback (most recent call last)",
      "\u001b[0;32m<ipython-input-46-6ce5f4b1b207>\u001b[0m in \u001b[0;36m<module>\u001b[0;34m()\u001b[0m\n\u001b[0;32m----> 1\u001b[0;31m \u001b[0;32mprint\u001b[0m \u001b[0mnll_jj\u001b[0m\u001b[0;34m(\u001b[0m\u001b[0mC_true\u001b[0m\u001b[0;34m,\u001b[0m \u001b[0mx_true\u001b[0m\u001b[0;34m,\u001b[0m \u001b[0mgamma_true\u001b[0m\u001b[0;34m)\u001b[0m\u001b[0;34m\u001b[0m\u001b[0m\n\u001b[0m",
      "\u001b[0;32m<ipython-input-29-5b38129fc888>\u001b[0m in \u001b[0;36mjac\u001b[0;34m(x, *args)\u001b[0m\n\u001b[1;32m      5\u001b[0m         \u001b[0mx0\u001b[0m \u001b[0;34m=\u001b[0m \u001b[0mnp\u001b[0m\u001b[0;34m.\u001b[0m\u001b[0masfarray\u001b[0m\u001b[0;34m(\u001b[0m\u001b[0mx\u001b[0m\u001b[0;34m)\u001b[0m\u001b[0;34m\u001b[0m\u001b[0m\n\u001b[1;32m      6\u001b[0m         \u001b[0mf0\u001b[0m \u001b[0;34m=\u001b[0m \u001b[0mnp\u001b[0m\u001b[0;34m.\u001b[0m\u001b[0matleast_1d\u001b[0m\u001b[0;34m(\u001b[0m\u001b[0mfunc\u001b[0m\u001b[0;34m(\u001b[0m\u001b[0;34m*\u001b[0m\u001b[0;34m(\u001b[0m\u001b[0;34m(\u001b[0m\u001b[0mx0\u001b[0m\u001b[0;34m,\u001b[0m\u001b[0;34m)\u001b[0m\u001b[0;34m+\u001b[0m\u001b[0margs\u001b[0m\u001b[0;34m)\u001b[0m\u001b[0;34m)\u001b[0m\u001b[0;34m)\u001b[0m\u001b[0;34m\u001b[0m\u001b[0m\n\u001b[0;32m----> 7\u001b[0;31m         \u001b[0mjac\u001b[0m \u001b[0;34m=\u001b[0m \u001b[0mnp\u001b[0m\u001b[0;34m.\u001b[0m\u001b[0mzeros\u001b[0m\u001b[0;34m(\u001b[0m\u001b[0;34m[\u001b[0m\u001b[0mlen\u001b[0m\u001b[0;34m(\u001b[0m\u001b[0mx0\u001b[0m\u001b[0;34m)\u001b[0m\u001b[0;34m,\u001b[0m\u001b[0mlen\u001b[0m\u001b[0;34m(\u001b[0m\u001b[0mf0\u001b[0m\u001b[0;34m)\u001b[0m\u001b[0;34m]\u001b[0m\u001b[0;34m)\u001b[0m\u001b[0;34m\u001b[0m\u001b[0m\n\u001b[0m\u001b[1;32m      8\u001b[0m         \u001b[0mdx\u001b[0m \u001b[0;34m=\u001b[0m \u001b[0mnp\u001b[0m\u001b[0;34m.\u001b[0m\u001b[0mzeros\u001b[0m\u001b[0;34m(\u001b[0m\u001b[0mlen\u001b[0m\u001b[0;34m(\u001b[0m\u001b[0mx0\u001b[0m\u001b[0;34m)\u001b[0m\u001b[0;34m)\u001b[0m\u001b[0;34m\u001b[0m\u001b[0m\n\u001b[1;32m      9\u001b[0m         \u001b[0;32mfor\u001b[0m \u001b[0mi\u001b[0m \u001b[0;32min\u001b[0m \u001b[0mrange\u001b[0m\u001b[0;34m(\u001b[0m\u001b[0mlen\u001b[0m\u001b[0;34m(\u001b[0m\u001b[0mx0\u001b[0m\u001b[0;34m)\u001b[0m\u001b[0;34m)\u001b[0m\u001b[0;34m:\u001b[0m\u001b[0;34m\u001b[0m\u001b[0m\n",
      "\u001b[0;31mTypeError\u001b[0m: len() of unsized object"
     ]
    }
   ],
   "source": [
    "print nll_jj(C_true, x_true, gamma_true)"
   ]
  },
  {
   "cell_type": "code",
   "execution_count": 47,
   "metadata": {
    "collapsed": false
   },
   "outputs": [
    {
     "ename": "NameError",
     "evalue": "name 'f0' is not defined",
     "output_type": "error",
     "traceback": [
      "\u001b[0;31m---------------------------------------------------------------------------\u001b[0m",
      "\u001b[0;31mNameError\u001b[0m                                 Traceback (most recent call last)",
      "\u001b[0;32m<ipython-input-47-d6ccde516b9b>\u001b[0m in \u001b[0;36m<module>\u001b[0;34m()\u001b[0m\n\u001b[0;32m----> 1\u001b[0;31m \u001b[0;32mprint\u001b[0m \u001b[0mlen\u001b[0m\u001b[0;34m(\u001b[0m\u001b[0mf0\u001b[0m\u001b[0;34m)\u001b[0m\u001b[0;34m\u001b[0m\u001b[0m\n\u001b[0m",
      "\u001b[0;31mNameError\u001b[0m: name 'f0' is not defined"
     ]
    }
   ],
   "source": [
    "print len(np.atleast_1d(func(*((np.asfarray(C_true, x_true, gamma_true),)+args))))"
   ]
  },
  {
   "cell_type": "code",
   "execution_count": 25,
   "metadata": {
    "collapsed": false
   },
   "outputs": [
    {
     "data": {
      "text/plain": [
       "[<matplotlib.lines.Line2D at 0x11230a050>]"
      ]
     },
     "execution_count": 25,
     "metadata": {},
     "output_type": "execute_result"
    },
    {
     "data": {
      "image/png": "[encoded data removed]",
      "text/plain": [
       "<matplotlib.figure.Figure at 0x1121dd190>"
      ]
     },
     "metadata": {},
     "output_type": "display_data"
    }
   ],
   "source": [
    "plt.plot(all_lambda,all_flux)"
   ]
  },
  {
   "cell_type": "code",
   "execution_count": 44,
   "metadata": {
    "collapsed": false
   },
   "outputs": [
    {
     "name": "stdout",
     "output_type": "stream",
     "text": [
      "6563.02734375\n"
     ]
    },
    {
     "data": {
      "text/plain": [
       "[<matplotlib.lines.Line2D at 0x117b40650>]"
      ]
     },
     "execution_count": 44,
     "metadata": {},
     "output_type": "execute_result"
    },
    {
     "data": {
      "image/png": "[encoded data removed]",
      "text/plain": [
       "<matplotlib.figure.Figure at 0x116957c90>"
      ]
     },
     "metadata": {},
     "output_type": "display_data"
    }
   ],
   "source": [
    "window = np.where(np.logical_and(all_lambda>= (line - 50), all_lambda<= (line + 50)))[0]\n",
    "\n",
    "plt.plot(all_lambda[window], all_flux[window])\n",
    "\n",
    "print x_true\n",
    "plt.plot(all_lambda[window], absorb_lorentz(8,   C_true,   6.56302734e+03, gamma_true, all_lambda[window]), color='red')"
   ]
  },
  {
   "cell_type": "code",
   "execution_count": 77,
   "metadata": {
    "collapsed": false
   },
   "outputs": [
    {
     "name": "stdout",
     "output_type": "stream",
     "text": [
      "72.9816\n"
     ]
    }
   ],
   "source": [
    "print nll([8.1193279e+00+1,   14.67441101e+01,   6.56552734e+03, 7.672009523752565],all_lambda[window], all_flux[window])\n"
   ]
  },
  {
   "cell_type": "code",
   "execution_count": 102,
   "metadata": {
    "collapsed": false
   },
   "outputs": [],
   "source": [
    "result = op.minimize(nll, [8.1193279e+00,   14.67441101e+01,   6.56552734e+03, 7.672009523752565], args=(all_lambda[window],all_flux[window]), \\\n",
    "                     tol=1e-2, jac=[])"
   ]
  },
  {
   "cell_type": "code",
   "execution_count": 98,
   "metadata": {
    "collapsed": false
   },
   "outputs": [
    {
     "name": "stdout",
     "output_type": "stream",
     "text": [
      "      fun: 35.754223\n",
      " hess_inv: array([[1, 0, 0, 0],\n",
      "       [0, 1, 0, 0],\n",
      "       [0, 0, 1, 0],\n",
      "       [0, 0, 0, 1]])\n",
      "      jac: array([ 0.,  0.,  0.,  0.])\n",
      "  message: 'Optimization terminated successfully.'\n",
      "     nfev: 6\n",
      "      nit: 0\n",
      "     njev: 1\n",
      "   status: 0\n",
      "  success: True\n",
      "        x: array([    8.1193279 ,   146.7441101 ,  6565.52734   ,     7.67200952])\n"
     ]
    }
   ],
   "source": [
    "print result"
   ]
  },
  {
   "cell_type": "code",
   "execution_count": 28,
   "metadata": {
    "collapsed": false
   },
   "outputs": [
    {
     "name": "stdout",
     "output_type": "stream",
     "text": [
      "5.88958596618\n"
     ]
    }
   ],
   "source": [
    "print gamma_true"
   ]
  },
  {
   "cell_type": "code",
   "execution_count": 95,
   "metadata": {
    "collapsed": false
   },
   "outputs": [
    {
     "name": "stdout",
     "output_type": "stream",
     "text": [
      "[[-22.17266083   0.68408966   4.35287476  -5.81378937]]\n"
     ]
    }
   ],
   "source": [
    "print approx_jacobian([    8.1193279 ,   146.7441101 ,  6565.52734   ,     7.67200952],nll,,all_lambda[window],all_flux[window])"
   ]
  },
  {
   "cell_type": "code",
   "execution_count": 101,
   "metadata": {
    "collapsed": false
   },
   "outputs": [
    {
     "name": "stdout",
     "output_type": "stream",
     "text": [
      "[[ 0.  0.  0.  0.]]\n",
      "[[-26.70288086   0.           0.          -7.62939453]]\n",
      "[[-29.75463867   0.76293945   0.          -6.10351562]]\n",
      "[[-28.80096436   0.72479248   0.          -5.98907471]]\n",
      "[[-28.71322441   0.68664545   4.02069092  -6.06536818]]\n",
      "[[-28.11317444   0.68244934   4.03404236  -6.04324341]]\n",
      "[[-22.17266083   0.68408966   4.35287476  -5.81378937]]\n",
      "[[ 37.22740555   0.69638062   6.42884827  -3.8596344 ]]\n"
     ]
    }
   ],
   "source": [
    "for stuff in [1.e-7,1.e-6,1.e-5,1.e-4,1.e-3,1.e-2,1.e-1,1.e0]:\n",
    "    print approx_jacobian([    8.1193279 ,   146.7441101 ,  6565.52734   ,     7.67200952],nll,stuff,all_lambda[window],all_flux[window])"
   ]
  },
  {
   "cell_type": "code",
   "execution_count": null,
   "metadata": {
    "collapsed": true
   },
   "outputs": [],
   "source": []
  }
 ],
 "metadata": {
  "anaconda-cloud": {},
  "kernelspec": {
   "display_name": "Python [conda root]",
   "language": "python",
   "name": "conda-root-py"
  },
  "language_info": {
   "codemirror_mode": {
    "name": "ipython",
    "version": 2
   },
   "file_extension": ".py",
   "mimetype": "text/x-python",
   "name": "python",
   "nbconvert_exporter": "python",
   "pygments_lexer": "ipython2",
   "version": "2.7.12"
  }
 },
 "nbformat": 4,
 "nbformat_minor": 1
}
