{
 "cells": [
  {
   "cell_type": "markdown",
   "metadata": {},
   "source": [
    "# WD Database for Python\n",
    "\n",
    "The goal is to download the following database: http://vizier.u-strasbg.fr/viz-bin/VizieR?-source=J%2FMNRAS%2F455%2F3413 for use in a machine-learning inspired scheme to "
   ]
  },
  {
   "cell_type": "code",
   "execution_count": 1,
   "metadata": {
    "collapsed": false
   },
   "outputs": [
    {
     "name": "stderr",
     "output_type": "stream",
     "text": [
      "//anaconda/envs/py27/lib/python2.7/site-packages/astroquery/sdss/__init__.py:28: UserWarning: Experimental: SDSS has not yet been refactored to have its API match the rest of astroquery (but it's nearly there).\n",
      "  warnings.warn(\"Experimental: SDSS has not yet been refactored to have its API \"\n"
     ]
    }
   ],
   "source": [
    "#Preamble. Standard packages for to load\n",
    "import astropy\n",
    "from astropy.table import Table, Column, MaskedColumn, vstack \n",
    "import numpy as np\n",
    "from astroquery.vizier import Vizier\n",
    "import matplotlib.pyplot as plt\n",
    "import urllib2\n",
    "# special IPython command to prepare the notebook for matplotlib\n",
    "%matplotlib inline \n",
    "from astroquery.sdss import SDSS\n",
    "from astropy import units as u\n",
    "from astropy import coordinates as coords\n",
    "from astropy.io import fits\n",
    "import astropy.io.ascii as ascii\n",
    "from astropy.modeling import models, fitting\n",
    "from numpy import ones\n",
    "from numpy.linalg import lstsq\n",
    "import pandas as pd\n",
    "import os\n",
    "import random\n",
    "from astropy.modeling.models import custom_model\n",
    "from levy import levy\n",
    "from multiprocessing import Process"
   ]
  },
  {
   "cell_type": "code",
   "execution_count": 2,
   "metadata": {
    "collapsed": true
   },
   "outputs": [],
   "source": [
    "catalog_list_1 = Vizier.find_catalogs('New white dwarf SDSS DR12')\n",
    "catalog_list_2 = Vizier.find_catalogs('J/ApJS/204/5')\n",
    "catalog_list_3 = Vizier.find_catalogs('J/MNRAS/446/4078')"
   ]
  },
  {
   "cell_type": "code",
   "execution_count": 3,
   "metadata": {
    "collapsed": false
   },
   "outputs": [
    {
     "name": "stdout",
     "output_type": "stream",
     "text": [
      "{u'J/MNRAS/455/3413': u'New white dwarf and subdwarf stars in SDSS DR12 (Kepler+, 2016)'}\n",
      "{u'J/ApJS/204/5': u'SDSS DR7 white dwarf catalog (Kleinman+, 2013)'}\n",
      "{u'J/MNRAS/446/4078': u'New white dwarf stars in SDSS DR10 (Kepler+, 2015)'}\n"
     ]
    }
   ],
   "source": [
    "print({k:v.description for k,v in catalog_list_1.items()})\n",
    "print({k:v.description for k,v in catalog_list_2.items()})\n",
    "print({k:v.description for k,v in catalog_list_3.items()})"
   ]
  },
  {
   "cell_type": "code",
   "execution_count": 4,
   "metadata": {
    "collapsed": false
   },
   "outputs": [
    {
     "name": "stderr",
     "output_type": "stream",
     "text": [
      "//anaconda/envs/py27/lib/python2.7/site-packages/astroquery/vizier/core.py:683: UserWarning: VOTABLE parsing raised exception: None:336:189: ValueError: invalid literal for int() with base 10: 'null' (in row 147, col 'f_umag')\n",
      "  warnings.warn(\"VOTABLE parsing raised exception: {0}\".format(ex))\n"
     ]
    }
   ],
   "source": [
    "Vizier.ROW_LIMIT = -1\n",
    "catalogs_1 = Vizier.get_catalogs(catalog_list_1.keys())\n",
    "catalogs_2 = Vizier.get_catalogs(catalog_list_2.keys())\n",
    "catalogs_3 = Vizier.get_catalogs(catalog_list_3.keys())"
   ]
  },
  {
   "cell_type": "code",
   "execution_count": 5,
   "metadata": {
    "collapsed": false
   },
   "outputs": [
    {
     "name": "stdout",
     "output_type": "stream",
     "text": [
      "TableList with 1 tables:\n",
      "\t'0:J/MNRAS/455/3413/table6' with 34 column(s) and 6647 row(s) \n",
      "TableList with 1 tables:\n",
      "\t'0:J/ApJS/204/5/table2' with 45 column(s) and 20407 row(s) \n",
      "TableList with 1 tables:\n",
      "\t'0:J/MNRAS/446/4078/table6' with 30 column(s) and 9112 row(s) \n"
     ]
    }
   ],
   "source": [
    "print(catalogs_1)\n",
    "print(catalogs_2)\n",
    "print(catalogs_3)"
   ]
  },
  {
   "cell_type": "code",
   "execution_count": 6,
   "metadata": {
    "collapsed": false
   },
   "outputs": [
    {
     "name": "stderr",
     "output_type": "stream",
     "text": [
      "WARNING: MergeConflictWarning: Cannot merge meta key u'width' types <type 'int'> and <type 'int'>, choosing width=10 [astropy.utils.metadata]\n",
      "WARNING: MergeConflictWarning: Cannot merge meta key u'precision' types <type 'unicode'> and <type 'unicode'>, choosing precision=u'6' [astropy.utils.metadata]\n",
      "WARNING: MergeConflictWarning: In merged column '_RAJ2000' the 'format' attribute does not match ({:8.4f} != {:10.6f}).  Using {:10.6f} for merged output [astropy.table.operations]\n",
      "WARNING: MergeConflictWarning: In merged column '_RAJ2000' the 'description' attribute does not match (Right ascension (FK5, Equinox=J2000.0) (computed by VizieR, not part of the original data) != Right ascension (FK5, Equinox=J2000.0) at Epoch=J2000, proper motions taken into account  (computed by VizieR, not part of the original data)).  Using Right ascension (FK5, Equinox=J2000.0) at Epoch=J2000, proper motions taken into account  (computed by VizieR, not part of the original data) for merged output [astropy.table.operations]\n",
      "WARNING: MergeConflictWarning: Cannot merge meta key u'width' types <type 'int'> and <type 'int'>, choosing width=9 [astropy.utils.metadata]\n",
      "WARNING: MergeConflictWarning: Cannot merge meta key u'precision' types <type 'unicode'> and <type 'unicode'>, choosing precision=u'5' [astropy.utils.metadata]\n",
      "WARNING: MergeConflictWarning: In merged column '_RAJ2000' the 'format' attribute does not match ({:10.6f} != {:9.5f}).  Using {:9.5f} for merged output [astropy.table.operations]\n",
      "WARNING: MergeConflictWarning: In merged column '_RAJ2000' the 'description' attribute does not match (Right ascension (FK5, Equinox=J2000.0) at Epoch=J2000, proper motions taken into account  (computed by VizieR, not part of the original data) != Right ascension (FK5, Equinox=J2000.0) (computed by VizieR, not part of the original data)).  Using Right ascension (FK5, Equinox=J2000.0) (computed by VizieR, not part of the original data) for merged output [astropy.table.operations]\n",
      "WARNING: MergeConflictWarning: In merged column '_DEJ2000' the 'format' attribute does not match ({:8.4f} != {:10.6f}).  Using {:10.6f} for merged output [astropy.table.operations]\n",
      "WARNING: MergeConflictWarning: In merged column '_DEJ2000' the 'description' attribute does not match (Declination (FK5, Equinox=J2000.0) (computed by VizieR, not part of the original data) != Declination (FK5, Equinox=J2000.0) at Epoch=J2000, proper motions taken into account  (computed by VizieR, not part of the original data)).  Using Declination (FK5, Equinox=J2000.0) at Epoch=J2000, proper motions taken into account  (computed by VizieR, not part of the original data) for merged output [astropy.table.operations]\n",
      "WARNING: MergeConflictWarning: In merged column '_DEJ2000' the 'format' attribute does not match ({:10.6f} != {:9.5f}).  Using {:9.5f} for merged output [astropy.table.operations]\n",
      "WARNING: MergeConflictWarning: In merged column '_DEJ2000' the 'description' attribute does not match (Declination (FK5, Equinox=J2000.0) at Epoch=J2000, proper motions taken into account  (computed by VizieR, not part of the original data) != Declination (FK5, Equinox=J2000.0) (computed by VizieR, not part of the original data)).  Using Declination (FK5, Equinox=J2000.0) (computed by VizieR, not part of the original data) for merged output [astropy.table.operations]\n",
      "WARNING: MergeConflictWarning: Cannot merge meta key u'ucd' types <type 'unicode'> and <type 'unicode'>, choosing ucd=u'ID_MAIN' [astropy.utils.metadata]\n",
      "WARNING: MergeConflictWarning: In merged column 'SDSS' the 'description' attribute does not match (SDSS object name (HHMMSS.ss+DDMMSS.s) != SDSS object name (HHMMSS.ss+DDMMSS.s; J2000)).  Using SDSS object name (HHMMSS.ss+DDMMSS.s; J2000) for merged output [astropy.table.operations]\n",
      "WARNING: MergeConflictWarning: In merged column 'SDSS' the 'description' attribute does not match (SDSS object name (HHMMSS.ss+DDMMSS.s; J2000) != SDSS J designation (HHMMSS.ss+DDMMSS.ss)).  Using SDSS J designation (HHMMSS.ss+DDMMSS.ss) for merged output [astropy.table.operations]\n",
      "WARNING: MergeConflictWarning: Cannot merge meta key u'width' types <type 'int'> and <type 'int'>, choosing width=3 [astropy.utils.metadata]\n",
      "WARNING: MergeConflictWarning: Cannot merge meta key u'width' types <type 'int'> and <type 'int'>, choosing width=5 [astropy.utils.metadata]\n",
      "WARNING: MergeConflictWarning: Cannot merge meta key u'precision' types <type 'unicode'> and <type 'unicode'>, choosing precision=u'2' [astropy.utils.metadata]\n",
      "WARNING: MergeConflictWarning: In merged column 'umag' the 'format' attribute does not match ({:6.3f} != {:5.2f}).  Using {:5.2f} for merged output [astropy.table.operations]\n",
      "WARNING: MergeConflictWarning: In merged column 'umag' the 'description' attribute does not match (SDSS u-band PSF magnitude != SDSS u band PSF magnitude {\\em\\fg{red3}(red values have a non-zero flag)}).  Using SDSS u band PSF magnitude {\\em\\fg{red3}(red values have a non-zero flag)} for merged output [astropy.table.operations]\n",
      "WARNING: MergeConflictWarning: In merged column 'umag' the 'description' attribute does not match (SDSS u band PSF magnitude {\\em\\fg{red3}(red values have a non-zero flag)} != SDSS u-band PSF magnitude).  Using SDSS u-band PSF magnitude for merged output [astropy.table.operations]\n",
      "WARNING: MergeConflictWarning: In merged column 'e_umag' the 'format' attribute does not match ({:6.3f} != {:5.2f}).  Using {:5.2f} for merged output [astropy.table.operations]\n",
      "WARNING: MergeConflictWarning: In merged column 'e_umag' the 'description' attribute does not match (rms uncertainty on umag != Uncertainty in umag).  Using Uncertainty in umag for merged output [astropy.table.operations]\n",
      "WARNING: MergeConflictWarning: In merged column 'e_umag' the 'description' attribute does not match (Uncertainty in umag != rms uncertainty on umag).  Using rms uncertainty on umag for merged output [astropy.table.operations]\n",
      "WARNING: MergeConflictWarning: In merged column 'gmag' the 'format' attribute does not match ({:6.3f} != {:5.2f}).  Using {:5.2f} for merged output [astropy.table.operations]\n",
      "WARNING: MergeConflictWarning: In merged column 'gmag' the 'description' attribute does not match (SDSS g-band PSF magnitude != ? SDSS g band PSF magnitude {\\em\\fg{red3}(red values have a non-zero flag)}).  Using ? SDSS g band PSF magnitude {\\em\\fg{red3}(red values have a non-zero flag)} for merged output [astropy.table.operations]\n",
      "WARNING: MergeConflictWarning: In merged column 'gmag' the 'description' attribute does not match (? SDSS g band PSF magnitude {\\em\\fg{red3}(red values have a non-zero flag)} != SDSS g-band PSF magnitude).  Using SDSS g-band PSF magnitude for merged output [astropy.table.operations]\n",
      "WARNING: MergeConflictWarning: In merged column 'e_gmag' the 'format' attribute does not match ({:6.3f} != {:5.2f}).  Using {:5.2f} for merged output [astropy.table.operations]\n",
      "WARNING: MergeConflictWarning: In merged column 'e_gmag' the 'description' attribute does not match (rms uncertainty on gmag != ? Uncertainty in gmag).  Using ? Uncertainty in gmag for merged output [astropy.table.operations]\n",
      "WARNING: MergeConflictWarning: In merged column 'e_gmag' the 'description' attribute does not match (? Uncertainty in gmag != rms uncertainty on gmag).  Using rms uncertainty on gmag for merged output [astropy.table.operations]\n",
      "WARNING: MergeConflictWarning: In merged column 'rmag' the 'format' attribute does not match ({:6.3f} != {:5.2f}).  Using {:5.2f} for merged output [astropy.table.operations]\n",
      "WARNING: MergeConflictWarning: In merged column 'rmag' the 'description' attribute does not match (SDSS r-band PSF magnitude != SDSS r band PSF magnitude {\\em\\fg{red3}(red values have a non-zero flag)}).  Using SDSS r band PSF magnitude {\\em\\fg{red3}(red values have a non-zero flag)} for merged output [astropy.table.operations]\n",
      "WARNING: MergeConflictWarning: In merged column 'rmag' the 'description' attribute does not match (SDSS r band PSF magnitude {\\em\\fg{red3}(red values have a non-zero flag)} != SDSS r-band PSF magnitude).  Using SDSS r-band PSF magnitude for merged output [astropy.table.operations]\n",
      "WARNING: MergeConflictWarning: In merged column 'e_rmag' the 'format' attribute does not match ({:6.3f} != {:5.2f}).  Using {:5.2f} for merged output [astropy.table.operations]\n",
      "WARNING: MergeConflictWarning: In merged column 'e_rmag' the 'description' attribute does not match (rms uncertainty on rmag != Uncertainty in rmag).  Using Uncertainty in rmag for merged output [astropy.table.operations]\n",
      "WARNING: MergeConflictWarning: In merged column 'e_rmag' the 'description' attribute does not match (Uncertainty in rmag != rms uncertainty on rmag).  Using rms uncertainty on rmag for merged output [astropy.table.operations]\n",
      "WARNING: MergeConflictWarning: In merged column 'imag' the 'format' attribute does not match ({:6.3f} != {:5.2f}).  Using {:5.2f} for merged output [astropy.table.operations]\n",
      "WARNING: MergeConflictWarning: In merged column 'imag' the 'description' attribute does not match (SDSS i-band PSF magnitude != SDSS i band PSF magnitude {\\em\\fg{red3}(red values have a non-zero flag)}).  Using SDSS i band PSF magnitude {\\em\\fg{red3}(red values have a non-zero flag)} for merged output [astropy.table.operations]\n",
      "WARNING: MergeConflictWarning: In merged column 'imag' the 'description' attribute does not match (SDSS i band PSF magnitude {\\em\\fg{red3}(red values have a non-zero flag)} != SDSS i-band PSF magnitude).  Using SDSS i-band PSF magnitude for merged output [astropy.table.operations]\n",
      "WARNING: MergeConflictWarning: In merged column 'e_imag' the 'format' attribute does not match ({:6.3f} != {:6.2f}).  Using {:6.2f} for merged output [astropy.table.operations]\n",
      "WARNING: MergeConflictWarning: In merged column 'e_imag' the 'description' attribute does not match (rms uncertainty on imag != Uncertainty in imag).  Using Uncertainty in imag for merged output [astropy.table.operations]\n",
      "WARNING: MergeConflictWarning: In merged column 'e_imag' the 'format' attribute does not match ({:6.2f} != {:5.2f}).  Using {:5.2f} for merged output [astropy.table.operations]\n",
      "WARNING: MergeConflictWarning: In merged column 'e_imag' the 'description' attribute does not match (Uncertainty in imag != rms uncertainty on imag).  Using rms uncertainty on imag for merged output [astropy.table.operations]\n",
      "WARNING: MergeConflictWarning: In merged column 'zmag' the 'format' attribute does not match ({:6.3f} != {:5.2f}).  Using {:5.2f} for merged output [astropy.table.operations]\n",
      "WARNING: MergeConflictWarning: In merged column 'zmag' the 'description' attribute does not match (SDSS z-band PSF magnitude != SDSS z band PSF magnitude {\\em\\fg{red3}(red values have a non-zero flag)}).  Using SDSS z band PSF magnitude {\\em\\fg{red3}(red values have a non-zero flag)} for merged output [astropy.table.operations]\n",
      "WARNING: MergeConflictWarning: In merged column 'zmag' the 'description' attribute does not match (SDSS z band PSF magnitude {\\em\\fg{red3}(red values have a non-zero flag)} != SDSS z-band PSF magnitude).  Using SDSS z-band PSF magnitude for merged output [astropy.table.operations]\n",
      "WARNING: MergeConflictWarning: In merged column 'e_zmag' the 'format' attribute does not match ({:6.3f} != {:5.2f}).  Using {:5.2f} for merged output [astropy.table.operations]\n",
      "WARNING: MergeConflictWarning: In merged column 'e_zmag' the 'description' attribute does not match (rms uncertainty on zmag != Uncertainty in zmag).  Using Uncertainty in zmag for merged output [astropy.table.operations]\n",
      "WARNING: MergeConflictWarning: In merged column 'e_zmag' the 'description' attribute does not match (Uncertainty in zmag != rms uncertainty on zmag).  Using rms uncertainty on zmag for merged output [astropy.table.operations]\n",
      "WARNING: MergeConflictWarning: Cannot merge meta key u'width' types <type 'int'> and <type 'int'>, choosing width=6 [astropy.utils.metadata]\n",
      "WARNING: MergeConflictWarning: Cannot merge meta key u'precision' types <type 'unicode'> and <type 'unicode'>, choosing precision=u'1' [astropy.utils.metadata]\n",
      "WARNING: MergeConflictWarning: In merged column 'pm' the 'format' attribute does not match ({:7.3f} != {:6.1f}).  Using {:6.1f} for merged output [astropy.table.operations]\n",
      "WARNING: MergeConflictWarning: In merged column 'pm' the 'description' attribute does not match (USNO proper motion != SDSS proper motion (arcsec/century)).  Using SDSS proper motion (arcsec/century) for merged output [astropy.table.operations]\n",
      "WARNING: MergeConflictWarning: In merged column 'pm' the 'unit' attribute does not match (mas / yr != 0.01 / yr).  Using 0.01 / yr for merged output [astropy.table.operations]\n",
      "WARNING: MergeConflictWarning: In merged column 'pm' the 'format' attribute does not match ({:6.1f} != {:5.2f}).  Using {:5.2f} for merged output [astropy.table.operations]\n",
      "WARNING: MergeConflictWarning: In merged column 'pm' the 'description' attribute does not match (SDSS proper motion (arcsec/century) != SDSS proper motion).  Using SDSS proper motion for merged output [astropy.table.operations]\n",
      "WARNING: MergeConflictWarning: In merged column 'Teff' the 'description' attribute does not match (? Effective temperature [NULL integer written as an empty string] != ? autofit effective temperature (3) [NULL integer written as an empty string]).  Using ? autofit effective temperature (3) [NULL integer written as an empty string] for merged output [astropy.table.operations]\n",
      "WARNING: MergeConflictWarning: In merged column 'Teff' the 'description' attribute does not match (? autofit effective temperature (3) [NULL integer written as an empty string] != Effective temperature (1)).  Using Effective temperature (1) for merged output [astropy.table.operations]\n",
      "WARNING: MergeConflictWarning: In merged column 'e_Teff' the 'description' attribute does not match (? rms uncertainty on Teff [NULL integer written as an empty string] != ? Uncertainty in Teff (3) [NULL integer written as an empty string]).  Using ? Uncertainty in Teff (3) [NULL integer written as an empty string] for merged output [astropy.table.operations]\n",
      "WARNING: MergeConflictWarning: In merged column 'e_Teff' the 'description' attribute does not match (? Uncertainty in Teff (3) [NULL integer written as an empty string] != rms uncertainty on Teff).  Using rms uncertainty on Teff for merged output [astropy.table.operations]\n",
      "WARNING: MergeConflictWarning: In merged column 'logg' the 'description' attribute does not match (? Surface gravity != Surface gravity (1)).  Using Surface gravity (1) for merged output [astropy.table.operations]\n",
      "WARNING: MergeConflictWarning: In merged column 'e_logg' the 'description' attribute does not match (? rms uncertainty on logg (1) != rms uncertainty on logg).  Using rms uncertainty on logg for merged output [astropy.table.operations]\n",
      "WARNING: MergeConflictWarning: In merged column 'Teff_3D_' the 'description' attribute does not match (? Teff for pure DAs and DBs [NULL integer written as an empty string] != ? Teff for pure DAs and DBs (1) [NULL integer written as an empty string]).  Using ? Teff for pure DAs and DBs (1) [NULL integer written as an empty string] for merged output [astropy.table.operations]\n",
      "WARNING: MergeConflictWarning: Cannot merge meta key u'null' types <type 'float'> and <type 'float'>, choosing null=nan [astropy.utils.metadata]\n",
      "WARNING: MergeConflictWarning: In merged column 'logg_3D_' the 'description' attribute does not match (? Surface gravity for pure DAs and DBs (2) != ? Surface gravity (1)).  Using ? Surface gravity (1) for merged output [astropy.table.operations]\n",
      "WARNING: MergeConflictWarning: Cannot merge meta key u'precision' types <type 'unicode'> and <type 'unicode'>, choosing precision=u'3' [astropy.utils.metadata]\n",
      "WARNING: MergeConflictWarning: In merged column 'Mass' the 'format' attribute does not match ({:8.5f} != {:6.3f}).  Using {:6.3f} for merged output [astropy.table.operations]\n",
      "WARNING: MergeConflictWarning: In merged column 'Mass' the 'description' attribute does not match (? Calculated mass, corrected to 3D convection != [0.06/1.753]? Calculated mass (for clean DAs and DBs only)).  Using [0.06/1.753]? Calculated mass (for clean DAs and DBs only) for merged output [astropy.table.operations]\n",
      "WARNING: MergeConflictWarning: In merged column 'Mass' the 'description' attribute does not match ([0.06/1.753]? Calculated mass (for clean DAs and DBs only) != ? Calculated mass).  Using ? Calculated mass for merged output [astropy.table.operations]\n",
      "WARNING: MergeConflictWarning: In merged column 'e_Mass' the 'format' attribute does not match ({:8.5f} != {:6.3f}).  Using {:6.3f} for merged output [astropy.table.operations]\n",
      "WARNING: MergeConflictWarning: In merged column 'e_Mass' the 'description' attribute does not match (? rms uncertainty on Mass != [0/0.494]? Uncertainty in Mass).  Using [0/0.494]? Uncertainty in Mass for merged output [astropy.table.operations]\n",
      "WARNING: MergeConflictWarning: Cannot merge meta key u'width' types <type 'int'> and <type 'int'>, choosing width=7 [astropy.utils.metadata]\n",
      "WARNING: MergeConflictWarning: Cannot merge meta key u'precision' types <type 'unicode'> and <type 'unicode'>, choosing precision=u'4' [astropy.utils.metadata]\n",
      "WARNING: MergeConflictWarning: In merged column 'e_Mass' the 'format' attribute does not match ({:6.3f} != {:7.4f}).  Using {:7.4f} for merged output [astropy.table.operations]\n",
      "WARNING: MergeConflictWarning: In merged column 'e_Mass' the 'description' attribute does not match ([0/0.494]? Uncertainty in Mass != ? rms uncertainty on Mass).  Using ? rms uncertainty on Mass for merged output [astropy.table.operations]\n",
      "WARNING: MergeConflictWarning: Cannot merge meta key u'ucd' types <type 'unicode'> and <type 'unicode'>, choosing ucd=u'CLASS_OBJECT' [astropy.utils.metadata]\n",
      "WARNING: MergeConflictWarning: In merged column 'Type' the 'description' attribute does not match (Human spectral type assigned to this spectrum != Human classification (2)).  Using Human classification (2) for merged output [astropy.table.operations]\n",
      "WARNING: MergeConflictWarning: Cannot merge meta key u'description' types <type 'unicode'> and <type 'unicode'>, choosing description=u'Catalog of white dwarfs' [astropy.utils.metadata]\n",
      "WARNING: MergeConflictWarning: Cannot merge meta key u'name' types <type 'unicode'> and <type 'unicode'>, choosing name=u'J/ApJS/204/5/table2' [astropy.utils.metadata]\n",
      "WARNING: MergeConflictWarning: Cannot merge meta key u'ID' types <type 'unicode'> and <type 'unicode'>, choosing ID=u'J_ApJS_204_5_table2' [astropy.utils.metadata]\n",
      "WARNING: MergeConflictWarning: Cannot merge meta key u'description' types <type 'unicode'> and <type 'unicode'>, choosing description=u'New white dwarf stars' [astropy.utils.metadata]\n",
      "WARNING: MergeConflictWarning: Cannot merge meta key u'name' types <type 'unicode'> and <type 'unicode'>, choosing name=u'J/MNRAS/446/4078/table6' [astropy.utils.metadata]\n",
      "WARNING: MergeConflictWarning: Cannot merge meta key u'ID' types <type 'unicode'> and <type 'unicode'>, choosing ID=u'J_MNRAS_446_4078_table6' [astropy.utils.metadata]\n"
     ]
    }
   ],
   "source": [
    "catalogs = vstack([catalogs_1[0], catalogs_2[0], catalogs_3[0]])"
   ]
  },
  {
   "cell_type": "code",
   "execution_count": 7,
   "metadata": {
    "collapsed": false
   },
   "outputs": [],
   "source": [
    "#This is a way to add coordinates if we need to. I don't think we need to right now.\n",
    "#catalogs['Coordinates'] = coords.SkyCoord(catalogs['_RAJ2000'], catalogs['_DEJ2000'], frame='icrs')"
   ]
  },
  {
   "cell_type": "code",
   "execution_count": 8,
   "metadata": {
    "collapsed": false
   },
   "outputs": [],
   "source": [
    "#Here we do clean-up trying to merge those columns which were not properly merged\n",
    "#because they were named different things in different catalogs. These include\n",
    "#SDSS identifiers, a weird underscore for a log(g) parameter, different ways of\n",
    "#specifying spectral type, and different ways of calibrating signal to noise.\n",
    "\n",
    "PMF = catalogs['PMF']\n",
    "\n",
    "for ind,obj in enumerate(PMF):\n",
    "    if type(obj) != np.ma.core.MaskedConstant:\n",
    "        split_PMF = obj.split('-')\n",
    "        catalogs['Plate'][ind] = split_PMF[0]\n",
    "        catalogs['MJD'][ind] = split_PMF[1]\n",
    "        catalogs['Fiber'][ind] = split_PMF[2]\n",
    "        \n",
    "PMJ = catalogs['PMJ']\n",
    "\n",
    "for ind,obj in enumerate(PMJ):\n",
    "    if type(obj) != np.ma.core.MaskedConstant:\n",
    "        split_PMJ = obj.split('-')\n",
    "        catalogs['Plate'][ind] = split_PMJ[0]\n",
    "        catalogs['MJD'][ind] = split_PMJ[1]\n",
    "        catalogs['Fiber'][ind] = split_PMJ[2]\n",
    "\n",
    "log_g_ah = catalogs['log_g_']\n",
    "\n",
    "for ind,obj in enumerate(log_g_ah):\n",
    "    if type(catalogs['logg'][ind]) == np.ma.core.MaskedConstant:\n",
    "        if type(obj) != np.ma.core.MaskedConstant:\n",
    "            catalogs['logg'][ind] = obj\n",
    "            catalogs['e_logg'][ind] = catalogs['e_log_g_'][ind] \n",
    "\n",
    "Types = catalogs['SpType']\n",
    "\n",
    "for ind,obj in enumerate(Types):\n",
    "    if type(catalogs['Type'][ind]) == np.ma.core.MaskedConstant:\n",
    "        if type(obj) != np.ma.core.MaskedConstant:\n",
    "            catalogs['Type'][ind] = obj\n",
    "            \n",
    "SN = catalogs['SNg']\n",
    "\n",
    "for ind,obj in enumerate(SN):\n",
    "    if type(catalogs['S_N'][ind]) == np.ma.core.MaskedConstant:\n",
    "        if type(obj) != np.ma.core.MaskedConstant:\n",
    "            catalogs['S_N'][ind] = obj"
   ]
  },
  {
   "cell_type": "markdown",
   "metadata": {},
   "source": [
    "### Let's select a quality sample of WD spectra of Type DA"
   ]
  },
  {
   "cell_type": "code",
   "execution_count": 9,
   "metadata": {
    "collapsed": false
   },
   "outputs": [
    {
     "name": "stdout",
     "output_type": "stream",
     "text": [
      "('We start with', 21539, 'WDs')\n",
      "('We removed', 0, 'systems with NaNs')\n",
      "('Number with determined log g', 21515)\n",
      "('Number with S/N > 10', 8749)\n",
      "('Number with log g error less than 0.2', 8667)\n",
      "('Median T_eff error:', 161.0)\n",
      "('Median log g error:', 0.05299999937415123)\n"
     ]
    },
    {
     "name": "stderr",
     "output_type": "stream",
     "text": [
      "//anaconda/envs/py27/lib/python2.7/site-packages/numpy/core/fromnumeric.py:639: UserWarning: Warning: 'partition' will ignore the 'mask' of the MaskedColumn.\n",
      "  a.partition(kth, axis=axis, kind=kind, order=order)\n"
     ]
    }
   ],
   "source": [
    "WD = catalogs[catalogs['Type'] == 'DA']\n",
    "\n",
    "print(\"We start with\", len(WD), \"WDs\")\n",
    "\n",
    "# First, we want to remove systems with NaN's - only found in log g\n",
    "good_WD = WD[np.where(~np.isnan(WD['logg']))]\n",
    "print(\"We removed\", len(WD[np.isnan(WD['logg'])]), \"systems with NaNs\")\n",
    "\n",
    "# Now, we want to remove systems in which the log g was assumed. These all have e_logg=0.0\n",
    "good_WD = good_WD[good_WD['e_logg'] != 0.0]\n",
    "print(\"Number with determined log g\",len(good_WD))\n",
    "\n",
    "# Next, we only want objects with a S/N above 10\n",
    "good_WD = good_WD[good_WD['S_N']>10]\n",
    "print(\"Number with S/N > 10\",len(good_WD))\n",
    "\n",
    "# Next, we want objects with log g uncertainties smaller than, say, 0.2\n",
    "good_WD = good_WD[good_WD['e_logg']<0.2]\n",
    "print(\"Number with log g error less than 0.2\",len(good_WD))\n",
    "\n",
    "# # Let's do the same with T_eff uncertainties - limit to 15% of T_eff\n",
    "# good_WD = good_WD[good_WD['e_Teff']<0.15*good_WD['Teff']]\n",
    "# print(\"Number with Teff uncertainties less than 15%\",len(good_WD))\n",
    "\n",
    "# Print the median Teff error\n",
    "print(\"Median T_eff error:\", np.median(good_WD['e_Teff']))\n",
    "\n",
    "# Print the median log g error\n",
    "print(\"Median log g error:\", np.median(good_WD['e_logg']))"
   ]
  },
  {
   "cell_type": "code",
   "execution_count": null,
   "metadata": {
    "collapsed": true
   },
   "outputs": [],
   "source": []
  },
  {
   "cell_type": "code",
   "execution_count": 10,
   "metadata": {
    "collapsed": false
   },
   "outputs": [],
   "source": [
    "def download_data(cat):\n",
    "    directory = '../data/'\n",
    "    cat['file'] = MaskedColumn(length=len(cat),dtype='S32')\n",
    "    for ind,plate in enumerate(cat['Plate']):\n",
    "        filename = 'DA_high_SN_'+str(ind).zfill(5)+'.fits'\n",
    "        if os.path.exists(directory+filename): \n",
    "            cat['file'][ind] = filename\n",
    "            continue\n",
    "        try:\n",
    "            spec = SDSS.get_spectra(plate=plate, mjd=cat['MJD'][ind], fiberID=cat['Fiber'][ind])\n",
    "            spec[0].writeto(directory+filename)\n",
    "            cat['file'][ind] = filename\n",
    "            print directory+filename\n",
    "        except:\n",
    "            print \"Could not download spectra:\", ind, plate, cat['MJD'][ind], cat['Fiber'][ind]\n",
    "            pass  "
   ]
  },
  {
   "cell_type": "code",
   "execution_count": 11,
   "metadata": {
    "collapsed": false
   },
   "outputs": [],
   "source": [
    "download_data(good_WD)"
   ]
  },
  {
   "cell_type": "code",
   "execution_count": 12,
   "metadata": {
    "collapsed": false
   },
   "outputs": [
    {
     "name": "stdout",
     "output_type": "stream",
     "text": [
      "('Number of spectra downloaded:', 8667)\n"
     ]
    }
   ],
   "source": [
    "good_WD = good_WD[good_WD['file'] != ''] #removes failed downloads\n",
    "print(\"Number of spectra downloaded:\", len(good_WD))"
   ]
  },
  {
   "cell_type": "code",
   "execution_count": 13,
   "metadata": {
    "collapsed": false
   },
   "outputs": [],
   "source": [
    "def add_lorentz_columns(catalog,num):\n",
    "    dty = ('float64','float64')\n",
    "    t2 = Table(np.arange(48*len(catalog)).reshape(len(catalog),48),\n",
    "               masked=True,\n",
    "               names=('C0_0', 'C0_1', 'C0_2', 'C0_3', 'C0_4', 'C0_5', \n",
    "                     'X0_0', 'X0_1', 'X0_2', 'X0_3', 'X0_4', 'X0_5',\n",
    "                     'G0_0', 'G0_1', 'G0_2', 'G0_3', 'G0_4', 'G0_5',\n",
    "                     'Y0_0', 'Y0_1', 'Y0_2', 'Y0_3', 'Y0_4', 'Y0_5', \n",
    "                     'M0_0', 'M0_1', 'M0_2', 'M0_3', 'M0_4', 'M0_5',\n",
    "                     'C1_0', 'C1_1', 'C1_2', 'C1_3', 'C1_4', 'C1_5', \n",
    "                     'G1_0', 'G1_1', 'G1_2', 'G1_3', 'G1_4', 'G1_5',\n",
    "                     'Chi0_0', 'Chi0_1','Chi0_2','Chi0_3','Chi0_4','Chi0_5'), dtype = dty*24)\n",
    "    t2.mask = True\n",
    "    catalog.add_columns(t2.columns.values())"
   ]
  },
  {
   "cell_type": "code",
   "execution_count": 14,
   "metadata": {
    "collapsed": false
   },
   "outputs": [],
   "source": [
    "len(good_WD)\n",
    "add_lorentz_columns(good_WD,0)"
   ]
  },
  {
   "cell_type": "code",
   "execution_count": 15,
   "metadata": {
    "collapsed": false
   },
   "outputs": [],
   "source": [
    "# Our model has a temperature effect, then absorption features on top of the model\n",
    "from numpy import vstack\n",
    "# Constants\n",
    "h_planck = 4.136e-15 # in eV*s\n",
    "c_light = 2.998e10   # in cgs\n",
    "k_boltz = 8.617e-5   # in eV/K\n",
    "\n",
    "def my_line(points, x_vec):\n",
    "    x_coords, y_coords = zip(*points)\n",
    "    A = vstack([x_coords,ones(len(x_coords))]).T\n",
    "    m, c = lstsq(A, y_coords)[0]\n",
    "    return m*x_vec + c, m, c\n",
    "\n",
    "def FWHM(height,norm):\n",
    "    gam = 1/(np.pi*np.abs(height))\n",
    "    return gam*norm\n",
    "new_centers = np.zeros(6)\n",
    "iteration = 0"
   ]
  },
  {
   "cell_type": "code",
   "execution_count": 32,
   "metadata": {
    "collapsed": false
   },
   "outputs": [],
   "source": [
    "#windows for line (on either side): 120, 120, 120, 60, 50, 40\n",
    "#Feed all six models in and fit at once.\n",
    "# Balmer line centers (in cgs):\n",
    "lambda_balmer = np.array([6562.81, 4861.33, 4340.47, 4101.74, 3970.07, 3889.05])\n",
    "def obtain_lorentz_parameters(catalog,number):\n",
    "    iteration = 0\n",
    "    lambda_balmer = np.array([6562.81, 4861.33, 4340.47, 4101.74, 3970.07, 3889.05])\n",
    "    window_size = np.array([120,90,60,60,50,40])\n",
    "    #120 either side for H_alpha,beta,gamma;60,50,40 \n",
    "    #Main loop\n",
    "    lambda_balmer_0 = lambda_balmer\n",
    "#     C_coeff_ls = np.zeros(6)\n",
    "#     x_center_ls = np.zeros(6)\n",
    "#     lgamma_ls = np.zeros(6)\n",
    "#     ggamma_ls = np.zeros(6)\n",
    "#     intercept = np.zeros(6)\n",
    "#     slopes = np.zeros(6)\n",
    "    total = 1\n",
    "    for index,i in enumerate(catalog[number]):\n",
    "        #Gets data from file\n",
    "    #index = 2\n",
    "        index = index + np.min(number) - 1\n",
    "        #index = catalog['new_col'][indx]\n",
    "        directory = \"../data/\"\n",
    "        filename = directory+catalog['file'][index]\n",
    "\n",
    "        try:\n",
    "            data = fits.getdata(filename, 1)\n",
    "        except:\n",
    "            print(\"Missing\", filename)\n",
    "            #continue\n",
    "\n",
    "        all_flux = data['flux']\n",
    "        all_lambda = 10 ** data['loglam']\n",
    "\n",
    "        total = total + 1\n",
    "#         if iteration != 0:\n",
    "#             lambda_balmer = new_centers\n",
    "\n",
    "        for ind,line in enumerate(lambda_balmer):\n",
    "            C0title = 'C0_'+str(ind)\n",
    "            X0title = 'X0_'+str(ind)\n",
    "            G0title = 'G0_'+str(ind)\n",
    "            M0title = 'M0_'+str(ind)\n",
    "            Y0title = 'Y0_'+str(ind)\n",
    "            C1title = 'C1_'+str(ind)\n",
    "            G1title = 'G1_'+str(ind)\n",
    "            chi0title = 'Chi0_'+str(ind)\n",
    "\n",
    "            #Make the windows for lorentzian fitting\n",
    "            window = np.where(np.logical_and(all_lambda>= (line - window_size[ind]), all_lambda<= (line + window_size[ind])))[0]\n",
    "            #Get an educated guess for C_true\n",
    "            if not all_flux[window].size:\n",
    "                continue\n",
    "            thirds = int(len(all_flux[window])/3)\n",
    "            left_max = np.max(all_flux[window][:thirds])\n",
    "            right_max = np.max(all_flux[window][-thirds:])\n",
    "            left_point = all_lambda[window][:thirds][np.argmax(all_flux[window][:thirds])]\n",
    "            right_point = all_lambda[window][2*thirds + np.argmax(all_flux[window][-thirds:])]\n",
    "\n",
    "            points = [(left_point,left_max),(right_point,right_max)]\n",
    "            vert_fix = my_line(points,all_lambda[window])\n",
    "\n",
    "            int_y = all_flux[window]-vert_fix[0]\n",
    "            fixed_y = int_y*-1\n",
    "            area = np.trapz(int_y)\n",
    "            ampl = np.min(int_y)\n",
    "\n",
    "            left_mean = np.mean(all_flux[window][:thirds])\n",
    "            right_mean = np.mean(all_flux[window][-thirds:])\n",
    "            left_lambda = np.mean(all_lambda[window][:thirds])\n",
    "            right_lambda = np.mean(all_lambda[window][-thirds:])\n",
    "\n",
    "            points = [(left_lambda,left_mean),(right_lambda,right_mean)]\n",
    "            vert_shift = my_line(points,all_lambda[window])\n",
    "\n",
    "            #Define initial guesses\n",
    "            #Levy model has C & sigma divided by 5\n",
    "            C_true = area\n",
    "            a_true = ampl*-1\n",
    "            x_true = (all_lambda[window][0] + all_lambda[window[-1]])/2\n",
    "            gamma_true = FWHM(np.min(all_flux[window]-vert_shift[0]),C_true)\n",
    "#             c_true = area/5.\n",
    "#             mu_true = line\n",
    "#             slope_true = vert_shift[1]\n",
    "#             intercept_true = vert_shift[2]\n",
    "#             sigma_true = FWHM(np.min(all_flux[window]-vert_shift[0]),c_true)/5.\n",
    "#             alpha_true = 1.0\n",
    "            #print gamma_true\n",
    "            \n",
    "#             LevyModel = custom_model(levy_model)\n",
    "            linear_mod = models.Linear1D(slope=vert_fix[1], intercept = vert_fix[2])\n",
    "            print linear_mod.param_names\n",
    "            first_lorentz = models.Lorentz1D(x_0 = x_true, amplitude = C_true*1.25, fwhm = gamma_true)\n",
    "            print first_lorentz.param_names\n",
    "            second_lorentz = models.Lorentz1D(x_0 = x_true, amplitude = C_true*0.25, fwhm = gamma_true*2.0)\n",
    "            print second_lorentz.param_names\n",
    "#             result = models.Linear1D(slope=vert_fix[1], intercept = vert_fix[2])-\\\n",
    "#             (models.Lorentz1D(x_0 = x_true, amplitude = C_true*1.25, fwhm = gamma_true)+\\\n",
    "#              models.Lorentz1D(x_0 = x_true, amplitude = C_true*0.25, fwhm = gamma_true*2.0))\n",
    "            joint_mod = fitting.JointFitter([first_lorentz, second_lorentz],['x_0'],x_true)\n",
    "            result = linear_mod - joint_mod\n",
    "            g = fit_ls(result, all_lambda[window], all_flux[window])\n",
    "#             result = models.Linear1D(slope=slope_true, intercept=intercept_true)-\\\n",
    "#                 LevyModel(alpha=alpha_true, mu=mu_true, sigma=sigma_true, c=c_true)\n",
    "#             result.alpha_1.bounds = (0.5,2.0)\n",
    "# #             result.beta_1.fixed = True\n",
    "#             fit_ls = fitting.LevMarLSQFitter()\n",
    "#             #plt.plot(all_lambda[window], all_flux[window])\n",
    "#             #plt.plot(all_lambda[window], result(all_lambda[window]))\n",
    "#             g = fit_ls(result, all_lambda[window], all_flux[window])\n",
    "            chi_squ = np.sum((all_flux[window] - (g(all_lambda[window]))**2/(all_flux[window])))\n",
    "            #Old fit\n",
    "            if index < 100:\n",
    "                plt.figure(figsize=(8,5))\n",
    "                plt.plot(all_lambda[window], all_flux[window], 'ko')\n",
    "                plt.plot(all_lambda[window], g(all_lambda[window]), label='Model')\n",
    "                plt.xlabel('Lambda')\n",
    "                plt.ylabel('Flux')\n",
    "                plt.title('%f' %g.alpha_1.value)\n",
    "                plt.legend(loc=2)\n",
    "                plt.savefig('%f_%f.png' %(index,line))\n",
    "            stop\n",
    "#             new_centers[ind] = g.x_0_1.value\n",
    "            catalog[C0title][index] = g.c_1.value\n",
    "            catalog[X0title][index] = g.mu_1.value\n",
    "            catalog[G0title][index] = g.sigma_1.value\n",
    "            catalog[Y0title][index] = g.intercept_0.value\n",
    "            catalog[M0title][index] = g.slope_0.value\n",
    "            catalog[C1title][index] = g.c_1.value\n",
    "            catalog[G1title][index] = g.c_1.value\n",
    "            catalog[chi0title][index] = chi_squ\n",
    "            print index, g.alpha_1.value, line\n",
    "        #             catalog[ctitle][index] = C_coeff_ls[ind]\n",
    "        #             catalog[xtitle][index] = x_center_ls[ind]\n",
    "        #             catalog[gtitle][index] = gamma_ls[ind]"
   ]
  },
  {
   "cell_type": "code",
   "execution_count": 31,
   "metadata": {
    "collapsed": false
   },
   "outputs": [
    {
     "name": "stdout",
     "output_type": "stream",
     "text": [
      "('slope', 'intercept')\n",
      "('amplitude', 'x_0', 'fwhm')\n"
     ]
    },
    {
     "name": "stderr",
     "output_type": "stream",
     "text": [
      "Process Process-71:\n"
     ]
    },
    {
     "name": "stdout",
     "output_type": "stream",
     "text": [
      "('amplitude', 'x_0', 'fwhm')\n"
     ]
    },
    {
     "name": "stderr",
     "output_type": "stream",
     "text": [
      "Traceback (most recent call last):\n",
      "  File \"//anaconda/envs/py27/lib/python2.7/multiprocessing/process.py\", line 258, in _bootstrap\n"
     ]
    },
    {
     "name": "stdout",
     "output_type": "stream",
     "text": [
      "('slope', 'intercept')\n"
     ]
    },
    {
     "name": "stderr",
     "output_type": "stream",
     "text": [
      "    self.run()\n"
     ]
    },
    {
     "name": "stdout",
     "output_type": "stream",
     "text": [
      "('amplitude', 'x_0', 'fwhm')\n",
      "('slope', 'intercept')\n"
     ]
    },
    {
     "name": "stderr",
     "output_type": "stream",
     "text": [
      "  File \"//anaconda/envs/py27/lib/python2.7/multiprocessing/process.py\", line 114, in run\n"
     ]
    },
    {
     "name": "stdout",
     "output_type": "stream",
     "text": [
      "('amplitude', 'x_0', 'fwhm')\n"
     ]
    },
    {
     "name": "stderr",
     "output_type": "stream",
     "text": [
      "    self._target(*self._args, **self._kwargs)\n",
      "  File \"<ipython-input-30-a9fc6b5e9c59>\", line 101, in obtain_lorentz_parameters\n"
     ]
    },
    {
     "name": "stdout",
     "output_type": "stream",
     "text": [
      "('amplitude', 'x_0', 'fwhm')\n"
     ]
    },
    {
     "name": "stderr",
     "output_type": "stream",
     "text": [
      "Process Process-72:\n",
      "    joint_mod = fitting.JointFitter([first_lorentz, second_lorentz],['x_0'],(x_true))\n",
      "  File \"//anaconda/envs/py27/lib/python2.7/site-packages/astropy/modeling/fitting.py\", line 774, in __init__\n"
     ]
    },
    {
     "name": "stdout",
     "output_type": "stream",
     "text": [
      "('amplitude', 'x_0', 'fwhm')\n"
     ]
    },
    {
     "name": "stderr",
     "output_type": "stream",
     "text": [
      "Traceback (most recent call last):\n",
      "    self.initvals = list(initvals)\n",
      "TypeError: 'numpy.float64' object is not iterable\n",
      "  File \"//anaconda/envs/py27/lib/python2.7/multiprocessing/process.py\", line 258, in _bootstrap\n",
      "Process Process-73:\n",
      "    self.run()\n",
      "Traceback (most recent call last):\n",
      "  File \"//anaconda/envs/py27/lib/python2.7/multiprocessing/process.py\", line 114, in run\n",
      "  File \"//anaconda/envs/py27/lib/python2.7/multiprocessing/process.py\", line 258, in _bootstrap\n"
     ]
    },
    {
     "name": "stdout",
     "output_type": "stream",
     "text": [
      "('slope', 'intercept')\n"
     ]
    },
    {
     "name": "stderr",
     "output_type": "stream",
     "text": [
      "    self._target(*self._args, **self._kwargs)\n",
      "    self.run()\n"
     ]
    },
    {
     "name": "stdout",
     "output_type": "stream",
     "text": [
      "('amplitude', 'x_0', 'fwhm')\n"
     ]
    },
    {
     "name": "stderr",
     "output_type": "stream",
     "text": [
      "  File \"<ipython-input-30-a9fc6b5e9c59>\", line 101, in obtain_lorentz_parameters\n",
      "  File \"//anaconda/envs/py27/lib/python2.7/multiprocessing/process.py\", line 114, in run\n",
      "    joint_mod = fitting.JointFitter([first_lorentz, second_lorentz],['x_0'],(x_true))\n"
     ]
    },
    {
     "name": "stdout",
     "output_type": "stream",
     "text": [
      "('amplitude', 'x_0', 'fwhm')\n",
      "('slope', 'intercept')\n"
     ]
    },
    {
     "name": "stderr",
     "output_type": "stream",
     "text": [
      "    self._target(*self._args, **self._kwargs)\n",
      "  File \"//anaconda/envs/py27/lib/python2.7/site-packages/astropy/modeling/fitting.py\", line 774, in __init__\n",
      "Process Process-74:\n",
      "  File \"<ipython-input-30-a9fc6b5e9c59>\", line 101, in obtain_lorentz_parameters\n"
     ]
    },
    {
     "name": "stdout",
     "output_type": "stream",
     "text": [
      "('amplitude', 'x_0', 'fwhm')\n",
      "('slope', 'intercept')\n",
      "('slope', 'intercept')\n"
     ]
    },
    {
     "name": "stderr",
     "output_type": "stream",
     "text": [
      "    self.initvals = list(initvals)\n",
      "Traceback (most recent call last):\n",
      "  File \"//anaconda/envs/py27/lib/python2.7/multiprocessing/process.py\", line 258, in _bootstrap\n"
     ]
    },
    {
     "name": "stdout",
     "output_type": "stream",
     "text": [
      "('slope', 'intercept')\n",
      "('slope', 'intercept')\n"
     ]
    },
    {
     "name": "stderr",
     "output_type": "stream",
     "text": [
      "    joint_mod = fitting.JointFitter([first_lorentz, second_lorentz],['x_0'],(x_true))\n"
     ]
    },
    {
     "name": "stdout",
     "output_type": "stream",
     "text": [
      "('slope', 'intercept')\n",
      "('amplitude', 'x_0', 'fwhm')\n",
      "('amplitude', 'x_0', 'fwhm')\n",
      "('amplitude', 'x_0', 'fwhm')\n"
     ]
    },
    {
     "name": "stderr",
     "output_type": "stream",
     "text": [
      "TypeError: 'numpy.float64' object is not iterable\n",
      "    self.run()\n"
     ]
    },
    {
     "name": "stdout",
     "output_type": "stream",
     "text": [
      "('amplitude', 'x_0', 'fwhm')\n",
      "('amplitude', 'x_0', 'fwhm')\n",
      "('amplitude', 'x_0', 'fwhm')\n"
     ]
    },
    {
     "name": "stderr",
     "output_type": "stream",
     "text": [
      "  File \"//anaconda/envs/py27/lib/python2.7/site-packages/astropy/modeling/fitting.py\", line 774, in __init__\n"
     ]
    },
    {
     "name": "stdout",
     "output_type": "stream",
     "text": [
      "('amplitude', 'x_0', 'fwhm')\n",
      "('amplitude', 'x_0', 'fwhm')\n"
     ]
    },
    {
     "name": "stderr",
     "output_type": "stream",
     "text": [
      "Process Process-76:\n"
     ]
    },
    {
     "name": "stdout",
     "output_type": "stream",
     "text": [
      "('amplitude', 'x_0', 'fwhm')\n",
      "('amplitude', 'x_0', 'fwhm')\n"
     ]
    },
    {
     "name": "stderr",
     "output_type": "stream",
     "text": [
      "  File \"//anaconda/envs/py27/lib/python2.7/multiprocessing/process.py\", line 114, in run\n",
      "    self.initvals = list(initvals)\n",
      "Process Process-79:\n",
      "Process Process-75:\n",
      "Traceback (most recent call last):\n",
      "Process Process-77:\n"
     ]
    },
    {
     "name": "stdout",
     "output_type": "stream",
     "text": [
      "('amplitude', 'x_0', 'fwhm')\n"
     ]
    },
    {
     "name": "stderr",
     "output_type": "stream",
     "text": [
      "Traceback (most recent call last):\n",
      "Process Process-80:\n",
      "    self._target(*self._args, **self._kwargs)\n",
      "TypeError: 'numpy.float64' object is not iterable\n",
      "Process Process-78:\n",
      "Traceback (most recent call last):\n",
      "Traceback (most recent call last):\n",
      "  File \"//anaconda/envs/py27/lib/python2.7/multiprocessing/process.py\", line 258, in _bootstrap\n",
      "  File \"//anaconda/envs/py27/lib/python2.7/multiprocessing/process.py\", line 258, in _bootstrap\n",
      "  File \"//anaconda/envs/py27/lib/python2.7/multiprocessing/process.py\", line 258, in _bootstrap\n",
      "Traceback (most recent call last):\n",
      "    self.run()\n",
      "Traceback (most recent call last):\n",
      "  File \"//anaconda/envs/py27/lib/python2.7/multiprocessing/process.py\", line 258, in _bootstrap\n",
      "  File \"<ipython-input-30-a9fc6b5e9c59>\", line 101, in obtain_lorentz_parameters\n",
      "    self.run()\n",
      "  File \"//anaconda/envs/py27/lib/python2.7/multiprocessing/process.py\", line 258, in _bootstrap\n",
      "  File \"//anaconda/envs/py27/lib/python2.7/multiprocessing/process.py\", line 114, in run\n",
      "    self.run()\n",
      "  File \"//anaconda/envs/py27/lib/python2.7/multiprocessing/process.py\", line 114, in run\n",
      "    joint_mod = fitting.JointFitter([first_lorentz, second_lorentz],['x_0'],(x_true))\n",
      "  File \"//anaconda/envs/py27/lib/python2.7/multiprocessing/process.py\", line 258, in _bootstrap\n",
      "  File \"//anaconda/envs/py27/lib/python2.7/multiprocessing/process.py\", line 114, in run\n",
      "    self.run()\n",
      "    self.run()\n",
      "    self._target(*self._args, **self._kwargs)\n",
      "    self._target(*self._args, **self._kwargs)\n",
      "    self.run()\n",
      "    self._target(*self._args, **self._kwargs)\n",
      "  File \"//anaconda/envs/py27/lib/python2.7/multiprocessing/process.py\", line 114, in run\n",
      "  File \"//anaconda/envs/py27/lib/python2.7/site-packages/astropy/modeling/fitting.py\", line 774, in __init__\n",
      "    self.initvals = list(initvals)\n",
      "  File \"<ipython-input-30-a9fc6b5e9c59>\", line 101, in obtain_lorentz_parameters\n",
      "  File \"//anaconda/envs/py27/lib/python2.7/multiprocessing/process.py\", line 114, in run\n",
      "TypeError: 'numpy.float64' object is not iterable\n",
      "  File \"<ipython-input-30-a9fc6b5e9c59>\", line 101, in obtain_lorentz_parameters\n",
      "  File \"//anaconda/envs/py27/lib/python2.7/multiprocessing/process.py\", line 114, in run\n",
      "  File \"<ipython-input-30-a9fc6b5e9c59>\", line 101, in obtain_lorentz_parameters\n",
      "    self._target(*self._args, **self._kwargs)\n",
      "    self._target(*self._args, **self._kwargs)\n",
      "    joint_mod = fitting.JointFitter([first_lorentz, second_lorentz],['x_0'],(x_true))\n",
      "    joint_mod = fitting.JointFitter([first_lorentz, second_lorentz],['x_0'],(x_true))\n",
      "    self._target(*self._args, **self._kwargs)\n",
      "    joint_mod = fitting.JointFitter([first_lorentz, second_lorentz],['x_0'],(x_true))\n",
      "  File \"<ipython-input-30-a9fc6b5e9c59>\", line 101, in obtain_lorentz_parameters\n",
      "  File \"<ipython-input-30-a9fc6b5e9c59>\", line 101, in obtain_lorentz_parameters\n",
      "  File \"//anaconda/envs/py27/lib/python2.7/site-packages/astropy/modeling/fitting.py\", line 774, in __init__\n",
      "  File \"//anaconda/envs/py27/lib/python2.7/site-packages/astropy/modeling/fitting.py\", line 774, in __init__\n",
      "  File \"//anaconda/envs/py27/lib/python2.7/site-packages/astropy/modeling/fitting.py\", line 774, in __init__\n",
      "  File \"<ipython-input-30-a9fc6b5e9c59>\", line 101, in obtain_lorentz_parameters\n",
      "    self.initvals = list(initvals)\n",
      "    self.initvals = list(initvals)\n",
      "    joint_mod = fitting.JointFitter([first_lorentz, second_lorentz],['x_0'],(x_true))\n",
      "    joint_mod = fitting.JointFitter([first_lorentz, second_lorentz],['x_0'],(x_true))\n",
      "TypeError: 'numpy.float64' object is not iterable\n",
      "TypeError: 'numpy.float64' object is not iterable\n",
      "    self.initvals = list(initvals)\n",
      "    joint_mod = fitting.JointFitter([first_lorentz, second_lorentz],['x_0'],(x_true))\n",
      "  File \"//anaconda/envs/py27/lib/python2.7/site-packages/astropy/modeling/fitting.py\", line 774, in __init__\n",
      "  File \"//anaconda/envs/py27/lib/python2.7/site-packages/astropy/modeling/fitting.py\", line 774, in __init__\n",
      "TypeError: 'numpy.float64' object is not iterable\n",
      "  File \"//anaconda/envs/py27/lib/python2.7/site-packages/astropy/modeling/fitting.py\", line 774, in __init__\n",
      "    self.initvals = list(initvals)\n",
      "    self.initvals = list(initvals)\n",
      "    self.initvals = list(initvals)\n",
      "TypeError: 'numpy.float64' object is not iterable\n",
      "TypeError: 'numpy.float64' object is not iterable\n",
      "TypeError: 'numpy.float64' object is not iterable\n"
     ]
    }
   ],
   "source": [
    "if __name__ == '__main__':\n",
    "    numbers = [np.linspace(1,100,100).astype(int),np.linspace(101,200,100).astype(int),np.linspace(201,300,100).astype(int),np.linspace(301,400,100).astype(int),np.linspace(401,500,100).astype(int),\n",
    "              np.linspace(501,600,100).astype(int),np.linspace(601,700,100).astype(int),np.linspace(701,800,100).astype(int),np.linspace(801,900,100).astype(int),np.linspace(901,1000,100).astype(int)]\n",
    "    procs = []\n",
    "    \n",
    "    for i in range(10):\n",
    "        pass_this = numbers[i]\n",
    "        proc = Process(target=obtain_lorentz_parameters, args=(good_WD,pass_this))\n",
    "        procs.append(proc)\n",
    "        proc.start()\n",
    "    for proc in procs:\n",
    "        proc.join()"
   ]
  },
  {
   "cell_type": "code",
   "execution_count": 54,
   "metadata": {
    "collapsed": false
   },
   "outputs": [],
   "source": [
    "#Had same thing for redshift\n",
    "helio = MaskedColumn(np.arange(len(good_WD)), name='helio_rv', dtype='float64', mask=True)\n",
    "good_WD.add_column(helio)"
   ]
  },
  {
   "cell_type": "code",
   "execution_count": 27,
   "metadata": {
    "collapsed": true
   },
   "outputs": [],
   "source": [
    "def add_z_to_table(catalog):\n",
    "    directory = \"../data/\"\n",
    "    total = 0\n",
    "    for ind,it in enumerate(catalog):\n",
    "        filename=directory+it['file']\n",
    "        data = fits.getdata(filename, 2)\n",
    "        header = fits.getheader(filename)\n",
    "        catalog['HELIO_RV'][ind] = header['HELIO_RV']\n",
    "        catalog['z'][ind] = data['z'][0]\n",
    "        total = total + 1\n",
    "        if total%1000 == 0:  print(total)"
   ]
  },
  {
   "cell_type": "code",
   "execution_count": 57,
   "metadata": {
    "collapsed": true
   },
   "outputs": [],
   "source": [
    "def add_helio_rv_to_table(catalog):\n",
    "    directory = \"../data/\"\n",
    "    total = 0\n",
    "    for ind,it in enumerate(catalog):\n",
    "        filename=directory+it['file']\n",
    "        header = fits.getheader(filename)\n",
    "        catalog['helio_rv'][ind] = header['HELIO_RV']\n",
    "        total = total + 1\n",
    "        if total%1000 == 0:  print(total)"
   ]
  },
  {
   "cell_type": "code",
   "execution_count": 58,
   "metadata": {
    "collapsed": false
   },
   "outputs": [
    {
     "name": "stdout",
     "output_type": "stream",
     "text": [
      "1000\n",
      "2000\n",
      "3000\n",
      "4000\n",
      "5000\n",
      "6000\n",
      "7000\n",
      "8000\n"
     ]
    }
   ],
   "source": [
    "add_helio_rv_to_table(good_WD)"
   ]
  },
  {
   "cell_type": "code",
   "execution_count": 29,
   "metadata": {
    "collapsed": false
   },
   "outputs": [],
   "source": [
    "def get_filename(plate,mjd,fiber,wd):\n",
    "    try:\n",
    "        plwd = wd[wd['Plate'] == plate]\n",
    "        if len(plwd) == 0: raise Exception()\n",
    "    except Exception:\n",
    "        print 'No plate number'\n",
    "        return ''\n",
    "    try:\n",
    "        mjwd = plwd[plwd['MJD'] == mjd]\n",
    "        if len(mjwd) == 0: raise Exception()\n",
    "    except Exception:\n",
    "        print 'No mjd date'\n",
    "        return ''\n",
    "    try:\n",
    "        fbwd = mjwd[mjwd['Fiber'] == fiber]\n",
    "        if len(fbwd) == 0: raise Exception()\n",
    "    except Exception:\n",
    "        print 'No fiber number'\n",
    "        return ''\n",
    "    name = fbwd['file']\n",
    "    return str(name[0])"
   ]
  },
  {
   "cell_type": "code",
   "execution_count": 30,
   "metadata": {
    "collapsed": false
   },
   "outputs": [],
   "source": [
    "def plot_spec(plate,mjd,fiber,wd):\n",
    "    fits_spec = fits.open('../data/'+get_filename(plate,mjd,fiber,wd))\n",
    "    wavelength = 10**fits_spec[1].data['loglam']\n",
    "    flux = fits_spec[1].data['flux']\n",
    "    fig, ax = plt.subplots(1, 2, figsize=(12,4))\n",
    "    ax[0].plot(wavelength, flux)\n",
    "    ax[1].plot(wavelength, flux)\n",
    "    ax[1].set_xlim(3800, 4400)\n",
    "    plt.show()"
   ]
  },
  {
   "cell_type": "code",
   "execution_count": 31,
   "metadata": {
    "collapsed": false
   },
   "outputs": [
    {
     "data": {
      "image/png": "[encoded data removed]",
      "text/plain": [
       "<matplotlib.figure.Figure at 0x114643310>"
      ]
     },
     "metadata": {},
     "output_type": "display_data"
    }
   ],
   "source": [
    "plot_spec(3760,55268,863,good_WD)"
   ]
  },
  {
   "cell_type": "code",
   "execution_count": 38,
   "metadata": {
    "collapsed": false
   },
   "outputs": [
    {
     "data": {
      "text/plain": [
       "(array([  1.,   9.,  31.,  35.,  18.,  13.,  12.,   3.,   5.,   4.]),\n",
       " array([-100,    0,  100,  200,  300,  400,  500,  600,  700,  800,  900]),\n",
       " <a list of 10 Patch objects>)"
      ]
     },
     "execution_count": 38,
     "metadata": {},
     "output_type": "execute_result"
    },
    {
     "data": {
      "image/png": "[encoded data removed]",
      "text/plain": [
       "<matplotlib.figure.Figure at 0x114a3ad50>"
      ]
     },
     "metadata": {},
     "output_type": "display_data"
    }
   ],
   "source": [
    "plt.hist(good_WD['Chi1_5'],bins=[-100,0,100,200,300,400,500,600,700,800,900])\n"
   ]
  },
  {
   "cell_type": "code",
   "execution_count": 102,
   "metadata": {
    "collapsed": false
   },
   "outputs": [
    {
     "data": {
      "text/plain": [
       "(-150.0, 150.0)"
      ]
     },
     "execution_count": 102,
     "metadata": {},
     "output_type": "execute_result"
    },
    {
     "data": {
      "image/png": "[encoded data removed]",
      "text/plain": [
       "<matplotlib.figure.Figure at 0x11bd7f350>"
      ]
     },
     "metadata": {},
     "output_type": "display_data"
    }
   ],
   "source": [
    "plt.subplot(121)\n",
    "plt.scatter((3.e5*(good_WD['X1_2']-4861))/4861,3.e5*(good_WD['z']))\n",
    "plt.xlim([3.e5*-0.001,0.001*3.e5])\n",
    "plt.ylim([3.e5*-0.0005,0.0005*3.e5])\n",
    "\n",
    "plt.subplot(122)\n",
    "plt.scatter(((3.e5*(good_WD['X1_2']-4861))/4861)-good_WD['helio_rv']-70.,3.e5*(good_WD['z']))\n",
    "plt.xlim([3.e5*-0.001,0.001*3.e5])\n",
    "plt.ylim([3.e5*-0.0005,0.0005*3.e5])"
   ]
  },
  {
   "cell_type": "code",
   "execution_count": 1,
   "metadata": {
    "collapsed": false
   },
   "outputs": [
    {
     "ename": "NameError",
     "evalue": "name 'plt' is not defined",
     "output_type": "error",
     "traceback": [
      "\u001b[0;31m---------------------------------------------------------------------------\u001b[0m",
      "\u001b[0;31mNameError\u001b[0m                                 Traceback (most recent call last)",
      "\u001b[0;32m<ipython-input-1-898b7067c4fb>\u001b[0m in \u001b[0;36m<module>\u001b[0;34m()\u001b[0m\n\u001b[1;32m      1\u001b[0m \u001b[0;31m#plt.scatter(good_WD['Chi1'],good_WD['S_N'])\u001b[0m\u001b[0;34m\u001b[0m\u001b[0;34m\u001b[0m\u001b[0m\n\u001b[0;32m----> 2\u001b[0;31m \u001b[0mplt\u001b[0m\u001b[0;34m.\u001b[0m\u001b[0msubplot\u001b[0m\u001b[0;34m(\u001b[0m\u001b[0;36m321\u001b[0m\u001b[0;34m)\u001b[0m\u001b[0;34m\u001b[0m\u001b[0m\n\u001b[0m\u001b[1;32m      3\u001b[0m \u001b[0mplt\u001b[0m\u001b[0;34m.\u001b[0m\u001b[0mscatter\u001b[0m\u001b[0;34m(\u001b[0m\u001b[0mgood_WD\u001b[0m\u001b[0;34m[\u001b[0m\u001b[0;34m'Chi1_0'\u001b[0m\u001b[0;34m]\u001b[0m\u001b[0;34m,\u001b[0m\u001b[0mgood_WD\u001b[0m\u001b[0;34m[\u001b[0m\u001b[0;34m'S_N'\u001b[0m\u001b[0;34m]\u001b[0m\u001b[0;34m,\u001b[0m\u001b[0mmarker\u001b[0m\u001b[0;34m=\u001b[0m\u001b[0;34m'.'\u001b[0m\u001b[0;34m)\u001b[0m\u001b[0;34m\u001b[0m\u001b[0m\n\u001b[1;32m      4\u001b[0m \u001b[0;34m\u001b[0m\u001b[0m\n\u001b[1;32m      5\u001b[0m \u001b[0mplt\u001b[0m\u001b[0;34m.\u001b[0m\u001b[0msubplot\u001b[0m\u001b[0;34m(\u001b[0m\u001b[0;36m322\u001b[0m\u001b[0;34m)\u001b[0m\u001b[0;34m\u001b[0m\u001b[0m\n",
      "\u001b[0;31mNameError\u001b[0m: name 'plt' is not defined"
     ]
    }
   ],
   "source": [
    "#plt.scatter(good_WD['Chi1'],good_WD['S_N'])\n",
    "plt.subplot(321)\n",
    "plt.scatter(good_WD['Chi1_0'],good_WD['S_N'],marker='.')\n",
    "\n",
    "plt.subplot(322)\n",
    "plt.scatter(good_WD['Chi1_1'],good_WD['S_N'],marker='.')\n",
    "\n",
    "plt.subplot(323)\n",
    "plt.scatter(good_WD['Chi1_2'],good_WD['S_N'],marker='.')\n",
    "\n",
    "plt.subplot(324)\n",
    "plt.scatter(good_WD['Chi1_3'],good_WD['S_N'],marker='.')\n",
    "\n",
    "plt.subplot(325)\n",
    "plt.scatter(good_WD['Chi1_4'],good_WD['S_N'],marker='.')\n",
    "\n",
    "plt.subplot(326)\n",
    "plt.scatter(good_WD['Chi1_5'],good_WD['S_N'],marker='.')"
   ]
  },
  {
   "cell_type": "code",
   "execution_count": 104,
   "metadata": {
    "collapsed": false
   },
   "outputs": [],
   "source": [
    "good_WD\n",
    "good_WD.write('DA_with_LP_Mike.dat', format='ascii')"
   ]
  },
  {
   "cell_type": "code",
   "execution_count": 71,
   "metadata": {
    "collapsed": false
   },
   "outputs": [
    {
     "data": {
      "text/plain": [
       "(array([ 535.,  538.,  613.,  670.,  618.,  510.,  492.,  345.,  296.,  196.]),\n",
       " array([-0.05, -0.04, -0.03, -0.02, -0.01,  0.  ,  0.01,  0.02,  0.03,\n",
       "         0.04,  0.05]),\n",
       " <a list of 10 Patch objects>)"
      ]
     },
     "execution_count": 71,
     "metadata": {},
     "output_type": "execute_result"
    },
    {
     "data": {
      "image/png": "[encoded data removed]",
      "text/plain": [
       "<matplotlib.figure.Figure at 0x11ee26410>"
      ]
     },
     "metadata": {},
     "output_type": "display_data"
    }
   ],
   "source": [
    "plt.hist(good_WD['M5'],bins=[-0.05,-0.04,-0.03,-0.02,-0.01,0,0.01,0.02,0.03,0.04,0.05])"
   ]
  },
  {
   "cell_type": "code",
   "execution_count": 98,
   "metadata": {
    "collapsed": false
   },
   "outputs": [
    {
     "name": "stdout",
     "output_type": "stream",
     "text": [
      "12753.6434899\n"
     ]
    },
    {
     "data": {
      "image/png": "[encoded data removed]",
      "text/plain": [
       "<matplotlib.figure.Figure at 0x11b334750>"
      ]
     },
     "metadata": {},
     "output_type": "display_data"
    }
   ],
   "source": [
    "plt.subplot(121)\n",
    "plt.hist(good_WD['z']*3.e5,bins=np.linspace(-1000,1000,50))\n",
    "\n",
    "plt.subplot(122)\n",
    "plt.hist(3.e5*(good_WD['X1_1']-4861)/4861,bins=np.linspace(-1000,1000,50))"
   ]
  },
  {
   "cell_type": "code",
   "execution_count": 27,
   "metadata": {
    "collapsed": false
   },
   "outputs": [
    {
     "data": {
      "text/plain": [
       "<matplotlib.text.Text at 0x111d6d150>"
      ]
     },
     "execution_count": 27,
     "metadata": {},
     "output_type": "execute_result"
    },
    {
     "data": {
      "image/png": "[encoded data removed]",
      "text/plain": [
       "<matplotlib.figure.Figure at 0x110753b50>"
      ]
     },
     "metadata": {},
     "output_type": "display_data"
    }
   ],
   "source": [
    "plt.scatter((good_WD['X0']-6563)*3*10**5/6563,good_WD['z']*3*10**5)\n",
    "#plt.ylim([-0.002,0.002])\n",
    "#plt.xlim([-5000,5000])\n",
    "plt.xlabel('Center of Line (angstroms)')\n",
    "plt.ylabel('Sloan Redshift')\n",
    "\n",
    "#Chi squared with square root of flux array in place of uncertainty"
   ]
  },
  {
   "cell_type": "code",
   "execution_count": 28,
   "metadata": {
    "collapsed": false
   },
   "outputs": [
    {
     "data": {
      "text/plain": [
       "<matplotlib.text.Text at 0x1165349d0>"
      ]
     },
     "execution_count": 28,
     "metadata": {},
     "output_type": "execute_result"
    },
    {
     "data": {
      "image/png": "[encoded data removed]",
      "text/plain": [
       "<matplotlib.figure.Figure at 0x1126491d0>"
      ]
     },
     "metadata": {},
     "output_type": "display_data"
    }
   ],
   "source": [
    "plt.hist(good_WD['S_N'])\n",
    "plt.xlabel('Signal to Noise')"
   ]
  },
  {
   "cell_type": "markdown",
   "metadata": {},
   "source": [
    "### Create training, test, and validation sets"
   ]
  },
  {
   "cell_type": "code",
   "execution_count": 29,
   "metadata": {
    "collapsed": false
   },
   "outputs": [],
   "source": [
    "# Randomly shuffle indices\n",
    "indices = np.arange(len(good_WD))\n",
    "np.random.shuffle(indices)\n",
    "good_shuffle_WD = good_WD[indices]\n",
    "\n",
    "# Determine training, test, and validation sets\n",
    "validation_WD = good_shuffle_WD[0:300]\n",
    "test_WD = good_shuffle_WD[300:600]\n",
    "training_WD = good_shuffle_WD[600:]"
   ]
  },
  {
   "cell_type": "markdown",
   "metadata": {},
   "source": [
    "### Plot up systems in T_eff and log g space to see where they lie"
   ]
  },
  {
   "cell_type": "code",
   "execution_count": 30,
   "metadata": {
    "collapsed": false
   },
   "outputs": [
    {
     "data": {
      "image/png": "[encoded data removed]",
      "text/plain": [
       "<matplotlib.figure.Figure at 0x11605e1d0>"
      ]
     },
     "metadata": {},
     "output_type": "display_data"
    }
   ],
   "source": [
    "plt.errorbar(training_WD['logg'], training_WD['Teff'], xerr=training_WD['e_logg'], \n",
    "             yerr=training_WD['e_Teff'], ls='none', fmt='', capsize=0, label='train')\n",
    "\n",
    "plt.errorbar(test_WD['logg'], test_WD['Teff'], xerr=test_WD['e_logg'], \n",
    "             yerr=test_WD['e_Teff'], ls='none', fmt='', capsize=0, label='test')\n",
    "\n",
    "plt.errorbar(validation_WD['logg'], validation_WD['Teff'], xerr=validation_WD['e_logg'], \n",
    "             yerr=validation_WD['e_Teff'], ls='none', fmt='', capsize=0, label='val')\n",
    "plt.legend()\n",
    "\n",
    "\n",
    "plt.ylabel(r'T$_{\\rm eff}$')\n",
    "plt.xlabel(r'Log $g$')\n",
    "\n",
    "plt.yscale('log')\n",
    "plt.ylim(5.0e3, 1.0e5)\n",
    "\n",
    "plt.show()"
   ]
  },
  {
   "cell_type": "markdown",
   "metadata": {
    "collapsed": true
   },
   "source": [
    "Now we will look at just the DAs."
   ]
  },
  {
   "cell_type": "code",
   "execution_count": 31,
   "metadata": {
    "collapsed": false
   },
   "outputs": [
    {
     "ename": "TypeError",
     "evalue": "unhashable type: 'MaskedConstant'",
     "output_type": "error",
     "traceback": [
      "\u001b[0;31m---------------------------------------------------------------------------\u001b[0m",
      "\u001b[0;31mTypeError\u001b[0m                                 Traceback (most recent call last)",
      "\u001b[0;32m<ipython-input-31-2837695c219d>\u001b[0m in \u001b[0;36m<module>\u001b[0;34m()\u001b[0m\n\u001b[0;32m----> 1\u001b[0;31m \u001b[0mset\u001b[0m\u001b[0;34m(\u001b[0m\u001b[0mgood_WD\u001b[0m\u001b[0;34m[\u001b[0m\u001b[0;34m'SpType'\u001b[0m\u001b[0;34m]\u001b[0m\u001b[0;34m)\u001b[0m\u001b[0;34m\u001b[0m\u001b[0m\n\u001b[0m",
      "\u001b[0;31mTypeError\u001b[0m: unhashable type: 'MaskedConstant'"
     ]
    }
   ],
   "source": [
    "set(good_WD['SpType'])"
   ]
  },
  {
   "cell_type": "code",
   "execution_count": null,
   "metadata": {
    "collapsed": false
   },
   "outputs": [],
   "source": [
    "DA_good = good_WD\n",
    "\n",
    "print(\"Number of DAs in sample\",len(DA_good))"
   ]
  },
  {
   "cell_type": "code",
   "execution_count": null,
   "metadata": {
    "collapsed": false
   },
   "outputs": [],
   "source": [
    "plt.errorbar(DA_good['Teff'], DA_good['logg'],yerr=DA_good['e_logg'], \n",
    "             xerr=DA_good['e_Teff'], ls='none', fmt='', capsize=0)\n",
    "\n",
    "\n",
    "plt.xlabel(r'T$_{\\rm eff}$')\n",
    "plt.ylabel(r'Log $g$')\n",
    "\n",
    "plt.xscale('log')\n",
    "plt.xlim(5.0e3, 1.0e5)\n",
    "\n",
    "plt.show()"
   ]
  },
  {
   "cell_type": "code",
   "execution_count": null,
   "metadata": {
    "collapsed": false
   },
   "outputs": [],
   "source": [
    "plt.errorbar(good_WD['Teff_3D_'], good_WD['logg_3D_'],yerr=good_WD['e_logg_3D_'], \n",
    "             xerr=good_WD['e_Teff_3D_'], ls='none', fmt='', capsize=0)\n",
    "\n",
    "\n",
    "plt.xlabel(r'T$_{\\rm eff}$')\n",
    "plt.ylabel(r'Log $g$')\n",
    "\n",
    "plt.xscale('log')\n",
    "plt.xlim(5.0e3, 1.0e5)\n",
    "\n",
    "plt.show()"
   ]
  },
  {
   "cell_type": "code",
   "execution_count": null,
   "metadata": {
    "collapsed": false
   },
   "outputs": [],
   "source": [
    "plt.hist(good_WD['logg'])\n",
    "plt.xlabel(r'Log $g$')"
   ]
  },
  {
   "cell_type": "code",
   "execution_count": null,
   "metadata": {
    "collapsed": false
   },
   "outputs": [],
   "source": [
    "plt.hist(good_WD['Teff'])\n",
    "plt.xlabel(r'T$_{\\rm eff}$')"
   ]
  },
  {
   "cell_type": "code",
   "execution_count": 69,
   "metadata": {
    "collapsed": false
   },
   "outputs": [
    {
     "ename": "NameError",
     "evalue": "name 'DA_good' is not defined",
     "output_type": "error",
     "traceback": [
      "\u001b[0;31m---------------------------------------------------------------------------\u001b[0m",
      "\u001b[0;31mNameError\u001b[0m                                 Traceback (most recent call last)",
      "\u001b[0;32m<ipython-input-69-1cb3b1b91407>\u001b[0m in \u001b[0;36m<module>\u001b[0;34m()\u001b[0m\n\u001b[0;32m----> 1\u001b[0;31m \u001b[0mascii\u001b[0m\u001b[0;34m.\u001b[0m\u001b[0mwrite\u001b[0m\u001b[0;34m(\u001b[0m\u001b[0mDA_good\u001b[0m\u001b[0;34m,\u001b[0m \u001b[0;34m'DA_good.csv'\u001b[0m\u001b[0;34m,\u001b[0m \u001b[0mformat\u001b[0m\u001b[0;34m=\u001b[0m\u001b[0;34m'csv'\u001b[0m\u001b[0;34m,\u001b[0m \u001b[0minclude_names\u001b[0m\u001b[0;34m=\u001b[0m\u001b[0;34m[\u001b[0m\u001b[0;34m'_RAJ2000'\u001b[0m\u001b[0;34m,\u001b[0m\u001b[0;34m'_DEJ2000'\u001b[0m\u001b[0;34m,\u001b[0m\u001b[0;34m'SDSS'\u001b[0m\u001b[0;34m,\u001b[0m\u001b[0;34m'S_N'\u001b[0m\u001b[0;34m,\u001b[0m\u001b[0;34m'umag'\u001b[0m\u001b[0;34m,\u001b[0m\u001b[0;34m'e_umag'\u001b[0m\u001b[0;34m,\u001b[0m\u001b[0;34m'gmag'\u001b[0m\u001b[0;34m,\u001b[0m\u001b[0;34m'e_gmag'\u001b[0m\u001b[0;34m,\u001b[0m\u001b[0;34m'rmag'\u001b[0m\u001b[0;34m,\u001b[0m\u001b[0;34m'e_rmag'\u001b[0m\u001b[0;34m,\u001b[0m\u001b[0;34m'imag'\u001b[0m\u001b[0;34m,\u001b[0m\u001b[0;34m'e_imag'\u001b[0m\u001b[0;34m,\u001b[0m\u001b[0;34m'zmag'\u001b[0m\u001b[0;34m,\u001b[0m\u001b[0;34m'e_zmag'\u001b[0m\u001b[0;34m,\u001b[0m\u001b[0;34m'E_B-V_'\u001b[0m\u001b[0;34m,\u001b[0m\u001b[0;34m'pm'\u001b[0m\u001b[0;34m]\u001b[0m\u001b[0;34m)\u001b[0m\u001b[0;34m\u001b[0m\u001b[0m\n\u001b[0m",
      "\u001b[0;31mNameError\u001b[0m: name 'DA_good' is not defined"
     ]
    }
   ],
   "source": [
    "ascii.write(DA_good, 'DA_good.csv', format='csv', include_names=['_RAJ2000','_DEJ2000','SDSS','S_N','umag','e_umag','gmag','e_gmag','rmag','e_rmag','imag','e_imag','zmag','e_zmag','E_B-V_','pm'])"
   ]
  },
  {
   "cell_type": "code",
   "execution_count": null,
   "metadata": {
    "collapsed": false
   },
   "outputs": [],
   "source": [
    "ind = []\n",
    "for num,thing in enumerate(good_WD['SpType']):\n",
    "    if 'A' in thing:\n",
    "        ind += [num]\n",
    "\n",
    "All_A = good_WD[ind]\n",
    "print(\"Number of As in sample\",len(All_A))"
   ]
  },
  {
   "cell_type": "code",
   "execution_count": null,
   "metadata": {
    "collapsed": false
   },
   "outputs": [],
   "source": [
    "All_A"
   ]
  },
  {
   "cell_type": "code",
   "execution_count": null,
   "metadata": {
    "collapsed": false
   },
   "outputs": [],
   "source": []
  },
  {
   "cell_type": "code",
   "execution_count": null,
   "metadata": {
    "collapsed": false
   },
   "outputs": [],
   "source": [
    "plt.errorbar(All_A['Teff'], All_A['logg'],yerr=All_A['e_logg'], \n",
    "             xerr=All_A['e_Teff'], ls='none', fmt='', capsize=0, color='red')\n",
    "\n",
    "\n",
    "plt.xlabel(r'T$_{\\rm eff}$')\n",
    "plt.ylabel(r'Log $g$')\n",
    "\n",
    "plt.xscale('log')\n",
    "plt.xlim(5.0e3, 1.0e5)\n",
    "\n",
    "plt.show()"
   ]
  },
  {
   "cell_type": "code",
   "execution_count": null,
   "metadata": {
    "collapsed": true
   },
   "outputs": [],
   "source": []
  }
 ],
 "metadata": {
  "anaconda-cloud": {},
  "kernelspec": {
   "display_name": "Python 2",
   "language": "python",
   "name": "python2"
  },
  "language_info": {
   "codemirror_mode": {
    "name": "ipython",
    "version": 2
   },
   "file_extension": ".py",
   "mimetype": "text/x-python",
   "name": "python",
   "nbconvert_exporter": "python",
   "pygments_lexer": "ipython2",
   "version": "2.7.13"
  }
 },
 "nbformat": 4,
 "nbformat_minor": 1
}
