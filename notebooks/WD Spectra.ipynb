{
 "cells": [
  {
   "cell_type": "markdown",
   "metadata": {},
   "source": [
    "# WD Database for Python\n",
    "\n",
    "The goal is to download the following database: http://vizier.u-strasbg.fr/viz-bin/VizieR?-source=J%2FMNRAS%2F455%2F3413 for use in a machine-learning inspired scheme to "
   ]
  },
  {
   "cell_type": "code",
   "execution_count": 1,
   "metadata": {
    "collapsed": false
   },
   "outputs": [
    {
     "name": "stderr",
     "output_type": "stream",
     "text": [
      "//anaconda/envs/py27/lib/python2.7/site-packages/astroquery/sdss/__init__.py:28: UserWarning: Experimental: SDSS has not yet been refactored to have its API match the rest of astroquery (but it's nearly there).\n",
      "  warnings.warn(\"Experimental: SDSS has not yet been refactored to have its API \"\n"
     ]
    }
   ],
   "source": [
    "#Preamble. Standard packages for to load\n",
    "import astropy\n",
    "from astropy.table import Table, Column, MaskedColumn, vstack \n",
    "import numpy as np\n",
    "from astroquery.vizier import Vizier\n",
    "import matplotlib.pyplot as plt\n",
    "import urllib2\n",
    "# special IPython command to prepare the notebook for matplotlib\n",
    "%matplotlib inline \n",
    "from astroquery.sdss import SDSS\n",
    "from astropy import units as u\n",
    "from astropy import coordinates as coords\n",
    "from astropy.io import fits\n",
    "import astropy.io.ascii as ascii\n",
    "from astropy.modeling import models, fitting\n",
    "from numpy import ones\n",
    "from numpy.linalg import lstsq\n",
    "import os\n",
    "import random"
   ]
  },
  {
   "cell_type": "code",
   "execution_count": 2,
   "metadata": {
    "collapsed": true
   },
   "outputs": [],
   "source": [
    "catalog_list_1 = Vizier.find_catalogs('New white dwarf SDSS DR12')\n",
    "catalog_list_2 = Vizier.find_catalogs('J/ApJS/204/5')\n",
    "catalog_list_3 = Vizier.find_catalogs('J/MNRAS/446/4078')"
   ]
  },
  {
   "cell_type": "code",
   "execution_count": 3,
   "metadata": {
    "collapsed": false
   },
   "outputs": [
    {
     "name": "stdout",
     "output_type": "stream",
     "text": [
      "{u'J/MNRAS/455/3413': u'New white dwarf and subdwarf stars in SDSS DR12 (Kepler+, 2016)'}\n",
      "{u'J/ApJS/204/5': u'SDSS DR7 white dwarf catalog (Kleinman+, 2013)'}\n",
      "{u'J/MNRAS/446/4078': u'New white dwarf stars in SDSS DR10 (Kepler+, 2015)'}\n"
     ]
    }
   ],
   "source": [
    "print({k:v.description for k,v in catalog_list_1.items()})\n",
    "print({k:v.description for k,v in catalog_list_2.items()})\n",
    "print({k:v.description for k,v in catalog_list_3.items()})"
   ]
  },
  {
   "cell_type": "code",
   "execution_count": 4,
   "metadata": {
    "collapsed": false
   },
   "outputs": [
    {
     "name": "stderr",
     "output_type": "stream",
     "text": [
      "//anaconda/envs/py27/lib/python2.7/site-packages/astroquery/vizier/core.py:683: UserWarning: VOTABLE parsing raised exception: None:336:189: ValueError: invalid literal for int() with base 10: 'null' (in row 147, col 'f_umag')\n",
      "  warnings.warn(\"VOTABLE parsing raised exception: {0}\".format(ex))\n"
     ]
    }
   ],
   "source": [
    "Vizier.ROW_LIMIT = -1\n",
    "catalogs_1 = Vizier.get_catalogs(catalog_list_1.keys())\n",
    "catalogs_2 = Vizier.get_catalogs(catalog_list_2.keys())\n",
    "catalogs_3 = Vizier.get_catalogs(catalog_list_3.keys())"
   ]
  },
  {
   "cell_type": "code",
   "execution_count": 5,
   "metadata": {
    "collapsed": false
   },
   "outputs": [
    {
     "name": "stdout",
     "output_type": "stream",
     "text": [
      "TableList with 1 tables:\n",
      "\t'0:J/MNRAS/455/3413/table6' with 34 column(s) and 6647 row(s) \n",
      "TableList with 1 tables:\n",
      "\t'0:J/ApJS/204/5/table2' with 45 column(s) and 20407 row(s) \n",
      "TableList with 1 tables:\n",
      "\t'0:J/MNRAS/446/4078/table6' with 30 column(s) and 9112 row(s) \n"
     ]
    }
   ],
   "source": [
    "print(catalogs_1)\n",
    "print(catalogs_2)\n",
    "print(catalogs_3)"
   ]
  },
  {
   "cell_type": "code",
   "execution_count": 6,
   "metadata": {
    "collapsed": false
   },
   "outputs": [
    {
     "name": "stderr",
     "output_type": "stream",
     "text": [
      "WARNING: MergeConflictWarning: Cannot merge meta key u'width' types <type 'int'> and <type 'int'>, choosing width=10 [astropy.utils.metadata]\n",
      "WARNING: MergeConflictWarning: Cannot merge meta key u'precision' types <type 'unicode'> and <type 'unicode'>, choosing precision=u'6' [astropy.utils.metadata]\n",
      "WARNING: MergeConflictWarning: In merged column '_RAJ2000' the 'format' attribute does not match (%8.4f != %10.6f).  Using %10.6f for merged output [astropy.table.operations]\n",
      "WARNING: MergeConflictWarning: In merged column '_RAJ2000' the 'description' attribute does not match (Right ascension (FK5, Equinox=J2000.0) (computed by VizieR, not part of the original data) != Right ascension (FK5, Equinox=J2000.0) at Epoch=J2000, proper motions taken into account  (computed by VizieR, not part of the original data)).  Using Right ascension (FK5, Equinox=J2000.0) at Epoch=J2000, proper motions taken into account  (computed by VizieR, not part of the original data) for merged output [astropy.table.operations]\n",
      "WARNING: MergeConflictWarning: Cannot merge meta key u'width' types <type 'int'> and <type 'int'>, choosing width=9 [astropy.utils.metadata]\n",
      "WARNING: MergeConflictWarning: Cannot merge meta key u'precision' types <type 'unicode'> and <type 'unicode'>, choosing precision=u'5' [astropy.utils.metadata]\n",
      "WARNING: MergeConflictWarning: In merged column '_RAJ2000' the 'format' attribute does not match (%10.6f != %9.5f).  Using %9.5f for merged output [astropy.table.operations]\n",
      "WARNING: MergeConflictWarning: In merged column '_RAJ2000' the 'description' attribute does not match (Right ascension (FK5, Equinox=J2000.0) at Epoch=J2000, proper motions taken into account  (computed by VizieR, not part of the original data) != Right ascension (FK5, Equinox=J2000.0) (computed by VizieR, not part of the original data)).  Using Right ascension (FK5, Equinox=J2000.0) (computed by VizieR, not part of the original data) for merged output [astropy.table.operations]\n",
      "WARNING: MergeConflictWarning: In merged column '_DEJ2000' the 'format' attribute does not match (%8.4f != %10.6f).  Using %10.6f for merged output [astropy.table.operations]\n",
      "WARNING: MergeConflictWarning: In merged column '_DEJ2000' the 'description' attribute does not match (Declination (FK5, Equinox=J2000.0) (computed by VizieR, not part of the original data) != Declination (FK5, Equinox=J2000.0) at Epoch=J2000, proper motions taken into account  (computed by VizieR, not part of the original data)).  Using Declination (FK5, Equinox=J2000.0) at Epoch=J2000, proper motions taken into account  (computed by VizieR, not part of the original data) for merged output [astropy.table.operations]\n",
      "WARNING: MergeConflictWarning: In merged column '_DEJ2000' the 'format' attribute does not match (%10.6f != %9.5f).  Using %9.5f for merged output [astropy.table.operations]\n",
      "WARNING: MergeConflictWarning: In merged column '_DEJ2000' the 'description' attribute does not match (Declination (FK5, Equinox=J2000.0) at Epoch=J2000, proper motions taken into account  (computed by VizieR, not part of the original data) != Declination (FK5, Equinox=J2000.0) (computed by VizieR, not part of the original data)).  Using Declination (FK5, Equinox=J2000.0) (computed by VizieR, not part of the original data) for merged output [astropy.table.operations]\n",
      "WARNING: MergeConflictWarning: Cannot merge meta key u'ucd' types <type 'unicode'> and <type 'unicode'>, choosing ucd=u'ID_MAIN' [astropy.utils.metadata]\n",
      "WARNING: MergeConflictWarning: In merged column 'SDSS' the 'description' attribute does not match (SDSS object name (HHMMSS.ss+DDMMSS.s) != SDSS object name (HHMMSS.ss+DDMMSS.s; J2000)).  Using SDSS object name (HHMMSS.ss+DDMMSS.s; J2000) for merged output [astropy.table.operations]\n",
      "WARNING: MergeConflictWarning: In merged column 'SDSS' the 'description' attribute does not match (SDSS object name (HHMMSS.ss+DDMMSS.s; J2000) != SDSS J designation (HHMMSS.ss+DDMMSS.ss)).  Using SDSS J designation (HHMMSS.ss+DDMMSS.ss) for merged output [astropy.table.operations]\n",
      "WARNING: MergeConflictWarning: Cannot merge meta key u'width' types <type 'int'> and <type 'int'>, choosing width=3 [astropy.utils.metadata]\n",
      "WARNING: MergeConflictWarning: Cannot merge meta key u'width' types <type 'int'> and <type 'int'>, choosing width=5 [astropy.utils.metadata]\n",
      "WARNING: MergeConflictWarning: Cannot merge meta key u'precision' types <type 'unicode'> and <type 'unicode'>, choosing precision=u'2' [astropy.utils.metadata]\n",
      "WARNING: MergeConflictWarning: In merged column 'umag' the 'format' attribute does not match (%6.3f != %5.2f).  Using %5.2f for merged output [astropy.table.operations]\n",
      "WARNING: MergeConflictWarning: In merged column 'umag' the 'description' attribute does not match (SDSS u-band PSF magnitude != SDSS u band PSF magnitude {\\em\\fg{red3}(red values have a non-zero flag)}).  Using SDSS u band PSF magnitude {\\em\\fg{red3}(red values have a non-zero flag)} for merged output [astropy.table.operations]\n",
      "WARNING: MergeConflictWarning: In merged column 'umag' the 'description' attribute does not match (SDSS u band PSF magnitude {\\em\\fg{red3}(red values have a non-zero flag)} != SDSS u-band PSF magnitude).  Using SDSS u-band PSF magnitude for merged output [astropy.table.operations]\n",
      "WARNING: MergeConflictWarning: In merged column 'e_umag' the 'format' attribute does not match (%6.3f != %5.2f).  Using %5.2f for merged output [astropy.table.operations]\n",
      "WARNING: MergeConflictWarning: In merged column 'e_umag' the 'description' attribute does not match (rms uncertainty on umag != Uncertainty in umag).  Using Uncertainty in umag for merged output [astropy.table.operations]\n",
      "WARNING: MergeConflictWarning: In merged column 'e_umag' the 'description' attribute does not match (Uncertainty in umag != rms uncertainty on umag).  Using rms uncertainty on umag for merged output [astropy.table.operations]\n",
      "WARNING: MergeConflictWarning: In merged column 'gmag' the 'format' attribute does not match (%6.3f != %5.2f).  Using %5.2f for merged output [astropy.table.operations]\n",
      "WARNING: MergeConflictWarning: In merged column 'gmag' the 'description' attribute does not match (SDSS g-band PSF magnitude != ? SDSS g band PSF magnitude {\\em\\fg{red3}(red values have a non-zero flag)}).  Using ? SDSS g band PSF magnitude {\\em\\fg{red3}(red values have a non-zero flag)} for merged output [astropy.table.operations]\n",
      "WARNING: MergeConflictWarning: In merged column 'gmag' the 'description' attribute does not match (? SDSS g band PSF magnitude {\\em\\fg{red3}(red values have a non-zero flag)} != SDSS g-band PSF magnitude).  Using SDSS g-band PSF magnitude for merged output [astropy.table.operations]\n",
      "WARNING: MergeConflictWarning: In merged column 'e_gmag' the 'format' attribute does not match (%6.3f != %5.2f).  Using %5.2f for merged output [astropy.table.operations]\n",
      "WARNING: MergeConflictWarning: In merged column 'e_gmag' the 'description' attribute does not match (rms uncertainty on gmag != ? Uncertainty in gmag).  Using ? Uncertainty in gmag for merged output [astropy.table.operations]\n",
      "WARNING: MergeConflictWarning: In merged column 'e_gmag' the 'description' attribute does not match (? Uncertainty in gmag != rms uncertainty on gmag).  Using rms uncertainty on gmag for merged output [astropy.table.operations]\n",
      "WARNING: MergeConflictWarning: In merged column 'rmag' the 'format' attribute does not match (%6.3f != %5.2f).  Using %5.2f for merged output [astropy.table.operations]\n",
      "WARNING: MergeConflictWarning: In merged column 'rmag' the 'description' attribute does not match (SDSS r-band PSF magnitude != SDSS r band PSF magnitude {\\em\\fg{red3}(red values have a non-zero flag)}).  Using SDSS r band PSF magnitude {\\em\\fg{red3}(red values have a non-zero flag)} for merged output [astropy.table.operations]\n",
      "WARNING: MergeConflictWarning: In merged column 'rmag' the 'description' attribute does not match (SDSS r band PSF magnitude {\\em\\fg{red3}(red values have a non-zero flag)} != SDSS r-band PSF magnitude).  Using SDSS r-band PSF magnitude for merged output [astropy.table.operations]\n",
      "WARNING: MergeConflictWarning: In merged column 'e_rmag' the 'format' attribute does not match (%6.3f != %5.2f).  Using %5.2f for merged output [astropy.table.operations]\n",
      "WARNING: MergeConflictWarning: In merged column 'e_rmag' the 'description' attribute does not match (rms uncertainty on rmag != Uncertainty in rmag).  Using Uncertainty in rmag for merged output [astropy.table.operations]\n",
      "WARNING: MergeConflictWarning: In merged column 'e_rmag' the 'description' attribute does not match (Uncertainty in rmag != rms uncertainty on rmag).  Using rms uncertainty on rmag for merged output [astropy.table.operations]\n",
      "WARNING: MergeConflictWarning: In merged column 'imag' the 'format' attribute does not match (%6.3f != %5.2f).  Using %5.2f for merged output [astropy.table.operations]\n",
      "WARNING: MergeConflictWarning: In merged column 'imag' the 'description' attribute does not match (SDSS i-band PSF magnitude != SDSS i band PSF magnitude {\\em\\fg{red3}(red values have a non-zero flag)}).  Using SDSS i band PSF magnitude {\\em\\fg{red3}(red values have a non-zero flag)} for merged output [astropy.table.operations]\n",
      "WARNING: MergeConflictWarning: In merged column 'imag' the 'description' attribute does not match (SDSS i band PSF magnitude {\\em\\fg{red3}(red values have a non-zero flag)} != SDSS i-band PSF magnitude).  Using SDSS i-band PSF magnitude for merged output [astropy.table.operations]\n",
      "WARNING: MergeConflictWarning: In merged column 'e_imag' the 'format' attribute does not match (%6.3f != %6.2f).  Using %6.2f for merged output [astropy.table.operations]\n",
      "WARNING: MergeConflictWarning: In merged column 'e_imag' the 'description' attribute does not match (rms uncertainty on imag != Uncertainty in imag).  Using Uncertainty in imag for merged output [astropy.table.operations]\n",
      "WARNING: MergeConflictWarning: In merged column 'e_imag' the 'format' attribute does not match (%6.2f != %5.2f).  Using %5.2f for merged output [astropy.table.operations]\n",
      "WARNING: MergeConflictWarning: In merged column 'e_imag' the 'description' attribute does not match (Uncertainty in imag != rms uncertainty on imag).  Using rms uncertainty on imag for merged output [astropy.table.operations]\n",
      "WARNING: MergeConflictWarning: In merged column 'zmag' the 'format' attribute does not match (%6.3f != %5.2f).  Using %5.2f for merged output [astropy.table.operations]\n",
      "WARNING: MergeConflictWarning: In merged column 'zmag' the 'description' attribute does not match (SDSS z-band PSF magnitude != SDSS z band PSF magnitude {\\em\\fg{red3}(red values have a non-zero flag)}).  Using SDSS z band PSF magnitude {\\em\\fg{red3}(red values have a non-zero flag)} for merged output [astropy.table.operations]\n",
      "WARNING: MergeConflictWarning: In merged column 'zmag' the 'description' attribute does not match (SDSS z band PSF magnitude {\\em\\fg{red3}(red values have a non-zero flag)} != SDSS z-band PSF magnitude).  Using SDSS z-band PSF magnitude for merged output [astropy.table.operations]\n",
      "WARNING: MergeConflictWarning: In merged column 'e_zmag' the 'format' attribute does not match (%6.3f != %5.2f).  Using %5.2f for merged output [astropy.table.operations]\n",
      "WARNING: MergeConflictWarning: In merged column 'e_zmag' the 'description' attribute does not match (rms uncertainty on zmag != Uncertainty in zmag).  Using Uncertainty in zmag for merged output [astropy.table.operations]\n",
      "WARNING: MergeConflictWarning: In merged column 'e_zmag' the 'description' attribute does not match (Uncertainty in zmag != rms uncertainty on zmag).  Using rms uncertainty on zmag for merged output [astropy.table.operations]\n",
      "WARNING: MergeConflictWarning: Cannot merge meta key u'width' types <type 'int'> and <type 'int'>, choosing width=6 [astropy.utils.metadata]\n",
      "WARNING: MergeConflictWarning: Cannot merge meta key u'precision' types <type 'unicode'> and <type 'unicode'>, choosing precision=u'1' [astropy.utils.metadata]\n",
      "WARNING: MergeConflictWarning: In merged column 'pm' the 'format' attribute does not match (%7.3f != %6.1f).  Using %6.1f for merged output [astropy.table.operations]\n",
      "WARNING: MergeConflictWarning: In merged column 'pm' the 'description' attribute does not match (USNO proper motion != SDSS proper motion (arcsec/century)).  Using SDSS proper motion (arcsec/century) for merged output [astropy.table.operations]\n",
      "WARNING: MergeConflictWarning: In merged column 'pm' the 'unit' attribute does not match (mas / yr != 0.01 / yr).  Using 0.01 / yr for merged output [astropy.table.operations]\n",
      "WARNING: MergeConflictWarning: In merged column 'pm' the 'format' attribute does not match (%6.1f != %5.2f).  Using %5.2f for merged output [astropy.table.operations]\n",
      "WARNING: MergeConflictWarning: In merged column 'pm' the 'description' attribute does not match (SDSS proper motion (arcsec/century) != SDSS proper motion).  Using SDSS proper motion for merged output [astropy.table.operations]\n",
      "WARNING: MergeConflictWarning: In merged column 'Teff' the 'description' attribute does not match (? Effective temperature [NULL integer written as an empty string] != ? autofit effective temperature (3) [NULL integer written as an empty string]).  Using ? autofit effective temperature (3) [NULL integer written as an empty string] for merged output [astropy.table.operations]\n",
      "WARNING: MergeConflictWarning: In merged column 'Teff' the 'description' attribute does not match (? autofit effective temperature (3) [NULL integer written as an empty string] != Effective temperature (1)).  Using Effective temperature (1) for merged output [astropy.table.operations]\n",
      "WARNING: MergeConflictWarning: In merged column 'e_Teff' the 'description' attribute does not match (? rms uncertainty on Teff [NULL integer written as an empty string] != ? Uncertainty in Teff (3) [NULL integer written as an empty string]).  Using ? Uncertainty in Teff (3) [NULL integer written as an empty string] for merged output [astropy.table.operations]\n",
      "WARNING: MergeConflictWarning: In merged column 'e_Teff' the 'description' attribute does not match (? Uncertainty in Teff (3) [NULL integer written as an empty string] != rms uncertainty on Teff).  Using rms uncertainty on Teff for merged output [astropy.table.operations]\n",
      "WARNING: MergeConflictWarning: In merged column 'logg' the 'description' attribute does not match (? Surface gravity != Surface gravity (1)).  Using Surface gravity (1) for merged output [astropy.table.operations]\n",
      "WARNING: MergeConflictWarning: In merged column 'e_logg' the 'description' attribute does not match (? rms uncertainty on logg (1) != rms uncertainty on logg).  Using rms uncertainty on logg for merged output [astropy.table.operations]\n",
      "WARNING: MergeConflictWarning: In merged column 'Teff_3D_' the 'description' attribute does not match (? Teff for pure DAs and DBs [NULL integer written as an empty string] != ? Teff for pure DAs and DBs (1) [NULL integer written as an empty string]).  Using ? Teff for pure DAs and DBs (1) [NULL integer written as an empty string] for merged output [astropy.table.operations]\n",
      "WARNING: MergeConflictWarning: Cannot merge meta key u'null' types <type 'float'> and <type 'float'>, choosing null=nan [astropy.utils.metadata]\n",
      "WARNING: MergeConflictWarning: In merged column 'logg_3D_' the 'description' attribute does not match (? Surface gravity for pure DAs and DBs (2) != ? Surface gravity (1)).  Using ? Surface gravity (1) for merged output [astropy.table.operations]\n",
      "WARNING: MergeConflictWarning: Cannot merge meta key u'precision' types <type 'unicode'> and <type 'unicode'>, choosing precision=u'3' [astropy.utils.metadata]\n",
      "WARNING: MergeConflictWarning: In merged column 'Mass' the 'format' attribute does not match (%8.5f != %6.3f).  Using %6.3f for merged output [astropy.table.operations]\n",
      "WARNING: MergeConflictWarning: In merged column 'Mass' the 'description' attribute does not match (? Calculated mass, corrected to 3D convection != [0.06/1.753]? Calculated mass (for clean DAs and DBs only)).  Using [0.06/1.753]? Calculated mass (for clean DAs and DBs only) for merged output [astropy.table.operations]\n",
      "WARNING: MergeConflictWarning: In merged column 'Mass' the 'description' attribute does not match ([0.06/1.753]? Calculated mass (for clean DAs and DBs only) != ? Calculated mass).  Using ? Calculated mass for merged output [astropy.table.operations]\n",
      "WARNING: MergeConflictWarning: In merged column 'e_Mass' the 'format' attribute does not match (%8.5f != %6.3f).  Using %6.3f for merged output [astropy.table.operations]\n",
      "WARNING: MergeConflictWarning: In merged column 'e_Mass' the 'description' attribute does not match (? rms uncertainty on Mass != [0/0.494]? Uncertainty in Mass).  Using [0/0.494]? Uncertainty in Mass for merged output [astropy.table.operations]\n",
      "WARNING: MergeConflictWarning: Cannot merge meta key u'width' types <type 'int'> and <type 'int'>, choosing width=7 [astropy.utils.metadata]\n",
      "WARNING: MergeConflictWarning: Cannot merge meta key u'precision' types <type 'unicode'> and <type 'unicode'>, choosing precision=u'4' [astropy.utils.metadata]\n",
      "WARNING: MergeConflictWarning: In merged column 'e_Mass' the 'format' attribute does not match (%6.3f != %7.4f).  Using %7.4f for merged output [astropy.table.operations]\n",
      "WARNING: MergeConflictWarning: In merged column 'e_Mass' the 'description' attribute does not match ([0/0.494]? Uncertainty in Mass != ? rms uncertainty on Mass).  Using ? rms uncertainty on Mass for merged output [astropy.table.operations]\n",
      "WARNING: MergeConflictWarning: Cannot merge meta key u'ucd' types <type 'unicode'> and <type 'unicode'>, choosing ucd=u'CLASS_OBJECT' [astropy.utils.metadata]\n",
      "WARNING: MergeConflictWarning: In merged column 'Type' the 'description' attribute does not match (Human spectral type assigned to this spectrum != Human classification (2)).  Using Human classification (2) for merged output [astropy.table.operations]\n",
      "WARNING: MergeConflictWarning: Cannot merge meta key u'description' types <type 'unicode'> and <type 'unicode'>, choosing description=u'Catalog of white dwarfs' [astropy.utils.metadata]\n",
      "WARNING: MergeConflictWarning: Cannot merge meta key u'name' types <type 'unicode'> and <type 'unicode'>, choosing name=u'J/ApJS/204/5/table2' [astropy.utils.metadata]\n",
      "WARNING: MergeConflictWarning: Cannot merge meta key u'ID' types <type 'unicode'> and <type 'unicode'>, choosing ID=u'J_ApJS_204_5_table2' [astropy.utils.metadata]\n",
      "WARNING: MergeConflictWarning: Cannot merge meta key u'description' types <type 'unicode'> and <type 'unicode'>, choosing description=u'New white dwarf stars' [astropy.utils.metadata]\n",
      "WARNING: MergeConflictWarning: Cannot merge meta key u'name' types <type 'unicode'> and <type 'unicode'>, choosing name=u'J/MNRAS/446/4078/table6' [astropy.utils.metadata]\n",
      "WARNING: MergeConflictWarning: Cannot merge meta key u'ID' types <type 'unicode'> and <type 'unicode'>, choosing ID=u'J_MNRAS_446_4078_table6' [astropy.utils.metadata]\n"
     ]
    }
   ],
   "source": [
    "catalogs = vstack([catalogs_1[0], catalogs_2[0], catalogs_3[0]])"
   ]
  },
  {
   "cell_type": "code",
   "execution_count": 7,
   "metadata": {
    "collapsed": false,
    "scrolled": true
   },
   "outputs": [
    {
     "data": {
      "text/html": [
       "&lt;Table masked=True length=36166&gt;\n",
       "<table id=\"table4423831760\" class=\"table-striped table-bordered table-condensed\">\n",
       "<thead><tr><th>_RAJ2000</th><th>_DEJ2000</th><th>PMF</th><th>SDSS</th><th>S_N</th><th>umag</th><th>e_umag</th><th>gmag</th><th>e_gmag</th><th>rmag</th><th>e_rmag</th><th>imag</th><th>e_imag</th><th>zmag</th><th>e_zmag</th><th>E_B-V_</th><th>pm</th><th>GLON</th><th>GLAT</th><th>SpType</th><th>Teff</th><th>e_Teff</th><th>logg</th><th>e_logg</th><th>Teff_3D_</th><th>e_Teff_3D_</th><th>logg_3D_</th><th>e_logg_3D_</th><th>Mass</th><th>e_Mass</th><th>Com</th><th>Sp</th><th>_RA.icrs</th><th>_DE.icrs</th><th>Plate</th><th>MJD</th><th>Fiber</th><th>RAJ2000</th><th>DEJ2000</th><th>SNg</th><th>f_umag</th><th>f_gmag</th><th>f_rmag</th><th>f_imag</th><th>f_zmag</th><th>f_pm</th><th>pmPA</th><th>Ag</th><th>GMT</th><th>Atype</th><th>log_g_</th><th>e_log_g_</th><th>chi2</th><th>m_Nsp</th><th>Nsp</th><th>q_Nsp</th><th>Type</th><th>WDcat</th><th>DR7</th><th>Sloan</th><th>Simbad</th><th>PMJ</th><th>_RA</th><th>_DE</th></tr></thead>\n",
       "<thead><tr><th>deg</th><th>deg</th><th></th><th></th><th></th><th>mag</th><th>mag</th><th>mag</th><th>mag</th><th>mag</th><th>mag</th><th>mag</th><th>mag</th><th>mag</th><th>mag</th><th>mag</th><th>0.01 / yr</th><th>deg</th><th>deg</th><th></th><th>K</th><th>K</th><th>[cm/s2]</th><th>[cm/s2]</th><th>K</th><th>K</th><th>[cm/s2]</th><th>[cm/s2]</th><th>Msun</th><th>Msun</th><th></th><th></th><th>deg</th><th>deg</th><th></th><th>d</th><th></th><th>deg</th><th>deg</th><th></th><th></th><th></th><th></th><th></th><th></th><th></th><th>deg</th><th>mag</th><th>&quot;datime&quot;</th><th></th><th>[cm/s2]</th><th>[cm/s2]</th><th></th><th></th><th></th><th></th><th></th><th></th><th></th><th></th><th></th><th></th><th>deg</th><th>deg</th></tr></thead>\n",
       "<thead><tr><th>float64</th><th>float64</th><th>str15</th><th>str19</th><th>int16</th><th>float32</th><th>float32</th><th>float32</th><th>float32</th><th>float32</th><th>float32</th><th>float32</th><th>float32</th><th>float32</th><th>float32</th><th>float32</th><th>float32</th><th>float32</th><th>float32</th><th>str9</th><th>int32</th><th>int32</th><th>float32</th><th>float32</th><th>int32</th><th>int32</th><th>float32</th><th>float32</th><th>float64</th><th>float64</th><th>str69</th><th>str2</th><th>float64</th><th>float64</th><th>int16</th><th>int32</th><th>int16</th><th>float64</th><th>float64</th><th>float32</th><th>int64</th><th>int64</th><th>int64</th><th>int64</th><th>int64</th><th>uint8</th><th>float32</th><th>float32</th><th>str20</th><th>str14</th><th>float32</th><th>float32</th><th>float32</th><th>str4</th><th>int16</th><th>str1</th><th>str19</th><th>int16</th><th>str3</th><th>str5</th><th>str6</th><th>str15</th><th>float64</th><th>float64</th></tr></thead>\n",
       "<tr><td>192.84360</td><td>-2.67170</td><td>0337-51997-0195</td><td>125122.06-023737.21</td><td>22</td><td>18.12</td><td>0.02</td><td>17.57</td><td>0.02</td><td>17.55</td><td>0.01</td><td>17.57</td><td>0.02</td><td>17.60</td><td>0.02</td><td>0.021</td><td>5.10</td><td>302.9</td><td>60.2</td><td>sdB</td><td>29108</td><td>463</td><td>5.409</td><td>0.087</td><td>--</td><td>--</td><td>--</td><td>--</td><td>--</td><td>--</td><td></td><td>Sp</td><td>192.8436</td><td>-2.6717</td><td>--</td><td>--</td><td>--</td><td>--</td><td>--</td><td>--</td><td>--</td><td>--</td><td>--</td><td>--</td><td>--</td><td>--</td><td>--</td><td>--</td><td>--</td><td>--</td><td>--</td><td>--</td><td>--</td><td>--</td><td>--</td><td>--</td><td>--</td><td>--</td><td>--</td><td>--</td><td>--</td><td>--</td><td>--</td><td>--</td></tr>\n",
       "<tr><td>232.78030</td><td>55.01910</td><td>0614-53437-0049</td><td>153112.62+550139.60</td><td>22</td><td>17.61</td><td>0.01</td><td>17.83</td><td>0.02</td><td>18.32</td><td>0.02</td><td>18.67</td><td>0.02</td><td>18.96</td><td>0.04</td><td>0.018</td><td>8.30</td><td>88.1</td><td>49.9</td><td>sdB</td><td>29876</td><td>374</td><td>5.292</td><td>0.080</td><td>--</td><td>--</td><td>--</td><td>--</td><td>--</td><td>--</td><td></td><td>Sp</td><td>232.7803</td><td>55.0191</td><td>--</td><td>--</td><td>--</td><td>--</td><td>--</td><td>--</td><td>--</td><td>--</td><td>--</td><td>--</td><td>--</td><td>--</td><td>--</td><td>--</td><td>--</td><td>--</td><td>--</td><td>--</td><td>--</td><td>--</td><td>--</td><td>--</td><td>--</td><td>--</td><td>--</td><td>--</td><td>--</td><td>--</td><td>--</td><td>--</td></tr>\n",
       "<tr><td>221.71480</td><td>58.15350</td><td>0790-52346-0634</td><td>144657.14+580920.12</td><td>46</td><td>15.84</td><td>0.01</td><td>15.67</td><td>0.01</td><td>15.67</td><td>0.02</td><td>15.70</td><td>0.02</td><td>15.76</td><td>0.02</td><td>0.010</td><td>3.90</td><td>97.9</td><td>53.0</td><td>sdB</td><td>30893</td><td>165</td><td>5.033</td><td>0.032</td><td>--</td><td>--</td><td>--</td><td>--</td><td>--</td><td>--</td><td></td><td>Sp</td><td>221.7148</td><td>58.1535</td><td>--</td><td>--</td><td>--</td><td>--</td><td>--</td><td>--</td><td>--</td><td>--</td><td>--</td><td>--</td><td>--</td><td>--</td><td>--</td><td>--</td><td>--</td><td>--</td><td>--</td><td>--</td><td>--</td><td>--</td><td>--</td><td>--</td><td>--</td><td>--</td><td>--</td><td>--</td><td>--</td><td>--</td><td>--</td><td>--</td></tr>\n",
       "<tr><td>117.37760</td><td>28.08670</td><td>1059-52618-0515</td><td>074915.66+280641.01</td><td>11</td><td>18.91</td><td>0.02</td><td>19.10</td><td>0.03</td><td>19.52</td><td>0.02</td><td>19.86</td><td>0.03</td><td>20.15</td><td>0.11</td><td>0.035</td><td>4.60</td><td>192.5</td><td>24.3</td><td>sdB</td><td>29404</td><td>704</td><td>5.450</td><td>0.142</td><td>--</td><td>--</td><td>--</td><td>--</td><td>--</td><td>--</td><td></td><td>Sp</td><td>117.3776</td><td>28.0867</td><td>--</td><td>--</td><td>--</td><td>--</td><td>--</td><td>--</td><td>--</td><td>--</td><td>--</td><td>--</td><td>--</td><td>--</td><td>--</td><td>--</td><td>--</td><td>--</td><td>--</td><td>--</td><td>--</td><td>--</td><td>--</td><td>--</td><td>--</td><td>--</td><td>--</td><td>--</td><td>--</td><td>--</td><td>--</td><td>--</td></tr>\n",
       "<tr><td>326.60840</td><td>-7.21670</td><td>1177-52824-0636</td><td>214627.88-071117.59</td><td>45</td><td>16.16</td><td>0.01</td><td>15.94</td><td>0.03</td><td>15.86</td><td>0.01</td><td>15.86</td><td>0.01</td><td>15.90</td><td>0.02</td><td>0.035</td><td>7.00</td><td>48.6</td><td>-41.9</td><td>sdB</td><td>30503</td><td>191</td><td>5.019</td><td>0.036</td><td>--</td><td>--</td><td>--</td><td>--</td><td>--</td><td>--</td><td></td><td>Sp</td><td>326.6084</td><td>-7.2167</td><td>--</td><td>--</td><td>--</td><td>--</td><td>--</td><td>--</td><td>--</td><td>--</td><td>--</td><td>--</td><td>--</td><td>--</td><td>--</td><td>--</td><td>--</td><td>--</td><td>--</td><td>--</td><td>--</td><td>--</td><td>--</td><td>--</td><td>--</td><td>--</td><td>--</td><td>--</td><td>--</td><td>--</td><td>--</td><td>--</td></tr>\n",
       "<tr><td>63.90770</td><td>25.61750</td><td>1254-52972-0163</td><td>041536.05+253857.11</td><td>41</td><td>16.14</td><td>0.01</td><td>16.27</td><td>0.01</td><td>16.46</td><td>0.01</td><td>16.65</td><td>0.01</td><td>16.83</td><td>0.02</td><td>0.483</td><td>6.10</td><td>170.4</td><td>-17.9</td><td>He-sdO</td><td>64329</td><td>1429</td><td>6.118</td><td>0.073</td><td>--</td><td>--</td><td>--</td><td>--</td><td>--</td><td>--</td><td></td><td>Sp</td><td>63.9077</td><td>25.6175</td><td>--</td><td>--</td><td>--</td><td>--</td><td>--</td><td>--</td><td>--</td><td>--</td><td>--</td><td>--</td><td>--</td><td>--</td><td>--</td><td>--</td><td>--</td><td>--</td><td>--</td><td>--</td><td>--</td><td>--</td><td>--</td><td>--</td><td>--</td><td>--</td><td>--</td><td>--</td><td>--</td><td>--</td><td>--</td><td>--</td></tr>\n",
       "<tr><td>251.22790</td><td>21.59420</td><td>1569-53168-0370</td><td>164453.35+213711.54</td><td>20</td><td>17.75</td><td>0.02</td><td>17.82</td><td>0.01</td><td>18.22</td><td>0.01</td><td>18.55</td><td>0.01</td><td>18.81</td><td>0.04</td><td>0.050</td><td>3.00</td><td>40.5</td><td>37.0</td><td>sdB</td><td>26349</td><td>889</td><td>5.114</td><td>0.104</td><td>--</td><td>--</td><td>--</td><td>--</td><td>--</td><td>--</td><td></td><td>Sp</td><td>251.2279</td><td>21.5942</td><td>--</td><td>--</td><td>--</td><td>--</td><td>--</td><td>--</td><td>--</td><td>--</td><td>--</td><td>--</td><td>--</td><td>--</td><td>--</td><td>--</td><td>--</td><td>--</td><td>--</td><td>--</td><td>--</td><td>--</td><td>--</td><td>--</td><td>--</td><td>--</td><td>--</td><td>--</td><td>--</td><td>--</td><td>--</td><td>--</td></tr>\n",
       "<tr><td>244.92500</td><td>24.15590</td><td>1574-53476-0225</td><td>161942.83+240715.70</td><td>46</td><td>16.79</td><td>0.02</td><td>16.42</td><td>0.02</td><td>16.46</td><td>0.02</td><td>16.48</td><td>0.01</td><td>16.57</td><td>0.02</td><td>0.067</td><td>11.90</td><td>41.5</td><td>43.3</td><td>sdB</td><td>27741</td><td>342</td><td>5.227</td><td>0.048</td><td>--</td><td>--</td><td>--</td><td>--</td><td>--</td><td>--</td><td></td><td>Sp</td><td>244.9250</td><td>24.1559</td><td>--</td><td>--</td><td>--</td><td>--</td><td>--</td><td>--</td><td>--</td><td>--</td><td>--</td><td>--</td><td>--</td><td>--</td><td>--</td><td>--</td><td>--</td><td>--</td><td>--</td><td>--</td><td>--</td><td>--</td><td>--</td><td>--</td><td>--</td><td>--</td><td>--</td><td>--</td><td>--</td><td>--</td><td>--</td><td>--</td></tr>\n",
       "<tr><td>242.94240</td><td>29.00110</td><td>1577-53495-0460</td><td>161132.90+290038.99</td><td>37</td><td>16.46</td><td>0.02</td><td>16.58</td><td>0.02</td><td>17.00</td><td>0.02</td><td>17.35</td><td>0.01</td><td>17.64</td><td>0.02</td><td>0.037</td><td>10.30</td><td>47.6</td><td>46.1</td><td>sdB</td><td>28344</td><td>511</td><td>6.000</td><td>0.500</td><td>--</td><td>--</td><td>--</td><td>--</td><td>--</td><td>--</td><td></td><td>Sp</td><td>242.9424</td><td>29.0011</td><td>--</td><td>--</td><td>--</td><td>--</td><td>--</td><td>--</td><td>--</td><td>--</td><td>--</td><td>--</td><td>--</td><td>--</td><td>--</td><td>--</td><td>--</td><td>--</td><td>--</td><td>--</td><td>--</td><td>--</td><td>--</td><td>--</td><td>--</td><td>--</td><td>--</td><td>--</td><td>--</td><td>--</td><td>--</td><td>--</td></tr>\n",
       "<tr><td>...</td><td>...</td><td>...</td><td>...</td><td>...</td><td>...</td><td>...</td><td>...</td><td>...</td><td>...</td><td>...</td><td>...</td><td>...</td><td>...</td><td>...</td><td>...</td><td>...</td><td>...</td><td>...</td><td>...</td><td>...</td><td>...</td><td>...</td><td>...</td><td>...</td><td>...</td><td>...</td><td>...</td><td>...</td><td>...</td><td>...</td><td>...</td><td>...</td><td>...</td><td>...</td><td>...</td><td>...</td><td>...</td><td>...</td><td>...</td><td>...</td><td>...</td><td>...</td><td>...</td><td>...</td><td>...</td><td>...</td><td>...</td><td>...</td><td>...</td><td>...</td><td>...</td><td>...</td><td>...</td><td>...</td><td>...</td><td>...</td><td>...</td><td>...</td><td>...</td><td>...</td><td>...</td><td>...</td><td>...</td></tr>\n",
       "<tr><td>359.32596</td><td>-1.97196</td><td>--</td><td>235718.23-015819.06</td><td>6</td><td>21.44</td><td>0.11</td><td>20.82</td><td>0.04</td><td>20.68</td><td>0.04</td><td>20.67</td><td>0.06</td><td>20.89</td><td>0.19</td><td>--</td><td>1.60</td><td>--</td><td>--</td><td>--</td><td>8769</td><td>122</td><td>8.158</td><td>0.173</td><td>8767</td><td>122</td><td>7.900</td><td>0.170</td><td>0.544</td><td>0.0800</td><td></td><td>--</td><td>--</td><td>--</td><td>--</td><td>--</td><td>--</td><td>--</td><td>--</td><td>--</td><td>--</td><td>--</td><td>--</td><td>--</td><td>--</td><td>--</td><td>--</td><td>--</td><td>--</td><td>--</td><td>--</td><td>--</td><td>--</td><td>--</td><td>--</td><td>--</td><td>DA</td><td>--</td><td>--</td><td>--</td><td>--</td><td>4355-55533-0932</td><td>359.32596</td><td>-1.971961</td></tr>\n",
       "<tr><td>359.36387</td><td>4.28445</td><td>--</td><td>235727.33+041704.03</td><td>5</td><td>21.21</td><td>0.12</td><td>20.56</td><td>0.03</td><td>20.63</td><td>0.04</td><td>20.48</td><td>0.05</td><td>19.69</td><td>0.09</td><td>--</td><td>0.00</td><td>--</td><td>--</td><td>--</td><td>15098</td><td>660</td><td>7.979</td><td>0.010</td><td>15098</td><td>660</td><td>7.980</td><td>0.010</td><td>0.601</td><td>0.0040</td><td></td><td>--</td><td>--</td><td>--</td><td>--</td><td>--</td><td>--</td><td>--</td><td>--</td><td>--</td><td>--</td><td>--</td><td>--</td><td>--</td><td>--</td><td>--</td><td>--</td><td>--</td><td>--</td><td>--</td><td>--</td><td>--</td><td>--</td><td>--</td><td>--</td><td>--</td><td>DA</td><td>--</td><td>--</td><td>--</td><td>--</td><td>4405-55854-0086</td><td>359.36387</td><td>4.284453</td></tr>\n",
       "<tr><td>359.40571</td><td>-3.40244</td><td>--</td><td>235737.37-032408.78</td><td>17</td><td>19.51</td><td>0.05</td><td>19.19</td><td>0.02</td><td>19.21</td><td>0.02</td><td>19.37</td><td>0.02</td><td>19.54</td><td>0.05</td><td>--</td><td>4.75</td><td>--</td><td>--</td><td>--</td><td>8387</td><td>36</td><td>8.000</td><td>0.000</td><td>--</td><td>--</td><td>--</td><td>--</td><td>--</td><td>--</td><td>-log_Ca= 9.616 0.029</td><td>--</td><td>--</td><td>--</td><td>--</td><td>--</td><td>--</td><td>--</td><td>--</td><td>--</td><td>--</td><td>--</td><td>--</td><td>--</td><td>--</td><td>--</td><td>--</td><td>--</td><td>--</td><td>--</td><td>--</td><td>--</td><td>--</td><td>--</td><td>--</td><td>--</td><td>DZ</td><td>--</td><td>--</td><td>--</td><td>--</td><td>4355-55533-0012</td><td>359.40571</td><td>-3.402439</td></tr>\n",
       "<tr><td>359.41258</td><td>3.58320</td><td>--</td><td>235739.02+033459.52</td><td>2</td><td>22.20</td><td>0.27</td><td>21.43</td><td>0.05</td><td>21.43</td><td>0.06</td><td>21.55</td><td>0.11</td><td>22.02</td><td>0.55</td><td>--</td><td>0.00</td><td>--</td><td>--</td><td>--</td><td>9377</td><td>345</td><td>8.908</td><td>0.304</td><td>9339</td><td>345</td><td>8.610</td><td>0.300</td><td>0.972</td><td>0.1690</td><td></td><td>--</td><td>--</td><td>--</td><td>--</td><td>--</td><td>--</td><td>--</td><td>--</td><td>--</td><td>--</td><td>--</td><td>--</td><td>--</td><td>--</td><td>--</td><td>--</td><td>--</td><td>--</td><td>--</td><td>--</td><td>--</td><td>--</td><td>--</td><td>--</td><td>--</td><td>DA</td><td>--</td><td>--</td><td>--</td><td>--</td><td>4277-55506-0317</td><td>359.41258</td><td>3.583200</td></tr>\n",
       "<tr><td>359.46600</td><td>8.53244</td><td>--</td><td>235751.84+083156.78</td><td>21</td><td>18.95</td><td>0.02</td><td>18.74</td><td>0.01</td><td>18.98</td><td>0.01</td><td>19.22</td><td>0.02</td><td>19.48</td><td>0.08</td><td>--</td><td>3.49</td><td>--</td><td>--</td><td>--</td><td>18895</td><td>200</td><td>7.954</td><td>0.004</td><td>18895</td><td>200</td><td>7.950</td><td>0.000</td><td>0.595</td><td>0.0000</td><td></td><td>--</td><td>--</td><td>--</td><td>--</td><td>--</td><td>--</td><td>--</td><td>--</td><td>--</td><td>--</td><td>--</td><td>--</td><td>--</td><td>--</td><td>--</td><td>--</td><td>--</td><td>--</td><td>--</td><td>--</td><td>--</td><td>--</td><td>--</td><td>--</td><td>--</td><td>DA</td><td>--</td><td>--</td><td>--</td><td>--</td><td>4535-55860-0545</td><td>359.46600</td><td>8.532439</td></tr>\n",
       "<tr><td>359.47137</td><td>28.76190</td><td>--</td><td>235753.13+284542.83</td><td>10</td><td>19.61</td><td>0.03</td><td>19.87</td><td>0.01</td><td>20.12</td><td>0.02</td><td>19.82</td><td>0.02</td><td>19.36</td><td>0.05</td><td>--</td><td>1.41</td><td>--</td><td>--</td><td>--</td><td>36903</td><td>1000</td><td>7.849</td><td>0.187</td><td>--</td><td>--</td><td>--</td><td>--</td><td>0.550</td><td>0.0910</td><td>known</td><td>--</td><td>--</td><td>--</td><td>--</td><td>--</td><td>--</td><td>--</td><td>--</td><td>--</td><td>--</td><td>--</td><td>--</td><td>--</td><td>--</td><td>--</td><td>--</td><td>--</td><td>--</td><td>--</td><td>--</td><td>--</td><td>--</td><td>--</td><td>--</td><td>--</td><td>DB+M</td><td>--</td><td>--</td><td>--</td><td>--</td><td>2824-54452-0364</td><td>359.47137</td><td>28.761897</td></tr>\n",
       "<tr><td>359.54371</td><td>4.75496</td><td>--</td><td>235810.49+044517.86</td><td>3</td><td>21.81</td><td>0.18</td><td>21.50</td><td>0.05</td><td>21.35</td><td>0.07</td><td>21.53</td><td>0.11</td><td>20.94</td><td>0.25</td><td>--</td><td>0.00</td><td>--</td><td>--</td><td>--</td><td>8134</td><td>283</td><td>8.000</td><td>0.000</td><td>--</td><td>--</td><td>--</td><td>--</td><td>--</td><td>--</td><td>-log_Ca= 8.736 0.246</td><td>--</td><td>--</td><td>--</td><td>--</td><td>--</td><td>--</td><td>--</td><td>--</td><td>--</td><td>--</td><td>--</td><td>--</td><td>--</td><td>--</td><td>--</td><td>--</td><td>--</td><td>--</td><td>--</td><td>--</td><td>--</td><td>--</td><td>--</td><td>--</td><td>--</td><td>DZ</td><td>--</td><td>--</td><td>--</td><td>--</td><td>4277-55506-0748</td><td>359.54371</td><td>4.754961</td></tr>\n",
       "<tr><td>359.82929</td><td>6.35531</td><td>--</td><td>235919.03+062119.12</td><td>20</td><td>19.05</td><td>0.02</td><td>18.88</td><td>0.01</td><td>18.90</td><td>0.01</td><td>19.06</td><td>0.01</td><td>19.13</td><td>0.04</td><td>--</td><td>3.16</td><td>--</td><td>--</td><td>--</td><td>7300</td><td>1000</td><td>6.500</td><td>0.500</td><td>--</td><td>--</td><td>--</td><td>--</td><td>--</td><td>--</td><td></td><td>--</td><td>--</td><td>--</td><td>--</td><td>--</td><td>--</td><td>--</td><td>--</td><td>--</td><td>--</td><td>--</td><td>--</td><td>--</td><td>--</td><td>--</td><td>--</td><td>--</td><td>--</td><td>--</td><td>--</td><td>--</td><td>--</td><td>--</td><td>--</td><td>--</td><td>DC</td><td>--</td><td>--</td><td>--</td><td>--</td><td>4415-55831-0544</td><td>359.82929</td><td>6.355311</td></tr>\n",
       "<tr><td>359.85896</td><td>3.79960</td><td>--</td><td>235926.15+034758.56</td><td>10</td><td>20.54</td><td>0.07</td><td>20.16</td><td>0.03</td><td>19.94</td><td>0.02</td><td>19.91</td><td>0.03</td><td>20.22</td><td>0.15</td><td>--</td><td>0.00</td><td>--</td><td>--</td><td>--</td><td>7537</td><td>62</td><td>8.000</td><td>0.000</td><td>--</td><td>--</td><td>--</td><td>--</td><td>--</td><td>--</td><td>-log_Ca= 9.376 0.060</td><td>--</td><td>--</td><td>--</td><td>--</td><td>--</td><td>--</td><td>--</td><td>--</td><td>--</td><td>--</td><td>--</td><td>--</td><td>--</td><td>--</td><td>--</td><td>--</td><td>--</td><td>--</td><td>--</td><td>--</td><td>--</td><td>--</td><td>--</td><td>--</td><td>--</td><td>DZ</td><td>--</td><td>--</td><td>--</td><td>--</td><td>4277-55506-0860</td><td>359.85896</td><td>3.799600</td></tr>\n",
       "<tr><td>359.90554</td><td>2.73250</td><td>--</td><td>235937.33+024357.00</td><td>4</td><td>21.45</td><td>0.13</td><td>21.07</td><td>0.04</td><td>21.04</td><td>0.05</td><td>21.05</td><td>0.06</td><td>21.53</td><td>0.41</td><td>--</td><td>4.39</td><td>--</td><td>--</td><td>--</td><td>11269</td><td>275</td><td>8.000</td><td>0.000</td><td>--</td><td>--</td><td>--</td><td>--</td><td>--</td><td>--</td><td>-log_Ca= 7.412 0.208</td><td>--</td><td>--</td><td>--</td><td>--</td><td>--</td><td>--</td><td>--</td><td>--</td><td>--</td><td>--</td><td>--</td><td>--</td><td>--</td><td>--</td><td>--</td><td>--</td><td>--</td><td>--</td><td>--</td><td>--</td><td>--</td><td>--</td><td>--</td><td>--</td><td>--</td><td>DZ</td><td>--</td><td>--</td><td>--</td><td>--</td><td>4277-55506-0162</td><td>359.90554</td><td>2.732500</td></tr>\n",
       "</table>"
      ],
      "text/plain": [
       "<Table masked=True length=36166>\n",
       " _RAJ2000  _DEJ2000       PMF       ...       PMJ          _RA       _DE    \n",
       "   deg       deg                    ...                    deg       deg    \n",
       " float64   float64       str15      ...      str15       float64   float64  \n",
       "--------- --------- --------------- ... --------------- --------- ----------\n",
       "192.84360  -2.67170 0337-51997-0195 ...              --        --         --\n",
       "232.78030  55.01910 0614-53437-0049 ...              --        --         --\n",
       "221.71480  58.15350 0790-52346-0634 ...              --        --         --\n",
       "117.37760  28.08670 1059-52618-0515 ...              --        --         --\n",
       "326.60840  -7.21670 1177-52824-0636 ...              --        --         --\n",
       " 63.90770  25.61750 1254-52972-0163 ...              --        --         --\n",
       "251.22790  21.59420 1569-53168-0370 ...              --        --         --\n",
       "244.92500  24.15590 1574-53476-0225 ...              --        --         --\n",
       "242.94240  29.00110 1577-53495-0460 ...              --        --         --\n",
       "      ...       ...             ... ...             ...       ...        ...\n",
       "359.32596  -1.97196              -- ... 4355-55533-0932 359.32596  -1.971961\n",
       "359.36387   4.28445              -- ... 4405-55854-0086 359.36387   4.284453\n",
       "359.40571  -3.40244              -- ... 4355-55533-0012 359.40571  -3.402439\n",
       "359.41258   3.58320              -- ... 4277-55506-0317 359.41258   3.583200\n",
       "359.46600   8.53244              -- ... 4535-55860-0545 359.46600   8.532439\n",
       "359.47137  28.76190              -- ... 2824-54452-0364 359.47137  28.761897\n",
       "359.54371   4.75496              -- ... 4277-55506-0748 359.54371   4.754961\n",
       "359.82929   6.35531              -- ... 4415-55831-0544 359.82929   6.355311\n",
       "359.85896   3.79960              -- ... 4277-55506-0860 359.85896   3.799600\n",
       "359.90554   2.73250              -- ... 4277-55506-0162 359.90554   2.732500"
      ]
     },
     "execution_count": 7,
     "metadata": {},
     "output_type": "execute_result"
    }
   ],
   "source": [
    "catalogs"
   ]
  },
  {
   "cell_type": "code",
   "execution_count": 8,
   "metadata": {
    "collapsed": false
   },
   "outputs": [],
   "source": [
    "#This is a way to add coordinates if we need to. I don't think we need to right now.\n",
    "#catalogs['Coordinates'] = coords.SkyCoord(catalogs['_RAJ2000'], catalogs['_DEJ2000'], frame='icrs')"
   ]
  },
  {
   "cell_type": "code",
   "execution_count": 9,
   "metadata": {
    "collapsed": false
   },
   "outputs": [],
   "source": [
    "#Here we do clean-up trying to merge those columns which were not properly merged\n",
    "#because they were named different things in different catalogs. These include\n",
    "#SDSS identifiers, a weird underscore for a log(g) parameter, different ways of\n",
    "#specifying spectral type, and different ways of calibrating signal to noise.\n",
    "\n",
    "PMF = catalogs['PMF']\n",
    "\n",
    "for ind,obj in enumerate(PMF):\n",
    "    if type(obj) != np.ma.core.MaskedConstant:\n",
    "        split_PMF = obj.split('-')\n",
    "        catalogs['Plate'][ind] = split_PMF[0]\n",
    "        catalogs['MJD'][ind] = split_PMF[1]\n",
    "        catalogs['Fiber'][ind] = split_PMF[2]\n",
    "        \n",
    "PMJ = catalogs['PMJ']\n",
    "\n",
    "for ind,obj in enumerate(PMJ):\n",
    "    if type(obj) != np.ma.core.MaskedConstant:\n",
    "        split_PMJ = obj.split('-')\n",
    "        catalogs['Plate'][ind] = split_PMJ[0]\n",
    "        catalogs['MJD'][ind] = split_PMJ[1]\n",
    "        catalogs['Fiber'][ind] = split_PMJ[2]\n",
    "\n",
    "log_g_ah = catalogs['log_g_']\n",
    "\n",
    "for ind,obj in enumerate(log_g_ah):\n",
    "    if type(catalogs['logg'][ind]) == np.ma.core.MaskedConstant:\n",
    "        if type(obj) != np.ma.core.MaskedConstant:\n",
    "            catalogs['logg'][ind] = obj\n",
    "            catalogs['e_logg'][ind] = catalogs['e_log_g_'][ind] \n",
    "\n",
    "Types = catalogs['SpType']\n",
    "\n",
    "for ind,obj in enumerate(Types):\n",
    "    if type(catalogs['Type'][ind]) == np.ma.core.MaskedConstant:\n",
    "        if type(obj) != np.ma.core.MaskedConstant:\n",
    "            catalogs['Type'][ind] = obj\n",
    "            \n",
    "SN = catalogs['SNg']\n",
    "\n",
    "for ind,obj in enumerate(SN):\n",
    "    if type(catalogs['S_N'][ind]) == np.ma.core.MaskedConstant:\n",
    "        if type(obj) != np.ma.core.MaskedConstant:\n",
    "            catalogs['S_N'][ind] = obj"
   ]
  },
  {
   "cell_type": "markdown",
   "metadata": {},
   "source": [
    "### Let's select a quality sample of WD spectra of Type DA"
   ]
  },
  {
   "cell_type": "code",
   "execution_count": 10,
   "metadata": {
    "collapsed": false
   },
   "outputs": [
    {
     "name": "stdout",
     "output_type": "stream",
     "text": [
      "('We start with', 21539, 'WDs')\n",
      "('We removed', 0, 'systems with NaNs')\n",
      "('Number with determined log g', 21505)\n",
      "('Number with S/N > 10', 8746)\n",
      "('Number with log g error less than 0.2', 8664)\n",
      "('Median T_eff error:', 161.0)\n",
      "('Median log g error:', 0.05299999937415123)\n"
     ]
    }
   ],
   "source": [
    "WD = catalogs[catalogs['Type'] == 'DA']\n",
    "\n",
    "print(\"We start with\", len(WD), \"WDs\")\n",
    "\n",
    "# First, we want to remove systems with NaN's - only found in log g\n",
    "good_WD = WD[np.where(~np.isnan(WD['logg']))]\n",
    "print(\"We removed\", len(WD[np.isnan(WD['logg'])]), \"systems with NaNs\")\n",
    "\n",
    "# Now, we want to remove systems in which the log g was assumed. These all have e_logg=0.0\n",
    "good_WD = good_WD[good_WD['e_logg'] != 0.0]\n",
    "print(\"Number with determined log g\",len(good_WD))\n",
    "\n",
    "# Next, we only want objects with a S/N above 10\n",
    "good_WD = good_WD[good_WD['S_N']>10]\n",
    "print(\"Number with S/N > 10\",len(good_WD))\n",
    "\n",
    "# Next, we want objects with log g uncertainties smaller than, say, 0.2\n",
    "good_WD = good_WD[good_WD['e_logg']<0.2]\n",
    "print(\"Number with log g error less than 0.2\",len(good_WD))\n",
    "\n",
    "# # Let's do the same with T_eff uncertainties - limit to 15% of T_eff\n",
    "# good_WD = good_WD[good_WD['e_Teff']<0.15*good_WD['Teff']]\n",
    "# print(\"Number with Teff uncertainties less than 15%\",len(good_WD))\n",
    "\n",
    "# Print the median Teff error\n",
    "print(\"Median T_eff error:\", np.median(good_WD['e_Teff']))\n",
    "\n",
    "# Print the median log g error\n",
    "print(\"Median log g error:\", np.median(good_WD['e_logg']))"
   ]
  },
  {
   "cell_type": "code",
   "execution_count": null,
   "metadata": {
    "collapsed": true
   },
   "outputs": [],
   "source": []
  },
  {
   "cell_type": "code",
   "execution_count": 11,
   "metadata": {
    "collapsed": false
   },
   "outputs": [],
   "source": [
    "def download_data(cat):\n",
    "    directory = '../data/'\n",
    "    cat['file'] = MaskedColumn(length=len(cat),dtype='S32')\n",
    "    for ind,plate in enumerate(cat['Plate']):\n",
    "        filename = 'DA_high_SN_'+str(ind).zfill(5)+'.fits'\n",
    "        if os.path.exists(directory+filename): \n",
    "            cat['file'][ind] = filename\n",
    "            continue\n",
    "        try:\n",
    "            spec = SDSS.get_spectra(plate=plate, mjd=cat['MJD'][ind], fiberID=cat['Fiber'][ind])\n",
    "            spec[0].writeto(directory+filename)\n",
    "            cat['file'][ind] = filename\n",
    "            print directory+filename\n",
    "        except:\n",
    "            print \"Could not download spectra:\", ind, plate, cat['MJD'][ind], cat['Fiber'][ind]\n",
    "            pass  "
   ]
  },
  {
   "cell_type": "code",
   "execution_count": 12,
   "metadata": {
    "collapsed": false
   },
   "outputs": [],
   "source": [
    "download_data(good_WD)"
   ]
  },
  {
   "cell_type": "code",
   "execution_count": 13,
   "metadata": {
    "collapsed": false
   },
   "outputs": [
    {
     "name": "stdout",
     "output_type": "stream",
     "text": [
      "('Number of spectra downloaded:', 8664)\n"
     ]
    }
   ],
   "source": [
    "good_WD = good_WD[good_WD['file'] != ''] #removes failed downloads\n",
    "print(\"Number of spectra downloaded:\", len(good_WD))"
   ]
  },
  {
   "cell_type": "code",
   "execution_count": 14,
   "metadata": {
    "collapsed": false
   },
   "outputs": [],
   "source": [
    "def add_lorentz_columns(catalog,num):\n",
    "    dty = ('float64','float64')\n",
    "    t2 = Table(np.arange(36*len(catalog)).reshape(len(catalog),36),\n",
    "               masked=True,\n",
    "               names=('C'+str(num)+'_0', 'C'+str(num)+'_1', 'C'+str(num)+'_2', 'C'+str(num)+'_3', 'C'+str(num)+'_4', 'C'+str(num)+'_5', \n",
    "                     'G'+str(num)+'_0', 'G'+str(num)+'_1', 'G'+str(num)+'_2', 'G'+str(num)+'_3', 'G'+str(num)+'_4', 'G'+str(num)+'_5',\n",
    "                     'X'+str(num)+'_0', 'X'+str(num)+'_1', 'X'+str(num)+'_2', 'X'+str(num)+'_3', 'X'+str(num)+'_4', 'X'+str(num)+'_5',\n",
    "                     'Y'+str(num)+'_0', 'Y'+str(num)+'_1', 'Y'+str(num)+'_2', 'Y'+str(num)+'_3', 'Y'+str(num)+'_4', 'Y'+str(num)+'_5', \n",
    "                     'M'+str(num)+'_0', 'M'+str(num)+'_1', 'M'+str(num)+'_2', 'M'+str(num)+'_3', 'M'+str(num)+'_4', 'M'+str(num)+'_5',\n",
    "                     'Chi'+str(num)+'_0', 'Chi'+str(num)+'_1','Chi'+str(num)+'_2','Chi'+str(num)+'_3','Chi'+str(num)+'_4','Chi'+str(num)+'_5'), dtype = dty*18)\n",
    "    t2.mask = True\n",
    "    catalog.add_columns(t2.columns.values())"
   ]
  },
  {
   "cell_type": "code",
   "execution_count": 15,
   "metadata": {
    "collapsed": false
   },
   "outputs": [],
   "source": [
    "add_lorentz_columns(good_WD,0)"
   ]
  },
  {
   "cell_type": "code",
   "execution_count": 16,
   "metadata": {
    "collapsed": false
   },
   "outputs": [],
   "source": [
    "# Our model has a temperature effect, then absorption features on top of the model\n",
    "from numpy import vstack\n",
    "# Constants\n",
    "h_planck = 4.136e-15 # in eV*s\n",
    "c_light = 2.998e10   # in cgs\n",
    "k_boltz = 8.617e-5   # in eV/K\n",
    "\n",
    "def my_line(points, x_vec):\n",
    "    x_coords, y_coords = zip(*points)\n",
    "    A = vstack([x_coords,ones(len(x_coords))]).T\n",
    "    m, c = lstsq(A, y_coords)[0]\n",
    "    return m*x_vec + c, m, c\n",
    "\n",
    "def FWHM(height,norm):\n",
    "    gam = 1/(np.pi*np.abs(height))\n",
    "    return gam*norm\n",
    "new_centers = np.zeros(6)\n",
    "iteration = 0"
   ]
  },
  {
   "cell_type": "code",
   "execution_count": 22,
   "metadata": {
    "collapsed": true
   },
   "outputs": [],
   "source": [
    "#windows for line (on either side): 120, 120, 120, 60, 50, 40\n",
    "#Feed all six models in and fit at once.\n",
    "# Balmer line centers (in cgs):\n",
    "def obtain_lorentz_parameters(catalog,iteration):\n",
    "    lambda_balmer = np.array([6563, 4861, 4341, 4102, 3970, 3889])\n",
    "    #120 either side for H_alpha,beta,gamma;60,50,40 \n",
    "    #Main loop\n",
    "    C_coeff_ls = np.zeros(6)\n",
    "    x_center_ls = np.zeros(6)\n",
    "    gamma_ls = np.zeros(6)\n",
    "    total = 1\n",
    "    for index,i in enumerate(catalog):\n",
    "        #Gets data from file\n",
    "        directory = \"../data/\"\n",
    "        filename = directory+catalog['file'][index]\n",
    "\n",
    "        try:\n",
    "            data = fits.getdata(filename, 1)\n",
    "        except:\n",
    "            print(\"Missing\", filename)\n",
    "            continue\n",
    "\n",
    "        all_flux = data['flux']\n",
    "        all_lambda = 10 ** data['loglam']\n",
    "\n",
    "        total = total + 1\n",
    "        if total%100 == 0:  print(total)\n",
    "        if iteration != 0:\n",
    "            lambda_balmer = new_centers\n",
    " \n",
    "        for ind,line in enumerate(lambda_balmer):\n",
    "            ctitle = 'C'+str(iteration)+'_'+str(ind)\n",
    "            xtitle = 'X'+str(iteration)+'_'+str(ind)\n",
    "            gtitle = 'G'+str(iteration)+'_'+str(ind)\n",
    "            mtitle = 'M'+str(iteration)+'_'+str(ind)\n",
    "            ytitle = 'Y'+str(iteration)+'_'+str(ind)\n",
    "            chititle = 'Chi'+str(iteration)+'_'+str(ind)\n",
    "            \n",
    "            #Make the windows for lorentzian fitting\n",
    "            window = np.where(np.logical_and(all_lambda>= (line - 15), all_lambda<= (line + 15)))[0]\n",
    "            #Get an educated guess for C_true\n",
    "            if not all_flux[window].size:\n",
    "                continue\n",
    "            thirds = int(len(all_flux[window])/3)\n",
    "            left_max = np.max(all_flux[window][:thirds])\n",
    "            right_max = np.max(all_flux[window][-thirds:])\n",
    "            left_point = all_lambda[window][:thirds][np.argmax(all_flux[window][:thirds])]\n",
    "            right_point = all_lambda[window][2*thirds + np.argmax(all_flux[window][-thirds:])]\n",
    "\n",
    "            points = [(left_point,left_max),(right_point,right_max)]\n",
    "            vert_fix = my_line(points,all_lambda[window])\n",
    "   \n",
    "            int_y = all_flux[window]-vert_fix[0]\n",
    "            fixed_y = int_y*-1\n",
    "            area = np.trapz(int_y)\n",
    "            ampl = np.min(int_y)\n",
    "\n",
    "            left_mean = np.mean(all_flux[window][:thirds])\n",
    "            right_mean = np.mean(all_flux[window][-thirds:])\n",
    "            left_lambda = np.mean(all_lambda[window][:thirds])\n",
    "            right_lambda = np.mean(all_lambda[window][-thirds:])\n",
    "\n",
    "            points = [(left_lambda,left_mean),(right_lambda,right_mean)]\n",
    "            vert_shift = my_line(points,all_lambda[window])\n",
    "\n",
    "            #Define initial guesses\n",
    "            C_true = area*-1\n",
    "            a_true = ampl*-1\n",
    "            x_true = (all_lambda[window][0] + all_lambda[window[-1]])/2\n",
    "            gamma_true = FWHM(np.min(all_flux[window]-vert_shift[0]),C_true)\n",
    "            #print gamma_true\n",
    "\n",
    "            result = models.Lorentz1D(amplitude = C_true, x_0 = x_true, fwhm = gamma_true)\n",
    "            fit_ls = fitting.LevMarLSQFitter()\n",
    "            g = fit_ls(result, all_lambda[window], fixed_y)\n",
    "            chi_squ = np.sum(all_flux[window] - g(all_lambda[window])**2/(all_flux[window]))\n",
    "\n",
    "#             plt.figure(figsize=(8,5))\n",
    "#             plt.plot(all_lambda[window], all_flux[window], 'ko')\n",
    "#             plt.plot(all_lambda[window], -1*g(all_lambda[window]) + vert_fix, label='Model')\n",
    "#             plt.xlabel('Lambda')\n",
    "#             plt.ylabel('Flux')\n",
    "#             plt.legend(loc=2)\n",
    "#             plt.savefig('%f_%f.png' %(index,line))\n",
    "            \n",
    "            new_centers[ind] = g.x_0.value\n",
    "            catalog[ctitle][index] = g.amplitude.value\n",
    "            catalog[xtitle][index] = g.x_0.value\n",
    "            catalog[gtitle][index] = g.fwhm.value\n",
    "            catalog[ytitle][index] = vert_shift[2]\n",
    "            catalog[mtitle][index] = vert_shift[1]\n",
    "            catalog[chititle][index] = chi_squ\n",
    "            \n",
    "#             catalog[ctitle][index] = C_coeff_ls[ind]\n",
    "#             catalog[xtitle][index] = x_center_ls[ind]\n",
    "#             catalog[gtitle][index] = gamma_ls[ind]\n",
    "    iteration = iteration + 1\n",
    "    return iteration "
   ]
  },
  {
   "cell_type": "code",
   "execution_count": 17,
   "metadata": {
    "collapsed": false
   },
   "outputs": [
    {
     "name": "stderr",
     "output_type": "stream",
     "text": [
      "WARNING: The fit may be unsuccessful; check fit_info['message'] for more information. [astropy.modeling.fitting]\n"
     ]
    },
    {
     "name": "stdout",
     "output_type": "stream",
     "text": [
      "100\n",
      "200\n",
      "300\n",
      "400\n",
      "500\n",
      "600\n",
      "700\n",
      "800\n",
      "900\n",
      "1000\n",
      "1100\n",
      "1200\n",
      "1300\n",
      "1400\n",
      "1500\n",
      "1600\n"
     ]
    },
    {
     "name": "stderr",
     "output_type": "stream",
     "text": [
      "WARNING: The following header keyword is invalid or follows an unrecognized non-standard convention:\n",
      "MC1TEMDN=-0.00000000000000E+00 / sp1 mech median temp                            [astropy.io.fits.card]\n",
      "WARNING: The following header keyword is invalid or follows an unrecognized non-standard convention:\n",
      "MC1TBCB =-0.00000000000000E+00 / sp1 mech Temp_Blue_Cam_Bot                      [astropy.io.fits.card]\n",
      "WARNING: The following header keyword is invalid or follows an unrecognized non-standard convention:\n",
      "MC1THT  =-0.00000000000000E+00 / sp1 mech Temp_Hartmann_Top                      [astropy.io.fits.card]\n"
     ]
    },
    {
     "name": "stdout",
     "output_type": "stream",
     "text": [
      "1700\n",
      "1800\n",
      "1900\n",
      "2000\n",
      "2100\n",
      "2200\n",
      "2300\n",
      "2400\n"
     ]
    },
    {
     "name": "stderr",
     "output_type": "stream",
     "text": [
      "WARNING: The following header keyword is invalid or follows an unrecognized non-standard convention:\n",
      "MC1TRCT =-0.00000000000000E+00 / sp1 mech Temp_Red_Cam_Top                       [astropy.io.fits.card]\n"
     ]
    },
    {
     "name": "stdout",
     "output_type": "stream",
     "text": [
      "2500\n",
      "2600\n",
      "2700\n",
      "2800\n",
      "2900\n",
      "3000\n",
      "3100\n",
      "3200\n",
      "3300\n",
      "3400\n",
      "3500\n",
      "3600\n",
      "3700\n",
      "3800\n",
      "3900\n",
      "4000\n",
      "4100\n",
      "4200\n",
      "4300\n",
      "4400\n"
     ]
    },
    {
     "name": "stderr",
     "output_type": "stream",
     "text": [
      "WARNING: The following header keyword is invalid or follows an unrecognized non-standard convention:\n",
      "MC1TRCB =-0.00000000000000E+00 / sp1 mech Temp_Red_Cam_Bot                       [astropy.io.fits.card]\n"
     ]
    },
    {
     "name": "stdout",
     "output_type": "stream",
     "text": [
      "4500\n",
      "4600\n",
      "4700\n",
      "4800\n",
      "4900\n",
      "5000\n",
      "5100\n",
      "5200\n",
      "5300\n",
      "5400\n",
      "5500\n",
      "5600\n",
      "5700\n",
      "5800\n",
      "5900\n",
      "6000\n",
      "6100\n",
      "6200\n",
      "6300\n",
      "6400\n",
      "6500\n",
      "6600\n",
      "6700\n",
      "6800\n",
      "6900\n",
      "7000\n",
      "7100\n",
      "7200\n",
      "7300\n",
      "7400\n",
      "7500\n",
      "7600\n",
      "7700\n",
      "7800\n",
      "7900\n",
      "8000\n",
      "8100\n",
      "8200\n",
      "8300\n",
      "8400\n",
      "8500\n",
      "8600\n"
     ]
    }
   ],
   "source": [
    "iteration = obtain_lorentz_parameters(good_WD,iteration)"
   ]
  },
  {
   "cell_type": "code",
   "execution_count": 18,
   "metadata": {
    "collapsed": false
   },
   "outputs": [
    {
     "data": {
      "text/html": [
       "&lt;Table masked=True length=8664&gt;\n",
       "<table id=\"table4722134160\" class=\"table-striped table-bordered table-condensed\">\n",
       "<thead><tr><th>_RAJ2000</th><th>_DEJ2000</th><th>PMF</th><th>SDSS</th><th>S_N</th><th>umag</th><th>e_umag</th><th>gmag</th><th>e_gmag</th><th>rmag</th><th>e_rmag</th><th>imag</th><th>e_imag</th><th>zmag</th><th>e_zmag</th><th>E_B-V_</th><th>pm</th><th>GLON</th><th>GLAT</th><th>SpType</th><th>Teff</th><th>e_Teff</th><th>logg</th><th>e_logg</th><th>Teff_3D_</th><th>e_Teff_3D_</th><th>logg_3D_</th><th>e_logg_3D_</th><th>Mass</th><th>e_Mass</th><th>Com</th><th>Sp</th><th>_RA.icrs</th><th>_DE.icrs</th><th>Plate</th><th>MJD</th><th>Fiber</th><th>RAJ2000</th><th>DEJ2000</th><th>SNg</th><th>f_umag</th><th>f_gmag</th><th>f_rmag</th><th>f_imag</th><th>f_zmag</th><th>f_pm</th><th>pmPA</th><th>Ag</th><th>GMT</th><th>Atype</th><th>log_g_</th><th>e_log_g_</th><th>chi2</th><th>m_Nsp</th><th>Nsp</th><th>q_Nsp</th><th>Type</th><th>WDcat</th><th>DR7</th><th>Sloan</th><th>Simbad</th><th>PMJ</th><th>_RA</th><th>_DE</th><th>file</th><th>C0_0</th><th>C0_1</th><th>C0_2</th><th>C0_3</th><th>C0_4</th><th>C0_5</th><th>G0_0</th><th>G0_1</th><th>G0_2</th><th>G0_3</th><th>G0_4</th><th>G0_5</th><th>X0_0</th><th>X0_1</th><th>X0_2</th><th>X0_3</th><th>X0_4</th><th>X0_5</th><th>Y0_0</th><th>Y0_1</th><th>Y0_2</th><th>Y0_3</th><th>Y0_4</th><th>Y0_5</th><th>M0_0</th><th>M0_1</th><th>M0_2</th><th>M0_3</th><th>M0_4</th><th>M0_5</th><th>Chi0_0</th><th>Chi0_1</th><th>Chi0_2</th><th>Chi0_3</th><th>Chi0_4</th><th>Chi0_5</th></tr></thead>\n",
       "<thead><tr><th>deg</th><th>deg</th><th></th><th></th><th></th><th>mag</th><th>mag</th><th>mag</th><th>mag</th><th>mag</th><th>mag</th><th>mag</th><th>mag</th><th>mag</th><th>mag</th><th>mag</th><th>0.01 / yr</th><th>deg</th><th>deg</th><th></th><th>K</th><th>K</th><th>[cm/s2]</th><th>[cm/s2]</th><th>K</th><th>K</th><th>[cm/s2]</th><th>[cm/s2]</th><th>Msun</th><th>Msun</th><th></th><th></th><th>deg</th><th>deg</th><th></th><th>d</th><th></th><th>deg</th><th>deg</th><th></th><th></th><th></th><th></th><th></th><th></th><th></th><th>deg</th><th>mag</th><th>&quot;datime&quot;</th><th></th><th>[cm/s2]</th><th>[cm/s2]</th><th></th><th></th><th></th><th></th><th></th><th></th><th></th><th></th><th></th><th></th><th>deg</th><th>deg</th><th></th><th></th><th></th><th></th><th></th><th></th><th></th><th></th><th></th><th></th><th></th><th></th><th></th><th></th><th></th><th></th><th></th><th></th><th></th><th></th><th></th><th></th><th></th><th></th><th></th><th></th><th></th><th></th><th></th><th></th><th></th><th></th><th></th><th></th><th></th><th></th><th></th></tr></thead>\n",
       "<thead><tr><th>float64</th><th>float64</th><th>str15</th><th>str19</th><th>int16</th><th>float32</th><th>float32</th><th>float32</th><th>float32</th><th>float32</th><th>float32</th><th>float32</th><th>float32</th><th>float32</th><th>float32</th><th>float32</th><th>float32</th><th>float32</th><th>float32</th><th>str9</th><th>int32</th><th>int32</th><th>float32</th><th>float32</th><th>int32</th><th>int32</th><th>float32</th><th>float32</th><th>float64</th><th>float64</th><th>str69</th><th>str2</th><th>float64</th><th>float64</th><th>int16</th><th>int32</th><th>int16</th><th>float64</th><th>float64</th><th>float32</th><th>int64</th><th>int64</th><th>int64</th><th>int64</th><th>int64</th><th>uint8</th><th>float32</th><th>float32</th><th>str20</th><th>str14</th><th>float32</th><th>float32</th><th>float32</th><th>str4</th><th>int16</th><th>str1</th><th>str19</th><th>int16</th><th>str3</th><th>str5</th><th>str6</th><th>str15</th><th>float64</th><th>float64</th><th>str32</th><th>float64</th><th>float64</th><th>float64</th><th>float64</th><th>float64</th><th>float64</th><th>float64</th><th>float64</th><th>float64</th><th>float64</th><th>float64</th><th>float64</th><th>float64</th><th>float64</th><th>float64</th><th>float64</th><th>float64</th><th>float64</th><th>float64</th><th>float64</th><th>float64</th><th>float64</th><th>float64</th><th>float64</th><th>float64</th><th>float64</th><th>float64</th><th>float64</th><th>float64</th><th>float64</th><th>float64</th><th>float64</th><th>float64</th><th>float64</th><th>float64</th><th>float64</th></tr></thead>\n",
       "<tr><td>8.28120</td><td>-0.79260</td><td>3586-55181-0214</td><td>003310.58-004818.55</td><td>13</td><td>20.65</td><td>0.05</td><td>19.68</td><td>0.02</td><td>19.56</td><td>0.03</td><td>19.55</td><td>0.03</td><td>19.49</td><td>0.06</td><td>0.021</td><td>1.90</td><td>112.7</td><td>-63.3</td><td>DA</td><td>7757</td><td>50</td><td>6.578</td><td>0.142</td><td>7762</td><td>50</td><td>6.390</td><td>0.140</td><td>0.167</td><td>0.0086</td><td></td><td>Sp</td><td>8.2812</td><td>-0.7926</td><td>3586</td><td>55181</td><td>214</td><td>--</td><td>--</td><td>--</td><td>--</td><td>--</td><td>--</td><td>--</td><td>--</td><td>--</td><td>--</td><td>--</td><td>--</td><td>--</td><td>--</td><td>--</td><td>--</td><td>--</td><td>--</td><td>--</td><td>DA</td><td>--</td><td>--</td><td>--</td><td>--</td><td>--</td><td>--</td><td>--</td><td>DA_high_SN_00000.fits</td><td>1.3748920378</td><td>2.53162829932</td><td>2.59124677894</td><td>3.95046264348</td><td>4.55252797265</td><td>4.92655306949</td><td>8.66569833452</td><td>9.68428914225</td><td>9.74675404854</td><td>13.1799451232</td><td>16.968412995</td><td>17.8400972053</td><td>6564.27255163</td><td>4863.11951266</td><td>4341.53985961</td><td>4103.66020241</td><td>3971.51441166</td><td>3891.53180817</td><td>83.8038079214</td><td>147.814628452</td><td>103.89720381</td><td>171.824208498</td><td>131.420395745</td><td>30.7665212578</td><td>-0.0123769357462</td><td>-0.0294142972973</td><td>-0.0225333364249</td><td>-0.0402962626622</td><td>-0.0313789327573</td><td>-0.00606250092604</td><td>39.7742715289</td><td>106.173959346</td><td>157.282858212</td><td>142.472886914</td><td>143.146129083</td><td>146.277719144</td></tr>\n",
       "<tr><td>40.00700</td><td>0.35720</td><td>3650-55244-0726</td><td>024002.92+002050.50</td><td>17</td><td>20.33</td><td>0.05</td><td>19.47</td><td>0.02</td><td>19.31</td><td>0.02</td><td>19.24</td><td>0.02</td><td>19.36</td><td>0.06</td><td>0.030</td><td>0.00</td><td>170.9</td><td>-52.1</td><td>DA</td><td>7436</td><td>45</td><td>6.533</td><td>0.137</td><td>7453</td><td>45</td><td>6.360</td><td>0.140</td><td>0.162</td><td>0.0084</td><td></td><td>Sp</td><td>40.0070</td><td>0.3572</td><td>3650</td><td>55244</td><td>726</td><td>--</td><td>--</td><td>--</td><td>--</td><td>--</td><td>--</td><td>--</td><td>--</td><td>--</td><td>--</td><td>--</td><td>--</td><td>--</td><td>--</td><td>--</td><td>--</td><td>--</td><td>--</td><td>--</td><td>DA</td><td>--</td><td>--</td><td>--</td><td>--</td><td>--</td><td>--</td><td>--</td><td>DA_high_SN_00001.fits</td><td>1.47419269177</td><td>3.12656452404</td><td>6.54928134983</td><td>7.22760745084</td><td>8.20914499419</td><td>7.50930411046</td><td>11.3663197157</td><td>13.354966566</td><td>11.5708678513</td><td>13.4591457313</td><td>15.8060339958</td><td>10.093006099</td><td>6566.75293598</td><td>4863.4000952</td><td>4343.37917649</td><td>4102.23631079</td><td>3969.65463484</td><td>3891.30181236</td><td>166.842450899</td><td>414.367391796</td><td>286.455172685</td><td>278.360052029</td><td>344.764346599</td><td>468.85245209</td><td>-0.0249042855157</td><td>-0.083660771362</td><td>-0.0635091479799</td><td>-0.0647644864824</td><td>-0.0834360907019</td><td>-0.116800370785</td><td>57.296499881</td><td>183.81941971</td><td>239.966707336</td><td>286.263389871</td><td>303.606627431</td><td>400.824455457</td></tr>\n",
       "<tr><td>114.89890</td><td>37.71190</td><td>3662-55182-0866</td><td>073929.46+374511.15</td><td>15</td><td>20.36</td><td>0.05</td><td>19.71</td><td>0.02</td><td>19.45</td><td>0.02</td><td>19.33</td><td>0.02</td><td>19.33</td><td>0.06</td><td>0.064</td><td>9.70</td><td>181.7</td><td>25.2</td><td>DA</td><td>6410</td><td>60</td><td>7.755</td><td>0.127</td><td>6439</td><td>60</td><td>7.730</td><td>0.130</td><td>0.467</td><td>0.0565</td><td></td><td>Sp</td><td>114.8989</td><td>37.7119</td><td>3662</td><td>55182</td><td>866</td><td>--</td><td>--</td><td>--</td><td>--</td><td>--</td><td>--</td><td>--</td><td>--</td><td>--</td><td>--</td><td>--</td><td>--</td><td>--</td><td>--</td><td>--</td><td>--</td><td>--</td><td>--</td><td>--</td><td>DA</td><td>--</td><td>--</td><td>--</td><td>--</td><td>--</td><td>--</td><td>--</td><td>DA_high_SN_00002.fits</td><td>1.9318594197</td><td>3.15670129933</td><td>1.88594872406</td><td>1.91650449941</td><td>3.4509822411</td><td>2.35179778576</td><td>9.00980997405</td><td>8.08661678031</td><td>14.8405201771</td><td>21.6536584546</td><td>22.2933084721</td><td>50.8737994491</td><td>6564.26171564</td><td>4861.78201994</td><td>4339.57852786</td><td>4102.00349239</td><td>3958.16616176</td><td>3883.34146096</td><td>178.386353392</td><td>79.3477648523</td><td>-1.57835730929</td><td>-8.26675495476</td><td>-9.00852223035</td><td>82.7903839803</td><td>-0.0265440944886</td><td>-0.0149440406184</td><td>0.00206703105153</td><td>0.00382292859033</td><td>0.00423216204159</td><td>-0.0194098004208</td><td>66.4530536301</td><td>155.429226726</td><td>206.448332816</td><td>213.048558952</td><td>230.734689301</td><td>224.38876725</td></tr>\n",
       "<tr><td>114.40050</td><td>39.48120</td><td>3664-55245-0350</td><td>073738.58+392944.34</td><td>13</td><td>21.19</td><td>0.09</td><td>20.02</td><td>0.02</td><td>19.92</td><td>0.02</td><td>19.96</td><td>0.03</td><td>19.93</td><td>0.10</td><td>0.052</td><td>2.60</td><td>179.7</td><td>25.3</td><td>DA</td><td>8200</td><td>47</td><td>6.877</td><td>0.091</td><td>8192</td><td>47</td><td>6.660</td><td>0.090</td><td>0.188</td><td>0.0106</td><td></td><td>Sp</td><td>114.4005</td><td>39.4812</td><td>3664</td><td>55245</td><td>350</td><td>--</td><td>--</td><td>--</td><td>--</td><td>--</td><td>--</td><td>--</td><td>--</td><td>--</td><td>--</td><td>--</td><td>--</td><td>--</td><td>--</td><td>--</td><td>--</td><td>--</td><td>--</td><td>--</td><td>DA</td><td>--</td><td>--</td><td>--</td><td>--</td><td>--</td><td>--</td><td>--</td><td>DA_high_SN_00003.fits</td><td>1.14052583969</td><td>2.54315491916</td><td>2.9294934947</td><td>3.97581657774</td><td>4.77671671986</td><td>3.99358204433</td><td>11.3581606422</td><td>12.578318685</td><td>13.5727805377</td><td>11.389760826</td><td>10.6016287294</td><td>16.1892743935</td><td>6564.79160781</td><td>4860.37035586</td><td>4340.01799741</td><td>4102.2463581</td><td>3970.91826688</td><td>3889.07324395</td><td>36.943292741</td><td>46.6635250792</td><td>108.089472685</td><td>87.3499088689</td><td>105.085220919</td><td>44.7637562578</td><td>-0.00520984224707</td><td>-0.0086248701041</td><td>-0.0236046019667</td><td>-0.019687892327</td><td>-0.0246187829658</td><td>-0.00946121392165</td><td>45.064977913</td><td>101.031330839</td><td>132.981854468</td><td>147.521657199</td><td>170.407558979</td><td>208.669648431</td></tr>\n",
       "<tr><td>126.44540</td><td>38.92110</td><td>3760-55268-0863</td><td>082543.50+385609.99</td><td>15</td><td>20.06</td><td>0.04</td><td>19.49</td><td>0.02</td><td>19.28</td><td>0.02</td><td>19.25</td><td>0.02</td><td>19.20</td><td>0.04</td><td>0.043</td><td>49.10</td><td>182.6</td><td>34.3</td><td>DA</td><td>6395</td><td>52</td><td>7.471</td><td>0.134</td><td>6426</td><td>52</td><td>7.450</td><td>0.130</td><td>0.353</td><td>0.0445</td><td></td><td>Sp</td><td>126.4454</td><td>38.9211</td><td>3760</td><td>55268</td><td>863</td><td>--</td><td>--</td><td>--</td><td>--</td><td>--</td><td>--</td><td>--</td><td>--</td><td>--</td><td>--</td><td>--</td><td>--</td><td>--</td><td>--</td><td>--</td><td>--</td><td>--</td><td>--</td><td>--</td><td>DA</td><td>--</td><td>--</td><td>--</td><td>--</td><td>--</td><td>--</td><td>--</td><td>DA_high_SN_00004.fits</td><td>1.74556404278</td><td>2.50526151666</td><td>2.9926814402</td><td>1.79649540109</td><td>1.93107149036</td><td>1.89656143416</td><td>15.3729557553</td><td>8.88147654681</td><td>10.0706670263</td><td>24.4712095638</td><td>20.8248253624</td><td>100.042763932</td><td>6563.69971148</td><td>4863.19060882</td><td>4344.7269275</td><td>4102.50649492</td><td>3974.84225436</td><td>3868.04169114</td><td>45.4265229164</td><td>172.307928847</td><td>133.819793543</td><td>173.693523248</td><td>-26.9495620881</td><td>31.9738747617</td><td>-0.00608940141578</td><td>-0.0338472316267</td><td>-0.0288011749475</td><td>-0.0401410627139</td><td>0.00901452885818</td><td>-0.00590093085106</td><td>93.1420283318</td><td>194.91293291</td><td>243.79543034</td><td>267.035442722</td><td>276.680858764</td><td>299.059541815</td></tr>\n",
       "<tr><td>139.24220</td><td>-2.13770</td><td>3766-55213-0262</td><td>091650.95-021042.78</td><td>16</td><td>19.97</td><td>0.05</td><td>19.48</td><td>0.02</td><td>19.40</td><td>0.02</td><td>19.43</td><td>0.03</td><td>19.49</td><td>0.09</td><td>0.041</td><td>24.40</td><td>233.6</td><td>30.7</td><td>DA</td><td>8378</td><td>43</td><td>7.881</td><td>0.060</td><td>8387</td><td>43</td><td>7.660</td><td>0.060</td><td>0.446</td><td>0.0254</td><td></td><td>Sp</td><td>139.2422</td><td>-2.1377</td><td>3766</td><td>55213</td><td>262</td><td>--</td><td>--</td><td>--</td><td>--</td><td>--</td><td>--</td><td>--</td><td>--</td><td>--</td><td>--</td><td>--</td><td>--</td><td>--</td><td>--</td><td>--</td><td>--</td><td>--</td><td>--</td><td>--</td><td>DA</td><td>--</td><td>--</td><td>--</td><td>--</td><td>--</td><td>--</td><td>--</td><td>DA_high_SN_00005.fits</td><td>1.16527535673</td><td>2.17237588181</td><td>3.64854751789</td><td>4.060992145</td><td>4.1368114084</td><td>2.54181433024</td><td>10.2881165492</td><td>12.2990331323</td><td>8.19162449946</td><td>14.190667974</td><td>12.9126304224</td><td>21.9114038758</td><td>6566.06374495</td><td>4863.49321763</td><td>4341.87833135</td><td>4103.43454373</td><td>3971.24439393</td><td>3890.47782646</td><td>29.9355232578</td><td>88.0937840154</td><td>183.403842477</td><td>171.052604564</td><td>207.070853076</td><td>-23.676002808</td><td>-0.00439934318805</td><td>-0.0173955890684</td><td>-0.0408709225689</td><td>-0.039878694028</td><td>-0.049824236058</td><td>0.00870302221004</td><td>1.26542509679</td><td>69.653943859</td><td>135.748856645</td><td>178.232732617</td><td>257.273759363</td><td>322.208497672</td></tr>\n",
       "<tr><td>186.35720</td><td>-1.59680</td><td>3792-55212-0604</td><td>122526.86-013749.49</td><td>13</td><td>20.89</td><td>0.07</td><td>19.96</td><td>0.02</td><td>19.88</td><td>0.02</td><td>19.86</td><td>0.03</td><td>19.99</td><td>0.12</td><td>0.029</td><td>5.80</td><td>289.6</td><td>60.6</td><td>DA</td><td>7897</td><td>53</td><td>6.634</td><td>0.144</td><td>7897</td><td>53</td><td>6.430</td><td>0.140</td><td>0.171</td><td>0.0069</td><td></td><td>Sp</td><td>186.3572</td><td>-1.5968</td><td>3792</td><td>55212</td><td>604</td><td>--</td><td>--</td><td>--</td><td>--</td><td>--</td><td>--</td><td>--</td><td>--</td><td>--</td><td>--</td><td>--</td><td>--</td><td>--</td><td>--</td><td>--</td><td>--</td><td>--</td><td>--</td><td>--</td><td>DA</td><td>--</td><td>--</td><td>--</td><td>--</td><td>--</td><td>--</td><td>--</td><td>DA_high_SN_00006.fits</td><td>1.05677634446</td><td>2.54020453475</td><td>2.88009749559</td><td>3.51839311931</td><td>4.25763566185</td><td>3.72388301504</td><td>20.045318329</td><td>13.5387137395</td><td>13.5242960492</td><td>16.3377296123</td><td>20.2506209951</td><td>11.9022239489</td><td>6568.3350856</td><td>4865.07119366</td><td>4342.65691978</td><td>4104.5343899</td><td>3972.14628188</td><td>3891.77988136</td><td>210.408688751</td><td>309.698259229</td><td>236.886567587</td><td>128.238938153</td><td>304.677996245</td><td>298.177995177</td><td>-0.031721836922</td><td>-0.0628357340406</td><td>-0.0533528788961</td><td>-0.0298217566096</td><td>-0.0752763400282</td><td>-0.0750869779011</td><td>35.2310253123</td><td>91.4573646929</td><td>123.592193112</td><td>132.652301739</td><td>96.9735200665</td><td>157.384152554</td></tr>\n",
       "<tr><td>166.20950</td><td>0.53790</td><td>3836-55302-0968</td><td>110440.66+003058.21</td><td>14</td><td>20.58</td><td>0.07</td><td>19.54</td><td>0.02</td><td>19.34</td><td>0.02</td><td>19.36</td><td>0.02</td><td>19.31</td><td>0.05</td><td>0.047</td><td>5.50</td><td>254.6</td><td>53.1</td><td>DA</td><td>7883</td><td>47</td><td>6.623</td><td>0.131</td><td>7883</td><td>47</td><td>6.420</td><td>0.130</td><td>0.170</td><td>0.0066</td><td></td><td>Sp</td><td>166.2095</td><td>0.5379</td><td>3836</td><td>55302</td><td>968</td><td>--</td><td>--</td><td>--</td><td>--</td><td>--</td><td>--</td><td>--</td><td>--</td><td>--</td><td>--</td><td>--</td><td>--</td><td>--</td><td>--</td><td>--</td><td>--</td><td>--</td><td>--</td><td>--</td><td>DA</td><td>--</td><td>--</td><td>--</td><td>--</td><td>--</td><td>--</td><td>--</td><td>DA_high_SN_00007.fits</td><td>2.05448121808</td><td>3.02344731617</td><td>3.97136448795</td><td>3.72674416664</td><td>6.54694199655</td><td>5.45555551258</td><td>10.8921933546</td><td>9.57363296086</td><td>15.2815398753</td><td>13.5691861542</td><td>11.8504522416</td><td>19.6520464118</td><td>6558.89509713</td><td>4861.69471502</td><td>4340.18024588</td><td>4101.86398708</td><td>3969.72913253</td><td>3889.60762043</td><td>-280.651581405</td><td>49.0002681612</td><td>14.8929527742</td><td>158.430040658</td><td>-29.2097323394</td><td>-39.8896711439</td><td>0.043165972712</td><td>-0.0088903188168</td><td>-0.00183936207649</td><td>-0.0367420973033</td><td>0.00944414665198</td><td>0.0123948486487</td><td>28.7294331316</td><td>124.818723377</td><td>153.1112406</td><td>192.611909073</td><td>135.176482641</td><td>173.219898763</td></tr>\n",
       "<tr><td>177.64500</td><td>0.02080</td><td>3843-55278-0492</td><td>115044.45+000244.30</td><td>11</td><td>20.60</td><td>0.07</td><td>19.56</td><td>0.03</td><td>19.53</td><td>0.02</td><td>19.54</td><td>0.02</td><td>19.63</td><td>0.06</td><td>0.019</td><td>0.00</td><td>272.1</td><td>59.2</td><td>DA</td><td>9192</td><td>58</td><td>7.114</td><td>0.116</td><td>9148</td><td>58</td><td>6.830</td><td>0.120</td><td>0.219</td><td>0.0208</td><td></td><td>Sp</td><td>177.6450</td><td>0.0208</td><td>3843</td><td>55278</td><td>492</td><td>--</td><td>--</td><td>--</td><td>--</td><td>--</td><td>--</td><td>--</td><td>--</td><td>--</td><td>--</td><td>--</td><td>--</td><td>--</td><td>--</td><td>--</td><td>--</td><td>--</td><td>--</td><td>--</td><td>DA</td><td>--</td><td>--</td><td>--</td><td>--</td><td>--</td><td>--</td><td>--</td><td>DA_high_SN_00008.fits</td><td>0.411873877274</td><td>1.15174002964</td><td>1.97133494584</td><td>2.506770636</td><td>4.57755972746</td><td>3.75086918179</td><td>24.9541570923</td><td>20.9089286535</td><td>17.2287095627</td><td>15.7596573919</td><td>21.3646609028</td><td>14.1928378189</td><td>6568.13617313</td><td>4861.7012405</td><td>4344.64591541</td><td>4103.15493877</td><td>3971.69412124</td><td>3891.83503577</td><td>60.9165310421</td><td>343.247930174</td><td>270.464293362</td><td>331.682488424</td><td>427.164596103</td><td>381.079189825</td><td>-0.00910888951004</td><td>-0.0699796062488</td><td>-0.0612761003492</td><td>-0.0795497336023</td><td>-0.10616019281</td><td>-0.0963759362221</td><td>20.6388016089</td><td>74.4356730578</td><td>115.562072871</td><td>137.149853358</td><td>84.3784871078</td><td>150.720532457</td></tr>\n",
       "<tr><td>...</td><td>...</td><td>...</td><td>...</td><td>...</td><td>...</td><td>...</td><td>...</td><td>...</td><td>...</td><td>...</td><td>...</td><td>...</td><td>...</td><td>...</td><td>...</td><td>...</td><td>...</td><td>...</td><td>...</td><td>...</td><td>...</td><td>...</td><td>...</td><td>...</td><td>...</td><td>...</td><td>...</td><td>...</td><td>...</td><td>...</td><td>...</td><td>...</td><td>...</td><td>...</td><td>...</td><td>...</td><td>...</td><td>...</td><td>...</td><td>...</td><td>...</td><td>...</td><td>...</td><td>...</td><td>...</td><td>...</td><td>...</td><td>...</td><td>...</td><td>...</td><td>...</td><td>...</td><td>...</td><td>...</td><td>...</td><td>...</td><td>...</td><td>...</td><td>...</td><td>...</td><td>...</td><td>...</td><td>...</td><td>...</td><td>...</td><td>...</td><td>...</td><td>...</td><td>...</td><td>...</td><td>...</td><td>...</td><td>...</td><td>...</td><td>...</td><td>...</td><td>...</td><td>...</td><td>...</td><td>...</td><td>...</td><td>...</td><td>...</td><td>...</td><td>...</td><td>...</td><td>...</td><td>...</td><td>...</td><td>...</td><td>...</td><td>...</td><td>...</td><td>...</td><td>...</td><td>...</td><td>...</td><td>...</td><td>...</td><td>...</td></tr>\n",
       "<tr><td>356.97437</td><td>4.03287</td><td>--</td><td>234753.85+040158.33</td><td>37</td><td>17.95</td><td>0.03</td><td>17.85</td><td>0.02</td><td>18.15</td><td>0.01</td><td>18.42</td><td>0.02</td><td>18.62</td><td>0.04</td><td>--</td><td>2.60</td><td>--</td><td>--</td><td>--</td><td>21065</td><td>119</td><td>8.101</td><td>0.018</td><td>21065</td><td>119</td><td>8.100</td><td>0.020</td><td>0.677</td><td>0.0110</td><td></td><td>--</td><td>--</td><td>--</td><td>4279</td><td>55508</td><td>698</td><td>--</td><td>--</td><td>--</td><td>--</td><td>--</td><td>--</td><td>--</td><td>--</td><td>--</td><td>--</td><td>--</td><td>--</td><td>--</td><td>--</td><td>--</td><td>--</td><td>--</td><td>--</td><td>--</td><td>DA</td><td>--</td><td>--</td><td>--</td><td>--</td><td>4279-55508-0698</td><td>356.97437</td><td>4.032869</td><td>DA_high_SN_08654.fits</td><td>2.45379324993</td><td>6.79502642896</td><td>9.45423092873</td><td>9.98394686898</td><td>11.1226006992</td><td>6.57427260808</td><td>7.84829989359</td><td>11.5335523574</td><td>11.8717730433</td><td>13.6517277482</td><td>16.0549996277</td><td>13.9817409521</td><td>6564.18495208</td><td>4861.53001524</td><td>4341.80161425</td><td>4102.36276651</td><td>3970.69888782</td><td>3888.84280229</td><td>231.082664042</td><td>501.918345181</td><td>430.061665828</td><td>593.205340446</td><td>360.362478871</td><td>296.354703627</td><td>-0.0338641505785</td><td>-0.0989574812465</td><td>-0.0925402819508</td><td>-0.136712595851</td><td>-0.0811457916045</td><td>-0.0650117791738</td><td>155.678749048</td><td>510.791394152</td><td>769.129441206</td><td>915.830014584</td><td>1153.69265977</td><td>1423.87154445</td></tr>\n",
       "<tr><td>357.12050</td><td>5.43217</td><td>--</td><td>234828.92+052555.83</td><td>15</td><td>19.59</td><td>0.03</td><td>19.12</td><td>0.01</td><td>19.23</td><td>0.01</td><td>19.32</td><td>0.02</td><td>19.45</td><td>0.06</td><td>--</td><td>4.43</td><td>--</td><td>--</td><td>--</td><td>10522</td><td>10</td><td>8.043</td><td>0.008</td><td>10495</td><td>10</td><td>7.790</td><td>0.010</td><td>0.512</td><td>0.0050</td><td></td><td>--</td><td>--</td><td>--</td><td>4405</td><td>55854</td><td>516</td><td>--</td><td>--</td><td>--</td><td>--</td><td>--</td><td>--</td><td>--</td><td>--</td><td>--</td><td>--</td><td>--</td><td>--</td><td>--</td><td>--</td><td>--</td><td>--</td><td>--</td><td>--</td><td>--</td><td>DA</td><td>--</td><td>--</td><td>--</td><td>--</td><td>4405-55854-0516</td><td>357.12050</td><td>5.432175</td><td>DA_high_SN_08655.fits</td><td>1.61486882767</td><td>2.6269062444</td><td>3.99237495049</td><td>4.4376165658</td><td>3.70723015027</td><td>3.41002859677</td><td>14.3432046075</td><td>20.1221522444</td><td>19.4978534571</td><td>17.0539971952</td><td>16.0246351185</td><td>26.2623569594</td><td>6563.26876059</td><td>4862.8655598</td><td>4338.58292739</td><td>4101.74829089</td><td>3970.17566005</td><td>3884.04898421</td><td>108.730472411</td><td>103.292384751</td><td>138.806253325</td><td>150.453797793</td><td>308.070063483</td><td>42.9413939819</td><td>-0.0160417514571</td><td>-0.0200831418978</td><td>-0.0304368897021</td><td>-0.0349751112747</td><td>-0.0758114180839</td><td>-0.00903535326409</td><td>53.6958028019</td><td>125.044534623</td><td>144.261170451</td><td>147.451579594</td><td>183.071978001</td><td>220.23785486</td></tr>\n",
       "<tr><td>357.97337</td><td>1.43490</td><td>--</td><td>235153.61+012605.64</td><td>15</td><td>19.34</td><td>0.03</td><td>19.07</td><td>0.01</td><td>19.33</td><td>0.02</td><td>19.63</td><td>0.03</td><td>19.80</td><td>0.08</td><td>--</td><td>2.01</td><td>--</td><td>--</td><td>--</td><td>16964</td><td>225</td><td>8.162</td><td>0.041</td><td>16964</td><td>225</td><td>8.160</td><td>0.040</td><td>0.704</td><td>0.0200</td><td></td><td>--</td><td>--</td><td>--</td><td>4278</td><td>55505</td><td>340</td><td>--</td><td>--</td><td>--</td><td>--</td><td>--</td><td>--</td><td>--</td><td>--</td><td>--</td><td>--</td><td>--</td><td>--</td><td>--</td><td>--</td><td>--</td><td>--</td><td>--</td><td>--</td><td>--</td><td>DA</td><td>--</td><td>--</td><td>--</td><td>--</td><td>4278-55505-0340</td><td>357.97337</td><td>1.434900</td><td>DA_high_SN_08656.fits</td><td>1.46493046563</td><td>2.18869733052</td><td>2.65627753617</td><td>3.54398659428</td><td>2.23854326749</td><td>2.94611799811</td><td>11.2805730493</td><td>15.9027127662</td><td>18.0830112444</td><td>17.4603988621</td><td>16.2026325067</td><td>32.8967581868</td><td>6565.42254547</td><td>4861.27164641</td><td>4339.54390187</td><td>4103.64873177</td><td>3970.42988134</td><td>3891.04318753</td><td>59.8318112414</td><td>241.441222821</td><td>165.284616846</td><td>10.4772807027</td><td>72.6538256038</td><td>-30.1582337487</td><td>-0.00864539611243</td><td>-0.0485648065043</td><td>-0.0365595487002</td><td>-0.00075426790242</td><td>-0.0164224958119</td><td>0.0100860101938</td><td>49.1166223275</td><td>124.600954645</td><td>170.396058904</td><td>181.85739745</td><td>223.534243238</td><td>275.283375658</td></tr>\n",
       "<tr><td>358.13767</td><td>-1.59790</td><td>--</td><td>235233.04-013552.44</td><td>39</td><td>17.70</td><td>0.02</td><td>17.50</td><td>0.02</td><td>17.76</td><td>0.02</td><td>18.02</td><td>0.02</td><td>18.25</td><td>0.03</td><td>--</td><td>5.09</td><td>--</td><td>--</td><td>--</td><td>17866</td><td>80</td><td>8.026</td><td>0.012</td><td>17866</td><td>80</td><td>8.030</td><td>0.010</td><td>0.633</td><td>0.0050</td><td></td><td>--</td><td>--</td><td>--</td><td>4355</td><td>55533</td><td>710</td><td>--</td><td>--</td><td>--</td><td>--</td><td>--</td><td>--</td><td>--</td><td>--</td><td>--</td><td>--</td><td>--</td><td>--</td><td>--</td><td>--</td><td>--</td><td>--</td><td>--</td><td>--</td><td>--</td><td>DA</td><td>--</td><td>--</td><td>--</td><td>--</td><td>4355-55533-0710</td><td>358.13767</td><td>-1.597900</td><td>DA_high_SN_08657.fits</td><td>3.86050985079</td><td>9.24373391142</td><td>14.4154159947</td><td>13.0600511301</td><td>14.1737274261</td><td>13.1284304641</td><td>11.8422670971</td><td>13.7938390842</td><td>11.1838655587</td><td>11.1483486873</td><td>12.6773148706</td><td>15.7105260373</td><td>6563.86113883</td><td>4862.51067583</td><td>4341.9201086</td><td>4103.36818081</td><td>3970.84480674</td><td>3890.08944803</td><td>192.174393415</td><td>633.414335699</td><td>528.038879875</td><td>710.529328054</td><td>704.872924322</td><td>543.430888918</td><td>-0.0273164681923</td><td>-0.12467592298</td><td>-0.113214075248</td><td>-0.163386120547</td><td>-0.165998625223</td><td>-0.126663345285</td><td>223.242099207</td><td>666.556358648</td><td>964.193035297</td><td>1127.40304698</td><td>1377.19493128</td><td>1608.6707467</td></tr>\n",
       "<tr><td>358.18725</td><td>-1.68838</td><td>--</td><td>235244.94-014118.17</td><td>29</td><td>18.48</td><td>0.03</td><td>18.31</td><td>0.03</td><td>18.57</td><td>0.02</td><td>18.78</td><td>0.02</td><td>19.05</td><td>0.04</td><td>--</td><td>17.11</td><td>--</td><td>--</td><td>--</td><td>17126</td><td>145</td><td>8.696</td><td>0.020</td><td>17126</td><td>145</td><td>8.700</td><td>0.020</td><td>1.018</td><td>0.0100</td><td></td><td>--</td><td>--</td><td>--</td><td>4355</td><td>55533</td><td>730</td><td>--</td><td>--</td><td>--</td><td>--</td><td>--</td><td>--</td><td>--</td><td>--</td><td>--</td><td>--</td><td>--</td><td>--</td><td>--</td><td>--</td><td>--</td><td>--</td><td>--</td><td>--</td><td>--</td><td>DA</td><td>--</td><td>--</td><td>--</td><td>--</td><td>4355-55533-0730</td><td>358.18725</td><td>-1.688381</td><td>DA_high_SN_08658.fits</td><td>1.15143313448</td><td>3.41781338307</td><td>4.15015349366</td><td>4.92107080169</td><td>5.86823214178</td><td>4.89135009784</td><td>18.7901741856</td><td>14.6398428804</td><td>15.328245365</td><td>13.2094778698</td><td>16.90414818</td><td>24.9248406755</td><td>6563.74034617</td><td>4862.30283947</td><td>4341.97625497</td><td>4102.84995495</td><td>3970.31048369</td><td>3887.89959461</td><td>48.7329992974</td><td>225.690981573</td><td>241.385244986</td><td>211.678532596</td><td>-161.139661397</td><td>-67.691855661</td><td>-0.00654625033398</td><td>-0.0437265865478</td><td>-0.0516944067859</td><td>-0.0467853802033</td><td>0.0465440141059</td><td>0.0244406744503</td><td>104.556016013</td><td>330.409314564</td><td>478.839411971</td><td>574.569927261</td><td>727.387005453</td><td>895.066135047</td></tr>\n",
       "<tr><td>358.31962</td><td>6.31660</td><td>--</td><td>235316.71+061859.75</td><td>30</td><td>18.34</td><td>0.01</td><td>17.99</td><td>0.01</td><td>18.28</td><td>0.01</td><td>18.50</td><td>0.01</td><td>18.76</td><td>0.03</td><td>--</td><td>2.61</td><td>--</td><td>--</td><td>--</td><td>16067</td><td>70</td><td>8.088</td><td>0.002</td><td>16067</td><td>70</td><td>8.090</td><td>0.000</td><td>0.662</td><td>0.0000</td><td></td><td>--</td><td>--</td><td>--</td><td>4405</td><td>55854</td><td>714</td><td>--</td><td>--</td><td>--</td><td>--</td><td>--</td><td>--</td><td>--</td><td>--</td><td>--</td><td>--</td><td>--</td><td>--</td><td>--</td><td>--</td><td>--</td><td>--</td><td>--</td><td>--</td><td>--</td><td>DA</td><td>--</td><td>--</td><td>--</td><td>--</td><td>4405-55854-0714</td><td>358.31962</td><td>6.316597</td><td>DA_high_SN_08659.fits</td><td>2.36573268944</td><td>5.82135659745</td><td>8.72655710121</td><td>10.7858442409</td><td>11.0013565461</td><td>10.4833264501</td><td>10.8100170923</td><td>10.6767190946</td><td>13.5289026526</td><td>13.6169580649</td><td>16.1976644914</td><td>16.3725101461</td><td>6564.31646003</td><td>4862.30281483</td><td>4340.52907177</td><td>4102.94356344</td><td>3969.69018108</td><td>3888.77656874</td><td>234.554439504</td><td>308.171068461</td><td>227.654579019</td><td>358.92218028</td><td>415.575191573</td><td>347.297052758</td><td>-0.034624497471</td><td>-0.0600547475248</td><td>-0.0473220365247</td><td>-0.0812172676193</td><td>-0.0971722424038</td><td>-0.0802959980442</td><td>126.116244291</td><td>392.659470959</td><td>583.01748619</td><td>678.523860484</td><td>873.079731799</td><td>1090.86069943</td></tr>\n",
       "<tr><td>358.73608</td><td>1.05856</td><td>--</td><td>235456.66+010330.82</td><td>30</td><td>18.37</td><td>0.03</td><td>18.31</td><td>0.02</td><td>18.66</td><td>0.02</td><td>18.94</td><td>0.02</td><td>19.26</td><td>0.05</td><td>--</td><td>1.79</td><td>--</td><td>--</td><td>--</td><td>23756</td><td>190</td><td>7.986</td><td>0.027</td><td>23756</td><td>190</td><td>7.990</td><td>0.030</td><td>0.625</td><td>0.0140</td><td></td><td>--</td><td>--</td><td>--</td><td>4215</td><td>55471</td><td>830</td><td>--</td><td>--</td><td>--</td><td>--</td><td>--</td><td>--</td><td>--</td><td>--</td><td>--</td><td>--</td><td>--</td><td>--</td><td>--</td><td>--</td><td>--</td><td>--</td><td>--</td><td>--</td><td>--</td><td>DA</td><td>--</td><td>--</td><td>--</td><td>--</td><td>4215-55471-0830</td><td>358.73608</td><td>1.058561</td><td>DA_high_SN_08660.fits</td><td>1.04258402304</td><td>4.73155434447</td><td>6.5321601631</td><td>7.67014423658</td><td>7.02650379429</td><td>4.42838026038</td><td>13.6704299041</td><td>12.1445461581</td><td>10.5246507583</td><td>10.4092283743</td><td>9.04375935895</td><td>25.9189179304</td><td>6564.3301229</td><td>4862.12592602</td><td>4341.96814361</td><td>4102.91975824</td><td>3969.20445653</td><td>3891.65754605</td><td>155.544426123</td><td>363.914820663</td><td>189.297535558</td><td>323.607839444</td><td>241.223678978</td><td>140.069651722</td><td>-0.0228447274848</td><td>-0.0720192772335</td><td>-0.0392883560201</td><td>-0.0733513034488</td><td>-0.0542890840283</td><td>-0.0285225471167</td><td>102.111961948</td><td>337.428235674</td><td>507.762975645</td><td>634.028092486</td><td>789.606155999</td><td>967.126881001</td></tr>\n",
       "<tr><td>358.74692</td><td>-3.27485</td><td>--</td><td>235459.26-031629.46</td><td>14</td><td>20.24</td><td>0.05</td><td>19.77</td><td>0.03</td><td>19.64</td><td>0.03</td><td>19.71</td><td>0.03</td><td>19.68</td><td>0.10</td><td>--</td><td>3.82</td><td>--</td><td>--</td><td>--</td><td>8807</td><td>49</td><td>8.156</td><td>0.067</td><td>8803</td><td>49</td><td>7.900</td><td>0.070</td><td>0.544</td><td>0.0300</td><td></td><td>--</td><td>--</td><td>--</td><td>4355</td><td>55533</td><td>170</td><td>--</td><td>--</td><td>--</td><td>--</td><td>--</td><td>--</td><td>--</td><td>--</td><td>--</td><td>--</td><td>--</td><td>--</td><td>--</td><td>--</td><td>--</td><td>--</td><td>--</td><td>--</td><td>--</td><td>DA</td><td>--</td><td>--</td><td>--</td><td>--</td><td>4355-55533-0170</td><td>358.74692</td><td>-3.274850</td><td>DA_high_SN_08661.fits</td><td>0.473774455754</td><td>2.21902682038</td><td>3.4074468198</td><td>3.92779268296</td><td>3.24638244023</td><td>2.41500746729</td><td>19.7324935041</td><td>12.5265291534</td><td>11.4120157594</td><td>11.4323087271</td><td>12.900032666</td><td>16.1045760674</td><td>6561.95438585</td><td>4861.91159744</td><td>4342.4137018</td><td>4103.688848</td><td>3972.11555136</td><td>3885.57759202</td><td>65.5002992773</td><td>133.756886079</td><td>194.72901425</td><td>55.4382147317</td><td>122.449319186</td><td>150.794666372</td><td>-0.00973195963768</td><td>-0.0266805779307</td><td>-0.0435418823129</td><td>-0.0119288805372</td><td>-0.0289480357837</td><td>-0.0365768350323</td><td>27.7410248623</td><td>84.9956381723</td><td>128.444074076</td><td>148.792100536</td><td>211.461142163</td><td>265.3554708</td></tr>\n",
       "<tr><td>358.94312</td><td>-1.97159</td><td>--</td><td>235546.35-015817.72</td><td>26</td><td>18.57</td><td>0.02</td><td>18.68</td><td>0.02</td><td>18.98</td><td>0.02</td><td>19.26</td><td>0.02</td><td>19.45</td><td>0.06</td><td>--</td><td>3.23</td><td>--</td><td>--</td><td>--</td><td>25150</td><td>231</td><td>8.095</td><td>0.029</td><td>25150</td><td>231</td><td>8.100</td><td>0.030</td><td>0.685</td><td>0.0160</td><td></td><td>--</td><td>--</td><td>--</td><td>4355</td><td>55533</td><td>888</td><td>--</td><td>--</td><td>--</td><td>--</td><td>--</td><td>--</td><td>--</td><td>--</td><td>--</td><td>--</td><td>--</td><td>--</td><td>--</td><td>--</td><td>--</td><td>--</td><td>--</td><td>--</td><td>--</td><td>DA</td><td>--</td><td>--</td><td>--</td><td>--</td><td>4355-55533-0888</td><td>358.94312</td><td>-1.971589</td><td>DA_high_SN_08662.fits</td><td>0.783346390827</td><td>3.4733321295</td><td>4.20080861388</td><td>6.49220479487</td><td>4.11122624978</td><td>5.01020049022</td><td>12.1832033153</td><td>10.0446501759</td><td>11.2425529824</td><td>12.0544601925</td><td>15.9047924196</td><td>14.7765816469</td><td>6563.10081473</td><td>4861.69157364</td><td>4339.44804405</td><td>4100.46199816</td><td>3968.67813587</td><td>3889.05738714</td><td>9.05784488706</td><td>141.56310268</td><td>141.107910811</td><td>103.103508597</td><td>183.78726959</td><td>54.306725769</td><td>-0.000723914514155</td><td>-0.0269249019911</td><td>-0.0291221156841</td><td>-0.0207487137828</td><td>-0.0410249902886</td><td>-0.0077595307592</td><td>78.7916323875</td><td>263.576907771</td><td>407.906940104</td><td>493.670975966</td><td>653.997009981</td><td>772.962239737</td></tr>\n",
       "<tr><td>359.46600</td><td>8.53244</td><td>--</td><td>235751.84+083156.78</td><td>21</td><td>18.95</td><td>0.02</td><td>18.74</td><td>0.01</td><td>18.98</td><td>0.01</td><td>19.22</td><td>0.02</td><td>19.48</td><td>0.08</td><td>--</td><td>3.49</td><td>--</td><td>--</td><td>--</td><td>18895</td><td>200</td><td>7.954</td><td>0.004</td><td>18895</td><td>200</td><td>7.950</td><td>0.000</td><td>0.595</td><td>0.0000</td><td></td><td>--</td><td>--</td><td>--</td><td>4535</td><td>55860</td><td>545</td><td>--</td><td>--</td><td>--</td><td>--</td><td>--</td><td>--</td><td>--</td><td>--</td><td>--</td><td>--</td><td>--</td><td>--</td><td>--</td><td>--</td><td>--</td><td>--</td><td>--</td><td>--</td><td>--</td><td>DA</td><td>--</td><td>--</td><td>--</td><td>--</td><td>4535-55860-0545</td><td>359.46600</td><td>8.532439</td><td>DA_high_SN_08663.fits</td><td>0.738523118653</td><td>2.89888199998</td><td>3.42669624515</td><td>3.64617104214</td><td>4.37589434615</td><td>3.48914724926</td><td>16.572227224</td><td>11.2693110207</td><td>14.1185443378</td><td>16.0059693126</td><td>13.7960457155</td><td>22.216789802</td><td>6563.69002411</td><td>4862.15853146</td><td>4342.10483437</td><td>4102.41779808</td><td>3967.98080255</td><td>3888.72452944</td><td>57.5885903205</td><td>185.98528264</td><td>101.480532497</td><td>-39.6210943495</td><td>178.39844736</td><td>90.0319294703</td><td>-0.00822306207902</td><td>-0.0367272850696</td><td>-0.0212704940245</td><td>0.0119992445782</td><td>-0.0422135520989</td><td>-0.0201566018936</td><td>65.6077613466</td><td>177.705517572</td><td>241.324268702</td><td>257.509442378</td><td>310.837176575</td><td>366.589723198</td></tr>\n",
       "</table>"
      ],
      "text/plain": [
       "<Table masked=True length=8664>\n",
       " _RAJ2000  _DEJ2000       PMF       ...     Chi0_4        Chi0_5   \n",
       "   deg       deg                    ...                            \n",
       " float64   float64       str15      ...    float64       float64   \n",
       "--------- --------- --------------- ... ------------- -------------\n",
       "  8.28120  -0.79260 3586-55181-0214 ... 143.146129083 146.277719144\n",
       " 40.00700   0.35720 3650-55244-0726 ... 303.606627431 400.824455457\n",
       "114.89890  37.71190 3662-55182-0866 ... 230.734689301  224.38876725\n",
       "114.40050  39.48120 3664-55245-0350 ... 170.407558979 208.669648431\n",
       "126.44540  38.92110 3760-55268-0863 ... 276.680858764 299.059541815\n",
       "139.24220  -2.13770 3766-55213-0262 ... 257.273759363 322.208497672\n",
       "186.35720  -1.59680 3792-55212-0604 ... 96.9735200665 157.384152554\n",
       "166.20950   0.53790 3836-55302-0968 ... 135.176482641 173.219898763\n",
       "177.64500   0.02080 3843-55278-0492 ... 84.3784871078 150.720532457\n",
       "      ...       ...             ... ...           ...           ...\n",
       "356.97437   4.03287              -- ... 1153.69265977 1423.87154445\n",
       "357.12050   5.43217              -- ... 183.071978001  220.23785486\n",
       "357.97337   1.43490              -- ... 223.534243238 275.283375658\n",
       "358.13767  -1.59790              -- ... 1377.19493128  1608.6707467\n",
       "358.18725  -1.68838              -- ... 727.387005453 895.066135047\n",
       "358.31962   6.31660              -- ... 873.079731799 1090.86069943\n",
       "358.73608   1.05856              -- ... 789.606155999 967.126881001\n",
       "358.74692  -3.27485              -- ... 211.461142163   265.3554708\n",
       "358.94312  -1.97159              -- ... 653.997009981 772.962239737\n",
       "359.46600   8.53244              -- ... 310.837176575 366.589723198"
      ]
     },
     "execution_count": 18,
     "metadata": {},
     "output_type": "execute_result"
    }
   ],
   "source": [
    "good_WD\n",
    "#add_lorentz_columns(good_WD,iteration)\n",
    "#iteration = obtain_lorentz_parameters(good_WD,iteration)"
   ]
  },
  {
   "cell_type": "code",
   "execution_count": 19,
   "metadata": {
    "collapsed": true
   },
   "outputs": [],
   "source": [
    "add_lorentz_columns(good_WD,iteration)"
   ]
  },
  {
   "cell_type": "code",
   "execution_count": 23,
   "metadata": {
    "collapsed": false
   },
   "outputs": [
    {
     "name": "stdout",
     "output_type": "stream",
     "text": [
      "100\n",
      "200\n",
      "300\n",
      "400\n",
      "500\n",
      "600\n",
      "700\n",
      "800\n",
      "900\n",
      "1000\n",
      "1100\n",
      "1200\n",
      "1300\n",
      "1400\n",
      "1500\n",
      "1600\n",
      "1700\n",
      "1800\n",
      "1900\n",
      "2000\n",
      "2100\n",
      "2200\n",
      "2300\n",
      "2400\n",
      "2500\n",
      "2600\n",
      "2700\n",
      "2800\n",
      "2900\n",
      "3000\n",
      "3100\n",
      "3200\n",
      "3300\n",
      "3400\n",
      "3500\n",
      "3600\n",
      "3700\n",
      "3800\n",
      "3900\n",
      "4000\n",
      "4100\n",
      "4200\n",
      "4300\n",
      "4400\n",
      "4500\n",
      "4600\n",
      "4700\n",
      "4800\n",
      "4900\n",
      "5000\n",
      "5100\n",
      "5200\n",
      "5300\n",
      "5400\n",
      "5500\n",
      "5600\n",
      "5700\n",
      "5800\n",
      "5900\n",
      "6000\n",
      "6100\n",
      "6200\n",
      "6300\n",
      "6400\n",
      "6500\n",
      "6600\n",
      "6700\n",
      "6800\n",
      "6900\n",
      "7000\n",
      "7100\n",
      "7200\n",
      "7300\n",
      "7400\n",
      "7500\n",
      "7600\n",
      "7700\n",
      "7800\n",
      "7900\n",
      "8000\n",
      "8100\n",
      "8200\n",
      "8300\n",
      "8400\n",
      "8500\n",
      "8600\n"
     ]
    }
   ],
   "source": [
    "iteration = obtain_lorentz_parameters(good_WD,iteration)"
   ]
  },
  {
   "cell_type": "code",
   "execution_count": 24,
   "metadata": {
    "collapsed": false
   },
   "outputs": [],
   "source": [
    "good_WD.write('DA_with_LP_Mike.dat', format='ascii')"
   ]
  },
  {
   "cell_type": "code",
   "execution_count": 25,
   "metadata": {
    "collapsed": false
   },
   "outputs": [
    {
     "data": {
      "text/plain": [
       "2468"
      ]
     },
     "execution_count": 25,
     "metadata": {},
     "output_type": "execute_result"
    }
   ],
   "source": [
    "good_WD['Teff_3D_'].count()"
   ]
  },
  {
   "cell_type": "code",
   "execution_count": 54,
   "metadata": {
    "collapsed": false
   },
   "outputs": [],
   "source": [
    "#Had same thing for redshift\n",
    "helio = MaskedColumn(np.arange(len(good_WD)), name='helio_rv', dtype='float64', mask=True)\n",
    "\n",
    "good_WD.add_column(helio)"
   ]
  },
  {
   "cell_type": "code",
   "execution_count": 27,
   "metadata": {
    "collapsed": true
   },
   "outputs": [],
   "source": [
    "def add_z_to_table(catalog):\n",
    "    directory = \"../data/\"\n",
    "    total = 0\n",
    "    for ind,it in enumerate(catalog):\n",
    "        filename=directory+it['file']\n",
    "        data = fits.getdata(filename, 2)\n",
    "        header = fits.getheader(filename)\n",
    "        catalog['HELIO_RV'][ind] = header['HELIO_RV']\n",
    "        catalog['z'][ind] = data['z'][0]\n",
    "        total = total + 1\n",
    "        if total%1000 == 0:  print(total)"
   ]
  },
  {
   "cell_type": "code",
   "execution_count": 57,
   "metadata": {
    "collapsed": true
   },
   "outputs": [],
   "source": [
    "def add_helio_rv_to_table(catalog):\n",
    "    directory = \"../data/\"\n",
    "    total = 0\n",
    "    for ind,it in enumerate(catalog):\n",
    "        filename=directory+it['file']\n",
    "        header = fits.getheader(filename)\n",
    "        catalog['helio_rv'][ind] = header['HELIO_RV']\n",
    "        total = total + 1\n",
    "        if total%1000 == 0:  print(total)"
   ]
  },
  {
   "cell_type": "code",
   "execution_count": 58,
   "metadata": {
    "collapsed": false
   },
   "outputs": [
    {
     "name": "stdout",
     "output_type": "stream",
     "text": [
      "1000\n",
      "2000\n",
      "3000\n",
      "4000\n",
      "5000\n",
      "6000\n",
      "7000\n",
      "8000\n"
     ]
    }
   ],
   "source": [
    "add_helio_rv_to_table(good_WD)"
   ]
  },
  {
   "cell_type": "code",
   "execution_count": 29,
   "metadata": {
    "collapsed": false
   },
   "outputs": [],
   "source": [
    "def get_filename(plate,mjd,fiber,wd):\n",
    "    try:\n",
    "        plwd = wd[wd['Plate'] == plate]\n",
    "        if len(plwd) == 0: raise Exception()\n",
    "    except Exception:\n",
    "        print 'No plate number'\n",
    "        return ''\n",
    "    try:\n",
    "        mjwd = plwd[plwd['MJD'] == mjd]\n",
    "        if len(mjwd) == 0: raise Exception()\n",
    "    except Exception:\n",
    "        print 'No mjd date'\n",
    "        return ''\n",
    "    try:\n",
    "        fbwd = mjwd[mjwd['Fiber'] == fiber]\n",
    "        if len(fbwd) == 0: raise Exception()\n",
    "    except Exception:\n",
    "        print 'No fiber number'\n",
    "        return ''\n",
    "    name = fbwd['file']\n",
    "    return str(name[0])"
   ]
  },
  {
   "cell_type": "code",
   "execution_count": 30,
   "metadata": {
    "collapsed": false
   },
   "outputs": [],
   "source": [
    "def plot_spec(plate,mjd,fiber,wd):\n",
    "    fits_spec = fits.open('../data/'+get_filename(plate,mjd,fiber,wd))\n",
    "    wavelength = 10**fits_spec[1].data['loglam']\n",
    "    flux = fits_spec[1].data['flux']\n",
    "    fig, ax = plt.subplots(1, 2, figsize=(12,4))\n",
    "    ax[0].plot(wavelength, flux)\n",
    "    ax[1].plot(wavelength, flux)\n",
    "    ax[1].set_xlim(3800, 4400)\n",
    "    plt.show()"
   ]
  },
  {
   "cell_type": "code",
   "execution_count": 31,
   "metadata": {
    "collapsed": false
   },
   "outputs": [
    {
     "data": {
      "image/png": "[encoded data removed]",
      "text/plain": [
       "<matplotlib.figure.Figure at 0x114643310>"
      ]
     },
     "metadata": {},
     "output_type": "display_data"
    }
   ],
   "source": [
    "plot_spec(3760,55268,863,good_WD)"
   ]
  },
  {
   "cell_type": "code",
   "execution_count": 38,
   "metadata": {
    "collapsed": false
   },
   "outputs": [
    {
     "data": {
      "text/plain": [
       "(array([  1.,   9.,  31.,  35.,  18.,  13.,  12.,   3.,   5.,   4.]),\n",
       " array([-100,    0,  100,  200,  300,  400,  500,  600,  700,  800,  900]),\n",
       " <a list of 10 Patch objects>)"
      ]
     },
     "execution_count": 38,
     "metadata": {},
     "output_type": "execute_result"
    },
    {
     "data": {
      "image/png": "[encoded data removed]",
      "text/plain": [
       "<matplotlib.figure.Figure at 0x114a3ad50>"
      ]
     },
     "metadata": {},
     "output_type": "display_data"
    }
   ],
   "source": [
    "plt.hist(good_WD['Chi1_5'],bins=[-100,0,100,200,300,400,500,600,700,800,900])\n"
   ]
  },
  {
   "cell_type": "code",
   "execution_count": 102,
   "metadata": {
    "collapsed": false
   },
   "outputs": [
    {
     "data": {
      "text/plain": [
       "(-150.0, 150.0)"
      ]
     },
     "execution_count": 102,
     "metadata": {},
     "output_type": "execute_result"
    },
    {
     "data": {
      "image/png": "[encoded data removed]",
      "text/plain": [
       "<matplotlib.figure.Figure at 0x11bd7f350>"
      ]
     },
     "metadata": {},
     "output_type": "display_data"
    }
   ],
   "source": [
    "plt.subplot(121)\n",
    "plt.scatter((3.e5*(good_WD['X1_2']-4861))/4861,3.e5*(good_WD['z']))\n",
    "plt.xlim([3.e5*-0.001,0.001*3.e5])\n",
    "plt.ylim([3.e5*-0.0005,0.0005*3.e5])\n",
    "\n",
    "plt.subplot(122)\n",
    "plt.scatter(((3.e5*(good_WD['X1_2']-4861))/4861)-good_WD['helio_rv']-70.,3.e5*(good_WD['z']))\n",
    "plt.xlim([3.e5*-0.001,0.001*3.e5])\n",
    "plt.ylim([3.e5*-0.0005,0.0005*3.e5])"
   ]
  },
  {
   "cell_type": "code",
   "execution_count": 1,
   "metadata": {
    "collapsed": false
   },
   "outputs": [
    {
     "ename": "NameError",
     "evalue": "name 'plt' is not defined",
     "output_type": "error",
     "traceback": [
      "\u001b[0;31m---------------------------------------------------------------------------\u001b[0m",
      "\u001b[0;31mNameError\u001b[0m                                 Traceback (most recent call last)",
      "\u001b[0;32m<ipython-input-1-898b7067c4fb>\u001b[0m in \u001b[0;36m<module>\u001b[0;34m()\u001b[0m\n\u001b[1;32m      1\u001b[0m \u001b[0;31m#plt.scatter(good_WD['Chi1'],good_WD['S_N'])\u001b[0m\u001b[0;34m\u001b[0m\u001b[0;34m\u001b[0m\u001b[0m\n\u001b[0;32m----> 2\u001b[0;31m \u001b[0mplt\u001b[0m\u001b[0;34m.\u001b[0m\u001b[0msubplot\u001b[0m\u001b[0;34m(\u001b[0m\u001b[0;36m321\u001b[0m\u001b[0;34m)\u001b[0m\u001b[0;34m\u001b[0m\u001b[0m\n\u001b[0m\u001b[1;32m      3\u001b[0m \u001b[0mplt\u001b[0m\u001b[0;34m.\u001b[0m\u001b[0mscatter\u001b[0m\u001b[0;34m(\u001b[0m\u001b[0mgood_WD\u001b[0m\u001b[0;34m[\u001b[0m\u001b[0;34m'Chi1_0'\u001b[0m\u001b[0;34m]\u001b[0m\u001b[0;34m,\u001b[0m\u001b[0mgood_WD\u001b[0m\u001b[0;34m[\u001b[0m\u001b[0;34m'S_N'\u001b[0m\u001b[0;34m]\u001b[0m\u001b[0;34m,\u001b[0m\u001b[0mmarker\u001b[0m\u001b[0;34m=\u001b[0m\u001b[0;34m'.'\u001b[0m\u001b[0;34m)\u001b[0m\u001b[0;34m\u001b[0m\u001b[0m\n\u001b[1;32m      4\u001b[0m \u001b[0;34m\u001b[0m\u001b[0m\n\u001b[1;32m      5\u001b[0m \u001b[0mplt\u001b[0m\u001b[0;34m.\u001b[0m\u001b[0msubplot\u001b[0m\u001b[0;34m(\u001b[0m\u001b[0;36m322\u001b[0m\u001b[0;34m)\u001b[0m\u001b[0;34m\u001b[0m\u001b[0m\n",
      "\u001b[0;31mNameError\u001b[0m: name 'plt' is not defined"
     ]
    }
   ],
   "source": [
    "#plt.scatter(good_WD['Chi1'],good_WD['S_N'])\n",
    "plt.subplot(321)\n",
    "plt.scatter(good_WD['Chi1_0'],good_WD['S_N'],marker='.')\n",
    "\n",
    "plt.subplot(322)\n",
    "plt.scatter(good_WD['Chi1_1'],good_WD['S_N'],marker='.')\n",
    "\n",
    "plt.subplot(323)\n",
    "plt.scatter(good_WD['Chi1_2'],good_WD['S_N'],marker='.')\n",
    "\n",
    "plt.subplot(324)\n",
    "plt.scatter(good_WD['Chi1_3'],good_WD['S_N'],marker='.')\n",
    "\n",
    "plt.subplot(325)\n",
    "plt.scatter(good_WD['Chi1_4'],good_WD['S_N'],marker='.')\n",
    "\n",
    "plt.subplot(326)\n",
    "plt.scatter(good_WD['Chi1_5'],good_WD['S_N'],marker='.')"
   ]
  },
  {
   "cell_type": "code",
   "execution_count": 104,
   "metadata": {
    "collapsed": false
   },
   "outputs": [],
   "source": [
    "good_WD\n",
    "good_WD.write('DA_with_LP_Mike.dat', format='ascii')"
   ]
  },
  {
   "cell_type": "code",
   "execution_count": 71,
   "metadata": {
    "collapsed": false
   },
   "outputs": [
    {
     "data": {
      "text/plain": [
       "(array([ 535.,  538.,  613.,  670.,  618.,  510.,  492.,  345.,  296.,  196.]),\n",
       " array([-0.05, -0.04, -0.03, -0.02, -0.01,  0.  ,  0.01,  0.02,  0.03,\n",
       "         0.04,  0.05]),\n",
       " <a list of 10 Patch objects>)"
      ]
     },
     "execution_count": 71,
     "metadata": {},
     "output_type": "execute_result"
    },
    {
     "data": {
      "image/png": "[encoded data removed]",
      "text/plain": [
       "<matplotlib.figure.Figure at 0x11ee26410>"
      ]
     },
     "metadata": {},
     "output_type": "display_data"
    }
   ],
   "source": [
    "plt.hist(good_WD['M5'],bins=[-0.05,-0.04,-0.03,-0.02,-0.01,0,0.01,0.02,0.03,0.04,0.05])"
   ]
  },
  {
   "cell_type": "code",
   "execution_count": 98,
   "metadata": {
    "collapsed": false
   },
   "outputs": [
    {
     "name": "stdout",
     "output_type": "stream",
     "text": [
      "12753.6434899\n"
     ]
    },
    {
     "data": {
      "image/png": "[encoded data removed]",
      "text/plain": [
       "<matplotlib.figure.Figure at 0x11b334750>"
      ]
     },
     "metadata": {},
     "output_type": "display_data"
    }
   ],
   "source": [
    "plt.subplot(121)\n",
    "plt.hist(good_WD['z']*3.e5,bins=np.linspace(-1000,1000,50))\n",
    "\n",
    "plt.subplot(122)\n",
    "plt.hist(3.e5*(good_WD['X1_1']-4861)/4861,bins=np.linspace(-1000,1000,50))"
   ]
  },
  {
   "cell_type": "code",
   "execution_count": 27,
   "metadata": {
    "collapsed": false
   },
   "outputs": [
    {
     "data": {
      "text/plain": [
       "<matplotlib.text.Text at 0x111d6d150>"
      ]
     },
     "execution_count": 27,
     "metadata": {},
     "output_type": "execute_result"
    },
    {
     "data": {
      "image/png": "[encoded data removed]",
      "text/plain": [
       "<matplotlib.figure.Figure at 0x110753b50>"
      ]
     },
     "metadata": {},
     "output_type": "display_data"
    }
   ],
   "source": [
    "plt.scatter((good_WD['X0']-6563)*3*10**5/6563,good_WD['z']*3*10**5)\n",
    "#plt.ylim([-0.002,0.002])\n",
    "#plt.xlim([-5000,5000])\n",
    "plt.xlabel('Center of Line (angstroms)')\n",
    "plt.ylabel('Sloan Redshift')\n",
    "\n",
    "#Chi squared with square root of flux array in place of uncertainty"
   ]
  },
  {
   "cell_type": "code",
   "execution_count": 28,
   "metadata": {
    "collapsed": false
   },
   "outputs": [
    {
     "data": {
      "text/plain": [
       "<matplotlib.text.Text at 0x1165349d0>"
      ]
     },
     "execution_count": 28,
     "metadata": {},
     "output_type": "execute_result"
    },
    {
     "data": {
      "image/png": "[encoded data removed]",
      "text/plain": [
       "<matplotlib.figure.Figure at 0x1126491d0>"
      ]
     },
     "metadata": {},
     "output_type": "display_data"
    }
   ],
   "source": [
    "plt.hist(good_WD['S_N'])\n",
    "plt.xlabel('Signal to Noise')"
   ]
  },
  {
   "cell_type": "markdown",
   "metadata": {},
   "source": [
    "### Create training, test, and validation sets"
   ]
  },
  {
   "cell_type": "code",
   "execution_count": 29,
   "metadata": {
    "collapsed": false
   },
   "outputs": [],
   "source": [
    "# Randomly shuffle indices\n",
    "indices = np.arange(len(good_WD))\n",
    "np.random.shuffle(indices)\n",
    "good_shuffle_WD = good_WD[indices]\n",
    "\n",
    "# Determine training, test, and validation sets\n",
    "validation_WD = good_shuffle_WD[0:300]\n",
    "test_WD = good_shuffle_WD[300:600]\n",
    "training_WD = good_shuffle_WD[600:]"
   ]
  },
  {
   "cell_type": "markdown",
   "metadata": {},
   "source": [
    "### Plot up systems in T_eff and log g space to see where they lie"
   ]
  },
  {
   "cell_type": "code",
   "execution_count": 30,
   "metadata": {
    "collapsed": false
   },
   "outputs": [
    {
     "data": {
      "image/png": "[encoded data removed]",
      "text/plain": [
       "<matplotlib.figure.Figure at 0x11605e1d0>"
      ]
     },
     "metadata": {},
     "output_type": "display_data"
    }
   ],
   "source": [
    "plt.errorbar(training_WD['logg'], training_WD['Teff'], xerr=training_WD['e_logg'], \n",
    "             yerr=training_WD['e_Teff'], ls='none', fmt='', capsize=0, label='train')\n",
    "\n",
    "plt.errorbar(test_WD['logg'], test_WD['Teff'], xerr=test_WD['e_logg'], \n",
    "             yerr=test_WD['e_Teff'], ls='none', fmt='', capsize=0, label='test')\n",
    "\n",
    "plt.errorbar(validation_WD['logg'], validation_WD['Teff'], xerr=validation_WD['e_logg'], \n",
    "             yerr=validation_WD['e_Teff'], ls='none', fmt='', capsize=0, label='val')\n",
    "plt.legend()\n",
    "\n",
    "\n",
    "plt.ylabel(r'T$_{\\rm eff}$')\n",
    "plt.xlabel(r'Log $g$')\n",
    "\n",
    "plt.yscale('log')\n",
    "plt.ylim(5.0e3, 1.0e5)\n",
    "\n",
    "plt.show()"
   ]
  },
  {
   "cell_type": "markdown",
   "metadata": {
    "collapsed": true
   },
   "source": [
    "Now we will look at just the DAs."
   ]
  },
  {
   "cell_type": "code",
   "execution_count": 31,
   "metadata": {
    "collapsed": false
   },
   "outputs": [
    {
     "ename": "TypeError",
     "evalue": "unhashable type: 'MaskedConstant'",
     "output_type": "error",
     "traceback": [
      "\u001b[0;31m---------------------------------------------------------------------------\u001b[0m",
      "\u001b[0;31mTypeError\u001b[0m                                 Traceback (most recent call last)",
      "\u001b[0;32m<ipython-input-31-2837695c219d>\u001b[0m in \u001b[0;36m<module>\u001b[0;34m()\u001b[0m\n\u001b[0;32m----> 1\u001b[0;31m \u001b[0mset\u001b[0m\u001b[0;34m(\u001b[0m\u001b[0mgood_WD\u001b[0m\u001b[0;34m[\u001b[0m\u001b[0;34m'SpType'\u001b[0m\u001b[0;34m]\u001b[0m\u001b[0;34m)\u001b[0m\u001b[0;34m\u001b[0m\u001b[0m\n\u001b[0m",
      "\u001b[0;31mTypeError\u001b[0m: unhashable type: 'MaskedConstant'"
     ]
    }
   ],
   "source": [
    "set(good_WD['SpType'])"
   ]
  },
  {
   "cell_type": "code",
   "execution_count": null,
   "metadata": {
    "collapsed": false
   },
   "outputs": [],
   "source": [
    "DA_good = good_WD\n",
    "\n",
    "print(\"Number of DAs in sample\",len(DA_good))"
   ]
  },
  {
   "cell_type": "code",
   "execution_count": null,
   "metadata": {
    "collapsed": false
   },
   "outputs": [],
   "source": [
    "plt.errorbar(DA_good['Teff'], DA_good['logg'],yerr=DA_good['e_logg'], \n",
    "             xerr=DA_good['e_Teff'], ls='none', fmt='', capsize=0)\n",
    "\n",
    "\n",
    "plt.xlabel(r'T$_{\\rm eff}$')\n",
    "plt.ylabel(r'Log $g$')\n",
    "\n",
    "plt.xscale('log')\n",
    "plt.xlim(5.0e3, 1.0e5)\n",
    "\n",
    "plt.show()"
   ]
  },
  {
   "cell_type": "code",
   "execution_count": null,
   "metadata": {
    "collapsed": false
   },
   "outputs": [],
   "source": [
    "plt.errorbar(good_WD['Teff_3D_'], good_WD['logg_3D_'],yerr=good_WD['e_logg_3D_'], \n",
    "             xerr=good_WD['e_Teff_3D_'], ls='none', fmt='', capsize=0)\n",
    "\n",
    "\n",
    "plt.xlabel(r'T$_{\\rm eff}$')\n",
    "plt.ylabel(r'Log $g$')\n",
    "\n",
    "plt.xscale('log')\n",
    "plt.xlim(5.0e3, 1.0e5)\n",
    "\n",
    "plt.show()"
   ]
  },
  {
   "cell_type": "code",
   "execution_count": null,
   "metadata": {
    "collapsed": false
   },
   "outputs": [],
   "source": [
    "plt.hist(good_WD['logg'])\n",
    "plt.xlabel(r'Log $g$')"
   ]
  },
  {
   "cell_type": "code",
   "execution_count": null,
   "metadata": {
    "collapsed": false
   },
   "outputs": [],
   "source": [
    "plt.hist(good_WD['Teff'])\n",
    "plt.xlabel(r'T$_{\\rm eff}$')"
   ]
  },
  {
   "cell_type": "code",
   "execution_count": 69,
   "metadata": {
    "collapsed": false
   },
   "outputs": [
    {
     "ename": "NameError",
     "evalue": "name 'DA_good' is not defined",
     "output_type": "error",
     "traceback": [
      "\u001b[0;31m---------------------------------------------------------------------------\u001b[0m",
      "\u001b[0;31mNameError\u001b[0m                                 Traceback (most recent call last)",
      "\u001b[0;32m<ipython-input-69-1cb3b1b91407>\u001b[0m in \u001b[0;36m<module>\u001b[0;34m()\u001b[0m\n\u001b[0;32m----> 1\u001b[0;31m \u001b[0mascii\u001b[0m\u001b[0;34m.\u001b[0m\u001b[0mwrite\u001b[0m\u001b[0;34m(\u001b[0m\u001b[0mDA_good\u001b[0m\u001b[0;34m,\u001b[0m \u001b[0;34m'DA_good.csv'\u001b[0m\u001b[0;34m,\u001b[0m \u001b[0mformat\u001b[0m\u001b[0;34m=\u001b[0m\u001b[0;34m'csv'\u001b[0m\u001b[0;34m,\u001b[0m \u001b[0minclude_names\u001b[0m\u001b[0;34m=\u001b[0m\u001b[0;34m[\u001b[0m\u001b[0;34m'_RAJ2000'\u001b[0m\u001b[0;34m,\u001b[0m\u001b[0;34m'_DEJ2000'\u001b[0m\u001b[0;34m,\u001b[0m\u001b[0;34m'SDSS'\u001b[0m\u001b[0;34m,\u001b[0m\u001b[0;34m'S_N'\u001b[0m\u001b[0;34m,\u001b[0m\u001b[0;34m'umag'\u001b[0m\u001b[0;34m,\u001b[0m\u001b[0;34m'e_umag'\u001b[0m\u001b[0;34m,\u001b[0m\u001b[0;34m'gmag'\u001b[0m\u001b[0;34m,\u001b[0m\u001b[0;34m'e_gmag'\u001b[0m\u001b[0;34m,\u001b[0m\u001b[0;34m'rmag'\u001b[0m\u001b[0;34m,\u001b[0m\u001b[0;34m'e_rmag'\u001b[0m\u001b[0;34m,\u001b[0m\u001b[0;34m'imag'\u001b[0m\u001b[0;34m,\u001b[0m\u001b[0;34m'e_imag'\u001b[0m\u001b[0;34m,\u001b[0m\u001b[0;34m'zmag'\u001b[0m\u001b[0;34m,\u001b[0m\u001b[0;34m'e_zmag'\u001b[0m\u001b[0;34m,\u001b[0m\u001b[0;34m'E_B-V_'\u001b[0m\u001b[0;34m,\u001b[0m\u001b[0;34m'pm'\u001b[0m\u001b[0;34m]\u001b[0m\u001b[0;34m)\u001b[0m\u001b[0;34m\u001b[0m\u001b[0m\n\u001b[0m",
      "\u001b[0;31mNameError\u001b[0m: name 'DA_good' is not defined"
     ]
    }
   ],
   "source": [
    "ascii.write(DA_good, 'DA_good.csv', format='csv', include_names=['_RAJ2000','_DEJ2000','SDSS','S_N','umag','e_umag','gmag','e_gmag','rmag','e_rmag','imag','e_imag','zmag','e_zmag','E_B-V_','pm'])"
   ]
  },
  {
   "cell_type": "code",
   "execution_count": null,
   "metadata": {
    "collapsed": false
   },
   "outputs": [],
   "source": [
    "ind = []\n",
    "for num,thing in enumerate(good_WD['SpType']):\n",
    "    if 'A' in thing:\n",
    "        ind += [num]\n",
    "\n",
    "All_A = good_WD[ind]\n",
    "print(\"Number of As in sample\",len(All_A))"
   ]
  },
  {
   "cell_type": "code",
   "execution_count": null,
   "metadata": {
    "collapsed": false
   },
   "outputs": [],
   "source": [
    "All_A"
   ]
  },
  {
   "cell_type": "code",
   "execution_count": null,
   "metadata": {
    "collapsed": false
   },
   "outputs": [],
   "source": []
  },
  {
   "cell_type": "code",
   "execution_count": null,
   "metadata": {
    "collapsed": false
   },
   "outputs": [],
   "source": [
    "plt.errorbar(All_A['Teff'], All_A['logg'],yerr=All_A['e_logg'], \n",
    "             xerr=All_A['e_Teff'], ls='none', fmt='', capsize=0, color='red')\n",
    "\n",
    "\n",
    "plt.xlabel(r'T$_{\\rm eff}$')\n",
    "plt.ylabel(r'Log $g$')\n",
    "\n",
    "plt.xscale('log')\n",
    "plt.xlim(5.0e3, 1.0e5)\n",
    "\n",
    "plt.show()"
   ]
  },
  {
   "cell_type": "code",
   "execution_count": null,
   "metadata": {
    "collapsed": true
   },
   "outputs": [],
   "source": []
  }
 ],
 "metadata": {
  "anaconda-cloud": {},
  "kernelspec": {
   "display_name": "Python 2",
   "language": "python",
   "name": "python2"
  },
  "language_info": {
   "codemirror_mode": {
    "name": "ipython",
    "version": 2
   },
   "file_extension": ".py",
   "mimetype": "text/x-python",
   "name": "python",
   "nbconvert_exporter": "python",
   "pygments_lexer": "ipython2",
   "version": "2.7.13"
  }
 },
 "nbformat": 4,
 "nbformat_minor": 1
}
