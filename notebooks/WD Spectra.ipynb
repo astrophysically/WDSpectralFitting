{
 "cells": [
  {
   "cell_type": "markdown",
   "metadata": {},
   "source": [
    "# WD Database for Python\n",
    "\n",
    "The goal is to download the following database: http://vizier.u-strasbg.fr/viz-bin/VizieR?-source=J%2FMNRAS%2F455%2F3413 for use in a machine-learning inspired scheme to "
   ]
  },
  {
   "cell_type": "code",
   "execution_count": 1,
   "metadata": {
    "collapsed": false
   },
   "outputs": [
    {
     "name": "stderr",
     "output_type": "stream",
     "text": [
      "/Users/joshuapaultan/anaconda/lib/python2.7/site-packages/astroquery/sdss/__init__.py:28: UserWarning: Experimental: SDSS has not yet been refactored to have its API match the rest of astroquery (but it's nearly there).\n",
      "  warnings.warn(\"Experimental: SDSS has not yet been refactored to have its API \"\n"
     ]
    }
   ],
   "source": [
    "#Preamble. Standard packages for to load\n",
    "import astropy\n",
    "from astropy.table import Table, Column, MaskedColumn, vstack \n",
    "import numpy as np\n",
    "from astroquery.vizier import Vizier\n",
    "import matplotlib.pyplot as plt\n",
    "import urllib2\n",
    "# special IPython command to prepare the notebook for matplotlib\n",
    "%matplotlib inline \n",
    "from astroquery.sdss import SDSS\n",
    "from astropy import units as u\n",
    "from astropy import coordinates as coords\n",
    "from astropy.io import fits\n",
    "import astropy.io.ascii as ascii\n",
    "import os\n",
    "import random"
   ]
  },
  {
   "cell_type": "code",
   "execution_count": 2,
   "metadata": {
    "collapsed": true
   },
   "outputs": [],
   "source": [
    "catalog_list_1 = Vizier.find_catalogs('New white dwarf SDSS DR12')\n",
    "catalog_list_2 = Vizier.find_catalogs('J/ApJS/204/5')\n",
    "catalog_list_3 = Vizier.find_catalogs('J/MNRAS/446/4078')"
   ]
  },
  {
   "cell_type": "code",
   "execution_count": 3,
   "metadata": {
    "collapsed": false
   },
   "outputs": [
    {
     "name": "stdout",
     "output_type": "stream",
     "text": [
      "{u'J/MNRAS/455/3413': u'New white dwarf and subdwarf stars in SDSS DR12 (Kepler+, 2016)'}\n",
      "{u'J/ApJS/204/5': u'SDSS DR7 white dwarf catalog (Kleinman+, 2013)'}\n",
      "{u'J/MNRAS/446/4078': u'New white dwarf stars in SDSS DR10 (Kepler+, 2015)'}\n"
     ]
    }
   ],
   "source": [
    "print({k:v.description for k,v in catalog_list_1.items()})\n",
    "print({k:v.description for k,v in catalog_list_2.items()})\n",
    "print({k:v.description for k,v in catalog_list_3.items()})"
   ]
  },
  {
   "cell_type": "code",
   "execution_count": 4,
   "metadata": {
    "collapsed": false
   },
   "outputs": [
    {
     "name": "stderr",
     "output_type": "stream",
     "text": [
      "/Users/joshuapaultan/anaconda/lib/python2.7/site-packages/astroquery/vizier/core.py:683: UserWarning: VOTABLE parsing raised exception: None:336:189: ValueError: invalid literal for int() with base 10: 'null' (in row 147, col 'f_umag')\n",
      "  warnings.warn(\"VOTABLE parsing raised exception: {0}\".format(ex))\n"
     ]
    }
   ],
   "source": [
    "Vizier.ROW_LIMIT = -1\n",
    "catalogs_1 = Vizier.get_catalogs(catalog_list_1.keys())\n",
    "catalogs_2 = Vizier.get_catalogs(catalog_list_2.keys())\n",
    "catalogs_3 = Vizier.get_catalogs(catalog_list_3.keys())"
   ]
  },
  {
   "cell_type": "code",
   "execution_count": 5,
   "metadata": {
    "collapsed": false
   },
   "outputs": [
    {
     "name": "stdout",
     "output_type": "stream",
     "text": [
      "TableList with 1 tables:\n",
      "\t'0:J/MNRAS/455/3413/table6' with 34 column(s) and 6647 row(s) \n",
      "TableList with 1 tables:\n",
      "\t'0:J/ApJS/204/5/table2' with 45 column(s) and 20407 row(s) \n",
      "TableList with 1 tables:\n",
      "\t'0:J/MNRAS/446/4078/table6' with 30 column(s) and 9112 row(s) \n"
     ]
    }
   ],
   "source": [
    "print(catalogs_1)\n",
    "print(catalogs_2)\n",
    "print(catalogs_3)"
   ]
  },
  {
   "cell_type": "code",
   "execution_count": 6,
   "metadata": {
    "collapsed": false
   },
   "outputs": [
    {
     "name": "stderr",
     "output_type": "stream",
     "text": [
      "WARNING: MergeConflictWarning: Cannot merge meta key u'width' types <type 'int'> and <type 'int'>, choosing width=10 [astropy.utils.metadata]\n",
      "WARNING: MergeConflictWarning: Cannot merge meta key u'precision' types <type 'unicode'> and <type 'unicode'>, choosing precision=u'6' [astropy.utils.metadata]\n",
      "WARNING: MergeConflictWarning: In merged column '_RAJ2000' the 'format' attribute does not match (%8.4f != %10.6f).  Using %10.6f for merged output [astropy.table.operations]\n",
      "WARNING: MergeConflictWarning: In merged column '_RAJ2000' the 'description' attribute does not match (Right ascension (FK5, Equinox=J2000.0) (computed by VizieR, not part of the original data) != Right ascension (FK5, Equinox=J2000.0) at Epoch=J2000, proper motions taken into account  (computed by VizieR, not part of the original data)).  Using Right ascension (FK5, Equinox=J2000.0) at Epoch=J2000, proper motions taken into account  (computed by VizieR, not part of the original data) for merged output [astropy.table.operations]\n",
      "WARNING: MergeConflictWarning: Cannot merge meta key u'width' types <type 'int'> and <type 'int'>, choosing width=9 [astropy.utils.metadata]\n",
      "WARNING: MergeConflictWarning: Cannot merge meta key u'precision' types <type 'unicode'> and <type 'unicode'>, choosing precision=u'5' [astropy.utils.metadata]\n",
      "WARNING: MergeConflictWarning: In merged column '_RAJ2000' the 'format' attribute does not match (%10.6f != %9.5f).  Using %9.5f for merged output [astropy.table.operations]\n",
      "WARNING: MergeConflictWarning: In merged column '_RAJ2000' the 'description' attribute does not match (Right ascension (FK5, Equinox=J2000.0) at Epoch=J2000, proper motions taken into account  (computed by VizieR, not part of the original data) != Right ascension (FK5, Equinox=J2000.0) (computed by VizieR, not part of the original data)).  Using Right ascension (FK5, Equinox=J2000.0) (computed by VizieR, not part of the original data) for merged output [astropy.table.operations]\n",
      "WARNING: MergeConflictWarning: In merged column '_DEJ2000' the 'format' attribute does not match (%8.4f != %10.6f).  Using %10.6f for merged output [astropy.table.operations]\n",
      "WARNING: MergeConflictWarning: In merged column '_DEJ2000' the 'description' attribute does not match (Declination (FK5, Equinox=J2000.0) (computed by VizieR, not part of the original data) != Declination (FK5, Equinox=J2000.0) at Epoch=J2000, proper motions taken into account  (computed by VizieR, not part of the original data)).  Using Declination (FK5, Equinox=J2000.0) at Epoch=J2000, proper motions taken into account  (computed by VizieR, not part of the original data) for merged output [astropy.table.operations]\n",
      "WARNING: MergeConflictWarning: In merged column '_DEJ2000' the 'format' attribute does not match (%10.6f != %9.5f).  Using %9.5f for merged output [astropy.table.operations]\n",
      "WARNING: MergeConflictWarning: In merged column '_DEJ2000' the 'description' attribute does not match (Declination (FK5, Equinox=J2000.0) at Epoch=J2000, proper motions taken into account  (computed by VizieR, not part of the original data) != Declination (FK5, Equinox=J2000.0) (computed by VizieR, not part of the original data)).  Using Declination (FK5, Equinox=J2000.0) (computed by VizieR, not part of the original data) for merged output [astropy.table.operations]\n",
      "WARNING: MergeConflictWarning: Cannot merge meta key u'ucd' types <type 'unicode'> and <type 'unicode'>, choosing ucd=u'ID_MAIN' [astropy.utils.metadata]\n",
      "WARNING: MergeConflictWarning: In merged column 'SDSS' the 'description' attribute does not match (SDSS object name (HHMMSS.ss+DDMMSS.s) != SDSS object name (HHMMSS.ss+DDMMSS.s; J2000)).  Using SDSS object name (HHMMSS.ss+DDMMSS.s; J2000) for merged output [astropy.table.operations]\n",
      "WARNING: MergeConflictWarning: In merged column 'SDSS' the 'description' attribute does not match (SDSS object name (HHMMSS.ss+DDMMSS.s; J2000) != SDSS J designation (HHMMSS.ss+DDMMSS.ss)).  Using SDSS J designation (HHMMSS.ss+DDMMSS.ss) for merged output [astropy.table.operations]\n",
      "WARNING: MergeConflictWarning: Cannot merge meta key u'width' types <type 'int'> and <type 'int'>, choosing width=3 [astropy.utils.metadata]\n",
      "WARNING: MergeConflictWarning: Cannot merge meta key u'width' types <type 'int'> and <type 'int'>, choosing width=5 [astropy.utils.metadata]\n",
      "WARNING: MergeConflictWarning: Cannot merge meta key u'precision' types <type 'unicode'> and <type 'unicode'>, choosing precision=u'2' [astropy.utils.metadata]\n",
      "WARNING: MergeConflictWarning: In merged column 'umag' the 'format' attribute does not match (%6.3f != %5.2f).  Using %5.2f for merged output [astropy.table.operations]\n",
      "WARNING: MergeConflictWarning: In merged column 'umag' the 'description' attribute does not match (SDSS u-band PSF magnitude != SDSS u band PSF magnitude {\\em\\fg{red3}(red values have a non-zero flag)}).  Using SDSS u band PSF magnitude {\\em\\fg{red3}(red values have a non-zero flag)} for merged output [astropy.table.operations]\n",
      "WARNING: MergeConflictWarning: In merged column 'umag' the 'description' attribute does not match (SDSS u band PSF magnitude {\\em\\fg{red3}(red values have a non-zero flag)} != SDSS u-band PSF magnitude).  Using SDSS u-band PSF magnitude for merged output [astropy.table.operations]\n",
      "WARNING: MergeConflictWarning: In merged column 'e_umag' the 'format' attribute does not match (%6.3f != %5.2f).  Using %5.2f for merged output [astropy.table.operations]\n",
      "WARNING: MergeConflictWarning: In merged column 'e_umag' the 'description' attribute does not match (rms uncertainty on umag != Uncertainty in umag).  Using Uncertainty in umag for merged output [astropy.table.operations]\n",
      "WARNING: MergeConflictWarning: In merged column 'e_umag' the 'description' attribute does not match (Uncertainty in umag != rms uncertainty on umag).  Using rms uncertainty on umag for merged output [astropy.table.operations]\n",
      "WARNING: MergeConflictWarning: In merged column 'gmag' the 'format' attribute does not match (%6.3f != %5.2f).  Using %5.2f for merged output [astropy.table.operations]\n",
      "WARNING: MergeConflictWarning: In merged column 'gmag' the 'description' attribute does not match (SDSS g-band PSF magnitude != ? SDSS g band PSF magnitude {\\em\\fg{red3}(red values have a non-zero flag)}).  Using ? SDSS g band PSF magnitude {\\em\\fg{red3}(red values have a non-zero flag)} for merged output [astropy.table.operations]\n",
      "WARNING: MergeConflictWarning: In merged column 'gmag' the 'description' attribute does not match (? SDSS g band PSF magnitude {\\em\\fg{red3}(red values have a non-zero flag)} != SDSS g-band PSF magnitude).  Using SDSS g-band PSF magnitude for merged output [astropy.table.operations]\n",
      "WARNING: MergeConflictWarning: In merged column 'e_gmag' the 'format' attribute does not match (%6.3f != %5.2f).  Using %5.2f for merged output [astropy.table.operations]\n",
      "WARNING: MergeConflictWarning: In merged column 'e_gmag' the 'description' attribute does not match (rms uncertainty on gmag != ? Uncertainty in gmag).  Using ? Uncertainty in gmag for merged output [astropy.table.operations]\n",
      "WARNING: MergeConflictWarning: In merged column 'e_gmag' the 'description' attribute does not match (? Uncertainty in gmag != rms uncertainty on gmag).  Using rms uncertainty on gmag for merged output [astropy.table.operations]\n",
      "WARNING: MergeConflictWarning: In merged column 'rmag' the 'format' attribute does not match (%6.3f != %5.2f).  Using %5.2f for merged output [astropy.table.operations]\n",
      "WARNING: MergeConflictWarning: In merged column 'rmag' the 'description' attribute does not match (SDSS r-band PSF magnitude != SDSS r band PSF magnitude {\\em\\fg{red3}(red values have a non-zero flag)}).  Using SDSS r band PSF magnitude {\\em\\fg{red3}(red values have a non-zero flag)} for merged output [astropy.table.operations]\n",
      "WARNING: MergeConflictWarning: In merged column 'rmag' the 'description' attribute does not match (SDSS r band PSF magnitude {\\em\\fg{red3}(red values have a non-zero flag)} != SDSS r-band PSF magnitude).  Using SDSS r-band PSF magnitude for merged output [astropy.table.operations]\n",
      "WARNING: MergeConflictWarning: In merged column 'e_rmag' the 'format' attribute does not match (%6.3f != %5.2f).  Using %5.2f for merged output [astropy.table.operations]\n",
      "WARNING: MergeConflictWarning: In merged column 'e_rmag' the 'description' attribute does not match (rms uncertainty on rmag != Uncertainty in rmag).  Using Uncertainty in rmag for merged output [astropy.table.operations]\n",
      "WARNING: MergeConflictWarning: In merged column 'e_rmag' the 'description' attribute does not match (Uncertainty in rmag != rms uncertainty on rmag).  Using rms uncertainty on rmag for merged output [astropy.table.operations]\n",
      "WARNING: MergeConflictWarning: In merged column 'imag' the 'format' attribute does not match (%6.3f != %5.2f).  Using %5.2f for merged output [astropy.table.operations]\n",
      "WARNING: MergeConflictWarning: In merged column 'imag' the 'description' attribute does not match (SDSS i-band PSF magnitude != SDSS i band PSF magnitude {\\em\\fg{red3}(red values have a non-zero flag)}).  Using SDSS i band PSF magnitude {\\em\\fg{red3}(red values have a non-zero flag)} for merged output [astropy.table.operations]\n",
      "WARNING: MergeConflictWarning: In merged column 'imag' the 'description' attribute does not match (SDSS i band PSF magnitude {\\em\\fg{red3}(red values have a non-zero flag)} != SDSS i-band PSF magnitude).  Using SDSS i-band PSF magnitude for merged output [astropy.table.operations]\n",
      "WARNING: MergeConflictWarning: In merged column 'e_imag' the 'format' attribute does not match (%6.3f != %6.2f).  Using %6.2f for merged output [astropy.table.operations]\n",
      "WARNING: MergeConflictWarning: In merged column 'e_imag' the 'description' attribute does not match (rms uncertainty on imag != Uncertainty in imag).  Using Uncertainty in imag for merged output [astropy.table.operations]\n",
      "WARNING: MergeConflictWarning: In merged column 'e_imag' the 'format' attribute does not match (%6.2f != %5.2f).  Using %5.2f for merged output [astropy.table.operations]\n",
      "WARNING: MergeConflictWarning: In merged column 'e_imag' the 'description' attribute does not match (Uncertainty in imag != rms uncertainty on imag).  Using rms uncertainty on imag for merged output [astropy.table.operations]\n",
      "WARNING: MergeConflictWarning: In merged column 'zmag' the 'format' attribute does not match (%6.3f != %5.2f).  Using %5.2f for merged output [astropy.table.operations]\n",
      "WARNING: MergeConflictWarning: In merged column 'zmag' the 'description' attribute does not match (SDSS z-band PSF magnitude != SDSS z band PSF magnitude {\\em\\fg{red3}(red values have a non-zero flag)}).  Using SDSS z band PSF magnitude {\\em\\fg{red3}(red values have a non-zero flag)} for merged output [astropy.table.operations]\n",
      "WARNING: MergeConflictWarning: In merged column 'zmag' the 'description' attribute does not match (SDSS z band PSF magnitude {\\em\\fg{red3}(red values have a non-zero flag)} != SDSS z-band PSF magnitude).  Using SDSS z-band PSF magnitude for merged output [astropy.table.operations]\n",
      "WARNING: MergeConflictWarning: In merged column 'e_zmag' the 'format' attribute does not match (%6.3f != %5.2f).  Using %5.2f for merged output [astropy.table.operations]\n",
      "WARNING: MergeConflictWarning: In merged column 'e_zmag' the 'description' attribute does not match (rms uncertainty on zmag != Uncertainty in zmag).  Using Uncertainty in zmag for merged output [astropy.table.operations]\n",
      "WARNING: MergeConflictWarning: In merged column 'e_zmag' the 'description' attribute does not match (Uncertainty in zmag != rms uncertainty on zmag).  Using rms uncertainty on zmag for merged output [astropy.table.operations]\n",
      "WARNING: MergeConflictWarning: Cannot merge meta key u'width' types <type 'int'> and <type 'int'>, choosing width=6 [astropy.utils.metadata]\n",
      "WARNING: MergeConflictWarning: Cannot merge meta key u'precision' types <type 'unicode'> and <type 'unicode'>, choosing precision=u'1' [astropy.utils.metadata]\n",
      "WARNING: MergeConflictWarning: In merged column 'pm' the 'format' attribute does not match (%7.3f != %6.1f).  Using %6.1f for merged output [astropy.table.operations]\n",
      "WARNING: MergeConflictWarning: In merged column 'pm' the 'description' attribute does not match (USNO proper motion != SDSS proper motion (arcsec/century)).  Using SDSS proper motion (arcsec/century) for merged output [astropy.table.operations]\n",
      "WARNING: MergeConflictWarning: In merged column 'pm' the 'unit' attribute does not match (mas / yr != 0.01 / yr).  Using 0.01 / yr for merged output [astropy.table.operations]\n",
      "WARNING: MergeConflictWarning: In merged column 'pm' the 'format' attribute does not match (%6.1f != %5.2f).  Using %5.2f for merged output [astropy.table.operations]\n",
      "WARNING: MergeConflictWarning: In merged column 'pm' the 'description' attribute does not match (SDSS proper motion (arcsec/century) != SDSS proper motion).  Using SDSS proper motion for merged output [astropy.table.operations]\n",
      "WARNING: MergeConflictWarning: In merged column 'Teff' the 'description' attribute does not match (? Effective temperature [NULL integer written as an empty string] != ? autofit effective temperature (3) [NULL integer written as an empty string]).  Using ? autofit effective temperature (3) [NULL integer written as an empty string] for merged output [astropy.table.operations]\n",
      "WARNING: MergeConflictWarning: In merged column 'Teff' the 'description' attribute does not match (? autofit effective temperature (3) [NULL integer written as an empty string] != Effective temperature (1)).  Using Effective temperature (1) for merged output [astropy.table.operations]\n",
      "WARNING: MergeConflictWarning: In merged column 'e_Teff' the 'description' attribute does not match (? rms uncertainty on Teff [NULL integer written as an empty string] != ? Uncertainty in Teff (3) [NULL integer written as an empty string]).  Using ? Uncertainty in Teff (3) [NULL integer written as an empty string] for merged output [astropy.table.operations]\n",
      "WARNING: MergeConflictWarning: In merged column 'e_Teff' the 'description' attribute does not match (? Uncertainty in Teff (3) [NULL integer written as an empty string] != rms uncertainty on Teff).  Using rms uncertainty on Teff for merged output [astropy.table.operations]\n",
      "WARNING: MergeConflictWarning: In merged column 'logg' the 'description' attribute does not match (? Surface gravity != Surface gravity (1)).  Using Surface gravity (1) for merged output [astropy.table.operations]\n",
      "WARNING: MergeConflictWarning: In merged column 'e_logg' the 'description' attribute does not match (? rms uncertainty on logg (1) != rms uncertainty on logg).  Using rms uncertainty on logg for merged output [astropy.table.operations]\n",
      "WARNING: MergeConflictWarning: In merged column 'Teff_3D_' the 'description' attribute does not match (? Teff for pure DAs and DBs [NULL integer written as an empty string] != ? Teff for pure DAs and DBs (1) [NULL integer written as an empty string]).  Using ? Teff for pure DAs and DBs (1) [NULL integer written as an empty string] for merged output [astropy.table.operations]\n",
      "WARNING: MergeConflictWarning: Cannot merge meta key u'null' types <type 'float'> and <type 'float'>, choosing null=nan [astropy.utils.metadata]\n",
      "WARNING: MergeConflictWarning: In merged column 'logg_3D_' the 'description' attribute does not match (? Surface gravity for pure DAs and DBs (2) != ? Surface gravity (1)).  Using ? Surface gravity (1) for merged output [astropy.table.operations]\n",
      "WARNING: MergeConflictWarning: Cannot merge meta key u'precision' types <type 'unicode'> and <type 'unicode'>, choosing precision=u'3' [astropy.utils.metadata]\n",
      "WARNING: MergeConflictWarning: In merged column 'Mass' the 'format' attribute does not match (%8.5f != %6.3f).  Using %6.3f for merged output [astropy.table.operations]\n",
      "WARNING: MergeConflictWarning: In merged column 'Mass' the 'description' attribute does not match (? Calculated mass, corrected to 3D convection != [0.06/1.753]? Calculated mass (for clean DAs and DBs only)).  Using [0.06/1.753]? Calculated mass (for clean DAs and DBs only) for merged output [astropy.table.operations]\n",
      "WARNING: MergeConflictWarning: In merged column 'Mass' the 'description' attribute does not match ([0.06/1.753]? Calculated mass (for clean DAs and DBs only) != ? Calculated mass).  Using ? Calculated mass for merged output [astropy.table.operations]\n",
      "WARNING: MergeConflictWarning: In merged column 'e_Mass' the 'format' attribute does not match (%8.5f != %6.3f).  Using %6.3f for merged output [astropy.table.operations]\n",
      "WARNING: MergeConflictWarning: In merged column 'e_Mass' the 'description' attribute does not match (? rms uncertainty on Mass != [0/0.494]? Uncertainty in Mass).  Using [0/0.494]? Uncertainty in Mass for merged output [astropy.table.operations]\n",
      "WARNING: MergeConflictWarning: Cannot merge meta key u'width' types <type 'int'> and <type 'int'>, choosing width=7 [astropy.utils.metadata]\n",
      "WARNING: MergeConflictWarning: Cannot merge meta key u'precision' types <type 'unicode'> and <type 'unicode'>, choosing precision=u'4' [astropy.utils.metadata]\n",
      "WARNING: MergeConflictWarning: In merged column 'e_Mass' the 'format' attribute does not match (%6.3f != %7.4f).  Using %7.4f for merged output [astropy.table.operations]\n",
      "WARNING: MergeConflictWarning: In merged column 'e_Mass' the 'description' attribute does not match ([0/0.494]? Uncertainty in Mass != ? rms uncertainty on Mass).  Using ? rms uncertainty on Mass for merged output [astropy.table.operations]\n",
      "WARNING: MergeConflictWarning: Cannot merge meta key u'ucd' types <type 'unicode'> and <type 'unicode'>, choosing ucd=u'CLASS_OBJECT' [astropy.utils.metadata]\n",
      "WARNING: MergeConflictWarning: In merged column 'Type' the 'description' attribute does not match (Human spectral type assigned to this spectrum != Human classification (2)).  Using Human classification (2) for merged output [astropy.table.operations]\n",
      "WARNING: MergeConflictWarning: Cannot merge meta key u'description' types <type 'unicode'> and <type 'unicode'>, choosing description=u'Catalog of white dwarfs' [astropy.utils.metadata]\n",
      "WARNING: MergeConflictWarning: Cannot merge meta key u'name' types <type 'unicode'> and <type 'unicode'>, choosing name=u'J/ApJS/204/5/table2' [astropy.utils.metadata]\n",
      "WARNING: MergeConflictWarning: Cannot merge meta key u'ID' types <type 'unicode'> and <type 'unicode'>, choosing ID=u'J_ApJS_204_5_table2' [astropy.utils.metadata]\n",
      "WARNING: MergeConflictWarning: Cannot merge meta key u'description' types <type 'unicode'> and <type 'unicode'>, choosing description=u'New white dwarf stars' [astropy.utils.metadata]\n",
      "WARNING: MergeConflictWarning: Cannot merge meta key u'name' types <type 'unicode'> and <type 'unicode'>, choosing name=u'J/MNRAS/446/4078/table6' [astropy.utils.metadata]\n",
      "WARNING: MergeConflictWarning: Cannot merge meta key u'ID' types <type 'unicode'> and <type 'unicode'>, choosing ID=u'J_MNRAS_446_4078_table6' [astropy.utils.metadata]\n"
     ]
    }
   ],
   "source": [
    "catalogs = vstack([catalogs_1[0], catalogs_2[0], catalogs_3[0]])"
   ]
  },
  {
   "cell_type": "code",
   "execution_count": 7,
   "metadata": {
    "collapsed": false,
    "scrolled": true
   },
   "outputs": [
    {
     "data": {
      "text/html": [
       "&lt;Table masked=True length=36166&gt;\n",
       "<table id=\"table4350321168\" class=\"table-striped table-bordered table-condensed\">\n",
       "<thead><tr><th>_RAJ2000</th><th>_DEJ2000</th><th>PMF</th><th>SDSS</th><th>S_N</th><th>umag</th><th>e_umag</th><th>gmag</th><th>e_gmag</th><th>rmag</th><th>e_rmag</th><th>imag</th><th>e_imag</th><th>zmag</th><th>e_zmag</th><th>E_B-V_</th><th>pm</th><th>GLON</th><th>GLAT</th><th>SpType</th><th>Teff</th><th>e_Teff</th><th>logg</th><th>e_logg</th><th>Teff_3D_</th><th>e_Teff_3D_</th><th>logg_3D_</th><th>e_logg_3D_</th><th>Mass</th><th>e_Mass</th><th>Com</th><th>Sp</th><th>_RA.icrs</th><th>_DE.icrs</th><th>Plate</th><th>MJD</th><th>Fiber</th><th>RAJ2000</th><th>DEJ2000</th><th>SNg</th><th>f_umag</th><th>f_gmag</th><th>f_rmag</th><th>f_imag</th><th>f_zmag</th><th>f_pm</th><th>pmPA</th><th>Ag</th><th>GMT</th><th>Atype</th><th>log_g_</th><th>e_log_g_</th><th>chi2</th><th>m_Nsp</th><th>Nsp</th><th>q_Nsp</th><th>Type</th><th>WDcat</th><th>DR7</th><th>Sloan</th><th>Simbad</th><th>PMJ</th><th>_RA</th><th>_DE</th></tr></thead>\n",
       "<thead><tr><th>deg</th><th>deg</th><th></th><th></th><th></th><th>mag</th><th>mag</th><th>mag</th><th>mag</th><th>mag</th><th>mag</th><th>mag</th><th>mag</th><th>mag</th><th>mag</th><th>mag</th><th>0.01 / yr</th><th>deg</th><th>deg</th><th></th><th>K</th><th>K</th><th>[cm/s2]</th><th>[cm/s2]</th><th>K</th><th>K</th><th>[cm/s2]</th><th>[cm/s2]</th><th>Msun</th><th>Msun</th><th></th><th></th><th>deg</th><th>deg</th><th></th><th>d</th><th></th><th>deg</th><th>deg</th><th></th><th></th><th></th><th></th><th></th><th></th><th></th><th>deg</th><th>mag</th><th>&quot;datime&quot;</th><th></th><th>[cm/s2]</th><th>[cm/s2]</th><th></th><th></th><th></th><th></th><th></th><th></th><th></th><th></th><th></th><th></th><th>deg</th><th>deg</th></tr></thead>\n",
       "<thead><tr><th>float64</th><th>float64</th><th>str15</th><th>str19</th><th>int16</th><th>float32</th><th>float32</th><th>float32</th><th>float32</th><th>float32</th><th>float32</th><th>float32</th><th>float32</th><th>float32</th><th>float32</th><th>float32</th><th>float32</th><th>float32</th><th>float32</th><th>str9</th><th>int32</th><th>int32</th><th>float32</th><th>float32</th><th>int32</th><th>int32</th><th>float32</th><th>float32</th><th>float64</th><th>float64</th><th>str69</th><th>str2</th><th>float64</th><th>float64</th><th>int16</th><th>int32</th><th>int16</th><th>float64</th><th>float64</th><th>float32</th><th>int64</th><th>int64</th><th>int64</th><th>int64</th><th>int64</th><th>uint8</th><th>float32</th><th>float32</th><th>str20</th><th>str14</th><th>float32</th><th>float32</th><th>float32</th><th>str4</th><th>int16</th><th>str1</th><th>str19</th><th>int16</th><th>str3</th><th>str5</th><th>str6</th><th>str15</th><th>float64</th><th>float64</th></tr></thead>\n",
       "<tr><td>192.84360</td><td>-2.67170</td><td>0337-51997-0195</td><td>125122.06-023737.21</td><td>22</td><td>18.12</td><td>0.02</td><td>17.57</td><td>0.02</td><td>17.55</td><td>0.01</td><td>17.57</td><td>0.02</td><td>17.60</td><td>0.02</td><td>0.021</td><td>5.10</td><td>302.9</td><td>60.2</td><td>sdB</td><td>29108</td><td>463</td><td>5.409</td><td>0.087</td><td>--</td><td>--</td><td>--</td><td>--</td><td>--</td><td>--</td><td></td><td>Sp</td><td>192.8436</td><td>-2.6717</td><td>--</td><td>--</td><td>--</td><td>--</td><td>--</td><td>--</td><td>--</td><td>--</td><td>--</td><td>--</td><td>--</td><td>--</td><td>--</td><td>--</td><td>--</td><td>--</td><td>--</td><td>--</td><td>--</td><td>--</td><td>--</td><td>--</td><td>--</td><td>--</td><td>--</td><td>--</td><td>--</td><td>--</td><td>--</td><td>--</td></tr>\n",
       "<tr><td>232.78030</td><td>55.01910</td><td>0614-53437-0049</td><td>153112.62+550139.60</td><td>22</td><td>17.61</td><td>0.01</td><td>17.83</td><td>0.02</td><td>18.32</td><td>0.02</td><td>18.67</td><td>0.02</td><td>18.96</td><td>0.04</td><td>0.018</td><td>8.30</td><td>88.1</td><td>49.9</td><td>sdB</td><td>29876</td><td>374</td><td>5.292</td><td>0.080</td><td>--</td><td>--</td><td>--</td><td>--</td><td>--</td><td>--</td><td></td><td>Sp</td><td>232.7803</td><td>55.0191</td><td>--</td><td>--</td><td>--</td><td>--</td><td>--</td><td>--</td><td>--</td><td>--</td><td>--</td><td>--</td><td>--</td><td>--</td><td>--</td><td>--</td><td>--</td><td>--</td><td>--</td><td>--</td><td>--</td><td>--</td><td>--</td><td>--</td><td>--</td><td>--</td><td>--</td><td>--</td><td>--</td><td>--</td><td>--</td><td>--</td></tr>\n",
       "<tr><td>221.71480</td><td>58.15350</td><td>0790-52346-0634</td><td>144657.14+580920.12</td><td>46</td><td>15.84</td><td>0.01</td><td>15.67</td><td>0.01</td><td>15.67</td><td>0.02</td><td>15.70</td><td>0.02</td><td>15.76</td><td>0.02</td><td>0.010</td><td>3.90</td><td>97.9</td><td>53.0</td><td>sdB</td><td>30893</td><td>165</td><td>5.033</td><td>0.032</td><td>--</td><td>--</td><td>--</td><td>--</td><td>--</td><td>--</td><td></td><td>Sp</td><td>221.7148</td><td>58.1535</td><td>--</td><td>--</td><td>--</td><td>--</td><td>--</td><td>--</td><td>--</td><td>--</td><td>--</td><td>--</td><td>--</td><td>--</td><td>--</td><td>--</td><td>--</td><td>--</td><td>--</td><td>--</td><td>--</td><td>--</td><td>--</td><td>--</td><td>--</td><td>--</td><td>--</td><td>--</td><td>--</td><td>--</td><td>--</td><td>--</td></tr>\n",
       "<tr><td>117.37760</td><td>28.08670</td><td>1059-52618-0515</td><td>074915.66+280641.01</td><td>11</td><td>18.91</td><td>0.02</td><td>19.10</td><td>0.03</td><td>19.52</td><td>0.02</td><td>19.86</td><td>0.03</td><td>20.15</td><td>0.11</td><td>0.035</td><td>4.60</td><td>192.5</td><td>24.3</td><td>sdB</td><td>29404</td><td>704</td><td>5.450</td><td>0.142</td><td>--</td><td>--</td><td>--</td><td>--</td><td>--</td><td>--</td><td></td><td>Sp</td><td>117.3776</td><td>28.0867</td><td>--</td><td>--</td><td>--</td><td>--</td><td>--</td><td>--</td><td>--</td><td>--</td><td>--</td><td>--</td><td>--</td><td>--</td><td>--</td><td>--</td><td>--</td><td>--</td><td>--</td><td>--</td><td>--</td><td>--</td><td>--</td><td>--</td><td>--</td><td>--</td><td>--</td><td>--</td><td>--</td><td>--</td><td>--</td><td>--</td></tr>\n",
       "<tr><td>326.60840</td><td>-7.21670</td><td>1177-52824-0636</td><td>214627.88-071117.59</td><td>45</td><td>16.16</td><td>0.01</td><td>15.94</td><td>0.03</td><td>15.86</td><td>0.01</td><td>15.86</td><td>0.01</td><td>15.90</td><td>0.02</td><td>0.035</td><td>7.00</td><td>48.6</td><td>-41.9</td><td>sdB</td><td>30503</td><td>191</td><td>5.019</td><td>0.036</td><td>--</td><td>--</td><td>--</td><td>--</td><td>--</td><td>--</td><td></td><td>Sp</td><td>326.6084</td><td>-7.2167</td><td>--</td><td>--</td><td>--</td><td>--</td><td>--</td><td>--</td><td>--</td><td>--</td><td>--</td><td>--</td><td>--</td><td>--</td><td>--</td><td>--</td><td>--</td><td>--</td><td>--</td><td>--</td><td>--</td><td>--</td><td>--</td><td>--</td><td>--</td><td>--</td><td>--</td><td>--</td><td>--</td><td>--</td><td>--</td><td>--</td></tr>\n",
       "<tr><td>63.90770</td><td>25.61750</td><td>1254-52972-0163</td><td>041536.05+253857.11</td><td>41</td><td>16.14</td><td>0.01</td><td>16.27</td><td>0.01</td><td>16.46</td><td>0.01</td><td>16.65</td><td>0.01</td><td>16.83</td><td>0.02</td><td>0.483</td><td>6.10</td><td>170.4</td><td>-17.9</td><td>He-sdO</td><td>64329</td><td>1429</td><td>6.118</td><td>0.073</td><td>--</td><td>--</td><td>--</td><td>--</td><td>--</td><td>--</td><td></td><td>Sp</td><td>63.9077</td><td>25.6175</td><td>--</td><td>--</td><td>--</td><td>--</td><td>--</td><td>--</td><td>--</td><td>--</td><td>--</td><td>--</td><td>--</td><td>--</td><td>--</td><td>--</td><td>--</td><td>--</td><td>--</td><td>--</td><td>--</td><td>--</td><td>--</td><td>--</td><td>--</td><td>--</td><td>--</td><td>--</td><td>--</td><td>--</td><td>--</td><td>--</td></tr>\n",
       "<tr><td>251.22790</td><td>21.59420</td><td>1569-53168-0370</td><td>164453.35+213711.54</td><td>20</td><td>17.75</td><td>0.02</td><td>17.82</td><td>0.01</td><td>18.22</td><td>0.01</td><td>18.55</td><td>0.01</td><td>18.81</td><td>0.04</td><td>0.050</td><td>3.00</td><td>40.5</td><td>37.0</td><td>sdB</td><td>26349</td><td>889</td><td>5.114</td><td>0.104</td><td>--</td><td>--</td><td>--</td><td>--</td><td>--</td><td>--</td><td></td><td>Sp</td><td>251.2279</td><td>21.5942</td><td>--</td><td>--</td><td>--</td><td>--</td><td>--</td><td>--</td><td>--</td><td>--</td><td>--</td><td>--</td><td>--</td><td>--</td><td>--</td><td>--</td><td>--</td><td>--</td><td>--</td><td>--</td><td>--</td><td>--</td><td>--</td><td>--</td><td>--</td><td>--</td><td>--</td><td>--</td><td>--</td><td>--</td><td>--</td><td>--</td></tr>\n",
       "<tr><td>244.92500</td><td>24.15590</td><td>1574-53476-0225</td><td>161942.83+240715.70</td><td>46</td><td>16.79</td><td>0.02</td><td>16.42</td><td>0.02</td><td>16.46</td><td>0.02</td><td>16.48</td><td>0.01</td><td>16.57</td><td>0.02</td><td>0.067</td><td>11.90</td><td>41.5</td><td>43.3</td><td>sdB</td><td>27741</td><td>342</td><td>5.227</td><td>0.048</td><td>--</td><td>--</td><td>--</td><td>--</td><td>--</td><td>--</td><td></td><td>Sp</td><td>244.9250</td><td>24.1559</td><td>--</td><td>--</td><td>--</td><td>--</td><td>--</td><td>--</td><td>--</td><td>--</td><td>--</td><td>--</td><td>--</td><td>--</td><td>--</td><td>--</td><td>--</td><td>--</td><td>--</td><td>--</td><td>--</td><td>--</td><td>--</td><td>--</td><td>--</td><td>--</td><td>--</td><td>--</td><td>--</td><td>--</td><td>--</td><td>--</td></tr>\n",
       "<tr><td>242.94240</td><td>29.00110</td><td>1577-53495-0460</td><td>161132.90+290038.99</td><td>37</td><td>16.46</td><td>0.02</td><td>16.58</td><td>0.02</td><td>17.00</td><td>0.02</td><td>17.35</td><td>0.01</td><td>17.64</td><td>0.02</td><td>0.037</td><td>10.30</td><td>47.6</td><td>46.1</td><td>sdB</td><td>28344</td><td>511</td><td>6.000</td><td>0.500</td><td>--</td><td>--</td><td>--</td><td>--</td><td>--</td><td>--</td><td></td><td>Sp</td><td>242.9424</td><td>29.0011</td><td>--</td><td>--</td><td>--</td><td>--</td><td>--</td><td>--</td><td>--</td><td>--</td><td>--</td><td>--</td><td>--</td><td>--</td><td>--</td><td>--</td><td>--</td><td>--</td><td>--</td><td>--</td><td>--</td><td>--</td><td>--</td><td>--</td><td>--</td><td>--</td><td>--</td><td>--</td><td>--</td><td>--</td><td>--</td><td>--</td></tr>\n",
       "<tr><td>...</td><td>...</td><td>...</td><td>...</td><td>...</td><td>...</td><td>...</td><td>...</td><td>...</td><td>...</td><td>...</td><td>...</td><td>...</td><td>...</td><td>...</td><td>...</td><td>...</td><td>...</td><td>...</td><td>...</td><td>...</td><td>...</td><td>...</td><td>...</td><td>...</td><td>...</td><td>...</td><td>...</td><td>...</td><td>...</td><td>...</td><td>...</td><td>...</td><td>...</td><td>...</td><td>...</td><td>...</td><td>...</td><td>...</td><td>...</td><td>...</td><td>...</td><td>...</td><td>...</td><td>...</td><td>...</td><td>...</td><td>...</td><td>...</td><td>...</td><td>...</td><td>...</td><td>...</td><td>...</td><td>...</td><td>...</td><td>...</td><td>...</td><td>...</td><td>...</td><td>...</td><td>...</td><td>...</td><td>...</td></tr>\n",
       "<tr><td>359.32596</td><td>-1.97196</td><td>--</td><td>235718.23-015819.06</td><td>6</td><td>21.44</td><td>0.11</td><td>20.82</td><td>0.04</td><td>20.68</td><td>0.04</td><td>20.67</td><td>0.06</td><td>20.89</td><td>0.19</td><td>--</td><td>1.60</td><td>--</td><td>--</td><td>--</td><td>8769</td><td>122</td><td>8.158</td><td>0.173</td><td>8767</td><td>122</td><td>7.900</td><td>0.170</td><td>0.544</td><td>0.0800</td><td></td><td>--</td><td>--</td><td>--</td><td>--</td><td>--</td><td>--</td><td>--</td><td>--</td><td>--</td><td>--</td><td>--</td><td>--</td><td>--</td><td>--</td><td>--</td><td>--</td><td>--</td><td>--</td><td>--</td><td>--</td><td>--</td><td>--</td><td>--</td><td>--</td><td>--</td><td>DA</td><td>--</td><td>--</td><td>--</td><td>--</td><td>4355-55533-0932</td><td>359.32596</td><td>-1.971961</td></tr>\n",
       "<tr><td>359.36387</td><td>4.28445</td><td>--</td><td>235727.33+041704.03</td><td>5</td><td>21.21</td><td>0.12</td><td>20.56</td><td>0.03</td><td>20.63</td><td>0.04</td><td>20.48</td><td>0.05</td><td>19.69</td><td>0.09</td><td>--</td><td>0.00</td><td>--</td><td>--</td><td>--</td><td>15098</td><td>660</td><td>7.979</td><td>0.010</td><td>15098</td><td>660</td><td>7.980</td><td>0.010</td><td>0.601</td><td>0.0040</td><td></td><td>--</td><td>--</td><td>--</td><td>--</td><td>--</td><td>--</td><td>--</td><td>--</td><td>--</td><td>--</td><td>--</td><td>--</td><td>--</td><td>--</td><td>--</td><td>--</td><td>--</td><td>--</td><td>--</td><td>--</td><td>--</td><td>--</td><td>--</td><td>--</td><td>--</td><td>DA</td><td>--</td><td>--</td><td>--</td><td>--</td><td>4405-55854-0086</td><td>359.36387</td><td>4.284453</td></tr>\n",
       "<tr><td>359.40571</td><td>-3.40244</td><td>--</td><td>235737.37-032408.78</td><td>17</td><td>19.51</td><td>0.05</td><td>19.19</td><td>0.02</td><td>19.21</td><td>0.02</td><td>19.37</td><td>0.02</td><td>19.54</td><td>0.05</td><td>--</td><td>4.75</td><td>--</td><td>--</td><td>--</td><td>8387</td><td>36</td><td>8.000</td><td>0.000</td><td>--</td><td>--</td><td>--</td><td>--</td><td>--</td><td>--</td><td>-log_Ca= 9.616 0.029</td><td>--</td><td>--</td><td>--</td><td>--</td><td>--</td><td>--</td><td>--</td><td>--</td><td>--</td><td>--</td><td>--</td><td>--</td><td>--</td><td>--</td><td>--</td><td>--</td><td>--</td><td>--</td><td>--</td><td>--</td><td>--</td><td>--</td><td>--</td><td>--</td><td>--</td><td>DZ</td><td>--</td><td>--</td><td>--</td><td>--</td><td>4355-55533-0012</td><td>359.40571</td><td>-3.402439</td></tr>\n",
       "<tr><td>359.41258</td><td>3.58320</td><td>--</td><td>235739.02+033459.52</td><td>2</td><td>22.20</td><td>0.27</td><td>21.43</td><td>0.05</td><td>21.43</td><td>0.06</td><td>21.55</td><td>0.11</td><td>22.02</td><td>0.55</td><td>--</td><td>0.00</td><td>--</td><td>--</td><td>--</td><td>9377</td><td>345</td><td>8.908</td><td>0.304</td><td>9339</td><td>345</td><td>8.610</td><td>0.300</td><td>0.972</td><td>0.1690</td><td></td><td>--</td><td>--</td><td>--</td><td>--</td><td>--</td><td>--</td><td>--</td><td>--</td><td>--</td><td>--</td><td>--</td><td>--</td><td>--</td><td>--</td><td>--</td><td>--</td><td>--</td><td>--</td><td>--</td><td>--</td><td>--</td><td>--</td><td>--</td><td>--</td><td>--</td><td>DA</td><td>--</td><td>--</td><td>--</td><td>--</td><td>4277-55506-0317</td><td>359.41258</td><td>3.583200</td></tr>\n",
       "<tr><td>359.46600</td><td>8.53244</td><td>--</td><td>235751.84+083156.78</td><td>21</td><td>18.95</td><td>0.02</td><td>18.74</td><td>0.01</td><td>18.98</td><td>0.01</td><td>19.22</td><td>0.02</td><td>19.48</td><td>0.08</td><td>--</td><td>3.49</td><td>--</td><td>--</td><td>--</td><td>18895</td><td>200</td><td>7.954</td><td>0.004</td><td>18895</td><td>200</td><td>7.950</td><td>0.000</td><td>0.595</td><td>0.0000</td><td></td><td>--</td><td>--</td><td>--</td><td>--</td><td>--</td><td>--</td><td>--</td><td>--</td><td>--</td><td>--</td><td>--</td><td>--</td><td>--</td><td>--</td><td>--</td><td>--</td><td>--</td><td>--</td><td>--</td><td>--</td><td>--</td><td>--</td><td>--</td><td>--</td><td>--</td><td>DA</td><td>--</td><td>--</td><td>--</td><td>--</td><td>4535-55860-0545</td><td>359.46600</td><td>8.532439</td></tr>\n",
       "<tr><td>359.47137</td><td>28.76190</td><td>--</td><td>235753.13+284542.83</td><td>10</td><td>19.61</td><td>0.03</td><td>19.87</td><td>0.01</td><td>20.12</td><td>0.02</td><td>19.82</td><td>0.02</td><td>19.36</td><td>0.05</td><td>--</td><td>1.41</td><td>--</td><td>--</td><td>--</td><td>36903</td><td>1000</td><td>7.849</td><td>0.187</td><td>--</td><td>--</td><td>--</td><td>--</td><td>0.550</td><td>0.0910</td><td>known</td><td>--</td><td>--</td><td>--</td><td>--</td><td>--</td><td>--</td><td>--</td><td>--</td><td>--</td><td>--</td><td>--</td><td>--</td><td>--</td><td>--</td><td>--</td><td>--</td><td>--</td><td>--</td><td>--</td><td>--</td><td>--</td><td>--</td><td>--</td><td>--</td><td>--</td><td>DB+M</td><td>--</td><td>--</td><td>--</td><td>--</td><td>2824-54452-0364</td><td>359.47137</td><td>28.761897</td></tr>\n",
       "<tr><td>359.54371</td><td>4.75496</td><td>--</td><td>235810.49+044517.86</td><td>3</td><td>21.81</td><td>0.18</td><td>21.50</td><td>0.05</td><td>21.35</td><td>0.07</td><td>21.53</td><td>0.11</td><td>20.94</td><td>0.25</td><td>--</td><td>0.00</td><td>--</td><td>--</td><td>--</td><td>8134</td><td>283</td><td>8.000</td><td>0.000</td><td>--</td><td>--</td><td>--</td><td>--</td><td>--</td><td>--</td><td>-log_Ca= 8.736 0.246</td><td>--</td><td>--</td><td>--</td><td>--</td><td>--</td><td>--</td><td>--</td><td>--</td><td>--</td><td>--</td><td>--</td><td>--</td><td>--</td><td>--</td><td>--</td><td>--</td><td>--</td><td>--</td><td>--</td><td>--</td><td>--</td><td>--</td><td>--</td><td>--</td><td>--</td><td>DZ</td><td>--</td><td>--</td><td>--</td><td>--</td><td>4277-55506-0748</td><td>359.54371</td><td>4.754961</td></tr>\n",
       "<tr><td>359.82929</td><td>6.35531</td><td>--</td><td>235919.03+062119.12</td><td>20</td><td>19.05</td><td>0.02</td><td>18.88</td><td>0.01</td><td>18.90</td><td>0.01</td><td>19.06</td><td>0.01</td><td>19.13</td><td>0.04</td><td>--</td><td>3.16</td><td>--</td><td>--</td><td>--</td><td>7300</td><td>1000</td><td>6.500</td><td>0.500</td><td>--</td><td>--</td><td>--</td><td>--</td><td>--</td><td>--</td><td></td><td>--</td><td>--</td><td>--</td><td>--</td><td>--</td><td>--</td><td>--</td><td>--</td><td>--</td><td>--</td><td>--</td><td>--</td><td>--</td><td>--</td><td>--</td><td>--</td><td>--</td><td>--</td><td>--</td><td>--</td><td>--</td><td>--</td><td>--</td><td>--</td><td>--</td><td>DC</td><td>--</td><td>--</td><td>--</td><td>--</td><td>4415-55831-0544</td><td>359.82929</td><td>6.355311</td></tr>\n",
       "<tr><td>359.85896</td><td>3.79960</td><td>--</td><td>235926.15+034758.56</td><td>10</td><td>20.54</td><td>0.07</td><td>20.16</td><td>0.03</td><td>19.94</td><td>0.02</td><td>19.91</td><td>0.03</td><td>20.22</td><td>0.15</td><td>--</td><td>0.00</td><td>--</td><td>--</td><td>--</td><td>7537</td><td>62</td><td>8.000</td><td>0.000</td><td>--</td><td>--</td><td>--</td><td>--</td><td>--</td><td>--</td><td>-log_Ca= 9.376 0.060</td><td>--</td><td>--</td><td>--</td><td>--</td><td>--</td><td>--</td><td>--</td><td>--</td><td>--</td><td>--</td><td>--</td><td>--</td><td>--</td><td>--</td><td>--</td><td>--</td><td>--</td><td>--</td><td>--</td><td>--</td><td>--</td><td>--</td><td>--</td><td>--</td><td>--</td><td>DZ</td><td>--</td><td>--</td><td>--</td><td>--</td><td>4277-55506-0860</td><td>359.85896</td><td>3.799600</td></tr>\n",
       "<tr><td>359.90554</td><td>2.73250</td><td>--</td><td>235937.33+024357.00</td><td>4</td><td>21.45</td><td>0.13</td><td>21.07</td><td>0.04</td><td>21.04</td><td>0.05</td><td>21.05</td><td>0.06</td><td>21.53</td><td>0.41</td><td>--</td><td>4.39</td><td>--</td><td>--</td><td>--</td><td>11269</td><td>275</td><td>8.000</td><td>0.000</td><td>--</td><td>--</td><td>--</td><td>--</td><td>--</td><td>--</td><td>-log_Ca= 7.412 0.208</td><td>--</td><td>--</td><td>--</td><td>--</td><td>--</td><td>--</td><td>--</td><td>--</td><td>--</td><td>--</td><td>--</td><td>--</td><td>--</td><td>--</td><td>--</td><td>--</td><td>--</td><td>--</td><td>--</td><td>--</td><td>--</td><td>--</td><td>--</td><td>--</td><td>--</td><td>DZ</td><td>--</td><td>--</td><td>--</td><td>--</td><td>4277-55506-0162</td><td>359.90554</td><td>2.732500</td></tr>\n",
       "</table>"
      ],
      "text/plain": [
       "<Table masked=True length=36166>\n",
       " _RAJ2000  _DEJ2000       PMF       ...       PMJ          _RA       _DE    \n",
       "   deg       deg                    ...                    deg       deg    \n",
       " float64   float64       str15      ...      str15       float64   float64  \n",
       "--------- --------- --------------- ... --------------- --------- ----------\n",
       "192.84360  -2.67170 0337-51997-0195 ...              --        --         --\n",
       "232.78030  55.01910 0614-53437-0049 ...              --        --         --\n",
       "221.71480  58.15350 0790-52346-0634 ...              --        --         --\n",
       "117.37760  28.08670 1059-52618-0515 ...              --        --         --\n",
       "326.60840  -7.21670 1177-52824-0636 ...              --        --         --\n",
       " 63.90770  25.61750 1254-52972-0163 ...              --        --         --\n",
       "251.22790  21.59420 1569-53168-0370 ...              --        --         --\n",
       "244.92500  24.15590 1574-53476-0225 ...              --        --         --\n",
       "242.94240  29.00110 1577-53495-0460 ...              --        --         --\n",
       "      ...       ...             ... ...             ...       ...        ...\n",
       "359.32596  -1.97196              -- ... 4355-55533-0932 359.32596  -1.971961\n",
       "359.36387   4.28445              -- ... 4405-55854-0086 359.36387   4.284453\n",
       "359.40571  -3.40244              -- ... 4355-55533-0012 359.40571  -3.402439\n",
       "359.41258   3.58320              -- ... 4277-55506-0317 359.41258   3.583200\n",
       "359.46600   8.53244              -- ... 4535-55860-0545 359.46600   8.532439\n",
       "359.47137  28.76190              -- ... 2824-54452-0364 359.47137  28.761897\n",
       "359.54371   4.75496              -- ... 4277-55506-0748 359.54371   4.754961\n",
       "359.82929   6.35531              -- ... 4415-55831-0544 359.82929   6.355311\n",
       "359.85896   3.79960              -- ... 4277-55506-0860 359.85896   3.799600\n",
       "359.90554   2.73250              -- ... 4277-55506-0162 359.90554   2.732500"
      ]
     },
     "execution_count": 7,
     "metadata": {},
     "output_type": "execute_result"
    }
   ],
   "source": [
    "catalogs"
   ]
  },
  {
   "cell_type": "code",
   "execution_count": 8,
   "metadata": {
    "collapsed": false
   },
   "outputs": [],
   "source": [
    "#This is a way to add coordinates if we need to. I don't think we need to right now.\n",
    "#catalogs['Coordinates'] = coords.SkyCoord(catalogs['_RAJ2000'], catalogs['_DEJ2000'], frame='icrs')"
   ]
  },
  {
   "cell_type": "code",
   "execution_count": 9,
   "metadata": {
    "collapsed": false
   },
   "outputs": [],
   "source": [
    "#Here we do clean-up trying to merge those columns which were not properly merged\n",
    "#because they were named different things in different catalogs. These include\n",
    "#SDSS identifiers, a weird underscore for a log(g) parameter, different ways of\n",
    "#specifying spectral type, and different ways of calibrating signal to noise.\n",
    "\n",
    "PMF = catalogs['PMF']\n",
    "\n",
    "for ind,obj in enumerate(PMF):\n",
    "    if type(obj) != np.ma.core.MaskedConstant:\n",
    "        split_PMF = obj.split('-')\n",
    "        catalogs['Plate'][ind] = split_PMF[0]\n",
    "        catalogs['MJD'][ind] = split_PMF[1]\n",
    "        catalogs['Fiber'][ind] = split_PMF[2]\n",
    "        \n",
    "PMJ = catalogs['PMJ']\n",
    "\n",
    "for ind,obj in enumerate(PMJ):\n",
    "    if type(obj) != np.ma.core.MaskedConstant:\n",
    "        split_PMJ = obj.split('-')\n",
    "        catalogs['Plate'][ind] = split_PMJ[0]\n",
    "        catalogs['MJD'][ind] = split_PMJ[1]\n",
    "        catalogs['Fiber'][ind] = split_PMJ[2]\n",
    "\n",
    "log_g_ah = catalogs['log_g_']\n",
    "\n",
    "for ind,obj in enumerate(log_g_ah):\n",
    "    if type(catalogs['logg'][ind]) == np.ma.core.MaskedConstant:\n",
    "        if type(obj) != np.ma.core.MaskedConstant:\n",
    "            catalogs['logg'][ind] = obj\n",
    "            catalogs['e_logg'][ind] = catalogs['e_log_g_'][ind] \n",
    "\n",
    "Types = catalogs['SpType']\n",
    "\n",
    "for ind,obj in enumerate(Types):\n",
    "    if type(catalogs['Type'][ind]) == np.ma.core.MaskedConstant:\n",
    "        if type(obj) != np.ma.core.MaskedConstant:\n",
    "            catalogs['Type'][ind] = obj\n",
    "            \n",
    "SN = catalogs['SNg']\n",
    "\n",
    "for ind,obj in enumerate(SN):\n",
    "    if type(catalogs['S_N'][ind]) == np.ma.core.MaskedConstant:\n",
    "        if type(obj) != np.ma.core.MaskedConstant:\n",
    "            catalogs['S_N'][ind] = obj"
   ]
  },
  {
   "cell_type": "markdown",
   "metadata": {},
   "source": [
    "### Let's select a quality sample of WD spectra"
   ]
  },
  {
   "cell_type": "code",
   "execution_count": 10,
   "metadata": {
    "collapsed": false
   },
   "outputs": [
    {
     "name": "stdout",
     "output_type": "stream",
     "text": [
      "('We start with', 21539, 'WDs')\n",
      "('We removed', 0, 'systems with NaNs')\n",
      "('Number with determined log g', 21505)\n",
      "('Number with S/N > 10', 8746)\n",
      "('Number with log g error less than 0.2', 8664)\n",
      "('Median T_eff error:', 161.0)\n",
      "('Median log g error:', 0.05299999937415123)\n"
     ]
    }
   ],
   "source": [
    "WD = catalogs[catalogs['Type'] == 'DA']\n",
    "\n",
    "print(\"We start with\", len(WD), \"WDs\")\n",
    "\n",
    "# First, we want to remove systems with NaN's - only found in log g\n",
    "good_WD = WD[np.where(~np.isnan(WD['logg']))]\n",
    "print(\"We removed\", len(WD[np.isnan(WD['logg'])]), \"systems with NaNs\")\n",
    "\n",
    "# Now, we want to remove systems in which the log g was assumed. These all have e_logg=0.0\n",
    "good_WD = good_WD[good_WD['e_logg'] != 0.0]\n",
    "print(\"Number with determined log g\",len(good_WD))\n",
    "\n",
    "# Next, we only want objects with a S/N above 10\n",
    "good_WD = good_WD[good_WD['S_N']>10]\n",
    "print(\"Number with S/N > 10\",len(good_WD))\n",
    "\n",
    "# Next, we want objects with log g uncertainties smaller than, say, 0.2\n",
    "good_WD = good_WD[good_WD['e_logg']<0.2]\n",
    "print(\"Number with log g error less than 0.2\",len(good_WD))\n",
    "\n",
    "# # Let's do the same with T_eff uncertainties - limit to 15% of T_eff\n",
    "# good_WD = good_WD[good_WD['e_Teff']<0.15*good_WD['Teff']]\n",
    "# print(\"Number with Teff uncertainties less than 15%\",len(good_WD))\n",
    "\n",
    "# Print the median Teff error\n",
    "print(\"Median T_eff error:\", np.median(good_WD['e_Teff']))\n",
    "\n",
    "# Print the median log g error\n",
    "print(\"Median log g error:\", np.median(good_WD['e_logg']))"
   ]
  },
  {
   "cell_type": "code",
   "execution_count": 37,
   "metadata": {
    "collapsed": false
   },
   "outputs": [],
   "source": [
    "def download_data(cat):\n",
    "    directory = '../data/'\n",
    "    cat['file'] = MaskedColumn(length=len(cat),dtype='S32')\n",
    "    for ind,plate in enumerate(cat['Plate']):\n",
    "        try:\n",
    "            spec = SDSS.get_spectra_async(plate=plate, mjd=cat['MJD'][ind], fiberID=WD['Fiber'][ind])\n",
    "            url_of_interest = str(spec[0]).split()[4]\n",
    "            filename = directory+url_of_interest.split('/')[-1]       \n",
    "        except:\n",
    "            print \"No spectra found in database:\", plate, cat['MJD'][ind], cat['Fiber'][ind]\n",
    "            pass\n",
    "        if os.path.exists(filename): \n",
    "            cat['file'][ind] = filename\n",
    "            continue\n",
    "        try:\n",
    "            spec = SDSS.get_spectra(plate=plate, mjd=cat['MJD'][ind], fiberID=cat['Fiber'][ind])\n",
    "            spec[0].writeto(filename)\n",
    "            cat['file'][ind] = filename\n",
    "        except:\n",
    "            print \"Could not download spectra:\", plate, cat['MJD'][ind], cat['Fiber'][ind]\n",
    "            pass  "
   ]
  },
  {
   "cell_type": "code",
   "execution_count": null,
   "metadata": {
    "collapsed": false
   },
   "outputs": [
    {
     "name": "stderr",
     "output_type": "stream",
     "text": [
      "WARNING: NoResultsWarning: Query returned no results. [astroquery.sdss.core]\n"
     ]
    },
    {
     "name": "stdout",
     "output_type": "stream",
     "text": [
      "No spectra found in database: 3766 55213 262\n",
      "Downloading http://data.sdss3.org/sas/dr12/boss/spectro/redux/v5_7_0/spectra/4394/spec-4394-55924-0504.fits [Done]\n",
      "Downloading http://data.sdss3.org/sas/dr12/boss/spectro/redux/v5_7_0/spectra/4410/spec-4410-56187-0154.fits [Done]\n",
      "Downloading http://data.sdss3.org/sas/dr12/boss/spectro/redux/v5_7_0/spectra/4720/spec-4720-55691-0422.fits [Done]\n",
      "Downloading http://data.sdss3.org/sas/dr12/boss/spectro/redux/v5_7_0/spectra/4742/spec-4742-55660-0098.fits [Done]\n",
      "Downloading http://data.sdss3.org/sas/dr12/boss/spectro/redux/v5_7_0/spectra/5042/spec-5042-55856-0164.fits [Done]\n",
      "Downloading http://data.sdss3.org/sas/dr12/boss/spectro/redux/v5_7_0/spectra/5048/spec-5048-56218-0670.fits [Done]\n",
      "Downloading http://data.sdss3.org/sas/dr12/boss/spectro/redux/v5_7_0/spectra/5057/spec-5057-56209-0258.fits [Done]\n",
      "Downloading http://data.sdss3.org/sas/dr12/boss/spectro/redux/v5_7_0/spectra/5058/spec-5058-56208-0140.fits [Done]\n",
      "Downloading http://data.sdss3.org/sas/dr12/boss/spectro/redux/v5_7_0/spectra/5069/spec-5069-56211-0108.fits [Done]\n",
      "Downloading http://data.sdss3.org/sas/dr12/boss/spectro/redux/v5_7_0/spectra/5118/spec-5118-55830-0642.fits [Done]\n",
      "Downloading http://data.sdss3.org/sas/dr12/boss/spectro/redux/v5_7_0/spectra/5137/spec-5137-55833-0768.fits [Done]\n",
      "Downloading http://data.sdss3.org/sas/dr12/boss/spectro/redux/v5_7_0/spectra/5295/spec-5295-55978-0340.fits [Done]\n",
      "Downloading http://data.sdss3.org/sas/dr12/boss/spectro/redux/v5_7_0/spectra/5318/spec-5318-55983-0514.fits [Done]\n",
      "No spectra found in database: 5369 56272 988\n",
      "Downloading http://data.sdss3.org/sas/dr12/boss/spectro/redux/v5_7_0/spectra/5481/spec-5481-55983-0697.fits [Done]\n",
      "Downloading http://data.sdss3.org/sas/dr12/boss/spectro/redux/v5_7_0/spectra/5486/spec-5486-56030-0034.fits [Done]\n",
      "Downloading http://data.sdss3.org/sas/dr12/boss/spectro/redux/v5_7_0/spectra/5710/spec-5710-56658-0628.fits [Done]\n",
      "Downloading http://data.sdss3.org/sas/dr12/boss/spectro/redux/v5_7_0/spectra/5713/spec-5713-56686-0018.fits [Done]\n",
      "Downloading http://data.sdss3.org/sas/dr12/boss/spectro/redux/v5_7_0/spectra/5731/spec-5731-56363-0928.fits [Done]\n",
      "Downloading http://data.sdss3.org/sas/dr12/boss/spectro/redux/v5_7_0/spectra/5733/spec-5733-56575-0194.fits [Done]\n",
      "Downloading http://data.sdss3.org/sas/dr12/boss/spectro/redux/v5_7_0/spectra/5766/spec-5766-56248-0066.fits [Done]\n",
      "Downloading http://data.sdss3.org/sas/dr12/boss/spectro/redux/v5_7_0/spectra/5779/spec-5779-56338-0214.fits [Done]\n",
      "Downloading http://data.sdss3.org/sas/dr12/boss/spectro/redux/v5_7_0/spectra/5786/spec-5786-56251-0518.fits [Done]\n",
      "No spectra found in database: 5805 56336 478\n",
      "Downloading http://data.sdss3.org/sas/dr12/boss/spectro/redux/v5_7_0/spectra/5869/spec-5869-56064-0329.fits [Done]\n",
      "Downloading http://data.sdss3.org/sas/dr12/boss/spectro/redux/v5_7_0/spectra/5888/spec-5888-56041-0688.fits [Done]\n",
      "Downloading http://data.sdss3.org/sas/dr12/boss/spectro/redux/v5_7_0/spectra/5899/spec-5899-56038-0121.fits [Done]\n",
      "Downloading http://data.sdss3.org/sas/dr12/boss/spectro/redux/v5_7_0/spectra/5904/spec-5904-56046-0858.fits [Done]\n",
      "Downloading http://data.sdss3.org/sas/dr12/boss/spectro/redux/v5_7_0/spectra/5945/spec-5945-56213-0024.fits [Done]\n",
      "Downloading http://data.sdss3.org/sas/dr12/boss/spectro/redux/v5_7_0/spectra/5945/spec-5945-56213-0557.fits [Done]\n",
      "No spectra found in database: 5955 56456 516\n",
      "Downloading http://data.sdss3.org/sas/dr12/boss/spectro/redux/v5_7_0/spectra/5972/spec-5972-56334-0505.fits [Done]\n",
      "Downloading http://data.sdss3.org/sas/dr12/boss/spectro/redux/v5_7_0/spectra/6009/spec-6009-56313-0618.fits [Done]\n",
      "Downloading http://data.sdss3.org/sas/dr12/boss/spectro/redux/v5_7_0/spectra/6052/spec-6052-56092-0840.fits [Done]\n",
      "No spectra found in database: 6111 56270 380\n",
      "Downloading http://data.sdss3.org/sas/dr12/boss/spectro/redux/v5_7_0/spectra/6111/spec-6111-56270-0586.fits [Done]\n",
      "Downloading http://data.sdss3.org/sas/dr12/boss/spectro/redux/v5_7_0/spectra/6112/spec-6112-56191-0351.fits [Done]\n",
      "Downloading http://data.sdss3.org/sas/dr12/boss/spectro/redux/v5_7_0/spectra/6112/spec-6112-56191-0444.fits [Done]\n",
      "Downloading http://data.sdss3.org/sas/dr12/boss/spectro/redux/v5_7_0/spectra/6112/spec-6112-56191-0532.fits [Done]\n",
      "Downloading http://data.sdss3.org/sas/dr12/boss/spectro/redux/v5_7_0/spectra/6112/spec-6112-56191-0870.fits [Done]\n",
      "Downloading http://data.sdss3.org/sas/dr12/boss/spectro/redux/v5_7_0/spectra/6116/spec-6116-56245-0526.fits [Done]\n",
      "Downloading http://data.sdss3.org/sas/dr12/boss/spectro/redux/v5_7_0/spectra/6118/spec-6118-56189-0754.fits [Done]\n",
      "Downloading http://data.sdss3.org/sas/dr12/boss/spectro/redux/v5_7_0/spectra/6118/spec-6118-56189-0916.fits [Done]\n",
      "No spectra found in database: 6122 56246 666\n",
      "Downloading http://data.sdss3.org/sas/dr12/boss/spectro/redux/v5_7_0/spectra/6122/spec-6122-56246-0892.fits [Done]\n",
      "Downloading http://data.sdss3.org/sas/dr12/boss/spectro/redux/v5_7_0/spectra/6127/spec-6127-56274-0298.fits [Done]\n",
      "Downloading http://data.sdss3.org/sas/dr12/boss/spectro/redux/v5_7_0/spectra/6130/spec-6130-56214-0182.fits [Done]\n",
      "Downloading http://data.sdss3.org/sas/dr12/boss/spectro/redux/v5_7_0/spectra/6136/spec-6136-56206-0198.fits [Done]\n",
      "Downloading http://data.sdss3.org/sas/dr12/boss/spectro/redux/v5_7_0/spectra/6136/spec-6136-56206-0208.fits [Done]\n",
      "Downloading http://data.sdss3.org/sas/dr12/boss/spectro/redux/v5_7_0/spectra/6136/spec-6136-56206-0345.fits [Done]\n",
      "Downloading http://data.sdss3.org/sas/dr12/boss/spectro/redux/v5_7_0/spectra/6136/spec-6136-56206-0504.fits [Done]\n",
      "Downloading http://data.sdss3.org/sas/dr12/boss/spectro/redux/v5_7_0/spectra/6137/spec-6137-56270-0163.fits [Done]\n",
      "No spectra found in database: 6137 56270 599\n",
      "Downloading http://data.sdss3.org/sas/dr12/boss/spectro/redux/v5_7_0/spectra/6138/spec-6138-56236-0212.fits [Done]\n",
      "Downloading http://data.sdss3.org/sas/dr12/boss/spectro/redux/v5_7_0/spectra/6138/spec-6138-56598-0496.fits [Done]\n",
      "Downloading http://data.sdss3.org/sas/dr12/boss/spectro/redux/v5_7_0/spectra/6138/spec-6138-56598-0608.fits [Done]\n",
      "Downloading http://data.sdss3.org/sas/dr12/boss/spectro/redux/v5_7_0/spectra/6138/spec-6138-56598-0734.fits [Done]\n"
     ]
    }
   ],
   "source": [
    "download_data(good_WD)"
   ]
  },
  {
   "cell_type": "code",
   "execution_count": null,
   "metadata": {
    "collapsed": false
   },
   "outputs": [],
   "source": [
    "def get_filename(plate,mjd,fiber,wd):\n",
    "    try:\n",
    "        plwd = wd[wd['plate'] == plate]\n",
    "        if len(plwd) == 0: raise Exception()\n",
    "    except Exception:\n",
    "        print 'No plate number'\n",
    "        return ''\n",
    "    try:\n",
    "        mjwd = plwd[plwd['mjd'] == mjd]\n",
    "        if len(mjwd) == 0: raise Exception()\n",
    "    except Exception:\n",
    "        print 'No mjd date'\n",
    "        return ''\n",
    "    try:\n",
    "        fbwd = mjwd[mjwd['fiber'] == fiber]\n",
    "        if len(fbwd) == 0: raise Exception()\n",
    "    except Exception:\n",
    "        print 'No fiber number'\n",
    "        return ''\n",
    "    name = fbwd['file']\n",
    "    return str(name[0])"
   ]
  },
  {
   "cell_type": "code",
   "execution_count": null,
   "metadata": {
    "collapsed": false
   },
   "outputs": [],
   "source": [
    "def plot_spec(plate,mjd,fiber,wd):\n",
    "    fits_spec = fits.open(get_filename(plate,mjd,fiber,wd))\n",
    "    wavelength = 10**fits_spec[1].data['loglam']\n",
    "    flux = fits_spec[1].data['flux']\n",
    "    fig, ax = plt.subplots(1, 2, figsize=(12,4))\n",
    "    ax[0].plot(wavelength, flux)\n",
    "    ax[1].plot(wavelength, flux)\n",
    "    ax[1].set_xlim(3800, 4400)\n",
    "    plt.show()"
   ]
  },
  {
   "cell_type": "code",
   "execution_count": null,
   "metadata": {
    "collapsed": false
   },
   "outputs": [],
   "source": [
    "plot_spec(337,51997,195,WD)"
   ]
  },
  {
   "cell_type": "code",
   "execution_count": null,
   "metadata": {
    "collapsed": false
   },
   "outputs": [],
   "source": [
    "plt.hist(WD['S_N'])\n",
    "plt.xlabel('Signal to Noise')"
   ]
  },
  {
   "cell_type": "markdown",
   "metadata": {},
   "source": [
    "### Create training, test, and validation sets"
   ]
  },
  {
   "cell_type": "code",
   "execution_count": null,
   "metadata": {
    "collapsed": false
   },
   "outputs": [],
   "source": [
    "# Randomly shuffle indices\n",
    "indices = np.arange(len(good_WD))\n",
    "np.random.shuffle(indices)\n",
    "good_shuffle_WD = good_WD[indices]\n",
    "\n",
    "# Determine training, test, and validation sets\n",
    "validation_WD = good_shuffle_WD[0:300]\n",
    "test_WD = good_shuffle_WD[300:600]\n",
    "training_WD = good_shuffle_WD[600:]"
   ]
  },
  {
   "cell_type": "markdown",
   "metadata": {},
   "source": [
    "### Plot up systems in T_eff and log g space to see where they lie"
   ]
  },
  {
   "cell_type": "code",
   "execution_count": null,
   "metadata": {
    "collapsed": false
   },
   "outputs": [],
   "source": [
    "plt.errorbar(training_WD['logg'], training_WD['Teff'], xerr=training_WD['e_logg'], \n",
    "             yerr=training_WD['e_Teff'], ls='none', fmt='', capsize=0, label='train')\n",
    "\n",
    "plt.errorbar(test_WD['logg'], test_WD['Teff'], xerr=test_WD['e_logg'], \n",
    "             yerr=test_WD['e_Teff'], ls='none', fmt='', capsize=0, label='test')\n",
    "\n",
    "plt.errorbar(validation_WD['logg'], validation_WD['Teff'], xerr=validation_WD['e_logg'], \n",
    "             yerr=validation_WD['e_Teff'], ls='none', fmt='', capsize=0, label='val')\n",
    "plt.legend()\n",
    "\n",
    "\n",
    "plt.ylabel(r'T$_{\\rm eff}$')\n",
    "plt.xlabel(r'Log $g$')\n",
    "\n",
    "plt.yscale('log')\n",
    "plt.ylim(5.0e3, 1.0e5)\n",
    "\n",
    "plt.show()"
   ]
  },
  {
   "cell_type": "markdown",
   "metadata": {
    "collapsed": true
   },
   "source": [
    "Now we will look at just the DAs."
   ]
  },
  {
   "cell_type": "code",
   "execution_count": null,
   "metadata": {
    "collapsed": false
   },
   "outputs": [],
   "source": [
    "set(good_WD['SpType'])"
   ]
  },
  {
   "cell_type": "code",
   "execution_count": null,
   "metadata": {
    "collapsed": false
   },
   "outputs": [],
   "source": [
    "DA_good = good_WD[good_WD['SpType']=='DA']\n",
    "\n",
    "print(\"Number of DAs in sample\",len(DA_good))"
   ]
  },
  {
   "cell_type": "code",
   "execution_count": null,
   "metadata": {
    "collapsed": false
   },
   "outputs": [],
   "source": [
    "plt.errorbar(DA_good['Teff'], DA_good['logg'],yerr=DA_good['e_logg'], \n",
    "             xerr=DA_good['e_Teff'], ls='none', fmt='', capsize=0)\n",
    "\n",
    "\n",
    "plt.xlabel(r'T$_{\\rm eff}$')\n",
    "plt.ylabel(r'Log $g$')\n",
    "\n",
    "plt.xscale('log')\n",
    "plt.xlim(5.0e3, 1.0e5)\n",
    "\n",
    "plt.show()"
   ]
  },
  {
   "cell_type": "code",
   "execution_count": null,
   "metadata": {
    "collapsed": false
   },
   "outputs": [],
   "source": [
    "ascii.write(DA_good, 'DA_good.csv', format='csv', include_names=['_RAJ2000','_DEJ2000','SDSS','S_N','umag','e_umag','gmag','e_gmag','rmag','e_rmag','imag','e_imag','zmag','e_zmag','E_B-V_','pm'])"
   ]
  },
  {
   "cell_type": "code",
   "execution_count": null,
   "metadata": {
    "collapsed": false
   },
   "outputs": [],
   "source": [
    "ind = []\n",
    "for num,thing in enumerate(good_WD['SpType']):\n",
    "    if 'A' in thing:\n",
    "        ind += [num]\n",
    "\n",
    "All_A = good_WD[ind]\n",
    "print(\"Number of As in sample\",len(All_A))"
   ]
  },
  {
   "cell_type": "code",
   "execution_count": null,
   "metadata": {
    "collapsed": false
   },
   "outputs": [],
   "source": [
    "All_A"
   ]
  },
  {
   "cell_type": "code",
   "execution_count": null,
   "metadata": {
    "collapsed": false
   },
   "outputs": [],
   "source": []
  },
  {
   "cell_type": "code",
   "execution_count": null,
   "metadata": {
    "collapsed": false
   },
   "outputs": [],
   "source": [
    "plt.errorbar(All_A['Teff'], All_A['logg'],yerr=All_A['e_logg'], \n",
    "             xerr=All_A['e_Teff'], ls='none', fmt='', capsize=0, color='red')\n",
    "\n",
    "\n",
    "plt.xlabel(r'T$_{\\rm eff}$')\n",
    "plt.ylabel(r'Log $g$')\n",
    "\n",
    "plt.xscale('log')\n",
    "plt.xlim(5.0e3, 1.0e5)\n",
    "\n",
    "plt.show()"
   ]
  },
  {
   "cell_type": "code",
   "execution_count": null,
   "metadata": {
    "collapsed": true
   },
   "outputs": [],
   "source": []
  }
 ],
 "metadata": {
  "anaconda-cloud": {},
  "kernelspec": {
   "display_name": "Python [default]",
   "language": "python",
   "name": "python2"
  },
  "language_info": {
   "codemirror_mode": {
    "name": "ipython",
    "version": 2
   },
   "file_extension": ".py",
   "mimetype": "text/x-python",
   "name": "python",
   "nbconvert_exporter": "python",
   "pygments_lexer": "ipython2",
   "version": "2.7.12"
  }
 },
 "nbformat": 4,
 "nbformat_minor": 1
}
